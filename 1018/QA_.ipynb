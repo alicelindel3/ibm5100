{
  "nbformat": 4,
  "nbformat_minor": 0,
  "metadata": {
    "colab": {
      "provenance": [],
      "collapsed_sections": [],
      "include_colab_link": true
    },
    "kernelspec": {
      "name": "python3",
      "display_name": "Python 3"
    },
    "language_info": {
      "name": "python"
    }
  },
  "cells": [
    {
      "cell_type": "markdown",
      "metadata": {
        "id": "view-in-github",
        "colab_type": "text"
      },
      "source": [
        "<a href=\"https://colab.research.google.com/github/alicelindel3/ibm5100/blob/main/1018/QA_.ipynb\" target=\"_parent\"><img src=\"https://colab.research.google.com/assets/colab-badge.svg\" alt=\"Open In Colab\"/></a>"
      ]
    },
    {
      "cell_type": "markdown",
      "metadata": {
        "id": "ua39ihP6gNgd"
      },
      "source": [
        "# 0 講義全般について"
      ]
    },
    {
      "cell_type": "markdown",
      "metadata": {
        "id": "JTwTaAnsi_gQ"
      },
      "source": [
        "Q.初心者でも修了できますか。\n",
        "\n",
        "A.回答者はこの講座までプログラミング未経験者でしたが、修了することができました。初心者の場合、おそらく講義中にすべてを理解するのは非常に難しいので、講義でどのような機能があったか全体像を把握し、実際に使いたいときに講義資料を振り返って徐々に理解していけばいいのかなと個人的には思います。また、困ったときにはSlackのdiscussionやオフィスアワーを利用して質問するのも良いと思います。"
      ]
    },
    {
      "cell_type": "markdown",
      "metadata": {
        "id": "PUn3W-YKjIIw"
      },
      "source": [
        "Q.講義資料に書き込めません。(書き込みが保存されない)\n",
        "\n",
        "A.講義資料は直接編集できない設定にしてあります。講義資料に書き込んで勉強されたい場合は、「ファイル」→「ドライブにコピーを保存」を選択し、コピーを作成することで書き込み可能なコピーが作成されます。"
      ]
    },
    {
      "cell_type": "markdown",
      "metadata": {
        "id": "5GSR8PCoGFHe"
      },
      "source": [
        "Q.宿題に書かれている”提出は記述されたhomework関数全て”というのは関数のみ\n",
        "を貼り付けるということでしょうか？\n",
        "\n",
        "A.その認識で大丈夫です。受講の手引きも合わせてご覧ください。"
      ]
    },
    {
      "cell_type": "markdown",
      "metadata": {
        "id": "YNYT-lAsOlCB"
      },
      "source": [
        "Q.宿題の解法については何を見ていますか。関数などを用いてよいでしょうか、自分で実装すするべきですか。\n",
        "\n",
        "A.宿題の成否は、こちらで用意した入力への返り値の成否で判断します。"
      ]
    },
    {
      "cell_type": "markdown",
      "metadata": {
        "id": "RAyf4ZCM_iav"
      },
      "source": [
        "Q.講義に当たって必要な数学の知識はありますか。\n",
        "\n",
        "A.GCIで扱う機械学習の範囲では、高度な数学の知識はなくても大丈夫です。データサイエンスでは大学初年度程度の線形代数、微分、確率統計の知識があると望ましいです。"
      ]
    },
    {
      "cell_type": "markdown",
      "metadata": {
        "id": "IN2uZxJEjGjl"
      },
      "source": [
        "Q.初心者です。コンペのやり方が分かりません。\n",
        "\n",
        "A.初回のコンペにおいてはまず、demoフォルダーにあるbeginner.ipynbを一つずつ実行してみると良いと思います。beginner.ipynbを一通り実行するとOmnicampusに提出するファイルが作れます。また少し発展的な内容がprofessional.ipynbに紹介されていますので、そちらも同様に一つずつ実行するとより発展的なコンペの取り組み方がわかるかと思います。\n",
        "二回目以降のコンペも、まずはbeginner.ipynbや講義中の手法を真似てみるのも良いと思います。"
      ]
    },
    {
      "cell_type": "markdown",
      "metadata": {
        "id": "DK0CyrvdgIPc"
      },
      "source": [
        "Q.関数を使ったりインスタンスを生成する際に後ろに()を\n",
        "つけるべきか、または前にpd.やnp.をつけるべきかという\n",
        "ことがまだよく分かっていません。公式ドキュメントを\n",
        "参照してもどこを見ればよいのかよく分かりません。\n",
        "\n",
        "A.一般的に\n",
        "\n",
        "・関数、メソッドの実行、インスタンスの作成⇒引数を必要とするので、()が必要\n",
        "\n",
        "・クラス変数・インスタンス変数の呼び出し⇒引数は要らないため、()は不要\n",
        "となります。\n",
        "\n",
        "また、pd.やnp.をつけるかどうかは、そのライブラリ(pd⇒pandas, \n",
        "np⇒numpy)の関数等を利用するときには付与する必要があります\n",
        "(例: sum()とnp.sum()は異なる関数です)。"
      ]
    },
    {
      "cell_type": "markdown",
      "metadata": {
        "id": "-eK8OBPujKuj"
      },
      "source": [
        "# 1 Pythonの基礎について"
      ]
    },
    {
      "cell_type": "markdown",
      "metadata": {
        "id": "o8zUugVwpKGZ"
      },
      "source": [
        "Q.bool型で True and False がFalseになる理屈がわからないのですが、どう解釈すればよいのでしょうか？\n",
        "\n",
        "A.andは両方の条件がTrueの場合にTrueを返します（True and Trueの場合のみTrueが返ります）。True and Falseは片方がFalseなので、Falseを返します。"
      ]
    },
    {
      "cell_type": "markdown",
      "metadata": {
        "id": "waFS7-FimHNx"
      },
      "source": [
        "Q.文字列を表すのに、\"文字列\"と '文字列'との間では違いますか？\n",
        "\n",
        "A.基本的に違いはありません。文字列の中にシングルクオーテーション「'」が含まれているときには、Pythonの文字列はダブルクオーテーション「\"」で囲む必要があります。(逆も同様です)"
      ]
    },
    {
      "cell_type": "code",
      "metadata": {
        "colab": {
          "base_uri": "https://localhost:8080/",
          "height": 134
        },
        "id": "jz5pSy2FnUuH",
        "outputId": "865f23ae-2a0e-4baf-ebe6-9e2b0cb0b4fb"
      },
      "source": [
        "#正しく認識されず、エラーが出る\n",
        "msg ='That's a pen.''\n",
        "print(msg)\n",
        "print(type(msg))"
      ],
      "execution_count": null,
      "outputs": [
        {
          "output_type": "error",
          "ename": "SyntaxError",
          "evalue": "ignored",
          "traceback": [
            "\u001b[0;36m  File \u001b[0;32m\"<ipython-input-3-4b504fa597d2>\"\u001b[0;36m, line \u001b[0;32m1\u001b[0m\n\u001b[0;31m    msg ='That's a pen.''\u001b[0m\n\u001b[0m               ^\u001b[0m\n\u001b[0;31mSyntaxError\u001b[0m\u001b[0;31m:\u001b[0m invalid syntax\n"
          ]
        }
      ]
    },
    {
      "cell_type": "code",
      "metadata": {
        "colab": {
          "base_uri": "https://localhost:8080/"
        },
        "id": "_qp1yx5GnJza",
        "outputId": "0e9a3d29-3cde-4895-86ac-7f01c17ff6f7"
      },
      "source": [
        "msg =\"That's a pen.\"\n",
        "print(msg)\n",
        "print(type(msg))"
      ],
      "execution_count": null,
      "outputs": [
        {
          "output_type": "stream",
          "name": "stdout",
          "text": [
            "That's a pen.\n",
            "<class 'str'>\n"
          ]
        }
      ]
    },
    {
      "cell_type": "code",
      "metadata": {
        "colab": {
          "base_uri": "https://localhost:8080/"
        },
        "id": "ogr1DiyKjKWC",
        "outputId": "beec7489-6a60-47e0-bdd4-917d483b0ae9"
      },
      "source": [
        "msg =\"This is a pen.\"\n",
        "msg1='This is a pen.'\n",
        "print(type(msg))\n",
        "print(type(msg1))"
      ],
      "execution_count": null,
      "outputs": [
        {
          "output_type": "stream",
          "name": "stdout",
          "text": [
            "<class 'str'>\n",
            "<class 'str'>\n"
          ]
        }
      ]
    },
    {
      "cell_type": "markdown",
      "metadata": {
        "id": "f9RUUOZfq9wb"
      },
      "source": [
        "Q.文字列、リスト、辞書型の使い分けが知りたいです。\n",
        "\n",
        "A.文字列：数字じゃない情報を入れる際に使います。msg = test とするとtestは変数として扱われますが、msg = 'test' とすると、数字じゃない文字として情報が記憶されます。 \n",
        "\n",
        "リスト型：似たような情報をまとめて入れるときに使います。例えば株価の時間推移とか、クラスメートの身長とか、画像の各ドットのデータとか。ex. list =['おにぎり','パン']\n",
        "\n",
        "辞書型：似たような情報を入れるんだけど、呼び出す呪文も一緒に記憶してほしいときに使うイメージです。リストだと、何番目に入っているかがわからないと、要素を呼び出せない。辞書型だと、中身を呼び出す呪文＝人間が分かる言葉を書けば、要素を出してくれます。 ex. dic = {'おにぎり':100,'パン':120}"
      ]
    },
    {
      "cell_type": "code",
      "metadata": {
        "colab": {
          "base_uri": "https://localhost:8080/",
          "height": 185
        },
        "id": "Y4qPHsM-scVf",
        "outputId": "bda2c842-4cb8-47bf-ba9b-e481ced9bfbf"
      },
      "source": [
        "msg=test\n",
        "#ここではtestは変数として扱われるので、testという変数を定義していない場合エラーになる"
      ],
      "execution_count": null,
      "outputs": [
        {
          "output_type": "error",
          "ename": "NameError",
          "evalue": "ignored",
          "traceback": [
            "\u001b[0;31m---------------------------------------------------------------------------\u001b[0m",
            "\u001b[0;31mNameError\u001b[0m                                 Traceback (most recent call last)",
            "\u001b[0;32m<ipython-input-4-98af7c9bdd18>\u001b[0m in \u001b[0;36m<module>\u001b[0;34m()\u001b[0m\n\u001b[0;32m----> 1\u001b[0;31m \u001b[0mmsg\u001b[0m\u001b[0;34m=\u001b[0m\u001b[0mtest\u001b[0m\u001b[0;34m\u001b[0m\u001b[0;34m\u001b[0m\u001b[0m\n\u001b[0m\u001b[1;32m      2\u001b[0m \u001b[0;31m#testは変数として扱われるので、testという変数を定義していない場合エラーになる\u001b[0m\u001b[0;34m\u001b[0m\u001b[0;34m\u001b[0m\u001b[0;34m\u001b[0m\u001b[0m\n",
            "\u001b[0;31mNameError\u001b[0m: name 'test' is not defined"
          ]
        }
      ]
    },
    {
      "cell_type": "code",
      "metadata": {
        "colab": {
          "base_uri": "https://localhost:8080/"
        },
        "id": "g7gsmoQfsqgs",
        "outputId": "faeb972d-e68f-4ce1-c191-530c4e33ace3"
      },
      "source": [
        "test=100\n",
        "print(type(test))\n",
        "msg=test\n",
        "print(msg)\n",
        "print(type(msg))\n",
        "#ここではtestは変数として扱われるので、msgはtestと同じものとして処理される"
      ],
      "execution_count": null,
      "outputs": [
        {
          "output_type": "stream",
          "name": "stdout",
          "text": [
            "<class 'int'>\n",
            "100\n",
            "<class 'int'>\n"
          ]
        }
      ]
    },
    {
      "cell_type": "code",
      "metadata": {
        "colab": {
          "base_uri": "https://localhost:8080/"
        },
        "id": "_EPIQ2sBtSZW",
        "outputId": "85ddb56a-74bd-425c-9923-894831bbe014"
      },
      "source": [
        "msg=\"test\"\n",
        "print(msg)\n",
        "print(type(msg))\n",
        "#ここでは文字列の\"test\"として扱われる"
      ],
      "execution_count": null,
      "outputs": [
        {
          "output_type": "stream",
          "name": "stdout",
          "text": [
            "test\n",
            "<class 'str'>\n"
          ]
        }
      ]
    },
    {
      "cell_type": "code",
      "metadata": {
        "colab": {
          "base_uri": "https://localhost:8080/"
        },
        "id": "WhmAj8-Okr3W",
        "outputId": "e93d5d21-764d-48a0-ddb1-a15910ff20ad"
      },
      "source": [
        "#リスト型\n",
        "data_list = [\"おにぎり\",\"パン\",\"みかん\"]\n",
        "print(data_list)\n",
        "print('変数のタイプ:', type(data_list))"
      ],
      "execution_count": null,
      "outputs": [
        {
          "output_type": "stream",
          "name": "stdout",
          "text": [
            "['おにぎり', 'パン', 'みかん']\n",
            "変数のタイプ: <class 'list'>\n"
          ]
        }
      ]
    },
    {
      "cell_type": "code",
      "metadata": {
        "colab": {
          "base_uri": "https://localhost:8080/"
        },
        "id": "0PcoaYM4kyoJ",
        "outputId": "9d370105-cf64-456a-9092-50f33faebbd7"
      },
      "source": [
        "# 辞書型\n",
        "dic_data = {'おにぎり': 100, 'パン': 100, 'みかん': 300}\n",
        "print(dic_data['みかん'])"
      ],
      "execution_count": null,
      "outputs": [
        {
          "output_type": "stream",
          "name": "stdout",
          "text": [
            "300\n"
          ]
        }
      ]
    },
    {
      "cell_type": "markdown",
      "metadata": {
        "id": "xV7Gov6BDybf"
      },
      "source": [
        "Q.Pythonのリストによる内積の求め方で、ab += a[i]*b[i]とありましたが ＋はどういう意味ですか？\n",
        "\n",
        "A.「x += y 」というのは「x = x + y」というものを表します。この場合は「ab =ab+ a[i]*b[i] 」を意味します。"
      ]
    },
    {
      "cell_type": "code",
      "metadata": {
        "colab": {
          "base_uri": "https://localhost:8080/"
        },
        "id": "Zn8PRpnDGUMS",
        "outputId": "0d4d0f8b-8e38-4fe5-9875-af02e7b19b15"
      },
      "source": [
        "a = [2, 9, 9, 7, 9, 2]\n",
        "b = [3, 1, 4, 1, 5, 9]\n",
        "def dot_product(a, b):\n",
        "    assert len(a)==len(b) # aとbの長さが同じでないときエラーを返すようにする\n",
        "    \n",
        "    ab = 0\n",
        "    for i in range(len(a)):\n",
        "        ab += a[i]*b[i] \n",
        "    \n",
        "    return ab\n",
        "print(\"内積:\", dot_product(a, b))"
      ],
      "execution_count": null,
      "outputs": [
        {
          "output_type": "stream",
          "name": "stdout",
          "text": [
            "内積: 121\n"
          ]
        }
      ]
    },
    {
      "cell_type": "markdown",
      "metadata": {
        "id": "nALh6mE2wTD4"
      },
      "source": [
        "# 2 Numpyについて"
      ]
    },
    {
      "cell_type": "code",
      "metadata": {
        "id": "9--69yVzZ32B"
      },
      "source": [
        "import numpy as np"
      ],
      "execution_count": null,
      "outputs": []
    },
    {
      "cell_type": "markdown",
      "metadata": {
        "id": "-Wl49AnH84px"
      },
      "source": [
        "Q.ユニバーサルな演算の方が高速だと思ってよいでしょうか？\n",
        "\n",
        "A.for ループを使った実装と比較すると、おそらく速く動くように設計されていると思います。"
      ]
    },
    {
      "cell_type": "markdown",
      "metadata": {
        "id": "dleUiS9o-moD"
      },
      "source": [
        "Q.np.ndarrayとnp.arrayの違いは何でしょうか。\n",
        "\n",
        "A.np.ndarrayはnumpy配列のデータ型（種類のようなもの）で、np.array()はndarrayを生成するための関数です。"
      ]
    },
    {
      "cell_type": "code",
      "metadata": {
        "colab": {
          "base_uri": "https://localhost:8080/"
        },
        "id": "Iuj--OHP-1fQ",
        "outputId": "44c1ce8a-4fc9-493f-829f-fbb0fdc24a7b"
      },
      "source": [
        "a = [2, 9, 9, 7, 9, 2]\n",
        "b = [3, 1, 4, 1, 5, 9]\n",
        "a = np.array(a)\n",
        "b = np.array(b)\n",
        "\n",
        "print(\"a: \", a)\n",
        "print(\"b: \", b)\n",
        "print(\"type of a: \", type(a))\n",
        "print(\"type of b: \", type(b)) # aとbの型を確認する"
      ],
      "execution_count": null,
      "outputs": [
        {
          "output_type": "stream",
          "name": "stdout",
          "text": [
            "a:  [2 9 9 7 9 2]\n",
            "b:  [3 1 4 1 5 9]\n",
            "type of a:  <class 'numpy.ndarray'>\n",
            "type of b:  <class 'numpy.ndarray'>\n"
          ]
        }
      ]
    },
    {
      "cell_type": "markdown",
      "metadata": {
        "id": "nEFT-0zD91CP"
      },
      "source": [
        "Q.1次元配列は、行ベクトルですか、列ベクトルですか。\n",
        "\n",
        "A.どちらでもありません。区別したい場合は2次元配列として扱います。"
      ]
    },
    {
      "cell_type": "markdown",
      "metadata": {
        "id": "LP85qK761l7t"
      },
      "source": [
        "Q.stepがマイナスの場合は、「start以下でendより大きい」数列が表示されるという理解でよろしいでしょうか？\n",
        "\n",
        "A.その通りです。"
      ]
    },
    {
      "cell_type": "code",
      "metadata": {
        "colab": {
          "base_uri": "https://localhost:8080/"
        },
        "id": "27bkmXnN8-Rd",
        "outputId": "9235c19e-be68-4129-cf14-c47be9ff5861"
      },
      "source": [
        "import numpy as np\n",
        "a = np.arange(30) \n",
        "print(\"stepがマイナスの場合:\", end='\\t')\n",
        "#end='\\t' は、printで表示する文字列の最後にスペースを作るために使う\n",
        "print(a[15: 2: -3])"
      ],
      "execution_count": null,
      "outputs": [
        {
          "output_type": "stream",
          "name": "stdout",
          "text": [
            "stepがマイナスの場合:\t[15 12  9  6  3]\n"
          ]
        }
      ]
    },
    {
      "cell_type": "markdown",
      "metadata": {
        "id": "eRNv8xOrQyOa"
      },
      "source": [
        "Q.配列aに対し、a[0:2]とすると0,1番目の要素のみが返ってくるのはなぜですか。\n",
        "\n",
        "A.スライスでは、一番目のインデックスから二番目のインデックスまでの挟まれた配列を返します。従って、スライスの2つ目の数字は、その1つ前の要素までを返します。"
      ]
    },
    {
      "cell_type": "code",
      "metadata": {
        "colab": {
          "base_uri": "https://localhost:8080/",
          "height": 35
        },
        "id": "cIeUEQSzRS3s",
        "outputId": "90f709b3-a9b4-4647-eef6-3fc880d4b210"
      },
      "source": [
        "a = 'Tokyo'\n",
        "a[0:2] "
      ],
      "execution_count": null,
      "outputs": [
        {
          "output_type": "execute_result",
          "data": {
            "application/vnd.google.colaboratory.intrinsic+json": {
              "type": "string"
            },
            "text/plain": [
              "'To'"
            ]
          },
          "metadata": {},
          "execution_count": 27
        }
      ]
    },
    {
      "cell_type": "markdown",
      "metadata": {
        "id": "TgcRz-qsA6JV"
      },
      "source": [
        "Q.keepdims=Trueについて、次元を維持したいのはどういうときでしょうか？\n",
        "\n",
        "A.「各行の最大値を求め、各行のそれぞれの値と各行の最大値との差を求める」というようなときに、最大値を求める部分で次元を維持しておくと、各行に対してユニバーサルな演算が行われるため、そのまま差を計算するだけで答えが求まります。"
      ]
    },
    {
      "cell_type": "code",
      "metadata": {
        "colab": {
          "base_uri": "https://localhost:8080/"
        },
        "id": "r-anOJubdMkY",
        "outputId": "9da6e9ae-c4ac-4af2-c19b-a7f25f06928d"
      },
      "source": [
        "A = np.array([\n",
        "    [1,2,3],\n",
        "    [4,0,3],\n",
        "    [9,2,1]]\n",
        ")\n",
        "print(A)\n",
        "A.max(axis=1, keepdims=True)"
      ],
      "execution_count": null,
      "outputs": [
        {
          "output_type": "stream",
          "name": "stdout",
          "text": [
            "[[1 2 3]\n",
            " [4 0 3]\n",
            " [9 2 1]]\n"
          ]
        },
        {
          "output_type": "execute_result",
          "data": {
            "text/plain": [
              "array([[3],\n",
              "       [4],\n",
              "       [9]])"
            ]
          },
          "metadata": {},
          "execution_count": 57
        }
      ]
    },
    {
      "cell_type": "code",
      "metadata": {
        "colab": {
          "base_uri": "https://localhost:8080/"
        },
        "id": "uud9K70UdgKz",
        "outputId": "374f6795-a734-4fb5-a8e7-2b7206ef75a0"
      },
      "source": [
        "B=A.max(axis=1, keepdims=True)\n",
        "A-B"
      ],
      "execution_count": null,
      "outputs": [
        {
          "output_type": "execute_result",
          "data": {
            "text/plain": [
              "array([[-2, -1,  0],\n",
              "       [ 0, -4, -1],\n",
              "       [ 0, -7, -8]])"
            ]
          },
          "metadata": {},
          "execution_count": 58
        }
      ]
    },
    {
      "cell_type": "markdown",
      "metadata": {
        "id": "yIX0MIBpDAS0"
      },
      "source": [
        "Q.a[[0,2]]のときは、axis=0を指定していないのにどうしてそのように出力されるのでしょうか。\n",
        "\n",
        "A.a[]の[]の中に一つのみの数またはリストを指定した場合は、axis=0を指定したものとみなされます（すなわちaxis=1を省略できる）。しかし、axis=1のみを指定する場合はaxis=0を省略できません。\n"
      ]
    },
    {
      "cell_type": "code",
      "metadata": {
        "colab": {
          "base_uri": "https://localhost:8080/"
        },
        "id": "9oRyfAYULYfZ",
        "outputId": "5c200d2e-7e3e-42fb-a08b-2afca799bd4c"
      },
      "source": [
        "a_list = [[1, 2, 3, 4],\n",
        "    [5, 6, 7, 8],\n",
        "    [9, 1, 2, 3]]\n",
        "a = np.array(a_list)\n",
        "# axis 0の0番目と2番目を取ってくる\n",
        "print(a[[0, 2]]) # a[0, 2]とは違う\n",
        "print(a[0,2])  #a[0,2]は、axis=0が0かつaxis=1が3の値"
      ],
      "execution_count": null,
      "outputs": [
        {
          "output_type": "stream",
          "name": "stdout",
          "text": [
            "[[1 2 3 4]\n",
            " [9 1 2 3]]\n",
            "3\n"
          ]
        }
      ]
    },
    {
      "cell_type": "markdown",
      "metadata": {
        "id": "_LC0EBv5DMmE"
      },
      "source": [
        "Q.なぜ：のみでaxis=1を表すのですか。\n",
        "\n",
        "A.：は全部取ってくることを表します。[axis=0,axis=1]において、axis=0を全部とってくることになるので：のみでaxis=1を表すことになります。"
      ]
    },
    {
      "cell_type": "code",
      "metadata": {
        "colab": {
          "base_uri": "https://localhost:8080/"
        },
        "id": "qOovVhndMG55",
        "outputId": "e036eba0-f795-4b4c-9593-b328235b5c17"
      },
      "source": [
        "# axis 1の0番目と2番目を取ってくる　axis=0はすべてとってくる\n",
        "print(a[:, [0, 2]]) "
      ],
      "execution_count": null,
      "outputs": [
        {
          "output_type": "stream",
          "name": "stdout",
          "text": [
            "[[1 3]\n",
            " [5 7]\n",
            " [9 2]]\n"
          ]
        }
      ]
    },
    {
      "cell_type": "markdown",
      "metadata": {
        "id": "kHBXEDh1Df--"
      },
      "source": [
        "Q.indexが煩雑になってきて変数にしたいような場合はどういう書き方になりますか？\n",
        "\n",
        "A.np.ix_()を用います。"
      ]
    },
    {
      "cell_type": "markdown",
      "metadata": {
        "id": "lpkIC97gEJKV"
      },
      "source": [
        "Q.中身が真偽値のndarrayを2つ用意し、その2つのndarrayの論理和を取ろうとして、演算子「or」を用いると、エラーとなりました。\n",
        "\n",
        "A.Pyhtonでは、ブール演算には「or」、bit演算やndarray・pandas.DataFrame, pandas.Seriesには「|」を用います。ちなみに他には、andの代わりには「&」, notの代わりに 「~」, XORの代わりに「^」を用います。"
      ]
    },
    {
      "cell_type": "code",
      "metadata": {
        "colab": {
          "base_uri": "https://localhost:8080/"
        },
        "id": "W5Ew5g0uEo3v",
        "outputId": "e596f812-f24f-438c-98cb-602ba84cbed1"
      },
      "source": [
        "a_bool = np.array([True, True, True])\n",
        "b_bool = np.array([False, True, False])\n",
        "print(a_bool | b_bool)\n",
        "# [ True  True  True]\n",
        "print(a_bool & b_bool)\n",
        "# [ False True  False]"
      ],
      "execution_count": null,
      "outputs": [
        {
          "output_type": "stream",
          "name": "stdout",
          "text": [
            "[ True  True  True]\n",
            "[False  True False]\n"
          ]
        }
      ]
    },
    {
      "cell_type": "markdown",
      "metadata": {
        "id": "5NcgcRHGHRf6"
      },
      "source": [
        "logical_or()などの関数を使う方法もあります。"
      ]
    },
    {
      "cell_type": "code",
      "metadata": {
        "colab": {
          "base_uri": "https://localhost:8080/"
        },
        "id": "OcJWJwKO9BdA",
        "outputId": "0dd8df84-b54f-4840-8cdc-102b6baaceec"
      },
      "source": [
        "print(np.logical_or(a_bool, b_bool))\n",
        "print(np.logical_and(a_bool, b_bool))"
      ],
      "execution_count": null,
      "outputs": [
        {
          "output_type": "stream",
          "name": "stdout",
          "text": [
            "[ True  True  True]\n",
            "[False  True False]\n"
          ]
        }
      ]
    },
    {
      "cell_type": "markdown",
      "metadata": {
        "id": "YlkqAlo6INIx"
      },
      "source": [
        "# 3 Pandasについて"
      ]
    },
    {
      "cell_type": "code",
      "metadata": {
        "id": "0b3pXVQCpH76"
      },
      "source": [
        "import numpy as np\n",
        "import pandas as pd\n",
        "from pandas import Series, DataFrame"
      ],
      "execution_count": null,
      "outputs": []
    },
    {
      "cell_type": "markdown",
      "metadata": {
        "id": "9PU95zm_McSg"
      },
      "source": [
        "Q.SeriesとDataFrameの違いがあんまりピンときません。どのような使い分けになりますか？\n",
        "\n",
        "A.Seriesは1次元配列なので、行の名前とデータの組み合わせを表現できます（例えば、出席番号が行の名前、生徒の名前がデータ）。DataFrameは2次元配列なので、行と列にそれぞれ名前が付いています（例えば、出席番号が行の名前、各教科が列の名前、生徒のテストの点数がデータ）。Seriesは1次元配列なので、カラムを持たないため、列を追加することはできません。\n",
        "\n",
        "DataFrameはSeriesの集まりであるとも表現できます。例えば、出席番号が行の名前、各教科の生徒ごとのテストの点数をデータに持つSeriesの集まり）。ただし、SeriesからDataFrameを生成する場合、異なるインデックスを用いるとマージされたDataFrameが生成されます。"
      ]
    },
    {
      "cell_type": "code",
      "metadata": {
        "colab": {
          "base_uri": "https://localhost:8080/"
        },
        "id": "ffV_ooIUure-",
        "outputId": "9e549af0-ca99-4655-e85a-6e9ac6a38dcb"
      },
      "source": [
        "s1 = Series(['値1', '値2', '値3'], index=['a', 'b', 'c'])\n",
        "s2 = Series(['値10', '値20', '値30'], index=['c', 'd', 'e'])\n",
        "\n",
        "df = DataFrame({\n",
        "  '列1': s1,\n",
        "  '列2': s2,\n",
        "})\n",
        "print(df)\n",
        "#インデックスに対応する値がない場合、NaNになる"
      ],
      "execution_count": null,
      "outputs": [
        {
          "output_type": "stream",
          "name": "stdout",
          "text": [
            "    列1   列2\n",
            "a   値1  NaN\n",
            "b   値2  NaN\n",
            "c   値3  値10\n",
            "d  NaN  値20\n",
            "e  NaN  値30\n"
          ]
        }
      ]
    },
    {
      "cell_type": "markdown",
      "metadata": {
        "id": "blI0Ap7xxB_d"
      },
      "source": [
        "Q.Dataframeに対して１つの列指定・行指定を行って抜き出したものはSeriesと同じ扱いになるのですか？\n",
        "\n",
        "A.はい。先述の通り、DataFrameはSeriesの集まりでもあるので、一つの列を指定して抜き出した場合Series配列になります。"
      ]
    },
    {
      "cell_type": "code",
      "metadata": {
        "colab": {
          "base_uri": "https://localhost:8080/"
        },
        "id": "KiNudD6uxMT7",
        "outputId": "afc77a8b-8a4b-4442-840e-282fc85c9a64"
      },
      "source": [
        "df_1=df['列1']\n",
        "print(df_1)\n",
        "print(type(df_1))"
      ],
      "execution_count": null,
      "outputs": [
        {
          "output_type": "stream",
          "name": "stdout",
          "text": [
            "a     値1\n",
            "b     値2\n",
            "c     値3\n",
            "d    NaN\n",
            "e    NaN\n",
            "Name: 列1, dtype: object\n",
            "<class 'pandas.core.series.Series'>\n"
          ]
        }
      ]
    },
    {
      "cell_type": "markdown",
      "metadata": {
        "id": "9I2eWX2ozBYV"
      },
      "source": [
        "Q.Pandasで型変換（ 文字型から日付型など）することは出来ますか？\n",
        "\n",
        "A.できます。"
      ]
    },
    {
      "cell_type": "code",
      "metadata": {
        "colab": {
          "base_uri": "https://localhost:8080/"
        },
        "id": "Hw8EYfM50-rL",
        "outputId": "6e0fb1c8-1df8-4e78-f89e-1bc19e4fe3b9"
      },
      "source": [
        "s1 = Series([1,2,3], index=['a', 'b', 'c'])\n",
        "print(s1.map(type))"
      ],
      "execution_count": null,
      "outputs": [
        {
          "output_type": "stream",
          "name": "stdout",
          "text": [
            "a    <class 'int'>\n",
            "b    <class 'int'>\n",
            "c    <class 'int'>\n",
            "dtype: object\n"
          ]
        }
      ]
    },
    {
      "cell_type": "code",
      "metadata": {
        "colab": {
          "base_uri": "https://localhost:8080/"
        },
        "id": "JFKirNNH2aXN",
        "outputId": "c9003069-9d2f-4db6-d10e-8ade66be4a10"
      },
      "source": [
        "s_f = s1.astype('float')\n",
        "print(s_f.map(type))"
      ],
      "execution_count": null,
      "outputs": [
        {
          "output_type": "stream",
          "name": "stdout",
          "text": [
            "a    <class 'float'>\n",
            "b    <class 'float'>\n",
            "c    <class 'float'>\n",
            "dtype: object\n"
          ]
        }
      ]
    },
    {
      "cell_type": "markdown",
      "metadata": {
        "id": "Wrx4KiDz2oCf"
      },
      "source": [
        "他にもさまざまな型変換があるので、調べてみましょう。"
      ]
    },
    {
      "cell_type": "markdown",
      "metadata": {
        "id": "yIURE2XtLl-g"
      },
      "source": [
        "また、Pythonではint関数の引数としてpandas.Seriesをとることができないため、pandas.DataFrameのto_numericメソッドを使用します。"
      ]
    },
    {
      "cell_type": "code",
      "metadata": {
        "id": "qjo47jx3NKXb"
      },
      "source": [
        "s1 = Series([1,2,3], index=['a', 'b', 'c'])\n",
        "s2 = Series(['0',\"1\",\"2\"],  index=['c', 'd', 'e'])\n",
        "\n",
        "df = DataFrame({\n",
        "  '列1': s1,\n",
        "  '列2': s2,\n",
        "})"
      ],
      "execution_count": null,
      "outputs": []
    },
    {
      "cell_type": "code",
      "metadata": {
        "colab": {
          "base_uri": "https://localhost:8080/"
        },
        "id": "MJmizhgKNsX_",
        "outputId": "685da06e-f9ba-4ccd-bf93-226f324b606c"
      },
      "source": [
        "print('データ型の確認（型変換前）\\n{}\\n'.format(df.dtypes))\n",
        "#列2がobject型になっている"
      ],
      "execution_count": null,
      "outputs": [
        {
          "output_type": "stream",
          "name": "stdout",
          "text": [
            "データ型の確認（型変換前）\n",
            "列1    float64\n",
            "列2     object\n",
            "dtype: object\n",
            "\n"
          ]
        }
      ]
    },
    {
      "cell_type": "code",
      "metadata": {
        "colab": {
          "base_uri": "https://localhost:8080/",
          "height": 302
        },
        "id": "NcCdGiyUOIVJ",
        "outputId": "e349b929-4da1-4bcd-b678-1535d6be3fd6"
      },
      "source": [
        "df['列2']=int(df['列2'])\n",
        "#int関数は使えない"
      ],
      "execution_count": null,
      "outputs": [
        {
          "output_type": "error",
          "ename": "TypeError",
          "evalue": "ignored",
          "traceback": [
            "\u001b[0;31m---------------------------------------------------------------------------\u001b[0m",
            "\u001b[0;31mTypeError\u001b[0m                                 Traceback (most recent call last)",
            "\u001b[0;32m<ipython-input-10-ccd0bd8918d4>\u001b[0m in \u001b[0;36m<module>\u001b[0;34m()\u001b[0m\n\u001b[0;32m----> 1\u001b[0;31m \u001b[0mdf\u001b[0m\u001b[0;34m[\u001b[0m\u001b[0;34m'列2'\u001b[0m\u001b[0;34m]\u001b[0m\u001b[0;34m=\u001b[0m\u001b[0mint\u001b[0m\u001b[0;34m(\u001b[0m\u001b[0mdf\u001b[0m\u001b[0;34m[\u001b[0m\u001b[0;34m'列2'\u001b[0m\u001b[0;34m]\u001b[0m\u001b[0;34m)\u001b[0m\u001b[0;34m\u001b[0m\u001b[0;34m\u001b[0m\u001b[0m\n\u001b[0m",
            "\u001b[0;32m/usr/local/lib/python3.7/dist-packages/pandas/core/series.py\u001b[0m in \u001b[0;36mwrapper\u001b[0;34m(self)\u001b[0m\n\u001b[1;32m    127\u001b[0m         \u001b[0;32mif\u001b[0m \u001b[0mlen\u001b[0m\u001b[0;34m(\u001b[0m\u001b[0mself\u001b[0m\u001b[0;34m)\u001b[0m \u001b[0;34m==\u001b[0m \u001b[0;36m1\u001b[0m\u001b[0;34m:\u001b[0m\u001b[0;34m\u001b[0m\u001b[0;34m\u001b[0m\u001b[0m\n\u001b[1;32m    128\u001b[0m             \u001b[0;32mreturn\u001b[0m \u001b[0mconverter\u001b[0m\u001b[0;34m(\u001b[0m\u001b[0mself\u001b[0m\u001b[0;34m.\u001b[0m\u001b[0miloc\u001b[0m\u001b[0;34m[\u001b[0m\u001b[0;36m0\u001b[0m\u001b[0;34m]\u001b[0m\u001b[0;34m)\u001b[0m\u001b[0;34m\u001b[0m\u001b[0;34m\u001b[0m\u001b[0m\n\u001b[0;32m--> 129\u001b[0;31m         \u001b[0;32mraise\u001b[0m \u001b[0mTypeError\u001b[0m\u001b[0;34m(\u001b[0m\u001b[0;34mf\"cannot convert the series to {converter}\"\u001b[0m\u001b[0;34m)\u001b[0m\u001b[0;34m\u001b[0m\u001b[0;34m\u001b[0m\u001b[0m\n\u001b[0m\u001b[1;32m    130\u001b[0m \u001b[0;34m\u001b[0m\u001b[0m\n\u001b[1;32m    131\u001b[0m     \u001b[0mwrapper\u001b[0m\u001b[0;34m.\u001b[0m\u001b[0m__name__\u001b[0m \u001b[0;34m=\u001b[0m \u001b[0;34mf\"__{converter.__name__}__\"\u001b[0m\u001b[0;34m\u001b[0m\u001b[0;34m\u001b[0m\u001b[0m\n",
            "\u001b[0;31mTypeError\u001b[0m: cannot convert the series to <class 'int'>"
          ]
        }
      ]
    },
    {
      "cell_type": "code",
      "metadata": {
        "colab": {
          "base_uri": "https://localhost:8080/"
        },
        "id": "AJDVP5IGLlFN",
        "outputId": "33519e8e-ee1a-4389-f0e7-98b7b9cc5f35"
      },
      "source": [
        "df['列2']=pd.to_numeric(df['列2'])\n",
        "print('データ型の確認（型変換後）\\n{}'.format(df.dtypes))"
      ],
      "execution_count": null,
      "outputs": [
        {
          "output_type": "stream",
          "name": "stdout",
          "text": [
            "データ型の確認（型変換後）\n",
            "列1    float64\n",
            "列2    float64\n",
            "dtype: object\n"
          ]
        }
      ]
    },
    {
      "cell_type": "markdown",
      "metadata": {
        "id": "XX938Yc3wuYN"
      },
      "source": [
        "Q.Numpyだと、データの取り出しがPandasよりも簡単なような気がするのですが、NumpyとPandasどのように使い分けるのでしょうか？\n",
        "\n",
        "A.Pandasは、操作が複雑な分、条件を指定してデータを取り出すのが得意、行・列全体に関数を適用するのが簡単、index・columnに文字列を持つためデータの内容が分かりやすい、notebookに表示したときに見やすい、などの利点があります。"
      ]
    },
    {
      "cell_type": "markdown",
      "metadata": {
        "id": "qg8trXYtyCvX"
      },
      "source": [
        "Q.今回の講義では一つのCSVファイルを用いておりますが、複数のCSVファイルのデータに対して同様の処理を行いたい場合のアプローチ方法を簡単にでも良いので教えて頂きたいです。\n",
        "\n",
        "A.複数のファイルを読み込み、データを結合してから処理を加えることで複数のcsvファイルに対して同様の処理が行えます。"
      ]
    },
    {
      "cell_type": "markdown",
      "metadata": {
        "id": "rIbt5fuByhSd"
      },
      "source": [
        "Q.Pandasのdf.loc[:,\"カラム名\"]とdf['\"カラム名\"]は同じ意味ですか?\n",
        "\n",
        "A.同じ意味です。ある列の全ての行を抽出する場合には、後者を使うことが多いです。"
      ]
    },
    {
      "cell_type": "code",
      "metadata": {
        "colab": {
          "base_uri": "https://localhost:8080/"
        },
        "id": "dL9VEAJ-3Jju",
        "outputId": "b5598307-3009-4034-9343-60a96b38f952"
      },
      "source": [
        "data = {'ID':['100','101','102','103','104'],\n",
        "            'City':['Tokyo','Osaka','Kyoto','Hokkaido','Tokyo'],\n",
        "            'Birth_year':[1990,1989,1992,1997,1982],\n",
        "            'Name':['Hiroshi','Akiko','Yuki','Satoru','Steve']}\n",
        "\n",
        "df = DataFrame(data)\n",
        "df.loc[:,'ID']\n"
      ],
      "execution_count": null,
      "outputs": [
        {
          "output_type": "execute_result",
          "data": {
            "text/plain": [
              "0    100\n",
              "1    101\n",
              "2    102\n",
              "3    103\n",
              "4    104\n",
              "Name: ID, dtype: object"
            ]
          },
          "metadata": {},
          "execution_count": 11
        }
      ]
    },
    {
      "cell_type": "code",
      "metadata": {
        "colab": {
          "base_uri": "https://localhost:8080/"
        },
        "id": "mz1WErcwOGht",
        "outputId": "cd03d061-2f10-4f4c-a102-b2d23f13dc2c"
      },
      "source": [
        "df['ID']"
      ],
      "execution_count": null,
      "outputs": [
        {
          "output_type": "execute_result",
          "data": {
            "text/plain": [
              "0    100\n",
              "1    101\n",
              "2    102\n",
              "3    103\n",
              "4    104\n",
              "Name: ID, dtype: object"
            ]
          },
          "metadata": {},
          "execution_count": 22
        }
      ]
    },
    {
      "cell_type": "markdown",
      "metadata": {
        "id": "yO985T8NVAR_"
      },
      "source": [
        "Q.カラムを指定するとき、カラム名にスペースがあると認識されません。リネームする以外の方法を知りたいです。\n",
        "\n",
        "A.カラム名にスペースがある場合「.」でカラム名を指定するとどこまでがカラム名か認識できずにエラーとなります。[]と文字列を用いて、インデックスとして指定すればリネームせずに抽出できます。"
      ]
    },
    {
      "cell_type": "code",
      "metadata": {
        "id": "7Ae5ifMLVcBS"
      },
      "source": [
        "data = {'ID':['100','101','102','103','104'],\n",
        "            'City':['Tokyo','Osaka','Kyoto','Hokkaido','Tokyo'],\n",
        "            'Birth year':[1990,1989,1992,1997,1982],\n",
        "            'Name':['Hiroshi','Akiko','Yuki','Satoru','Steve']}\n",
        "\n",
        "df = DataFrame(data)"
      ],
      "execution_count": null,
      "outputs": []
    },
    {
      "cell_type": "code",
      "metadata": {
        "colab": {
          "base_uri": "https://localhost:8080/",
          "height": 136
        },
        "id": "BP3obnwtWDrS",
        "outputId": "1b272ba0-cb50-44ec-caeb-8ab14c954d0e"
      },
      "source": [
        "df.Birth year\n",
        "#どこまでがカラム名なのか分からない"
      ],
      "execution_count": null,
      "outputs": [
        {
          "output_type": "error",
          "ename": "SyntaxError",
          "evalue": "ignored",
          "traceback": [
            "\u001b[0;36m  File \u001b[0;32m\"<ipython-input-4-002d3a7f351a>\"\u001b[0;36m, line \u001b[0;32m1\u001b[0m\n\u001b[0;31m    df.Birth year\u001b[0m\n\u001b[0m                ^\u001b[0m\n\u001b[0;31mSyntaxError\u001b[0m\u001b[0;31m:\u001b[0m invalid syntax\n"
          ]
        }
      ]
    },
    {
      "cell_type": "code",
      "metadata": {
        "colab": {
          "base_uri": "https://localhost:8080/"
        },
        "id": "JKQkCVGWVsLb",
        "outputId": "d4c345ea-e58c-4bb1-dd79-1c33ad0415ab"
      },
      "source": [
        "df['Birth year']"
      ],
      "execution_count": null,
      "outputs": [
        {
          "output_type": "execute_result",
          "data": {
            "text/plain": [
              "0    1990\n",
              "1    1989\n",
              "2    1992\n",
              "3    1997\n",
              "4    1982\n",
              "Name: Birth year, dtype: int64"
            ]
          },
          "metadata": {},
          "execution_count": 5
        }
      ]
    },
    {
      "cell_type": "markdown",
      "metadata": {
        "id": "Rb802qZVXE2S"
      },
      "source": [
        "Q.fillna()メソッドにおいて、パラメータinplaceがTrueの場合と\n",
        "Falseの場合は何が違うのですか。\n",
        "\n",
        "A.inplace=Trueをパラメータとして設定すると、元のデータを置き換える\n",
        "ことができます。デフォルトではinplace=Falseとなっているため、出力\n",
        "されたデータで欠損値が削除されていても、元のデータの欠損値が削除\n",
        "されたわけではないので注意してください。"
      ]
    },
    {
      "cell_type": "code",
      "metadata": {
        "colab": {
          "base_uri": "https://localhost:8080/",
          "height": 204
        },
        "id": "Xcy74d__XZZK",
        "outputId": "c22951fd-ae34-4c1d-f391-77fb15a75817"
      },
      "source": [
        "s1 = Series(['値1', '値2', '値3'], index=['a', 'b', 'c'])\n",
        "s2 = Series(['値10', '値20', '値30'], index=['c', 'd', 'e'])\n",
        "\n",
        "df = DataFrame({\n",
        "  '列1': s1,\n",
        "  '列2': s2,\n",
        "})\n",
        "df"
      ],
      "execution_count": null,
      "outputs": [
        {
          "output_type": "execute_result",
          "data": {
            "text/html": [
              "<div>\n",
              "<style scoped>\n",
              "    .dataframe tbody tr th:only-of-type {\n",
              "        vertical-align: middle;\n",
              "    }\n",
              "\n",
              "    .dataframe tbody tr th {\n",
              "        vertical-align: top;\n",
              "    }\n",
              "\n",
              "    .dataframe thead th {\n",
              "        text-align: right;\n",
              "    }\n",
              "</style>\n",
              "<table border=\"1\" class=\"dataframe\">\n",
              "  <thead>\n",
              "    <tr style=\"text-align: right;\">\n",
              "      <th></th>\n",
              "      <th>列1</th>\n",
              "      <th>列2</th>\n",
              "    </tr>\n",
              "  </thead>\n",
              "  <tbody>\n",
              "    <tr>\n",
              "      <th>a</th>\n",
              "      <td>値1</td>\n",
              "      <td>NaN</td>\n",
              "    </tr>\n",
              "    <tr>\n",
              "      <th>b</th>\n",
              "      <td>値2</td>\n",
              "      <td>NaN</td>\n",
              "    </tr>\n",
              "    <tr>\n",
              "      <th>c</th>\n",
              "      <td>値3</td>\n",
              "      <td>値10</td>\n",
              "    </tr>\n",
              "    <tr>\n",
              "      <th>d</th>\n",
              "      <td>NaN</td>\n",
              "      <td>値20</td>\n",
              "    </tr>\n",
              "    <tr>\n",
              "      <th>e</th>\n",
              "      <td>NaN</td>\n",
              "      <td>値30</td>\n",
              "    </tr>\n",
              "  </tbody>\n",
              "</table>\n",
              "</div>"
            ],
            "text/plain": [
              "    列1   列2\n",
              "a   値1  NaN\n",
              "b   値2  NaN\n",
              "c   値3  値10\n",
              "d  NaN  値20\n",
              "e  NaN  値30"
            ]
          },
          "metadata": {},
          "execution_count": 40
        }
      ]
    },
    {
      "cell_type": "code",
      "metadata": {
        "colab": {
          "base_uri": "https://localhost:8080/",
          "height": 204
        },
        "id": "uQ25O4l9X1sg",
        "outputId": "091cb7af-174f-4bc0-81c9-837b4944ac3e"
      },
      "source": [
        "df.fillna(0)\n",
        "#このセル上では欠損値が削除されている"
      ],
      "execution_count": null,
      "outputs": [
        {
          "output_type": "execute_result",
          "data": {
            "text/html": [
              "<div>\n",
              "<style scoped>\n",
              "    .dataframe tbody tr th:only-of-type {\n",
              "        vertical-align: middle;\n",
              "    }\n",
              "\n",
              "    .dataframe tbody tr th {\n",
              "        vertical-align: top;\n",
              "    }\n",
              "\n",
              "    .dataframe thead th {\n",
              "        text-align: right;\n",
              "    }\n",
              "</style>\n",
              "<table border=\"1\" class=\"dataframe\">\n",
              "  <thead>\n",
              "    <tr style=\"text-align: right;\">\n",
              "      <th></th>\n",
              "      <th>列1</th>\n",
              "      <th>列2</th>\n",
              "    </tr>\n",
              "  </thead>\n",
              "  <tbody>\n",
              "    <tr>\n",
              "      <th>a</th>\n",
              "      <td>値1</td>\n",
              "      <td>0</td>\n",
              "    </tr>\n",
              "    <tr>\n",
              "      <th>b</th>\n",
              "      <td>値2</td>\n",
              "      <td>0</td>\n",
              "    </tr>\n",
              "    <tr>\n",
              "      <th>c</th>\n",
              "      <td>値3</td>\n",
              "      <td>値10</td>\n",
              "    </tr>\n",
              "    <tr>\n",
              "      <th>d</th>\n",
              "      <td>0</td>\n",
              "      <td>値20</td>\n",
              "    </tr>\n",
              "    <tr>\n",
              "      <th>e</th>\n",
              "      <td>0</td>\n",
              "      <td>値30</td>\n",
              "    </tr>\n",
              "  </tbody>\n",
              "</table>\n",
              "</div>"
            ],
            "text/plain": [
              "   列1   列2\n",
              "a  値1    0\n",
              "b  値2    0\n",
              "c  値3  値10\n",
              "d   0  値20\n",
              "e   0  値30"
            ]
          },
          "metadata": {},
          "execution_count": 41
        }
      ]
    },
    {
      "cell_type": "code",
      "metadata": {
        "colab": {
          "base_uri": "https://localhost:8080/",
          "height": 204
        },
        "id": "5s4DdP84X3VW",
        "outputId": "103b42af-2848-4b22-b01c-da9b25397727"
      },
      "source": [
        "df\n",
        "#元のデータの欠損値自体は削除されていない"
      ],
      "execution_count": null,
      "outputs": [
        {
          "output_type": "execute_result",
          "data": {
            "text/html": [
              "<div>\n",
              "<style scoped>\n",
              "    .dataframe tbody tr th:only-of-type {\n",
              "        vertical-align: middle;\n",
              "    }\n",
              "\n",
              "    .dataframe tbody tr th {\n",
              "        vertical-align: top;\n",
              "    }\n",
              "\n",
              "    .dataframe thead th {\n",
              "        text-align: right;\n",
              "    }\n",
              "</style>\n",
              "<table border=\"1\" class=\"dataframe\">\n",
              "  <thead>\n",
              "    <tr style=\"text-align: right;\">\n",
              "      <th></th>\n",
              "      <th>列1</th>\n",
              "      <th>列2</th>\n",
              "    </tr>\n",
              "  </thead>\n",
              "  <tbody>\n",
              "    <tr>\n",
              "      <th>a</th>\n",
              "      <td>値1</td>\n",
              "      <td>NaN</td>\n",
              "    </tr>\n",
              "    <tr>\n",
              "      <th>b</th>\n",
              "      <td>値2</td>\n",
              "      <td>NaN</td>\n",
              "    </tr>\n",
              "    <tr>\n",
              "      <th>c</th>\n",
              "      <td>値3</td>\n",
              "      <td>値10</td>\n",
              "    </tr>\n",
              "    <tr>\n",
              "      <th>d</th>\n",
              "      <td>NaN</td>\n",
              "      <td>値20</td>\n",
              "    </tr>\n",
              "    <tr>\n",
              "      <th>e</th>\n",
              "      <td>NaN</td>\n",
              "      <td>値30</td>\n",
              "    </tr>\n",
              "  </tbody>\n",
              "</table>\n",
              "</div>"
            ],
            "text/plain": [
              "    列1   列2\n",
              "a   値1  NaN\n",
              "b   値2  NaN\n",
              "c   値3  値10\n",
              "d  NaN  値20\n",
              "e  NaN  値30"
            ]
          },
          "metadata": {},
          "execution_count": 42
        }
      ]
    },
    {
      "cell_type": "markdown",
      "metadata": {
        "id": "v5OvRRda4GpB"
      },
      "source": [
        "# 4 Matplotlibについて"
      ]
    },
    {
      "cell_type": "code",
      "metadata": {
        "id": "uCL6qNB397ay"
      },
      "source": [
        "import numpy as np\n",
        "import numpy.random as random\n",
        "import pandas as pd\n",
        "from pandas import Series, DataFrame\n",
        "\n",
        "# 可視化ライブラリ\n",
        "import matplotlib.pyplot as plt\n",
        "import matplotlib as mpl"
      ],
      "execution_count": null,
      "outputs": []
    },
    {
      "cell_type": "markdown",
      "metadata": {
        "id": "SOyAvIra6kOx"
      },
      "source": [
        "Q.Matplotlibはpip installなどを初めに行っておく必要はありますか？\n",
        "\n",
        "A.ローカルで実行する場合には必要です。colabの場合には不要です。"
      ]
    },
    {
      "cell_type": "markdown",
      "metadata": {
        "id": "FFTG4xHB-Qwh"
      },
      "source": [
        "Q.plt.scatterでも、点の形を変更することは可能でしょうか。\n",
        "\n",
        "A.marker=\"\"　で指定できます。 https://matplotlib.org/stable/api/markers_api.html"
      ]
    },
    {
      "cell_type": "code",
      "metadata": {
        "id": "j_zR4ZMA3bBY",
        "colab": {
          "base_uri": "https://localhost:8080/",
          "height": 458
        },
        "outputId": "c980df3c-a8b2-46d7-c7f2-d09f76a43a65"
      },
      "source": [
        "random.seed(0)\n",
        "#シード値を固定する\n",
        "\n",
        "x = np.random.randn(100)\n",
        "y = np.sin(x) + np.random.randn(100)\n",
        "\n",
        "\n",
        "plt.figure(figsize=(20, 7))\n",
        "\n",
        "\n",
        "plt.scatter(x, y,marker=\"x\")\n",
        "\n",
        "plt.title('Title Name')\n",
        "plt.xlabel('X')\n",
        "plt.ylabel('Y')\n",
        "plt.grid(True)"
      ],
      "execution_count": null,
      "outputs": [
        {
          "output_type": "display_data",
          "data": {
            "image/png": "[encoded data removed]",
            "text/plain": [
              "<Figure size 1440x504 with 1 Axes>"
            ]
          },
          "metadata": {
            "needs_background": "light"
          }
        }
      ]
    },
    {
      "cell_type": "markdown",
      "metadata": {
        "id": "cdhbf9XGEN29"
      },
      "source": [
        "Q.散布図に記載してあるシード値とは何ですか？\n",
        "\n",
        "A.乱数を生成する際の基になる値です。シード値を固定すると毎回同じ乱数が得られるため、再現性が確保できます。"
      ]
    },
    {
      "cell_type": "markdown",
      "metadata": {
        "id": "JPASbt_MFxEG"
      },
      "source": [
        "Q.２種類の異なる縦軸のグラフを重ねて表示することはpltでもできるでしょうか？\n",
        "\n",
        "A.できます。一つ目の軸を例えばax1としたら、二軸目をax2 = ax1.twinx()のようにすれば描画できます。"
      ]
    },
    {
      "cell_type": "code",
      "metadata": {
        "colab": {
          "base_uri": "https://localhost:8080/",
          "height": 282
        },
        "id": "31Gn3BBnHjoz",
        "outputId": "9907c50f-95cd-4019-9603-c5857611f453"
      },
      "source": [
        "data_t={'月':[1,2,3,4,5,6,7,8,9,10,11,12],\n",
        "        '平均気温(℃)':[4.5,5.2,8.9,13.8,18.6,21.8,25.7,26.8,23.1,17.5,10.8,6.8],\n",
        "    '降水量(mm)':[58,52,114.1,121.9,133.1,166.6,164.2,173.4,246.7,228,83.2,58.7]}\n",
        "df=DataFrame(data_t)\n",
        "\n",
        "x = df['月']\n",
        "y1 = df['降水量(mm)']\n",
        "y2 = df['平均気温(℃)']\n",
        "\n",
        "plt.figure(figsize = (10, 6))\n",
        "\n",
        "\n",
        "fig, ax1 = plt.subplots()\n",
        "\n",
        "ax2 = ax1.twinx()\n",
        "\n",
        "ax1.bar(x, y1)\n",
        "ax1.set_ylabel('$precipitation (mm)$') \n",
        "ax2.plot(x, y2, color='red')\n",
        "ax2.set_ylabel('$temperature$') \n",
        "\n",
        "\n",
        "# グリッドを表示\n",
        "plt.grid(True)"
      ],
      "execution_count": null,
      "outputs": [
        {
          "output_type": "display_data",
          "data": {
            "text/plain": [
              "<Figure size 720x432 with 0 Axes>"
            ]
          },
          "metadata": {}
        },
        {
          "output_type": "display_data",
          "data": {
            "image/png": "[encoded data removed]",
            "text/plain": [
              "<Figure size 432x288 with 2 Axes>"
            ]
          },
          "metadata": {
            "needs_background": "light"
          }
        }
      ]
    },
    {
      "cell_type": "markdown",
      "metadata": {
        "id": "uMFLWdSKFqA6"
      },
      "source": [
        "Q.円グラフでのautopctの\"%1.1f%%\"はどういった意味があるのですか？\n",
        "\n",
        "A.小数点1桁で%表示しています。"
      ]
    },
    {
      "cell_type": "code",
      "metadata": {
        "colab": {
          "base_uri": "https://localhost:8080/",
          "height": 425
        },
        "id": "2KZVSCt6o7Ec",
        "outputId": "95d89ad9-6d7a-402e-fece-76fb14fd3378"
      },
      "source": [
        "labels =['Frogs','Hogs','Dogs','Logs']\n",
        "\n",
        "sizes = [15, 30, 45, 10]\n",
        "colors = ['yellowgreen', 'gold', 'lightskyblue', 'lightcoral']\n",
        "explode = (0, 0.1, 0, 0) \n",
        "\n",
        "\n",
        "plt.figure(figsize = (15, 6))\n",
        "\n",
        "# グラフを表示\n",
        "plt.pie(sizes, explode = explode, labels = labels, colors = colors,\n",
        "        autopct = '%1.1f%%', shadow = True, startangle = 90)\n",
        "\n",
        "# 円を丸く描画\n",
        "plt.axis('equal')"
      ],
      "execution_count": null,
      "outputs": [
        {
          "output_type": "execute_result",
          "data": {
            "text/plain": [
              "(-1.2142507666786346,\n",
              " 1.134711077927507,\n",
              " -1.1258468317413044,\n",
              " 1.101230806657754)"
            ]
          },
          "metadata": {},
          "execution_count": 69
        },
        {
          "output_type": "display_data",
          "data": {
            "image/png": "[encoded data removed]",
            "text/plain": [
              "<Figure size 1080x432 with 1 Axes>"
            ]
          },
          "metadata": {}
        }
      ]
    },
    {
      "cell_type": "code",
      "metadata": {
        "colab": {
          "base_uri": "https://localhost:8080/",
          "height": 425
        },
        "id": "zRzwZZ6Lo7XJ",
        "outputId": "fca33b36-b78d-4d13-b236-480c71cf4ba0"
      },
      "source": [
        "labels =['Frogs','Hogs','Dogs','Logs']\n",
        "\n",
        "sizes = [15, 30, 45, 10]\n",
        "colors = ['yellowgreen', 'gold', 'lightskyblue', 'lightcoral']\n",
        "explode = (0, 0.1, 0, 0) \n",
        "\n",
        "\n",
        "plt.figure(figsize = (15, 6))\n",
        "\n",
        "# グラフを表示\n",
        "plt.pie(sizes, explode = explode, labels = labels, colors = colors,\n",
        "         shadow = True, startangle = 90)\n",
        "#autopctのデフォルトは数字を表示しない\n",
        "\n",
        "# 円を丸く描画\n",
        "plt.axis('equal')"
      ],
      "execution_count": null,
      "outputs": [
        {
          "output_type": "execute_result",
          "data": {
            "text/plain": [
              "(-1.2142507666786346,\n",
              " 1.134711077927507,\n",
              " -1.1258468317413044,\n",
              " 1.101230806657754)"
            ]
          },
          "metadata": {},
          "execution_count": 73
        },
        {
          "output_type": "display_data",
          "data": {
            "image/png": "[encoded data removed]",
            "text/plain": [
              "<Figure size 1080x432 with 1 Axes>"
            ]
          },
          "metadata": {}
        }
      ]
    }
  ]
}