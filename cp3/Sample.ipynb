{
  "nbformat": 4,
  "nbformat_minor": 0,
  "metadata": {
    "colab": {
      "provenance": [],
      "include_colab_link": true
    },
    "kernelspec": {
      "name": "python3",
      "display_name": "Python 3"
    },
    "language_info": {
      "name": "python"
    }
  },
  "cells": [
    {
      "cell_type": "markdown",
      "metadata": {
        "id": "view-in-github",
        "colab_type": "text"
      },
      "source": [
        "<a href=\"https://colab.research.google.com/github/alicelindel3/ibm5100/blob/main/cp3/Sample.ipynb\" target=\"_parent\"><img src=\"https://colab.research.google.com/assets/colab-badge.svg\" alt=\"Open In Colab\"/></a>"
      ]
    },
    {
      "cell_type": "markdown",
      "metadata": {
        "id": "FojQvcUGiTcX"
      },
      "source": [
        "最終課題で具体的にどのような要件が求められているかについては、最終課題RAEDMEをご覧ください。ここでは最終課題の取り組み方のサンプルとして、第二回のコンペのHome credit社のデータを利用してHome credit社での事業提案例を考えてみます。\n",
        "**実際の最終課題では、このHome Credit社のデータを用いているとは限らないので、最終課題で指定されたデータセットを解析してください。**\n",
        "データ分析や機械学習を行うことで、その企業の課題やニーズを見出し、問題解決に役立てる事業を提案してみましょう。"
      ]
    },
    {
      "cell_type": "code",
      "metadata": {
        "id": "JkWECcUNdsIC"
      },
      "source": [
        "import numpy as np\n",
        "import pandas as pd\n",
        "from pandas import DataFrame, Series\n",
        "import matplotlib.pyplot as plt\n",
        "import seaborn as sns"
      ],
      "execution_count": null,
      "outputs": []
    },
    {
      "cell_type": "code",
      "metadata": {
        "id": "fTF2IE0CedYK"
      },
      "source": [
        "from google.colab import drive\n",
        "drive.mount('/content/drive')"
      ],
      "execution_count": null,
      "outputs": []
    },
    {
      "cell_type": "code",
      "source": [
        "df = pd.read_csv('/content/drive/My Drive/Colab Notebooks/train.csv')\n",
        "#df_test = pd.read_csv('/content/drive/My Drive/Colab Notebooks/test.csv')\n",
        "#今回は最終課題を想定してdf_testは使わないことにします。\n",
        "#pathは各自で変更してください。"
      ],
      "metadata": {
        "id": "kiVDK18fZffa"
      },
      "execution_count": null,
      "outputs": []
    },
    {
      "cell_type": "markdown",
      "metadata": {
        "id": "S7cZlBSbfWOb"
      },
      "source": [
        "最初にデータサイズや型、訓練データの最初の10個のデータを確認します。"
      ]
    },
    {
      "cell_type": "code",
      "metadata": {
        "id": "nwSJyKgWe_Oe"
      },
      "source": [
        "print('データのデータ数は{}、変数は{}種類です。'.format(df.shape[0], df.shape[1]))"
      ],
      "execution_count": null,
      "outputs": []
    },
    {
      "cell_type": "code",
      "metadata": {
        "id": "7V7Fv0bdf9AT"
      },
      "source": [
        "print(df.info())"
      ],
      "execution_count": null,
      "outputs": []
    },
    {
      "cell_type": "code",
      "metadata": {
        "id": "lyudnkfGfKBa"
      },
      "source": [
        "df.head(10)"
      ],
      "execution_count": null,
      "outputs": []
    },
    {
      "cell_type": "markdown",
      "metadata": {
        "id": "o_LDWVFXgrCR"
      },
      "source": [
        "欠損値の多いカラムが見られることが分かったので、欠損値の数をカウントします。"
      ]
    },
    {
      "cell_type": "code",
      "metadata": {
        "id": "d059WTvxfVJ1"
      },
      "source": [
        "df.isnull().sum() "
      ],
      "execution_count": null,
      "outputs": []
    },
    {
      "cell_type": "markdown",
      "metadata": {
        "id": "GXexccEzhY8u"
      },
      "source": [
        "多くのカラムで欠損値があることが分かりました。これだけ欠損値が多いと、単純にカラムを削除するなどの方法ではうまくいかない可能性も考えられます。次に、事業の例として考えやすそうなTARGET(債務不履行の有無)がどのようなデータなのか確認します。"
      ]
    },
    {
      "cell_type": "code",
      "metadata": {
        "id": "gUKnEhurg6BT"
      },
      "source": [
        "f,ax=plt.subplots(1,2,figsize=(18,8))\n",
        "df['TARGET'].value_counts().plot.pie(explode=[0,0.1],autopct='%1.1f%%',ax=ax[0],shadow=True)\n",
        "ax[0].set_title('TARGET')\n",
        "ax[0].set_ylabel('')\n",
        "sns.countplot('TARGET',data=df,ax=ax[1])\n",
        "ax[1].set_title('TARGET')\n",
        "plt.show()"
      ],
      "execution_count": null,
      "outputs": []
    },
    {
      "cell_type": "markdown",
      "metadata": {
        "id": "7g65mhZ-lKNM"
      },
      "source": [
        "TARGETは不均衡データであることが分かりました。全体についてEDAを行ったり、TARGETについて関連を調べるのも有効ですが(詳しくは、第二回コンペのチューリアルをご覧ください。)、今回は非常にデータが多いので、まずLightGBMでどのような特徴量がTARGETに関連しているのか調べてみることにします。LightGBMは欠損値があっても学習することができるので、今回のデータ分析における機械学習では有効な手段の一つと予測されます。"
      ]
    },
    {
      "cell_type": "code",
      "metadata": {
        "id": "twQtttWqk1A4"
      },
      "source": [
        "df.columns[df.dtypes.values == \"object\"]"
      ],
      "execution_count": null,
      "outputs": []
    },
    {
      "cell_type": "code",
      "metadata": {
        "id": "6NwAqXJsl50G"
      },
      "source": [
        "categ_nominal = ['NAME_CONTRACT_TYPE', 'CODE_GENDER', 'FLAG_OWN_CAR', 'FLAG_OWN_REALTY',\n",
        "       'NAME_TYPE_SUITE', 'NAME_INCOME_TYPE', 'NAME_EDUCATION_TYPE',\n",
        "       'NAME_FAMILY_STATUS', 'NAME_HOUSING_TYPE', 'OCCUPATION_TYPE',\n",
        "       'ORGANIZATION_TYPE']"
      ],
      "execution_count": null,
      "outputs": []
    },
    {
      "cell_type": "code",
      "metadata": {
        "id": "ArRpzOKKmAmG"
      },
      "source": [
        "for i in categ_nominal:\n",
        "    df = pd.concat([df, pd.get_dummies(df[i], prefix=i, dummy_na=True)], sort=False, axis=1)\n",
        "df = df.drop(categ_nominal, axis=1)\n",
        "df.info()"
      ],
      "execution_count": null,
      "outputs": []
    },
    {
      "cell_type": "code",
      "metadata": {
        "id": "zO33TTaZmmAJ"
      },
      "source": [
        "from sklearn.model_selection import train_test_split\n",
        "import lightgbm as lgb"
      ],
      "execution_count": null,
      "outputs": []
    },
    {
      "cell_type": "code",
      "metadata": {
        "id": "bc9PFQIHmTu-"
      },
      "source": [
        "X = df.drop('TARGET',axis=1) \n",
        "y = df['TARGET'] # 目的変数\n",
        "# トレーニングデータ,テストデータの分割\n",
        "X_train, X_valid, y_train, y_valid = train_test_split(X, y,test_size=0.2, random_state=0)"
      ],
      "execution_count": null,
      "outputs": []
    },
    {
      "cell_type": "markdown",
      "source": [
        "今回は不均衡データであることから、評価指標にはAUCを用いることにします。適切な評価指標を選ぶことは最終課題でも重要です。"
      ],
      "metadata": {
        "id": "_p2W40PPWy1O"
      }
    },
    {
      "cell_type": "code",
      "metadata": {
        "id": "TROzBdTSmfBi"
      },
      "source": [
        "# 学習に使用するデータを設定\n",
        "lgb_train = lgb.Dataset(X_train, y_train)\n",
        "lgb_eval = lgb.Dataset(X_valid, y_valid, reference=lgb_train) \n",
        "\n",
        "# パラメータ\n",
        "params = {\n",
        "        'task': 'train',\n",
        "        'boosting_type': 'gbdt',\n",
        "        'objective': 'binary', # 目的 : 分類\n",
        "        'metric': {'auc'},\n",
        "         'num_leaves': 20,             \n",
        "        'max_depth':5,\n",
        "        'min_data_in_leaf': 3,        \n",
        "        'num_iteration': 100,            \n",
        "        'learning_rate':0.03,\n",
        "        'num_boost_round':100,\n",
        "         'early_stopping_rounds':20, \n",
        "}\n",
        "\n",
        "# モデルの学習\n",
        "model = lgb.train(params,\n",
        "                  train_set=lgb_train, # トレーニングデータの指定\n",
        "                  valid_sets=lgb_eval, # 検証データの指定\n",
        "                  )\n",
        "\n",
        "# テストデータの予測\n",
        "y_pred = model.predict(X_valid)"
      ],
      "execution_count": null,
      "outputs": []
    },
    {
      "cell_type": "markdown",
      "metadata": {
        "id": "c9GjLCspdh5w"
      },
      "source": [
        "モデルの学習が終わりました。決定木ベースのアンサンブル分析器では特徴量の重要度を算出することができるため、可視化してみます。"
      ]
    },
    {
      "cell_type": "code",
      "metadata": {
        "id": "1UP_4Dv8nJrv"
      },
      "source": [
        "lgb.plot_importance(model, height=0.5, figsize=(30,40))"
      ],
      "execution_count": null,
      "outputs": []
    },
    {
      "cell_type": "markdown",
      "metadata": {
        "id": "XqccdtNhK9e1"
      },
      "source": [
        "モデルの学習に当たって重要と判断された特徴量について可視化することができました。重要と判断された特徴量に関していくつか検討してみることにします。それぞれの特徴量に関して、平均値や中央値、データの分布を確認し、債務不履行の有無でウィルコクソンの順位和検定を有意水準を5%として検定し、2群の中央値に有意差があるか検討してみます。"
      ]
    },
    {
      "cell_type": "markdown",
      "metadata": {
        "id": "tOJ9ag8dklz8"
      },
      "source": [
        "まずはEXT_SOURCE_1に関して検討します。"
      ]
    },
    {
      "cell_type": "code",
      "metadata": {
        "id": "urr3fhsRK9IH"
      },
      "source": [
        "df.groupby([\"TARGET\"])[\"EXT_SOURCE_1\"].mean()"
      ],
      "execution_count": null,
      "outputs": []
    },
    {
      "cell_type": "code",
      "metadata": {
        "id": "HAUoRbHXbEZW"
      },
      "source": [
        "df.groupby([\"TARGET\"])[\"EXT_SOURCE_1\"].median()"
      ],
      "execution_count": null,
      "outputs": []
    },
    {
      "cell_type": "markdown",
      "source": [
        "実際に債務不履行の有無によるEXT_SOURCE_1の中央値やヒストグラムを可視化してみましょう。"
      ],
      "metadata": {
        "id": "VOlG7g2jbzvl"
      }
    },
    {
      "cell_type": "code",
      "source": [
        "sns.barplot(x='TARGET', y='EXT_SOURCE_1', data=df, estimator=np.median)"
      ],
      "metadata": {
        "id": "AXJhvIvRa-Ym"
      },
      "execution_count": null,
      "outputs": []
    },
    {
      "cell_type": "code",
      "metadata": {
        "id": "0KOGBXnpb2or"
      },
      "source": [
        "df.groupby('TARGET')['EXT_SOURCE_1'].plot.hist(bins=20, alpha=0.5, legend=True)"
      ],
      "execution_count": null,
      "outputs": []
    },
    {
      "cell_type": "markdown",
      "source": [
        "ウィルコクソンの順位和検定を有意水準を5%として検定し、2群の中央値に有意差があるか検討してみます。"
      ],
      "metadata": {
        "id": "qCNV7ZVFb6GX"
      }
    },
    {
      "cell_type": "code",
      "metadata": {
        "id": "KmkobzzWjeMZ"
      },
      "source": [
        "from scipy import stats\n",
        "s, pvalue = stats.mannwhitneyu(df[df[\"TARGET\"]==1][\"EXT_SOURCE_1\"]\n",
        "                , df[df[\"TARGET\"]==0][\"EXT_SOURCE_1\"]\n",
        "                ,alternative='two-sided')\n",
        "pvalue < 0.05"
      ],
      "execution_count": null,
      "outputs": []
    },
    {
      "cell_type": "markdown",
      "metadata": {
        "id": "djnLcxUGlBXS"
      },
      "source": [
        "この検定より、債務不履行の有無に関してEXT_SOURCE_1には有意差があり、カラム名から察するに外部からの、この信用スコアのようなものが高いと債務不履行になりにくいことが分かりました。反対に、顧客データから顧客の信用スコアを求めることで他社に有益な情報を供与できるかもしれません。信用スコアを他社に提供する分、顧客に還元するアイデアなども考えられます。\n"
      ]
    },
    {
      "cell_type": "markdown",
      "metadata": {
        "id": "SIFZBQLwl36I"
      },
      "source": [
        "次に、DAYS_BIRTHについて検討します。"
      ]
    },
    {
      "cell_type": "code",
      "metadata": {
        "id": "oGItq0mEg2fx"
      },
      "source": [
        "df.groupby([\"TARGET\"])[\"DAYS_BIRTH\"].mean()"
      ],
      "execution_count": null,
      "outputs": []
    },
    {
      "cell_type": "code",
      "metadata": {
        "id": "upGk6QX1a8Z6"
      },
      "source": [
        "df.groupby([\"TARGET\"])[\"DAYS_BIRTH\"].median()"
      ],
      "execution_count": null,
      "outputs": []
    },
    {
      "cell_type": "code",
      "source": [
        "sns.barplot(x='TARGET', y='DAYS_BIRTH', data=df, estimator=np.median)"
      ],
      "metadata": {
        "id": "c6TbfwrgcJw6"
      },
      "execution_count": null,
      "outputs": []
    },
    {
      "cell_type": "code",
      "metadata": {
        "id": "R4r_bBdmb5uY"
      },
      "source": [
        "df.groupby([\"TARGET\"])[\"DAYS_BIRTH\"].plot.hist(bins=20, alpha=0.5, legend=True)"
      ],
      "execution_count": null,
      "outputs": []
    },
    {
      "cell_type": "code",
      "metadata": {
        "id": "IrU2ihxukB2i"
      },
      "source": [
        "s, pvalue = stats.mannwhitneyu(df[df[\"TARGET\"]==1][\"DAYS_BIRTH\"]\n",
        "                , df[df[\"TARGET\"]==0][\"DAYS_BIRTH\"]\n",
        "                ,alternative='two-sided')\n",
        "pvalue < 0.05"
      ],
      "execution_count": null,
      "outputs": []
    },
    {
      "cell_type": "markdown",
      "metadata": {
        "id": "L2aE7Nh9l98S"
      },
      "source": [
        "この検定より、債務不履行の有無に関してDAYS_BIRTHには有意差があることが分かりました。値を鑑みるに、年齢は数字の絶対値が小さい方が若いと考えられるので、若い人の方が債務不履行になりやすいと言え、若年層が返済しやすい融資プランの需要があることが予想できます。"
      ]
    },
    {
      "cell_type": "markdown",
      "metadata": {
        "id": "CK2EAwYOmjAA"
      },
      "source": [
        "次に、AMT_CREDIT(融資額)について検討します。"
      ]
    },
    {
      "cell_type": "code",
      "metadata": {
        "id": "CzbkTPeYgBcN"
      },
      "source": [
        "df.groupby([\"TARGET\"])[\"AMT_CREDIT\"].mean()"
      ],
      "execution_count": null,
      "outputs": []
    },
    {
      "cell_type": "code",
      "metadata": {
        "id": "krGmpf1ha0P0"
      },
      "source": [
        "df.groupby([\"TARGET\"])[\"AMT_CREDIT\"].median()"
      ],
      "execution_count": null,
      "outputs": []
    },
    {
      "cell_type": "code",
      "source": [
        "sns.barplot(x='TARGET', y='AMT_CREDIT', data=df, estimator=np.median)"
      ],
      "metadata": {
        "id": "pKurcK1JcPbl"
      },
      "execution_count": null,
      "outputs": []
    },
    {
      "cell_type": "code",
      "metadata": {
        "id": "ROrIyXQdcH5d"
      },
      "source": [
        "df.groupby([\"TARGET\"])[\"AMT_CREDIT\"].plot.hist(bins=20, alpha=0.5, legend=True)"
      ],
      "execution_count": null,
      "outputs": []
    },
    {
      "cell_type": "code",
      "metadata": {
        "id": "wbviAzn6kFZM"
      },
      "source": [
        "s, pvalue = stats.mannwhitneyu(df[df[\"TARGET\"]==1][\"AMT_CREDIT\"]\n",
        "                , df[df[\"TARGET\"]==0][\"AMT_CREDIT\"]\n",
        "                ,alternative='two-sided')\n",
        "pvalue < 0.05"
      ],
      "execution_count": null,
      "outputs": []
    },
    {
      "cell_type": "markdown",
      "metadata": {
        "id": "CswThGavmrBD"
      },
      "source": [
        "この検定より、債務不履行の有無に関してAMT_CREDITには有意差があることが分かりました。値が小さい方が債務不履行になりやすいという結果なので、問題は借入金の総額ではなく、収入との問題があるのかもしれません。収入AMT_INCOME_TOTALに関して検討してみます。"
      ]
    },
    {
      "cell_type": "code",
      "metadata": {
        "id": "bP9MUHR3iVOI"
      },
      "source": [
        "df.groupby([\"TARGET\"])[\"AMT_INCOME_TOTAL\"].mean()"
      ],
      "execution_count": null,
      "outputs": []
    },
    {
      "cell_type": "code",
      "metadata": {
        "id": "vzLsO6plbAMd"
      },
      "source": [
        "df.groupby([\"TARGET\"])[\"AMT_INCOME_TOTAL\"].median()"
      ],
      "execution_count": null,
      "outputs": []
    },
    {
      "cell_type": "code",
      "source": [
        "sns.barplot(x='TARGET', y='AMT_INCOME_TOTAL', data=df, estimator=np.median)"
      ],
      "metadata": {
        "id": "IOIs7VLYcXJt"
      },
      "execution_count": null,
      "outputs": []
    },
    {
      "cell_type": "code",
      "metadata": {
        "id": "HZ1XHz2ycLQL"
      },
      "source": [
        "df.groupby([\"TARGET\"])[\"AMT_INCOME_TOTAL\"].plot.hist(bins=20, alpha=0.5, legend=True)"
      ],
      "execution_count": null,
      "outputs": []
    },
    {
      "cell_type": "code",
      "metadata": {
        "id": "m-RL9k3HcVIV"
      },
      "source": [
        "df.groupby([\"TARGET\"])[\"AMT_INCOME_TOTAL\"].plot.hist(bins=20, alpha=0.5,log=True, legend=True)\n",
        "#スケールが見にくいので対数変換"
      ],
      "execution_count": null,
      "outputs": []
    },
    {
      "cell_type": "code",
      "metadata": {
        "id": "nLDyocBBkJ-O"
      },
      "source": [
        "s, pvalue = stats.mannwhitneyu(df[df[\"TARGET\"]==1][\"AMT_INCOME_TOTAL\"]\n",
        "                , df[df[\"TARGET\"]==0][\"AMT_INCOME_TOTAL\"]\n",
        "                ,alternative='two-sided')\n",
        "pvalue < 0.05"
      ],
      "execution_count": null,
      "outputs": []
    },
    {
      "cell_type": "markdown",
      "metadata": {
        "id": "4KSuDLrknHmw"
      },
      "source": [
        "この検定より、債務不履行の有無に関してAMT_INCOME_TOTALには有意差があることが分かりました。値が小さい方が債務不履行になりやすいという結果なので、収入が少ない人の方が債務不履行になりやすいということが分かりました。ここから、収入が少ない人への適切な融資プランの需要が考えられます。"
      ]
    },
    {
      "cell_type": "markdown",
      "metadata": {
        "id": "3ixF67GinfLe"
      },
      "source": [
        "先ほど予想したように、借入金が多ければ債務不履行になりやすいという訳ではないようなので、収入と借入金の割合について考えてみたいと思います。"
      ]
    },
    {
      "cell_type": "code",
      "metadata": {
        "id": "DSBsIVK9iLqv"
      },
      "source": [
        "df['Ratio_of_income_to_debt']=df['AMT_CREDIT']/df['AMT_INCOME_TOTAL']\n",
        "df.groupby([\"TARGET\"])[\"Ratio_of_income_to_debt\"].mean()"
      ],
      "execution_count": null,
      "outputs": []
    },
    {
      "cell_type": "code",
      "metadata": {
        "id": "ZkmEUdQ6bv4s"
      },
      "source": [
        "df.groupby([\"TARGET\"])[\"Ratio_of_income_to_debt\"].median()"
      ],
      "execution_count": null,
      "outputs": []
    },
    {
      "cell_type": "code",
      "source": [
        "sns.barplot(x='TARGET', y='Ratio_of_income_to_debt', data=df, estimator=np.median)"
      ],
      "metadata": {
        "id": "WGtvTQWiccFF"
      },
      "execution_count": null,
      "outputs": []
    },
    {
      "cell_type": "code",
      "metadata": {
        "id": "uoPvXHipj5Xd"
      },
      "source": [
        "df.groupby('TARGET')['Ratio_of_income_to_debt'].plot.hist(bins=20, alpha=0.5, legend=True)"
      ],
      "execution_count": null,
      "outputs": []
    },
    {
      "cell_type": "code",
      "metadata": {
        "id": "3T1BKG5FgBYW"
      },
      "source": [
        "s, pvalue = stats.mannwhitneyu(df[df[\"TARGET\"]==1][\"Ratio_of_income_to_debt\"]\n",
        "                , df[df[\"TARGET\"]==0][\"Ratio_of_income_to_debt\"]\n",
        "                ,alternative='two-sided')\n",
        "pvalue < 0.05"
      ],
      "execution_count": null,
      "outputs": []
    },
    {
      "cell_type": "markdown",
      "metadata": {
        "id": "oKReMXz0kS_z"
      },
      "source": [
        "どうやら、債務不履行かどうかは年収と借入金の比では決定しないようです。収入が少ない人の場合、借入金の割合や額が少なくても債務不履行になるケースが多いのかもしれません。\n",
        "\n",
        "今回は上手くいきませんでしたが、仮説を立ててデータを色々な角度から分析するのは企業の課題を見つけるのに有効な手段の一つです。"
      ]
    },
    {
      "cell_type": "markdown",
      "metadata": {
        "id": "q9NwxSAi4kpk"
      },
      "source": [
        "ここまでのデータ分析から、**外部の信用スコアが重要であることや、若者や収入の少ない人は債務不履行者になりやすい課題**が見えてきました。\n",
        "今回は簡便な方法でEDAを行いましたが、更に深く探索を行うことや、全く別の観点からEDAを行うことは評価に繋がります。"
      ]
    },
    {
      "cell_type": "markdown",
      "source": [
        "今回はEDAの手段としてLightGBMを用いましたが、この学習結果をモデル構築の一部とすることも可能です。**最終課題では、データ分析結果を可視化して提示し、どのようなことが明らかになったのか示すとともに、機械学習によるモデル構築を行いましょう。この流れに沿って行けば、どのような事業提案を行ったらよいかが見えてくると思います。**"
      ],
      "metadata": {
        "id": "AIqLLcHwiWWw"
      }
    },
    {
      "cell_type": "markdown",
      "metadata": {
        "id": "DDsQv4bO1izk"
      },
      "source": [
        "tips:可視化を行う際に、日本語を軸の名前などに記述したい時にはjapanize_matplotlibを用いると便利です。調べてみてください。"
      ]
    },
    {
      "cell_type": "markdown",
      "metadata": {
        "id": "vJ4uA3ee2TEO"
      },
      "source": [
        "最終課題の説得力を上げる一つの方法としては、事業に定量性を持たせることです。機械学習モデルを用いて、例えば今回のケースなら債務不履行者による損失がどれだけ減らせるか示すことができれば、定量性が上がり説得力が増します。\n",
        "\n",
        "\n",
        "まず、機械学習する前のHome Credit社の損失合計を求めてみます。債務不履行者の合計金額を求めればいいですから、"
      ]
    },
    {
      "cell_type": "code",
      "metadata": {
        "id": "90W_NhjQEjWp"
      },
      "source": [
        "loss_sum=df[df[\"TARGET\"]==1]\n",
        "loss_sum['AMT_CREDIT'].sum()"
      ],
      "execution_count": null,
      "outputs": []
    },
    {
      "cell_type": "markdown",
      "metadata": {
        "id": "KkzCVqSMOHEq"
      },
      "source": [
        "これより、通貨単位をドルとして、7665723153ドルの損失があることが分かりました。ここで、今回機械学習で債務不履行者と予測した融資金額の合計を算出します。なお、債務不履行者かどうかは、実際の債務不履行者の割合が8%程度であることを考え、今回は大雑把ですが予測確率が上位の5%より小さいかどうかで判定してみます。"
      ]
    },
    {
      "cell_type": "code",
      "source": [
        "X_valid['pred']=y_pred\n",
        "X_valid['pred'].hist()"
      ],
      "metadata": {
        "id": "aSeESyiaRxjM"
      },
      "execution_count": null,
      "outputs": []
    },
    {
      "cell_type": "code",
      "metadata": {
        "id": "JGcmgniwBOEi"
      },
      "source": [
        "threshold=X_valid['pred'].quantile(0.95)\n",
        "print(threshold)\n",
        "X_valid.loc[X_valid['pred'] < threshold, 'pred'] = 0\n",
        "X_valid.loc[X_valid['pred'] >= threshold, 'pred'] = 1"
      ],
      "execution_count": null,
      "outputs": []
    },
    {
      "cell_type": "code",
      "metadata": {
        "id": "uOp0CqstNR_i"
      },
      "source": [
        "loss_pred=X_valid[X_valid[\"pred\"]==1]\n",
        "loss_pred['AMT_CREDIT'].sum()"
      ],
      "execution_count": null,
      "outputs": []
    },
    {
      "cell_type": "code",
      "metadata": {
        "id": "lWLKnyWlQPOD"
      },
      "source": [
        "787740439.5/0.8"
      ],
      "execution_count": null,
      "outputs": []
    },
    {
      "cell_type": "markdown",
      "metadata": {
        "id": "XJo5K6wWPKQo"
      },
      "source": [
        "債務不履行者と予測した人への融資金額は787740439.5ドルでした。訓練データ・テストデータの分割(8割と2割)を考慮すると、これらがほぼランダムに分割できているのであれば984675549.375ドルの損失があると言えます。機械学習を用いて債務不履行者と判定した人に融資を行わなければ、これだけの損失を回避することができます。ただし、この計算ではモデルの性能等を全く考慮していないので、やや乱暴な理論と言えます。しかし、ただ機械学習をして債務不履行者を予測します、と事業提案されるよりは具体的で分かりやすい説明になると言えます。"
      ]
    },
    {
      "cell_type": "markdown",
      "source": [
        "本サンプルでは行っておりませんが、**市場調査を行うことも説得力の観点で大事**です。例えば同業他社ではどのような問題を抱えており、その課題をいかにデータで解決できるか示すことができれば説得力を増すことができます。"
      ],
      "metadata": {
        "id": "n3lymnEzejND"
      }
    },
    {
      "cell_type": "markdown",
      "metadata": {
        "id": "JhRlVAbZQ7nj"
      },
      "source": [
        "以上で最終課題のサンプルとします。\n",
        "\n",
        "最終課題の評価を上げるには、データ分析を綿密に行うこと、モデルの性能を高めること、斬新な事業を提案すること、隙のない議論に基づいた定量性のある事業を提案することなどが考えられます。また、事業提案ですので、ビジネスモデルキャンバスやリーンキャンバスを用いることも有効だと考えられます。ぜひ調べてみてください。非常にチャレンジングな課題ですが、今まで学んだことを活かしてデータ分析や機械学習を用いた事業を提案して下さい。皆さんの力作をお待ちしております。"
      ]
    }
  ]
}