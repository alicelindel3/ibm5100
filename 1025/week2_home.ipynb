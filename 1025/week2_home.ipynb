{
  "nbformat": 4,
  "nbformat_minor": 0,
  "metadata": {
    "colab": {
      "provenance": [],
      "collapsed_sections": [],
      "include_colab_link": true
    },
    "kernelspec": {
      "name": "python3",
      "display_name": "Python 3"
    }
  },
  "cells": [
    {
      "cell_type": "markdown",
      "metadata": {
        "id": "view-in-github",
        "colab_type": "text"
      },
      "source": [
        "<a href=\"https://colab.research.google.com/github/alicelindel3/ibm5100/blob/main/1025/week2_home.ipynb\" target=\"_parent\"><img src=\"https://colab.research.google.com/assets/colab-badge.svg\" alt=\"Open In Colab\"/></a>"
      ]
    },
    {
      "cell_type": "markdown",
      "metadata": {
        "id": "93cl9JWr_5nm"
      },
      "source": [
        "## 問題文\n",
        "任意の$n\\times n$正方行列$A$をインプットデータとして、その行列式を返り値とする関数を作成してください。\n",
        "\n",
        "例えば、行列\n",
        "$$\n",
        "A=\n",
        "\\begin{pmatrix}\n",
        "  3 & 2 & 1 \\\\\n",
        "  5 & 3 & 7 \\\\\n",
        "  1 & 1 & 1\n",
        "\\end{pmatrix}$$\n",
        "は、次のようにnumpyの配列として扱います。\n",
        "\n",
        "```python\n",
        "A = np.array([[3,2,1],[5,3,7],[1,1,1]])\n",
        "```\n",
        "\n",
        "提出するときは、以下の点に注意してください。  \n",
        ">- 以下の関数`homework`の`!!WRITE ME!!`に処理を書いてください。(**「`!!WRITE ME!!`」は消して、記入してください。**)\n",
        ">- 実際の提出は記述された`homework`関数全てになり、**提出はOmnicampus内の宿題の欄から今週の課題を選択後、提出内容に関数を貼り付けてから[Pythonコード提出]を押してください。**\n",
        ">- 返り値は数値型です。\n",
        ">- 関数は1つにまとめてください。"
      ]
    },
    {
      "cell_type": "code",
      "metadata": {
        "id": "thHL7HyXBXvS"
      },
      "source": [
        "# common\n",
        "import numpy as np\n",
        "import numpy.linalg as linalg\n",
        "\n",
        "A = np.array([[3,2,1],[5,3,7],[1,1,1]])\n",
        "\n",
        "a = np.array([[1, 1],\n",
        "              [1, 2]]) \n",
        "\n",
        "b = np.array([[1, 2],\n",
        "              [0, 0]])\n",
        "# working place. everything\n",
        "def homework(A):\n",
        "  my_result=linalg.det(A)\n",
        "\n",
        "  return my_result"
      ],
      "execution_count": 15,
      "outputs": []
    },
    {
      "cell_type": "code",
      "metadata": {
        "id": "D-HiU9M-mbQT",
        "outputId": "07435132-86af-41e7-8372-f1b44a5c6e8c",
        "colab": {
          "base_uri": "https://localhost:8080/"
        }
      },
      "source": [
        "homework(A)"
      ],
      "execution_count": 16,
      "outputs": [
        {
          "output_type": "execute_result",
          "data": {
            "text/plain": [
              "-6.0"
            ]
          },
          "metadata": {},
          "execution_count": 16
        }
      ]
    }
  ]
}