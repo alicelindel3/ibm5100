{
  "nbformat": 4,
  "nbformat_minor": 0,
  "metadata": {
    "anaconda-cloud": {},
    "kernelspec": {
      "display_name": "Python 3",
      "language": "python",
      "name": "python3"
    },
    "language_info": {
      "codemirror_mode": {
        "name": "ipython",
        "version": 3
      },
      "file_extension": ".py",
      "mimetype": "text/x-python",
      "name": "python",
      "nbconvert_exporter": "python",
      "pygments_lexer": "ipython3",
      "version": "3.7.6"
    },
    "colab": {
      "provenance": [],
      "collapsed_sections": [
        "5ZTrm6gYs_1w",
        "PLlPtSnhs_1w",
        "yJCjgbfLs_1w",
        "7IvoNZWHs_2Q",
        "PN90KGtVs_2Q"
      ],
      "include_colab_link": true
    }
  },
  "cells": [
    {
      "cell_type": "markdown",
      "metadata": {
        "id": "view-in-github",
        "colab_type": "text"
      },
      "source": [
        "<a href=\"https://colab.research.google.com/github/alicelindel3/ibm5100/blob/main/1108/week4_Matplotlib.ipynb\" target=\"_parent\"><img src=\"https://colab.research.google.com/assets/colab-badge.svg\" alt=\"Open In Colab\"/></a>"
      ]
    },
    {
      "cell_type": "markdown",
      "metadata": {
        "id": "R9-9c496s_1S"
      },
      "source": [
        "# 4-1 Matplotlibを使ったデータ可視化"
      ]
    },
    {
      "cell_type": "markdown",
      "metadata": {
        "id": "yndMnKNjs_1T"
      },
      "source": [
        "＜章トビラ＞\n",
        "\n",
        "データ分析をする上で、対象となるデータを可視化することはとても重要です。単に数字を眺めているだけでは、データに潜む傾向がなかなか見えなかったりしますが、データをビジュアル化することで、データ間の関係性なども見えてきます。特に、近年はインフォグラフィックスなどといって、可視化が注目されています。\n",
        "\n",
        "ここでは、主に`Matplotlib`と`Seaborn`を使って、データを可視化する基本的な方法を身につけましょう。参考URL「B-8」が参考になります。\n",
        "\n",
        "そして、この章の最後に今までの総合問題として、時系列データの分析とマーケティングの分析の問題を用意しています。これまで学んだ手法を試せる機会ですので、ぜひチャレンジしてみてください。\n",
        "\n",
        "ゴール：Matplotlibを使って、さまざまなデータを可視化することができる。この章の総合問題が解ける。"
      ]
    },
    {
      "cell_type": "markdown",
      "metadata": {
        "id": "7w5BbZWos_1U"
      },
      "source": [
        "- **[4-1.1 データの可視化](#4-1.1-データの可視化)**\n",
        "    - [4-1.1.1 データの可視化について](#4-1.1.1-データの可視化について)\n",
        "    - [4-1.1.2 この章で使うライブラリのインポート](#4-1.1.2-この章で使うライブラリのインポート)\n",
        "<br><br>\n",
        "- **[4-1.2 データ可視化の基礎](#4-1.2-データ可視化の基礎)**\n",
        "    - [4-1.2.1 散布図](#4-1.2.1-散布図)\n",
        "    - [4-1.2.2 グラフの分割](#4-1.2.2-グラフの分割)\n",
        "    - [4-1.2.3 関数グラフの描画](#4-1.2.3-関数グラフの描画)\n",
        "    - [4-1.2.4 ヒストグラム](#4-1.2.4-ヒストグラム)\n",
        "    - [4-1.2.5 棒グラフ](#4-1.2.5-棒グラフ)\n",
        "    - [4-1.2.6 円グラフ](#4-1.2.6-円グラフ)\n",
        "<br><br>\n",
        "- **[4-1.3 応用：金融データの可視化](#4-1.3-応用：金融データの可視化)**\n",
        "    - [4-1.3.1 可視化する金融データ](#4-1.3.1-可視化する金融データ)\n",
        "    - [4-1.3.2 ローソクチャートを表示するモジュール](#4-1.3.2-ローソクチャートを表示するモジュール)\n",
        "<br><br>\n",
        "- **[4-1.4 応用：分析結果の見せ方を考えよう](#4-1.4-応用：分析結果の見せ方を考えよう)**\n",
        "    - [4-1.4.1 資料作成のポイントについて](#4-1.4.1-資料作成のポイントについて)\n",
        "<br><br>\n",
        "- **[4-1.5 総合問題](#4-1.5-総合問題)**\n",
        "    - [4-1.5.1 ■総合問題4-1-1 時系列データ分析](#■総合問題4-1-1-時系列データ分析)\n",
        "    - [4-1.5.2 ■総合問題4-1-2 マーケティング分析](#■総合問題4-1-2-マーケティング分析)"
      ]
    },
    {
      "cell_type": "markdown",
      "metadata": {
        "id": "FCB9C_Vjs_1U"
      },
      "source": [
        "***"
      ]
    },
    {
      "cell_type": "markdown",
      "metadata": {
        "id": "3oiA71Yjs_1V"
      },
      "source": [
        "## 4-1.1 データの可視化\n",
        "\n",
        "\n",
        "### 4-1.1.1 データの可視化について\n",
        "データを可視化することで、さまざまな示唆を得ることができます。単に数字をみているだけでは得られない発見もありますし、図にすることで、データに対する理解がより深まります。また、データ分析の結果を相手に説明する場合も、可視化は重要です。さまざまな数値を比較してそれらの数値だけ見せるよりは、それらを棒グラフや円グラフにして見せるほうが、相手にとっても理解がしやすいはずです。ここでは、データの可視化をするための手法や見せ方のポイントを紹介します。\n",
        "\n",
        "\n",
        "### 4-1.1.2 この章で使うライブラリのインポート\n",
        "\n",
        "この章では、各種ライブラリを使います。次のようにインポートしていることを前提として、以下、進めていきます。"
      ]
    },
    {
      "cell_type": "code",
      "metadata": {
        "id": "53vYJDROs_1V"
      },
      "source": [
        "# 以下のライブラリを使うので、あらかじめ読み込んでおいてください\n",
        "import requests\n",
        "import zipfile\n",
        "import io\n",
        "import os\n",
        "import numpy as np\n",
        "import numpy.random as random\n",
        "import scipy as sp\n",
        "import pandas as pd\n",
        "from pandas import Series, DataFrame\n",
        "\n",
        "# 可視化ライブラリ\n",
        "import matplotlib.pyplot as plt\n",
        "import matplotlib as mpl\n",
        "import seaborn as sns\n",
        "sns.set()\n",
        "%matplotlib inline\n",
        "\n",
        "# 小数第３位まで表示\n",
        "%precision 3"
      ],
      "execution_count": null,
      "outputs": []
    },
    {
      "cell_type": "markdown",
      "metadata": {
        "id": "ehGdkXBgs_1Z"
      },
      "source": [
        "\n",
        "Matplotlibでは、描画に関するほとんどの機能が「`pyplot.機能名`」で提供されています。「`import matplotlib.pyplot as plt`」とインポートし、「`mpl.pyplot.機能名`」とフルネームで書くのではなく「`plt.機能名`」と略記できるようにしています。\n",
        "\n",
        "`Seaborn`は`Matplotlib`を、さらに便利に活用することを可能にするライブラリです。インポートするだけで追加機能を使うことができ、また、いくつかの追加のスタイルを指定できるようになります。\n",
        "\n",
        "以下の「`%matplotlib inline`」は、Jupyter Notebook上にグラフを表示するためのマジックコマンドです。Jupyter環境の初学者の方はグラフを書くときに忘れやすいので、注意しましょう。"
      ]
    },
    {
      "cell_type": "code",
      "metadata": {
        "id": "7CI9_S8Hs_1Z"
      },
      "source": [
        "# セルの横幅を広げる\n",
        "from IPython.core.display import display, HTML\n",
        "display(HTML(\"<style>.container { width:100% !important; }</style>\"))"
      ],
      "execution_count": null,
      "outputs": []
    },
    {
      "cell_type": "markdown",
      "metadata": {
        "id": "4bu-YzVTs_1c"
      },
      "source": [
        "## 4-1.2 データ可視化の基礎\n",
        "キーワード：散布図、グラフの分割、ヒストグラム、棒グラフ、円グラフ、バブルチャート、積み上げグラフ"
      ]
    },
    {
      "cell_type": "markdown",
      "metadata": {
        "id": "KaAMbRIWs_1c"
      },
      "source": [
        "### 4-1.2.1 散布図\n",
        "\n",
        "Matplotlabでは、さまざまなグラフを描けますが、まずは、散布図から始めましょう。散布図は、2つの組み合わせデータに対して、`x−y`座標上に点をプロットしたグラフです。`plt.plot(x, y, 'o')`で描写でき、最後の引数はグラフの形状を指定するもので`'o'`は点で描くという意味です。その他の動作については、コード中のコメントを参考にしてください。\n",
        "\n",
        "散布図を描くと、2変数の関係性などが見えてきます。"
      ]
    },
    {
      "cell_type": "code",
      "metadata": {
        "id": "2ER3hp5fs_1d"
      },
      "source": [
        "# 散布図\n",
        "import seaborn as sns\n",
        "df = sns.load_dataset('iris')\n",
        "\n",
        "# x軸のデータ\n",
        "x = df['sepal_length']\n",
        "\n",
        "# y軸のデータ\n",
        "y = df['petal_width']\n",
        "\n",
        "# グラフの大きさ指定（10や6を変更してみてください）\n",
        "plt.figure(figsize=(10, 6))\n",
        "\n",
        "# グラフの描写\n",
        "plt.plot(x, y, 'o')\n",
        "\n",
        "#以下でも散布図が描ける\n",
        "#plt.scatter(x, y)\n",
        "\n",
        "# タイトル\n",
        "plt.title('Title Name')\n",
        "# Xの座標名\n",
        "plt.xlabel('sepal_length')\n",
        "# Yの座標名\n",
        "plt.ylabel('petal_width')\n",
        "\n",
        "# grid（グラフの中にある縦線と横線）の表示\n",
        "plt.grid(True)"
      ],
      "execution_count": null,
      "outputs": []
    },
    {
      "cell_type": "markdown",
      "metadata": {
        "id": "8rm0w78Ws_1f"
      },
      "source": [
        "連続した値を与えれば、`plot`による描画は点ではなく曲線に見えます。たとえば次の例は、時系列など連続した（厳密には連続とみなした）曲線を描くものです。"
      ]
    },
    {
      "cell_type": "code",
      "source": [
        "# 連続曲線\n",
        "\n",
        "# フライトの乗降客数の時系列データ\n",
        "df = sns.load_dataset('flights')\n",
        "\n",
        "# x軸のデータを指定\n",
        "x = np.arange(df.shape[0])\n",
        "\n",
        "# y軸のデータを指定\n",
        "y = df['passengers']\n",
        "\n",
        "# グラフの大きさを指定\n",
        "plt.figure(figsize=(15, 4.5))\n",
        "\n",
        "# label=とlegendでラベルをつけることが可能\n",
        "plt.plot(x, y, label='Number of passengers')\n",
        "plt.legend(fontsize=20)\n",
        "\n",
        "# ラベルを指定すると同時にフォントサイズも変更\n",
        "plt.title('Number of Passengers by Elapsed months', fontsize=20)\n",
        "plt.xlabel('Elapsed months since Jan 1949', fontsize=20)\n",
        "plt.ylabel('Number of passengers', fontsize=20)\n",
        "\n",
        "# 目盛りのフォントサイズを変更\n",
        "plt.xticks(fontsize=20)\n",
        "plt.yticks(fontsize=20)\n",
        "\n",
        "plt.grid(True)"
      ],
      "metadata": {
        "id": "yJRba2eLhMgX"
      },
      "execution_count": null,
      "outputs": []
    },
    {
      "cell_type": "markdown",
      "metadata": {
        "id": "Jf7xUR7Ts_1i"
      },
      "source": [
        "### 4-1.2.2 グラフの分割\n",
        "\n",
        "`Subplot`を使うと、グラフを複数に分けることができます。以下は、2行1列のグラフを作成し、1番目と2番目と番号を指定して表示する例です。なお、`linspace(-10,10,100)`は$-10$から$10$までの数を$100$個に分割した数字リストを取り出すものです。"
      ]
    },
    {
      "cell_type": "code",
      "metadata": {
        "scrolled": false,
        "id": "rN_SW9F5s_1i"
      },
      "source": [
        "# グラフの大きさを指定\n",
        "plt.figure(figsize=(20, 6))\n",
        "\n",
        "# 2行1列のグラフの1つ目\n",
        "plt.subplot(2,1,1)\n",
        "x = np.linspace(-10, 10,100)\n",
        "plt.plot(x, np.sin(x))\n",
        "\n",
        "# 2行1列のグラフの2つ目\n",
        "plt.subplot(2,1,2)\n",
        "y = np.linspace(-10, 10, 1000)\n",
        "plt.plot(y, np.sin(2*y)) \n",
        "\n",
        "plt.grid(True)"
      ],
      "execution_count": null,
      "outputs": []
    },
    {
      "cell_type": "markdown",
      "metadata": {
        "id": "PfvIFxONs_1l"
      },
      "source": [
        "### 4-1.2.3 関数グラフの描画\n",
        "\n",
        "ニュートン法で扱った\n",
        "\n",
        "\\begin{eqnarray}\n",
        "f(x) = x^2 + 2x +1\n",
        "\\end{eqnarray}\n",
        "\n",
        "の二次関数をグラフで表示する例です。このようにグラフにすると、$y=0$ と交わる近辺が$-2.5～0$の範囲であるので、この数値計算しなくても、解がおおよそ、この範囲にあることがわかります。"
      ]
    },
    {
      "cell_type": "code",
      "metadata": {
        "id": "Wz1_x9pgs_1l"
      },
      "source": [
        "# 関数の定義（Scipyで使った二次関数の例と同じ）\n",
        "def my_function(x):\n",
        "    return x ** 2 + 2 * x + 1\n",
        "\n",
        "x = np.arange(-10, 10)\n",
        "plt.figure(figsize = (16, 4))\n",
        "plt.plot(x, my_function(x))\n",
        "plt.grid(True)"
      ],
      "execution_count": null,
      "outputs": []
    },
    {
      "cell_type": "markdown",
      "source": [
        "### 4-1.2.4 グラフの日本語化\n",
        "\n",
        "matplotlibはデフォルトでは日本語を扱うことができません。  \n",
        "次のように日本語によるラベル指定が含まれるコードを実行すると、多数の警告文が表示されるとともに、出力されたグラフをよく見るとラベルが文字化けを起こしてしまっています。  \n",
        "`【以下のコードは警告文の表示を伴うコードです】`"
      ],
      "metadata": {
        "id": "u3IJipSHmP4l"
      }
    },
    {
      "cell_type": "code",
      "source": [
        "import seaborn as sns\n",
        "df = sns.load_dataset('iris')\n",
        "\n",
        "# x軸・y軸のデータをそれぞれ指定\n",
        "x = df['sepal_length']\n",
        "y = df['petal_width']\n",
        "\n",
        "# グラフの描写\n",
        "plt.scatter(x, y)\n",
        "\n",
        "# 各ラベルを指定\n",
        "plt.title('アヤメのがく片の長さと花弁の幅の関係')\n",
        "plt.xlabel('がく片の長さ')\n",
        "plt.ylabel('花弁の幅')"
      ],
      "metadata": {
        "id": "ucSfnVBAuhga"
      },
      "execution_count": null,
      "outputs": []
    },
    {
      "cell_type": "markdown",
      "source": [
        "そこで、日本語のラベルを追加したい場合には専用の追加モジュールを導入します。"
      ],
      "metadata": {
        "id": "pJXqgGLuulPK"
      }
    },
    {
      "cell_type": "code",
      "source": [
        "# matplotlib日本語化モジュールをまず実行環境にインストールする。\n",
        "!pip install japanize-matplotlib"
      ],
      "metadata": {
        "id": "OVVJwpaumiXa"
      },
      "execution_count": null,
      "outputs": []
    },
    {
      "cell_type": "code",
      "source": [
        "# インストールが済んだら、モジュールをインポートする。\n",
        "import japanize_matplotlib"
      ],
      "metadata": {
        "id": "sg6GgMC2EA7o"
      },
      "execution_count": null,
      "outputs": []
    },
    {
      "cell_type": "markdown",
      "source": [
        "上記のコマンドでインストールとインポートが完了すると、次のように日本語表示が可能になります。"
      ],
      "metadata": {
        "id": "lO2zzFqZsWCf"
      }
    },
    {
      "cell_type": "code",
      "source": [
        "# 先ほどと同じコード\n",
        "df = sns.load_dataset('iris')\n",
        "x = df['sepal_length']\n",
        "y = df['petal_width']\n",
        "\n",
        "# グラフの描写\n",
        "plt.scatter(x, y)\n",
        "\n",
        "# 各ラベルを指定\n",
        "plt.title('アヤメのがく片の長さと花弁の幅の関係')\n",
        "plt.xlabel('がく片の長さ')\n",
        "plt.ylabel('花弁の幅')"
      ],
      "metadata": {
        "id": "k_80gKwqqnek"
      },
      "execution_count": null,
      "outputs": []
    },
    {
      "cell_type": "markdown",
      "source": [
        "### Appendix: グラフの描画にSeabornを組み合わせる\n",
        "\n",
        "`Seaborn`は`Matplotlib`をベースにした可視化ライブラリで、より魅力的な描画を可能にするだけでなく、利便性の面でも`Matplotlib`を補う機能を持つ多彩なAPIが用意されています。  \n",
        "例えば上記のコードのうち、グラフ描画を行う関数である`scatter関数`を、`Seaborn`の散布図描画関数である`scatterplot関数`に置き換えてみます。  \n",
        "`Seaborn`のグラフ描画関数には非常に便利な引数「`hue`」が用意されており、ここに色分けを行う基準としたいカテゴリカル変数のカラムを指定するだけで、次のようにカテゴリごとの分布比較を容易に行うことができます。  \n",
        "グラフ描画関数以外の関数は、そのまま`Matplotlib`の関数を流用できる点も要注目です。知識的な面での互換性が高いため、併せて覚えておくと効率的にグラフの表現手段を増やすことができるでしょう。"
      ],
      "metadata": {
        "id": "KVQzQPUNEPfo"
      }
    },
    {
      "cell_type": "code",
      "source": [
        "# 先ほどと同じコード\n",
        "df = sns.load_dataset('iris')\n",
        "x = df['sepal_length']\n",
        "y = df['petal_width']\n",
        "\n",
        "# グラフの描写（ここだけが先ほどのコードと異なり、Seabornの関数を使っています。）\n",
        "sns.scatterplot(x=x, y=y, hue=df['species'])\n",
        "\n",
        "# Matplotlibと同じ書き方ができることを強調するため上記の書き方を示しましたが、Seabornでは下記の方がより一般的な書き方です（どちらでも結果は同じ）。\n",
        "#sns.scatterplot(data=df, x='sepal_length', y='petal_width', hue='species')\n",
        "\n",
        "# 先ほどと同じコード\n",
        "plt.title('アヤメのがく片の長さと花弁の幅の関係')\n",
        "plt.xlabel('がく片の長さ')\n",
        "plt.ylabel('花弁の幅')"
      ],
      "metadata": {
        "id": "7FH68dlpDeuo"
      },
      "execution_count": null,
      "outputs": []
    },
    {
      "cell_type": "markdown",
      "metadata": {
        "id": "5pEseNa9s_1o"
      },
      "source": [
        "### 4-1.2.5 ヒストグラム\n",
        "\n",
        "次のグラフは、ヒストグラムと言われ、それぞれの値の**度数**（値が出現する回数）を示します。データの全体像を観察するときに使われる図です。データ分析では、このグラフを見て、どんな数値が多いのか、少ないのか、偏りがあるのかないのかを読み解きます。\n",
        "\n",
        "下記のように`hist`メソッドを使うと、ヒストグラムを描けます。括弧内に指定しているパラメータは、先頭から順に、「対象となるデータ」「ビンの数（幅、個数）」「範囲」です。"
      ]
    },
    {
      "cell_type": "code",
      "metadata": {
        "id": "q07eZCVrs_1o"
      },
      "source": [
        "# グラフの大きさ指定\n",
        "plt.figure(figsize = (12, 4))\n",
        "\n",
        "# x軸のラベルを指定\n",
        "plt.xlabel('がく片の長さ', fontsize=15)\n",
        "\n",
        "# ヒストグラムの描写\n",
        "plt.hist(x=df['sepal_length'], bins=25, range=(4.5, 7.5))\n",
        "\n",
        "# Seabornで描写する場合\n",
        "#sns.histplot(data=df, x='sepal_length', bins=25, binrange=(4.5, 7.5))\n",
        "\n",
        "# 目盛りのフォントサイズを変更\n",
        "plt.xticks(fontsize=20)\n",
        "plt.yticks(fontsize=20)"
      ],
      "execution_count": null,
      "outputs": []
    },
    {
      "cell_type": "markdown",
      "metadata": {
        "id": "qVb5k_xzs_1q"
      },
      "source": [
        "`hist`メソッドには他にも、さまざまなパラメータがあります。次のように「?」を使うと、利用できるパラメータを確認できます。"
      ]
    },
    {
      "cell_type": "code",
      "metadata": {
        "id": "IkPqFcE1s_1r"
      },
      "source": [
        "?plt.hist"
      ],
      "execution_count": null,
      "outputs": []
    },
    {
      "cell_type": "markdown",
      "metadata": {
        "id": "vnP4smhSs_1t"
      },
      "source": [
        "また、`help`を使うと、どのような機能であるかを確認することもできます。`?`はJupyter環境（より正確にはIPython）独自の機能ですが、`help`はPythonの標準機能です。"
      ]
    },
    {
      "cell_type": "code",
      "metadata": {
        "id": "OQYU-iIMs_1t"
      },
      "source": [
        "help(plt.hist)"
      ],
      "execution_count": null,
      "outputs": []
    },
    {
      "cell_type": "markdown",
      "metadata": {
        "id": "zGWZ3lVLs_1v"
      },
      "source": [
        "#### <練習問題 4-1-1>\n",
        "\n",
        "$y = 5x + 3$ （$x$は$-10$から$10$の値）のグラフを描いてみましょう。"
      ]
    },
    {
      "cell_type": "markdown",
      "metadata": {
        "id": "5ZTrm6gYs_1w"
      },
      "source": [
        "#### <練習問題 4-1-2>\n",
        "\n",
        "「$y = sin(x)$」と「$y = cos(x)$」のグラフを重ねて描いてください（$x$は-10から10の値）"
      ]
    },
    {
      "cell_type": "markdown",
      "metadata": {
        "id": "PLlPtSnhs_1w"
      },
      "source": [
        "#### <練習問題 4-1-3>\n",
        "\n",
        "0から1の値をとる一様乱数を1,000個、2組発生させて、それぞれのヒストグラムを描いてみましょう。\n",
        "\n",
        "なお、それぞれのヒストグラムを別のグラフに表示するために、`plt.subplot`を利用してください。また、ここで一様乱数とは、ある数から別のある数まで等確率で発生する乱数のことをいい、`np.random.uniform`を使います。たとえば、0から1までの数を10個発生させる場合は、`np.random.uniform(0.0, 1.0, 10)`とします。\n",
        "\n",
        "また、1,000個だけではなく、100個や10,000個などでも実施してみましょう。何かわかることはありますか。"
      ]
    },
    {
      "cell_type": "markdown",
      "metadata": {
        "id": "yJCjgbfLs_1w"
      },
      "source": [
        "### おまけ問題：モンテカルロ法\n",
        "\n",
        "乱数を発生させる方法を使って、円周率を求めるプログラムを作成してみましょう。なお、このアプローチを**モンテカルロ法**といいます。\n",
        "\n",
        "（1）区間`[0,1)`上の一様分布に従う乱数を2組発生させて、それぞれ10,000個の一様乱数を作ってみましょう。\n",
        "なお、一様乱数とは、ある数から数まで等確率で発生する乱数のことです。`np.random.uniform`を使います。たとえば、`np.random.uniform(0.0, 1.0, 10)`とすると、0～1の範囲の一様乱数を10個発生できます。\n",
        "\n",
        "（2）$x−y$軸を使った中心$(0,0)$、半径1の円と、長さ1の正方形を考えます。このとき円の面積は$\\pi$となり、正方形の面積は1となります。ここで先ほどの$x$と$y$の組み合わせの乱数10000個のうち、円の内部に入る点は何組あるでしょうか。\n",
        "\n",
        "ここで、円の内部に入るとは、$x−y$座標の原点から点$ (x, y) $のベクトルの長さを求め、それが1より小さくなる場合を判定基準とします。その長さを求めるために、ユークリッドノルム($\\sqrt{x^2 + y^2}$)を使います。Pythonでは、 `math.hypot(x,y)`で計算できます。さらに余裕があれば、円の中に入った$x$と$y$の組み合わせと外に出た$x$と$y$の組み合わせをプロットして図にしてみましょう。\n",
        "\n",
        "\n",
        "（3）半径1の1/4の円の面積と長さ1の正方形の面積との比は、$ \\pi /4 : 1$となりますので、これと先ほどの結果を利用して、円周率を求めてみましょう。"
      ]
    },
    {
      "cell_type": "markdown",
      "metadata": {
        "id": "41O89NYps_1x"
      },
      "source": [
        "### 4-1.2.6 棒グラフ"
      ]
    },
    {
      "cell_type": "markdown",
      "metadata": {
        "id": "zu-mMcqgs_1x"
      },
      "source": [
        "次は、棒グラフです。これは、カテゴリーごと（地域別、部門別など）に数値を比較したいときに使います。棒グラフを表示するには、pyplotモジュールの`bar`関数を使います。棒にラベルを表示したいときは、`xtick`関数を使って以下のように指定します。\n",
        "\n",
        "また、そのまま実行するとグラフが左に寄ってあまり見栄えが良くないので、グラフを中央に寄せるために、`align = 'center'`パラメータを指定するとよいでしょう。$x$のラベルや$y$のラベルの付け方は、2章で説明した通りです。"
      ]
    },
    {
      "cell_type": "code",
      "metadata": {
        "id": "rJs4eqHcs_1y"
      },
      "source": [
        "# 表示するデータ\n",
        "x = [1, 2, 3]\n",
        "y = [10, 1, 4]\n",
        "\n",
        "# グラフの大きさ指定  \n",
        "plt.figure(figsize = (10, 6))\n",
        "\n",
        "plt.bar(x, y, align='edge', width = 0.5)\n",
        "\n",
        "# 棒グラフそれぞれのラベル\n",
        "plt.xticks(x, ['A Class', 'B Class', 'C Class'])\n",
        "\n",
        "# xとyのラベルを設定\n",
        "plt.xlabel('Class')\n",
        "plt.ylabel('Score')\n",
        "\n",
        "# グリッドを表示\n",
        "plt.grid(True)"
      ],
      "execution_count": null,
      "outputs": []
    },
    {
      "cell_type": "markdown",
      "metadata": {
        "id": "9ZN9gwzGs_10"
      },
      "source": [
        "#### 横の棒グラフ\n",
        "先ほどは縦の棒グラフでしたが、横にしたい場合は、`barh`関数を使います。なお、$x$の軸と$y$の軸が入れかわるので、ラベルを再設定しています。"
      ]
    },
    {
      "cell_type": "code",
      "metadata": {
        "id": "p4haJt3Bs_10"
      },
      "source": [
        "# 表示するデータ\n",
        "x = [1, 2, 3]\n",
        "y = [10, 1, 4]\n",
        "\n",
        "# グラフの大きさ指定 \n",
        "plt.figure(figsize = (10, 6))\n",
        "\n",
        "plt.barh(x, y, align = 'center')\n",
        "plt.yticks(x, ['A Class','B Class','C Class'])\n",
        "plt.ylabel('Class')\n",
        "plt.xlabel('Score')\n",
        "plt.grid(True)"
      ],
      "execution_count": null,
      "outputs": []
    },
    {
      "cell_type": "markdown",
      "metadata": {
        "id": "sdVGbHJ7s_13"
      },
      "source": [
        "#### 複数のグラフを描く\n",
        "\n",
        "次に複数の棒グラフを描き、それぞれ比較してみましょう。以下は、クラスごとに数学の一期目の成績と最終成績をそれぞれグラフ化し、比較できるようにしたものです。"
      ]
    },
    {
      "cell_type": "code",
      "metadata": {
        "id": "b6Gr3pfys_13"
      },
      "source": [
        "# データの準備\n",
        "y1 = np.array([30, 10, 40])\n",
        "y2 = np.array([10, 50, 90])\n",
        "\n",
        "# X軸のデータ\n",
        "x = np.arange(len(y1))\n",
        "\n",
        "# グラフの幅\n",
        "w = 0.4\n",
        "\n",
        "# グラフの大きさ指定\n",
        "plt.figure(figsize = (10, 6))\n",
        "\n",
        "# グラフの描画。y2の方はグラフの幅の分、右にずらして描画する \n",
        "plt.bar(x, y1, color = 'blue', width = w, label = 'Math first', align = 'center')\n",
        "plt.bar(x + w, y2, color='green', width = w, label = 'Math final', align = 'center')\n",
        "\n",
        "# 凡例を最適な位置に配置\n",
        "plt.legend(loc = 'best')\n",
        "\n",
        "plt.xticks(x + w / 2, ['Class A', 'Class B', 'Class C'])\n",
        "plt.grid(True)"
      ],
      "execution_count": null,
      "outputs": []
    },
    {
      "cell_type": "markdown",
      "metadata": {
        "id": "exy3mKwcs_15"
      },
      "source": [
        "#### 積み上げ棒グラフ\n",
        "\n",
        "次に示すのは、積み上げの棒グラフの例です。同じく`bar`関数を使っていますが、`bottom`パラメータの設定に注目してください。上に積む方のグラフで、`bar`のパラメータとしてbottom=＜下に積むグラフ＞を指定します。"
      ]
    },
    {
      "cell_type": "code",
      "metadata": {
        "id": "X0w4lP5Ls_15"
      },
      "source": [
        "# データの準備\n",
        "height1 = np.array([100, 200, 300, 400, 500])\n",
        "height2 = np.array([1000, 800, 600, 400, 200])\n",
        "\n",
        "# X軸\n",
        "x = np.array([1, 2, 3, 4, 5]) \n",
        "\n",
        "# グラフの大きさ指定 \n",
        "plt.figure(figsize = (10, 6))\n",
        "\n",
        "# グラフの描画\n",
        "p1 = plt.bar(x, height1, color = 'blue')\n",
        "p2 = plt.bar(x, height2, bottom = height1, color='lightblue')\n",
        "\n",
        "# 凡例を表示 \n",
        "plt.legend((p1[0], p2[0]), ('Class 1', 'Class 2'))"
      ],
      "execution_count": null,
      "outputs": []
    },
    {
      "cell_type": "markdown",
      "metadata": {
        "id": "DGSj6PyNs_17"
      },
      "source": [
        "なお、すでに説明していますが、関数のパラメータ等は、`help`関数を使うと調べられます。"
      ]
    },
    {
      "cell_type": "code",
      "metadata": {
        "id": "zD2L_aF7s_18"
      },
      "source": [
        "help(plt.legend)"
      ],
      "execution_count": null,
      "outputs": []
    },
    {
      "cell_type": "markdown",
      "metadata": {
        "id": "C1_rkJOMs_1-"
      },
      "source": [
        "### 4-1.2.7 円グラフ\n",
        "次に、円グラフの描き方を説明します。これは、全体に対する割合が各々どれくらいあるのか見るときに使います。\n",
        "\n",
        "#### 一般的な円グラフ\n",
        "円グラフを描くには`pie`関数を使って、それぞれのサイズやラベル等を設定します。`axis`関数で円グラフを丸く表示するように調整します。`autopct`パラメータでそれぞれの割合を表示する書式を指定します。また`explode`パラメータを指定すると、特定のカテゴリーだけ、円グラフの全体から離す調整ができます（ここでは、`Hogs`だけ0.1に設定しています）。\n",
        "\n",
        "`startangle`パラメータは、各要素の出力を開始する角度を表します。このパラメータを指定することで、出力開始位置を変更でき、「90」と指定すると上部中央が開始位置になります。反時計回りの方向に変更したい場合は正の値、時計回りに変更したい場合は負の値を指定します。\n",
        "\n",
        "出力する向きは`counterclock`パラメータで指定します。`True`または指定しない場合は反時計回りに、`False`と指定すると時計回りに出力されます。\n"
      ]
    },
    {
      "cell_type": "code",
      "metadata": {
        "id": "JFmVmDJFs_1-"
      },
      "source": [
        "import matplotlib.pyplot as plt\n",
        "\n",
        "labels = ['Frogs', 'Hogs', 'Dogs', 'Logs']\n",
        "sizes = [15, 30, 45, 10]\n",
        "colors = ['yellowgreen', 'gold', 'lightskyblue', 'lightcoral']\n",
        "explode = (0, 0.1, 0, 0) \n",
        "\n",
        "# グラフの大きさ指定\n",
        "plt.figure(figsize = (15, 6))\n",
        "\n",
        "# グラフを表示\n",
        "plt.pie(sizes, explode = explode, labels = labels, colors = colors,\n",
        "        autopct = '%1.1f%%', shadow = True, startangle = 90)\n",
        "\n",
        "# 円を丸く描画\n",
        "plt.axis('equal')"
      ],
      "execution_count": null,
      "outputs": []
    },
    {
      "cell_type": "markdown",
      "metadata": {
        "id": "KZDYs6CVs_2A"
      },
      "source": [
        "`pie`関数のパラメータも、次のように`help`関数で確認できます。"
      ]
    },
    {
      "cell_type": "code",
      "metadata": {
        "scrolled": true,
        "id": "Y4eZ2Imss_2B"
      },
      "source": [
        "help(plt.pie)"
      ],
      "execution_count": null,
      "outputs": []
    },
    {
      "cell_type": "markdown",
      "metadata": {
        "id": "6hd-f8fhs_2D"
      },
      "source": [
        "#### バブルチャート\n",
        "次に`scatter`関数を使って、バブルチャートを作成してみます。"
      ]
    },
    {
      "cell_type": "code",
      "metadata": {
        "id": "FeCG8mIbs_2D"
      },
      "source": [
        "import numpy as np\n",
        "import matplotlib.pyplot as plt\n",
        "\n",
        "N = 25\n",
        "\n",
        "# X,Yデータをランダムに生成 \n",
        "x = np.random.rand(N)\n",
        "y = np.random.rand(N)\n",
        "\n",
        "# color番号\n",
        "colors = np.random.rand(N)\n",
        "\n",
        "# バブルの大きさをばらけさせる \n",
        "area = 10 * np.pi * (15 * np.random.rand(N)) ** 2\n",
        "\n",
        "# グラフの大きさ指定\n",
        "plt.figure(figsize = (15, 6))\n",
        "\n",
        "# グラフを描画\n",
        "plt.scatter(x, y, s = area, c = colors, alpha = 0.5)\n",
        "plt.grid(True)"
      ],
      "execution_count": null,
      "outputs": []
    },
    {
      "cell_type": "markdown",
      "metadata": {
        "id": "hdoReQ4qs_2F"
      },
      "source": [
        "`scatter`関数のパラメータも`help`を使って確認しましょう。"
      ]
    },
    {
      "cell_type": "code",
      "metadata": {
        "id": "qHVHD1JYs_2G"
      },
      "source": [
        "help(plt.scatter)"
      ],
      "execution_count": null,
      "outputs": []
    },
    {
      "cell_type": "markdown",
      "metadata": {
        "id": "BkeNjhUls_2I"
      },
      "source": [
        "なお、Pandasにも可視化機能が備わっており、`plot`メソッドでグラフ化できます。たとえばデータの後に「`.plot(kind='bar')`」と記すと、縦の棒グラフが描けます。「`kind='barh'`」にすれば横の棒グラフ、「`kind='pie'`」にすれば円グラフとなります。必要なときに使ってください。\n",
        "また本節の練習問題以外にも、以前扱ったデータを使って、色々とグラフ化できるので、実際にどのようなグラフができるか、作成してみましょう。"
      ]
    },
    {
      "cell_type": "markdown",
      "metadata": {
        "id": "ZjeZ8a-Ws_2I"
      },
      "source": [
        ">**[やってみよう]**\n",
        ">\n",
        ">以下の練習問題以外にもデータを色々とグラフ化してみましょう。どのような目的を持って、どんなグラフを作成しますか?"
      ]
    },
    {
      "cell_type": "markdown",
      "metadata": {
        "id": "XGe3M8Eis_2J"
      },
      "source": [
        "これまでデータの可視化についてPythonの機能を紹介・実行してきましたが、データ分析やデータの可視化が注目されている現在、さまざまなデータ可視化ツール（Tableau 、Excel、PowerBIなど）があるため、ビジネスの現場ではそれらを使う場面が多くなっており、Pythonや他のプログラミング言語で可視化する機会は減っていきそうな雰囲気はあります。\n",
        "\n",
        "しかし可視化レポートの自動化、アプリケーションとの連携、可視化の細かい設定などはプログラミングをした方が柔軟に対応できるケースもあります。そういった用途でデータの可視化を行うときはぜひ活用してください。"
      ]
    },
    {
      "cell_type": "markdown",
      "metadata": {
        "id": "8Sb3vetos_2J"
      },
      "source": [
        "#### <練習問題 4-1-4>\n",
        "\n",
        "数学の成績を示すデータである「student-mat.csv」を使って、学校を選んだ理由（`reason`）を円グラフ化して、それぞれの割合を出してください。\n",
        "「student-mat.csv」は下記リンク内に存在します。\n",
        "\n",
        "https://archive.ics.uci.edu/ml/machine-learning-databases/00356/student.zip\n",
        "\n",
        "読み込むためには、以下のセルを実行してください。"
      ]
    },
    {
      "cell_type": "code",
      "metadata": {
        "id": "ee1GdGV8s_2J"
      },
      "source": [
        "# データがあるurlの指定\n",
        "url = 'https://archive.ics.uci.edu/ml/machine-learning-databases/00356/student.zip'\n",
        "\n",
        "# データをurlから取得\n",
        "r = requests.get(url, stream=True)\n",
        "\n",
        "# zipfile内のstudent-mat.csvをカレントディレクトリ内のdataディレクトリに展開\n",
        "with zipfile.ZipFile(io.BytesIO(r.content)) as existing_zip:\n",
        "    existing_zip.extract('student-mat.csv', 'data')"
      ],
      "execution_count": null,
      "outputs": []
    },
    {
      "cell_type": "code",
      "metadata": {
        "id": "XzLCWmt7s_2M"
      },
      "source": [
        "# csvfileが存在するディレクトリ\n",
        "data_dir = './data'\n",
        "\n",
        "# data_dir内のファイルを確認\n",
        "os.listdir(data_dir)"
      ],
      "execution_count": null,
      "outputs": []
    },
    {
      "cell_type": "code",
      "metadata": {
        "id": "36vYZhtDs_2O"
      },
      "source": [
        "# student-mat.csvのpathを取得\n",
        "path = os.path.join(data_dir, 'student-mat.csv')"
      ],
      "execution_count": null,
      "outputs": []
    },
    {
      "cell_type": "markdown",
      "metadata": {
        "id": "7IvoNZWHs_2Q"
      },
      "source": [
        "#### <練習問題 4-1-5>\n",
        "\n",
        "上記と同じデータで、`higher` (高い教育を受けたいかどうか。値は`yes`か`no`）を軸にして、それぞれの数学の最終成績G3の平均値を棒グラフで表示してください。ここから何か推測できることはありますか？"
      ]
    },
    {
      "cell_type": "markdown",
      "metadata": {
        "id": "PN90KGtVs_2Q"
      },
      "source": [
        "#### <練習問題 4-1-6>\n",
        "\n",
        "上記と同じデータで、通学時間（`traveltime`）を軸にして、それぞれの数学の最終成績G3の平均値を横棒グラフで表示してください。何か推測できることはありますか？"
      ]
    },
    {
      "cell_type": "markdown",
      "metadata": {
        "id": "1WvIxucbs_2R"
      },
      "source": [
        "### コラム さまざまなデータのビジュアル化\n",
        "\n",
        "データのビジュアル化は、Python以外にも、さまざまなプログラミング言語、ライブラリで実現されており、Pythonでグラフ化するときの参考にもなります。\n",
        "たとえばJavaScriptには、さまざまな図を描ける「D3.js」というライブラリがあり人気です。これはPythonとは関係なくJavaScriptで使うものですが、データを多方向から見せてビジュアル化するという意味では勉強になります。\n"
      ]
    },
    {
      "cell_type": "markdown",
      "metadata": {
        "id": "c7kATHwJs_2R"
      },
      "source": [
        "![dd](http://visualisingadvocacy.org/sites/visualisingadvocacy.org/files/D3-index.jpg)"
      ]
    },
    {
      "cell_type": "markdown",
      "metadata": {
        "id": "j2YFkz-zs_2R"
      },
      "source": [
        "参照：https://d3js.org"
      ]
    },
    {
      "cell_type": "markdown",
      "metadata": {
        "id": "0E3xCsHBs_2S"
      },
      "source": [
        "## 4-1.3 応用：金融データの可視化\n",
        "キーワード：ローソクチャート"
      ]
    },
    {
      "cell_type": "markdown",
      "metadata": {
        "id": "bTeVjSaas_2S"
      },
      "source": [
        "ここでは、金融データの可視化について扱っていきます。ただし、応用範囲ですので、スキップしても問題ありません。練習問題もありません。"
      ]
    },
    {
      "cell_type": "markdown",
      "metadata": {
        "id": "PqcJWirrs_2S"
      },
      "source": [
        "### 4-1.3.1 可視化する金融データ"
      ]
    },
    {
      "cell_type": "markdown",
      "metadata": {
        "id": "gNyRWHeYs_2T"
      },
      "source": [
        "この節では、次に示す金融データの可視化を考えます。"
      ]
    },
    {
      "cell_type": "code",
      "source": [
        "import pandas as pd\n",
        "import numpy as np"
      ],
      "metadata": {
        "id": "1iSJ_HhhDAFw"
      },
      "execution_count": null,
      "outputs": []
    },
    {
      "cell_type": "code",
      "metadata": {
        "id": "S2tOWZufs_2T"
      },
      "source": [
        "# 日付データの設定。freq='T'で1分ごとにデータを生成する\n",
        "idx = pd.date_range('2015/01/01', '2015/12/31 23:59', freq='T')\n",
        "\n",
        "# 乱数の発生。１か−１を発生させる\n",
        "dn = np.random.randint(2, size = len(idx)) * 2 - 1\n",
        "\n",
        "# ランダムウォーク（ランダムに数値が増減するデータ）を作成\n",
        "# np.cumprodは累積積を算出している（1番目の要素 * 2番目の要素 * 3番目の要素 * … と積が累積されていく）\n",
        "rnd_walk = np.cumprod(np.exp(dn * 0.0002)) * 100\n",
        "\n",
        "# resample('B')でデータを営業日単位でリサンプリング。\n",
        "# ohlcメソッドで「open」「high」「low」「close」の4つのデータにする。\n",
        "df = pd.Series(rnd_walk, index=idx).resample('B').ohlc()"
      ],
      "execution_count": null,
      "outputs": []
    },
    {
      "cell_type": "markdown",
      "metadata": {
        "id": "ueYZndKZs_2V"
      },
      "source": [
        "そのままプロットすると、以下のようになります。なお、ここではPandasの可視化機能を使っています。数値はランダムに生成しているので、実際には紙面とは異なる形のグラフになります。"
      ]
    },
    {
      "cell_type": "code",
      "metadata": {
        "scrolled": true,
        "id": "QHQ_nT5ds_2V"
      },
      "source": [
        "df.plot(figsize = (15,6), legend = 'best', grid = True)"
      ],
      "execution_count": null,
      "outputs": []
    },
    {
      "cell_type": "markdown",
      "metadata": {
        "id": "HQHQz0mss_2Y"
      },
      "source": [
        "### 4-1.3.2 ローソクチャートを表示するライブラリ"
      ]
    },
    {
      "cell_type": "markdown",
      "metadata": {
        "id": "ZuyC6tVys_2Z"
      },
      "source": [
        "このグラフをローソクチャートとして表示してみましょう。\n",
        "そのためには、Plotlyライブラリが必要です。Jupyter Notebookのセルに「!pip install plotly」と入力して［Run］を実行し、インストールしておいてださい。\n",
        "\n",
        "\n",
        "ローソクチャートの表示に関しては、参考URL「B-23」も参考にしてください。\n"
      ]
    },
    {
      "cell_type": "code",
      "metadata": {
        "id": "77d6m3dKs_2Z"
      },
      "source": [
        "!pip install plotly "
      ],
      "execution_count": null,
      "outputs": []
    },
    {
      "cell_type": "markdown",
      "metadata": {
        "id": "gIADBEQbs_2b"
      },
      "source": [
        "Plotlyライブラリのローソクチャート作成の機能を使えば、以下のように綺麗に表示することができます。インタラクティブにグラフをズームインすることもできますし、カーソルを載せると数字が表示され便利です。"
      ]
    },
    {
      "cell_type": "code",
      "metadata": {
        "id": "M_SDFNGBs_2c"
      },
      "source": [
        "# plotly モジュールのインポート\n",
        "from plotly.offline import init_notebook_mode, iplot\n",
        "from plotly import figure_factory as FF\n",
        "\n",
        "# Jupyter notebook用設定\n",
        "init_notebook_mode(connected=False) \n",
        "\n",
        "# Colaboratory用設定\n",
        "def configure_plotly_browser_state():\n",
        "  import IPython\n",
        "  display(IPython.core.display.HTML('''\n",
        "        <script src=\"/static/components/requirejs/require.js\"></script>\n",
        "        <script>\n",
        "          requirejs.config({\n",
        "            paths: {\n",
        "              base: '/static/base',\n",
        "              plotly: 'https://cdn.plot.ly/plotly-latest.min.js?noext',\n",
        "            },\n",
        "          });\n",
        "        </script>\n",
        "        '''))\n",
        "configure_plotly_browser_state()\n",
        "\n",
        "# ローソクチャートの設定\n",
        "fig = FF.create_candlestick(df.open, df.high, df.low, df.close, dates = df.index)\n",
        "iplot(fig)"
      ],
      "execution_count": null,
      "outputs": []
    },
    {
      "cell_type": "markdown",
      "metadata": {
        "id": "td7yoRG2s_2m"
      },
      "source": [
        "参考文献「A-16」もご覧ください。PythonではなくJavaScriptのものもありますが、データを可視化するのに参考となります。『PythonユーザのためのJupyter［実践］入門』はJupyter Notebookの使い方について詳しく記載があり、データの可視化についてのコンテンツが充実しています。"
      ]
    },
    {
      "cell_type": "markdown",
      "source": [
        "## Appendix:  EDAを自動化する様々なライブラリ\n",
        "\n",
        "EDAを行うためには分析を重ねながら多数の可視化作業を行うことが必要になりますが、そうした作業のうち、定型的な部分については自動化してしまうことによって作業効率を高めるライブラリも多数提案されています。  \n",
        "以下にそのようなライブラリの一例をご紹介します。ここでは詳しくは扱いませんが、関心に応じて自ら公式ドキュメントを閲覧し、使い方を調べてみてください。  \n",
        "また、ここでご紹介するのは比較的機能をシンプルなものに絞った簡易なものですが、より広範な機能を備えたライブラリも多数提案されています。  \n",
        "重要なことは、個別のライブラリに習熟することではなく、こうした便利なツールは日々新たなものが提案されていますので、アンテナを高くし、より効率性と有効性の高い手法を常時キャッチアップしていくことです。"
      ],
      "metadata": {
        "id": "YCTzxZxAMh0M"
      }
    },
    {
      "cell_type": "markdown",
      "source": [
        "簡易な自動化EDAツールである「Pandas-Profiling」というライブラリを紹介します。  \n",
        "このような比較的メジャーではないライブラリはGoogleColabのインストール済みリストの中に入っていませんので、まずはpip installを実行します。  \n",
        "`【以下のコードは警告文の表示を伴うコードです】`"
      ],
      "metadata": {
        "id": "y420-kjbPaIn"
      }
    },
    {
      "cell_type": "code",
      "source": [
        "# Pandas-Profilingをインストール\n",
        "!pip install https://github.com/ydataai/pandas-profiling/archive/master.zip\n",
        "\n",
        "# Pandas-Profilingの依存関係パッケージのダウングレード\n",
        "!pip install markupsafe==2.0.1"
      ],
      "metadata": {
        "id": "cMOA4kzlO1qD"
      },
      "execution_count": null,
      "outputs": []
    },
    {
      "cell_type": "markdown",
      "source": [
        "上記コードを実行するといくつかの警告メッセージが表示されますが、その中に「ランタイムを再起動してください」という旨のメッセージが表示される場合があります。  \n",
        "この場合には、GoogleColabのメニューバーから「ランタイム」→「ランタイムを再起動」を選択します。  \n",
        "ランタイムが再起動したら、引き続き以下のコードを実行していきます。"
      ],
      "metadata": {
        "id": "xdJXwx0wgzi8"
      }
    },
    {
      "cell_type": "code",
      "source": [
        "# ここではカリフォルニアの不動産データセットを事例とします。\n",
        "import pandas as pd\n",
        "from sklearn.datasets import fetch_california_housing\n",
        "CH = fetch_california_housing()\n",
        "df = pd.DataFrame(CH.data, columns= CH.feature_names)\n",
        "df['MedHouseVal'] = CH.target\n",
        "df.head(3)"
      ],
      "metadata": {
        "id": "znI6DpmQRyQu"
      },
      "execution_count": null,
      "outputs": []
    },
    {
      "cell_type": "code",
      "source": [
        "# 先ほどインストールしたPandas-Profilingをインポート\n",
        "from pandas_profiling import ProfileReport\n",
        "# Pandas-ProfilingにパッケージされているProfileReport関数の引数に、EDAを行いたいDataFrame形式のデータを渡す。\n",
        "profile_df = ProfileReport(df, explorative=True)\n",
        "# これを実行するとカレントディレクトリに可視化レポートのファイルが自動保存される。\n",
        "profile_df.to_file(\"profile_df.html\")\n",
        "# 可視化レポートを確認する。\n",
        "profile_df"
      ],
      "metadata": {
        "id": "qhAmIK23SdfV"
      },
      "execution_count": null,
      "outputs": []
    },
    {
      "cell_type": "markdown",
      "source": [
        "問題なく実行が完了すると、html形式の可視化レポートが出力されます。  \n",
        "インタラクティブに操作が可能ですので、マウスで操作しながら様々な特徴量同士の関係を分析してみてください。  \n",
        "このレポートによる可視化だけでEDAが完了することはまずありませんが、ある程度定型的な部分を一括で済ませることで、よりクイックに深掘りしていく作業に入っていくことが可能になります。"
      ],
      "metadata": {
        "id": "8itpbKo2FQ4u"
      }
    },
    {
      "cell_type": "markdown",
      "metadata": {
        "id": "03Bfpmlbs_2n"
      },
      "source": [
        "## 4-1.4 応用：分析結果の見せ方を考えよう\n",
        "ゴール：基本的な資料作成の方法を知る、データ分析結果を伝えるためのポイントを知る"
      ]
    },
    {
      "cell_type": "markdown",
      "metadata": {
        "id": "eGYP23oks_2n"
      },
      "source": [
        "これまでは、データ分析に必要なプログラミング技法を中心に、データ処理やそのテクニックについて学んできました。データの可視化についても、データを棒グラフにしたり、折れ線グラフにする方法、ラベルのつけ方など、テクニカルな解説が中心でした。自分自身の理解のために、探索的にデータをチェックするだけであれば、特に体裁は気にせず、デフォルトでグラフ表示される結果を見るだけでよいかもしれません。しかし、データ分析の結果を第三者に伝えるためには、その見せ方を工夫する必要があります。説明的分析ともいいますが、そのデータ分析結果を他人に伝える方法や、その資料作成の方法について、基本的なポイントを以下に記載します。"
      ]
    },
    {
      "cell_type": "markdown",
      "metadata": {
        "id": "VDp3kiHcs_2o"
      },
      "source": [
        "### 4-1.4.1 資料作成のポイントについて\n",
        "キーワード：特になし"
      ]
    },
    {
      "cell_type": "markdown",
      "metadata": {
        "id": "DlMRATy3s_2p"
      },
      "source": [
        "データの分析結果の報告は、今の会社にいる上層部への報告、クライアントへの提案など、さまざまな場面があります。資料作成の方法は、以下で紹介する参考文献などたくさんありますが、次に示す点は共通して大切です。"
      ]
    },
    {
      "cell_type": "markdown",
      "metadata": {
        "id": "_MQkJW76s_2p"
      },
      "source": [
        "- 何のためにデータ分析をして、何を見せたいのかはっきりさせる\n",
        "\n",
        "- そもそもその分析結果を誰に伝えるのか？　を考える\n",
        "\n",
        "- いきなり資料の作成を開始しない、PowerPointを開かない、その前に考える\n",
        "\n",
        "- その結果を見せることで、どんな具体的なアクションを促したいか？\n",
        "\n",
        "- それをやることでどれだけ儲かるか？　コストが下がるのか？\n",
        "\n",
        "- 何を話すのか、目次（アジェンダ）をはっきりさせる（全体像を見せる） \n",
        "\n",
        "- 基本的に結論が先\n",
        "\n",
        "- 情報を入れすぎない、無駄なものは削除\n",
        "\n",
        "- 言いたいことを一言で＋下にその根拠となるデータ（表）の可視化\n",
        "\n",
        "- ストーリーを考える"
      ]
    },
    {
      "cell_type": "markdown",
      "metadata": {
        "id": "zEcC1YZYs_2q"
      },
      "source": [
        "その他、第三者に説明するときに3Dのグラフはあまり使わないほうが良いなどのポイントなどもありますが、それも場面によるので、やはりその結果を誰に見せるのか考えることが大事です。\n",
        "\n",
        "また、先ほども書いたように、データを可視化するのは、Excelや他のツール（Tableauなど）でも良いです。この書籍ではPythonを採用しているのでMatplotlibを使ってグラフ等を表示していますが、ビジネスの現場で無理してMatplotlibを使う必要はありません。データがそれほど大きくない場合、素早くデータを可視化するのにExcelは非常に優れています。ケースバイケースで判断して、ツールを選んでください。"
      ]
    },
    {
      "cell_type": "markdown",
      "metadata": {
        "id": "xd4VEAeds_2r"
      },
      "source": [
        "短いですが、以上が資料作成の基本となる作法になります。本書では、これ以上詳しくは扱いません。\n",
        "以下は参考となる本で、資料を作成する際に読んでみてください。なお、本書は資料作成を主テーマとした本ではないので、テクニカルな技術を身につけるという視点でこのまま解説をしていきます。\n",
        "\n",
        "参考文献「A-17」も参考にしてください。"
      ]
    },
    {
      "cell_type": "markdown",
      "metadata": {
        "id": "QwLlKw9ps_2s"
      },
      "source": [
        "以上でデータ可視化の章は終了です。お疲れ様でした。\n",
        "\n",
        "次の問題は、金融の時系列データとマーケティングの購買データに関する総合問題です。今まで学んだテクニックが活かせる問題です。一部、これまで扱わなかった処理方法もあるので、ヒントなど参考にして、調べながら取り組んでください。\n",
        "初学者にはなかなかハードな問題かもしれませんが、これらの問題に取り組むことで、今まで学んだ技法が役に立つことを実感できるでしょう。"
      ]
    },
    {
      "cell_type": "markdown",
      "metadata": {
        "id": "8-LCgIECs_2s"
      },
      "source": [
        "***"
      ]
    },
    {
      "cell_type": "markdown",
      "metadata": {
        "id": "JX90-0lis_2t"
      },
      "source": [
        "## 4-1.5 総合問題"
      ]
    },
    {
      "cell_type": "markdown",
      "metadata": {
        "id": "K7RehPmrs_2u"
      },
      "source": [
        "### ■総合問題4-1-1 時系列データ分析\n",
        "\n",
        "ここでは、本章で身に付けたPandasやScipyなどを使って、時系列データついて扱っていきましょう。\n",
        "\n",
        "（1）（データの取得と確認）下記のサイトより、dow_jones_index.zipをダウンロードし、含まれている`dow_jones_index.data`を使って、データを読み込み、はじめの5行を表示してください。またデータのそれぞれのカラム情報等を見て、`NaN`などがあるか確認してください。　　\n",
        "\n",
        "https://archive.ics.uci.edu/ml/machine-learning-databases/00312/dow_jones_index.zip　　\n",
        "\n",
        "（2）（データの加工）カラムの`open`、`high`、`low`、`close`等のデータは数字の前に$マークが付いているため、これを取り除いてください。また、日時を`date`型で読み込んでいない場合は、date型に変換しましょう。\n",
        "\n",
        "（3）カラムの`close`について、各`stock`ごとの要約統計量を算出してください。\n",
        "\n",
        "（4）カラムの`close`について、各`stock`の相関を算出する相関行列を出してください。また、`Seaborn`の`heatmap`関数を使って、相関行列のヒートマップを描いてみましょう（ヒント：`Pandas`の`corr`メソッドを使います）。\n",
        "\n",
        "（5）(4)で算出した相関行列の中で一番相関係数が高い`stock`の組み合わせを抽出してください。さらに、その中でもっとも相関係数が高いペアを抜き出し、それぞれの時系列グラフを描いてください。\n",
        "\n",
        "（6） Pandasの`rolling`メソッド（窓関数）を使って、上記で使った各`stock`ごとに、`close`の過去5期（5週間）移動平均時系列データを計算してください。\n",
        "\n",
        "（7） Pandasの`shift`メソッドを使って、上記で使った各stockごとに、`close`の前期（1週前）との比の対数時系列データを計算してください。さらに、この中で、一番ボラティリティ（標準偏差）が一番大きい`stock`と小さい`stock`を抜き出し、その対数変化率グラフを書いてください。"
      ]
    },
    {
      "cell_type": "markdown",
      "metadata": {
        "id": "3MLGcZ8as_2u"
      },
      "source": [
        ">**[ポイント]**\n",
        ">\n",
        ">(6)、(7)についての補足です。\n",
        ">\n",
        ">時系列データ$(\\cdots ,y_{t-1},y_t,y_{t+1}, \\cdots )$の過去n期の移動平均データとは、過去n期のデータの平均、つまり以下を意味します。"
      ]
    },
    {
      "cell_type": "markdown",
      "metadata": {
        "id": "M71bZY3ls_2v"
      },
      "source": [
        "\\begin{eqnarray}\n",
        "ma_t = \\sum_{s=t-n+1}^t \\frac{y_s}{n}\n",
        "\\end{eqnarray}"
      ]
    },
    {
      "cell_type": "markdown",
      "metadata": {
        "id": "MnAvmfMds_2v"
      },
      "source": [
        ">時系列データ$(\\cdots ,y_{t-1},y_t,y_{t+1}, \\cdots )$の前期（1週前）との比の対数時系列データとは、$\\log \\frac{y_t} {y_{t-1}}$から成るデータのことです。増減率$r_t = \\frac{y_t - y_{t-1}}{y_t}$が小さいとき、$r_t \\approx \\log \\frac{y_t} {y_{t-1}}$の関係が成り立ちます。これは、$x$が十分小さいときに成り立つ、$\\log (1+x) \\approx x$から導かれます。増減率データ$(r_1,\\cdots ,r_N )$のボラティリティとは、標準偏差"
      ]
    },
    {
      "cell_type": "markdown",
      "metadata": {
        "id": "X6SHE3EBs_2w"
      },
      "source": [
        "\\begin{eqnarray}\n",
        "\\sqrt{\\frac{1}{N}\\sum_{t=1}^N \\left(r_t - \\frac{1}{N}\\sum_{t=1}^N r_t\\right)^2}\n",
        "\\end{eqnarray}"
      ]
    },
    {
      "cell_type": "markdown",
      "metadata": {
        "id": "kOt_iLLas_2w"
      },
      "source": [
        ">のことで、価格変動の大きさを示す指標として利用されます。"
      ]
    },
    {
      "cell_type": "markdown",
      "metadata": {
        "id": "1HDvxW8Zs_21"
      },
      "source": [
        "### ■総合問題4-1-2 マーケティング分析\n",
        "\n",
        "次は、マーケティング分析でよく扱われる購買データです。一般ユーザーとは異なる法人の購買データですが、分析する軸は基本的に同じです。\n",
        "\n",
        "（1）下記のURLよりデータをpandasで読み込んでください（件数50万以上のデータで比較的大きいため、少し時間がかかります）。"
      ]
    },
    {
      "cell_type": "markdown",
      "metadata": {
        "id": "ZY4F4rqks_22"
      },
      "source": [
        "http://archive.ics.uci.edu/ml/machine-learning-databases/00352/Online%20Retail.xlsx"
      ]
    },
    {
      "cell_type": "markdown",
      "metadata": {
        "id": "bZ6wi8i0s_22"
      },
      "source": [
        ">**[ヒント]**\n",
        ">\n",
        ">`pd.ExcelFile`を使って、シートを`.parse('Online Retail')`で指定してください。"
      ]
    },
    {
      "cell_type": "markdown",
      "metadata": {
        "id": "c13gRVW-s_23"
      },
      "source": [
        "また、今回の分析対象は、`CustomerID`にデータが入っているレコードのみ対象にするため、そのための処理をしてください。さらに、カラムの`InvoiceNo`には数字の前に`C`があるものはキャンセルのため、このデータを取り除いてください。他にもデータとして取り除く必要があれば、適宜処理してください。以下、このデータをベースに分析していきます。"
      ]
    },
    {
      "cell_type": "markdown",
      "metadata": {
        "id": "lJWp_zp1s_23"
      },
      "source": [
        "（2）このデータのカラムには、購買日時や商品名、数量、回数、購買者の`ID`などがあります。ここで、購買者（`CustomerID`）のユニーク数、バスケット数（`InvoiceNo`のユニーク数）、商品の種類（`StockCode`ベースと`Description`ベースのユニーク数）を求めてください。\n",
        "\n",
        "（3）このデータのカラムには、`Country`があります。このカラムを軸に、それぞれの国の購買合計金額（単位あたりの金額×数量の合計）を求め、降順にならべて、上位5つの国の結果を表示してください。\n",
        "\n",
        "（4）（3）の上位5つの国について、それぞれの国の商品売り上げ（合計金額）の月別の時系列推移をグラフにしてください。ここで、グラフは分けて表示してください。\n",
        "\n",
        "（5）（3）の上位5つの国について、それぞれの国における売り上げトップ5の商品を抽出してください。また、それらを国ごとに円グラフにしてください。なお、商品は「`Description`」ベースで集計してください。"
      ]
    },
    {
      "cell_type": "markdown",
      "metadata": {
        "id": "U7xO8rcK9HI_"
      },
      "source": [
        "**謝辞**：以下3つのデータセットの利用に関して\n",
        "1. https://archive.ics.uci.edu/ml/machine-learning-databases/00320/student.zip\n",
        "2. https://archive.ics.uci.edu/ml/machine-learning-databases/00312/dow_jones_index.zip\n",
        "3. https://archive.ics.uci.edu/ml/machine-learning-databases/00352/Online%20Retail.xlsx\n",
        "\n",
        "引用元：Dua, D. and Graff, C. (2019). UCI Machine Learning Repository [[http://archive.ics.uci.edu/ml](http://archive.ics.uci.edu/ml)]. Irvine, CA: University of California, School of Information and Computer Science.\n",
        "\n",
        "- 1のデータセットの引用について追記：  \n",
        "P. Cortez and A. Silva. Using Data Mining to Predict Secondary School Student Performance. In A. Brito and J. Teixeira Eds., Proceedings of 5th FUture BUsiness TEChnology Conference (FUBUTEC 2008) pp.5-12, Porto, Portugal, April, 2008, EUROSIS, ISBN 978-9077381-39-7.\n",
        "[http://www3.dsi.uminho.pt/pcortez/student.pdf](http://www3.dsi.uminho.pt/pcortez/student.pdf)  \n",
        "- 2のデータセットの引用について追記：  \n",
        "We request that you provide a citation to this paper when using the dataset. We welcome you to\n",
        "compare your results against ours in (Brown, Pelosi & Dirska, 2013).  \n",
        "- 3のデータセットの引用について追記：  \n",
        "Daqing Chen, Sai Liang Sain, and Kun Guo, Data mining for the online retail industry: A case study of RFM model-based customer segmentation using data mining, Journal of Database Marketing and Customer Strategy Management, Vol. 19, No. 3, pp. 197â€“208, 2012 (Published online before print: 27 August 2012. doi: 10.1057/dbm.2012.17)."
      ]
    },
    {
      "cell_type": "markdown",
      "source": [
        "参考文献一覧：\n",
        "\n",
        "A-16:\n",
        "『PythonとJavaScriptではじめるデータビジュアライゼーション』（オライリージャパン刊、ISBN:978-4873118086）\n",
        "\n",
        "A-17:\n",
        "\n",
        "『PythonユーザのためのJupyter[実践]入門』（技術評論社 刊、ISBN:978-4774192239）\t\t\t\t\t\t\t\t\n",
        "『入門 考える技術・書く技術―日本人のロジカルシンキング実践法』（ダイヤモンド社刊、ISBN:978-4478014585）\t\t\t\t\t\t\t\t\t\t\t\n",
        "\n",
        "B-8:\n",
        "Matplotlib\thttp://matplotlib.org/ http://seaborn.pydata.org/\n",
        "\n",
        "B-23:\n",
        "\"\n",
        "Blaze\thttp://blaze.pydata.org/\n",
        "\n",
        "\n"
      ],
      "metadata": {
        "id": "GREO5IED8uYg"
      }
    }
  ]
}