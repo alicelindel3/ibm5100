{
  "nbformat": 4,
  "nbformat_minor": 0,
  "metadata": {
    "interpreter": {
      "hash": "3fc12855e5119aa7119eb8b28b2c79e4453dd0444ad04c81a8c18197ce5b843e"
    },
    "kernelspec": {
      "display_name": "Python 3.9.7 64-bit ('venv': venv)",
      "name": "python3"
    },
    "language_info": {
      "codemirror_mode": {
        "name": "ipython",
        "version": 3
      },
      "file_extension": ".py",
      "mimetype": "text/x-python",
      "name": "python",
      "nbconvert_exporter": "python",
      "pygments_lexer": "ipython3",
      "version": "3.9.7"
    },
    "orig_nbformat": 4,
    "colab": {
      "provenance": [],
      "include_colab_link": true
    }
  },
  "cells": [
    {
      "cell_type": "markdown",
      "metadata": {
        "id": "view-in-github",
        "colab_type": "text"
      },
      "source": [
        "<a href=\"https://colab.research.google.com/github/alicelindel3/ibm5100/blob/main/cp2/tutorial.ipynb\" target=\"_parent\"><img src=\"https://colab.research.google.com/assets/colab-badge.svg\" alt=\"Open In Colab\"/></a>"
      ]
    },
    {
      "cell_type": "markdown",
      "metadata": {
        "id": "0fQm9v7oCnl8"
      },
      "source": [
        "# Home Credit Default Risk\n",
        "このnotebookでは、予測結果を作成するまでの流れと基本的な手法についての紹介を行います。\n",
        "\n",
        "\n",
        "まずは、今回のタスクについて確認しましょう（詳細はREADME.ipynbをご覧ください）。\n",
        "- **目的**： 顧客データから債務不履行になる確率を予測する。\n",
        "- **評価指標**： AUC（Area Under the Curve）"
      ]
    },
    {
      "cell_type": "markdown",
      "metadata": {
        "id": "xcuOu_ttCnmA"
      },
      "source": [
        "## 目次\n",
        "0. ライブラリ・データの読み込み\n",
        "1. データの可視化と分析\n",
        "2. 前処理と特徴量作成\n",
        "3. 機械学習モデルの作成\n",
        "4. 予測結果の作成"
      ]
    },
    {
      "cell_type": "markdown",
      "metadata": {
        "id": "a5KcDAE8CnmB"
      },
      "source": [
        "## 0. ライブラリ・データの読み込み"
      ]
    },
    {
      "cell_type": "markdown",
      "metadata": {
        "id": "617twnHyCnmB"
      },
      "source": [
        "基本的なライブラリを読み込みます。\n",
        "他の必要なライブラリについては、説明をする際に読み込みます。\n",
        "- numpy：数値計算を効率的に行うライブラリ\n",
        "- pandas：データ分析に便利なライブラリ\n",
        "- matplotlib：グラフ描画ライブラリ\n",
        "- seaborn：グラフ描画ライブラリ"
      ]
    },
    {
      "cell_type": "code",
      "metadata": {
        "id": "QShif6ZLCnmC"
      },
      "source": [
        "# ライブラリの読み込み\n",
        "import numpy as np\n",
        "import pandas as pd\n",
        "import matplotlib.pyplot as plt\n",
        "import seaborn as sns\n",
        "\n",
        "import warnings\n",
        "warnings.filterwarnings('ignore')"
      ],
      "execution_count": null,
      "outputs": []
    },
    {
      "cell_type": "markdown",
      "metadata": {
        "id": "ZsnL75uiCnmD"
      },
      "source": [
        "必要なデータの読み込みを行います。GCIの教材フォルダの構成を想定して、読み込んでいます。"
      ]
    },
    {
      "cell_type": "code",
      "metadata": {
        "id": "7S86UJm3PcOe"
      },
      "source": [
        "# Google Colaboratoryで作業する場合はこちらも実行してください。\n",
        "from google.colab import drive\n",
        "drive.mount('/content/drive')\n",
        "# %cd 以降にこのnotebookを置いているディレクトリを指定してください。\n",
        "%cd \"/content/drive/MyDrive/Colab Notebooks/\""
      ],
      "execution_count": null,
      "outputs": []
    },
    {
      "cell_type": "code",
      "metadata": {
        "id": "FXM13YCeCnmE"
      },
      "source": [
        "# データの読み込み\n",
        "# INPUT_DIRにtrain.csvなどのデータを置いているディレクトリを指定してください。\n",
        "INPUT_DIR = \"./\"\n",
        "\n",
        "train = pd.read_csv(INPUT_DIR + \"train.csv\")\n",
        "test = pd.read_csv(INPUT_DIR + \"test.csv\")\n",
        "sample_sub = pd.read_csv(INPUT_DIR + \"sample_submission.csv\")"
      ],
      "execution_count": null,
      "outputs": []
    },
    {
      "cell_type": "markdown",
      "metadata": {
        "id": "3NuP1zcmCnmF"
      },
      "source": [
        "## 1. データの可視化と分析"
      ]
    },
    {
      "cell_type": "markdown",
      "metadata": {
        "id": "jSh7uV_4CnmF"
      },
      "source": [
        "### 1.1 データの概観\n",
        "本格的な分析を行う前に、まずは簡単にデータの概観を確認します。"
      ]
    },
    {
      "cell_type": "code",
      "metadata": {
        "id": "tmJzxS2nCnmG"
      },
      "source": [
        "# trainデータの確認\n",
        "print(f\"train shape: {train.shape}\")\n",
        "train.head(3)"
      ],
      "execution_count": null,
      "outputs": []
    },
    {
      "cell_type": "code",
      "metadata": {
        "id": "0j6hSZwjCnmG"
      },
      "source": [
        "# testデータの確認\n",
        "print(f\"test shape: {test.shape}\")\n",
        "test.head(3)"
      ],
      "execution_count": null,
      "outputs": []
    },
    {
      "cell_type": "markdown",
      "metadata": {
        "id": "ISAjKWceCnmH"
      },
      "source": [
        "特徴量が50種類もあることが分かります。このnotebookでは、50種類全ての特徴量について分析することはせず、5種類の特徴量に絞って分析を行います。今回のように特徴量が多い場合は、初めから全ての特徴量に対して、分析や前処理を行うのは大変だと思います。なので、初めは少ない特徴量で予測結果を出すことを目標に取り組んでみて、それから扱う特徴量を増やしてみると取り組みやすいです。残りの45種類の特徴量については、今までの教材やこのnotebook等を参考にして、自分の力で分析を行ってみてください。\n",
        "\n",
        "\n",
        "使用する5種類の特徴量については、様々な処理の説明を行えるように選択しています。"
      ]
    },
    {
      "cell_type": "code",
      "metadata": {
        "id": "zCF0BZ2lCnmH"
      },
      "source": [
        "# 5種類の特徴量に絞る\n",
        "use_features = [\"NAME_CONTRACT_TYPE\", \"AMT_INCOME_TOTAL\", \"EXT_SOURCE_2\", \"OWN_CAR_AGE\", \"ORGANIZATION_TYPE\"]\n",
        "target = train[\"TARGET\"].values\n",
        "\n",
        "train = train[use_features]\n",
        "train[\"TARGET\"] = target\n",
        "test = test[use_features]"
      ],
      "execution_count": null,
      "outputs": []
    },
    {
      "cell_type": "markdown",
      "metadata": {
        "id": "5zCvRUOCCnmH"
      },
      "source": [
        "再度、データの確認を行います。"
      ]
    },
    {
      "cell_type": "code",
      "metadata": {
        "id": "X4IL84J-CnmI"
      },
      "source": [
        "# trainデータの確認\n",
        "print(f\"train shape: {train.shape}\")\n",
        "train.head(3)"
      ],
      "execution_count": null,
      "outputs": []
    },
    {
      "cell_type": "code",
      "metadata": {
        "id": "ns__iaZ3CnmI"
      },
      "source": [
        "# testデータの確認\n",
        "print(f\"test shape: {test.shape}\")\n",
        "test.head(3)"
      ],
      "execution_count": null,
      "outputs": []
    },
    {
      "cell_type": "markdown",
      "metadata": {
        "id": "Ooo0LA-2CnmI"
      },
      "source": [
        "### 1.2 データの可視化・分析(EDA)\n",
        "データを可視化して分析を行います。この作業では、特徴量の値の分布, 欠損値, 外れ値, 相関関係などの確認を行うことでデータへの理解を深めます。この段階で得られる分析結果を元に、前処理、特徴量の作成、機械学習モデルの選択などを行うので、最終的な予測に大きく影響する重要な作業となります。Kaggle上でも様々な方がEDAを行ったコードが公開されているので、参考にしてみると良いです。"
      ]
    },
    {
      "cell_type": "markdown",
      "metadata": {
        "id": "9tnoSfzvCnmJ"
      },
      "source": [
        "#### 1.2.1 欠損値の確認\n",
        "ここでは、欠損値の確認を行います。\n",
        "ほとんどの機械学習モデルでは、欠損値があるデータで学習を行うことができません。そのため、何かしらの値で欠損値を埋める必要があるので、欠損値の確認を必ず行います。"
      ]
    },
    {
      "cell_type": "code",
      "metadata": {
        "id": "10WA5hRBCnmJ"
      },
      "source": [
        "# trainの欠損値を確認\n",
        "train.isnull().sum()"
      ],
      "execution_count": null,
      "outputs": []
    },
    {
      "cell_type": "code",
      "metadata": {
        "id": "3Y7FVExVCnmJ"
      },
      "source": [
        "# testの欠損値を確認\n",
        "test.isnull().sum()"
      ],
      "execution_count": null,
      "outputs": []
    },
    {
      "cell_type": "markdown",
      "metadata": {
        "id": "Erj6eK80CnmJ"
      },
      "source": [
        "EXT_SOURCE_2、OWN_CAR_AGEに欠損値があることが分かりました。後ほどこれらの欠損値の処理を行います。もちろん、今回は扱っていない特徴量についても、欠損値が存在する可能性があるので各自で確認を行ってみましょう。"
      ]
    },
    {
      "cell_type": "markdown",
      "metadata": {
        "id": "PHtdHORMCnmJ"
      },
      "source": [
        "#### 1.2.2 各特徴量の可視化・分析\n",
        "ここでは、各特徴量について可視化を行い、どのような特徴があるのか分析します。"
      ]
    },
    {
      "cell_type": "code",
      "metadata": {
        "id": "EYRYwJ_LCnmK"
      },
      "source": [
        "# 目的変数（債務不履行かどうか）の分布\n",
        "sns.countplot(data=train, x=\"TARGET\")\n",
        "plt.show()"
      ],
      "execution_count": null,
      "outputs": []
    },
    {
      "cell_type": "markdown",
      "metadata": {
        "id": "cw4sq8rSCnmK"
      },
      "source": [
        "目的変数の分布が大きく偏っていることが分かります。このように目的変数の分布が大きく偏っているデータのことを不均衡データと呼びます。\n",
        "\n",
        "\n",
        "不均衡データを扱う際は、特に評価指標の選び方に注意する必要があります。例えば、今回の評価指標として正解率（Accuracy）を選択すると、全て0と予測するだけで高正解率となることがわかると思います。このような適切でない評価指標を選択すると機械学習モデルがうまく学習できない原因となります。\n",
        "\n",
        "また、不均衡データへの対処として、目的変数の分布を均衡にしようとするアプローチもあります。多い方の目的変数のデータを減らす手法をアンダーサンプリング、少ない方の目的変数のデータを増やす方法をオーバーサンプリングと呼びます。"
      ]
    },
    {
      "cell_type": "code",
      "metadata": {
        "id": "8wz_F_PbCnmK"
      },
      "source": [
        "# NAME_CONTRACT_TYPEの分布\n",
        "sns.countplot(data=train, x=\"NAME_CONTRACT_TYPE\")\n",
        "plt.show()"
      ],
      "execution_count": null,
      "outputs": []
    },
    {
      "cell_type": "markdown",
      "metadata": {
        "id": "_CLL0KhFCnmL"
      },
      "source": [
        "NAME_CONTRACT_TYPEには、Cash loansとRevolving loansという2種類の変数が存在しますが、大きく偏りがあることが分かります。また、機械学習モデルでは数値型のデータしか扱えないため、文字列型から数値型に変換する必要があります。"
      ]
    },
    {
      "cell_type": "code",
      "metadata": {
        "id": "f5sFv7BPCnmL"
      },
      "source": [
        "# ORGANIZATION_TYPEの分布\n",
        "plt.figure(figsize=(30, 10))\n",
        "sns.countplot(data=train, x=\"ORGANIZATION_TYPE\")\n",
        "plt.tick_params(axis=\"x\", rotation=90)\n",
        "plt.show()"
      ],
      "execution_count": null,
      "outputs": []
    },
    {
      "cell_type": "markdown",
      "metadata": {
        "id": "Rt51YzxOCnmL"
      },
      "source": [
        "ORGANIZATION_TYPEには多くの種類があり、データ数に偏りがあることも分かります。こちらも、文字列型の特徴量なので数値型に変換する必要があります。また、左から2番目に「XNA」という変数がありますが、名前から欠損値のことであると推測することできます。"
      ]
    },
    {
      "cell_type": "code",
      "metadata": {
        "id": "ZVlLRi4TCnmL"
      },
      "source": [
        "# EXT_SOURCE_2の分布\n",
        "sns.displot(data=train, x=\"EXT_SOURCE_2\")\n",
        "plt.show()"
      ],
      "execution_count": null,
      "outputs": []
    },
    {
      "cell_type": "markdown",
      "metadata": {
        "id": "RaEXl1zICnmM"
      },
      "source": [
        "EXT_SOURCE_2は、0~1の範囲に正規化されていることが分かります。こちらについては、そのまま扱っても大丈夫そうです。"
      ]
    },
    {
      "cell_type": "code",
      "metadata": {
        "id": "2WwsHs0JCnmM"
      },
      "source": [
        "# AMT_INCOME_TOTALの分布\n",
        "sns.displot(data=train, x=\"AMT_INCOME_TOTAL\")\n",
        "plt.show()"
      ],
      "execution_count": null,
      "outputs": []
    },
    {
      "cell_type": "markdown",
      "metadata": {
        "id": "JQbzv0D8CnmM"
      },
      "source": [
        "AMT_INCOME_TOTALは、通常通り可視化してもうまくグラフが表示されていません。このような場合には、大きな数値を取る少数の外れ値が存在することが原因であると考えられます。今回のようなデータを可視化したい場合は、対数変換を行うと上手くグラフを表示することができます。"
      ]
    },
    {
      "cell_type": "code",
      "metadata": {
        "id": "kgeKevDMCnmM"
      },
      "source": [
        "# AMT_INCOME_TOTALの分布（対数変換）\n",
        "sns.displot(data=train, x=\"AMT_INCOME_TOTAL\", log_scale=10)\n",
        "plt.show()"
      ],
      "execution_count": null,
      "outputs": []
    },
    {
      "cell_type": "markdown",
      "metadata": {
        "id": "j4r3xGRMCnmM"
      },
      "source": [
        "対数変換してグラフを描画することで、うまく表示することができました。しかし、年収というのは本来連続的な値を取るはずなのに、グラフをみると離散的な値をとっているようです。AMT_INCOME_TOTALの値の種類を確認してみましょう。"
      ]
    },
    {
      "cell_type": "code",
      "metadata": {
        "id": "hWDiKd98CnmM"
      },
      "source": [
        "# AMT_INCOME_TOTALの値の種類を確認\n",
        "len(train[\"AMT_INCOME_TOTAL\"].unique())"
      ],
      "execution_count": null,
      "outputs": []
    },
    {
      "cell_type": "markdown",
      "metadata": {
        "id": "3VcQ-MEBCnmN"
      },
      "source": [
        "trainには171202個のデータが存在するのですが、AMT_INCOME_TOTALは1641種類の値のみで構成されています。具体的に上位10個の値を確認してみましょう。"
      ]
    },
    {
      "cell_type": "code",
      "metadata": {
        "id": "s8mETFkCCnmN"
      },
      "source": [
        "# AMT_INCOME_TOTALの上位10個\n",
        "train[\"AMT_INCOME_TOTAL\"].value_counts().head(10)"
      ],
      "execution_count": null,
      "outputs": []
    },
    {
      "cell_type": "markdown",
      "metadata": {
        "id": "82L-z5gQCnmN"
      },
      "source": [
        "どうやらAMT_INCOME_TOTALは正確な年収ではなく、きりの良い数字で集計されたデータであることが分かりました。"
      ]
    },
    {
      "cell_type": "code",
      "metadata": {
        "id": "bXBlabmLCnmN"
      },
      "source": [
        "# OWN_CAR_AGEの分布\n",
        "sns.displot(data=train, x=\"OWN_CAR_AGE\")\n",
        "plt.show()"
      ],
      "execution_count": null,
      "outputs": []
    },
    {
      "cell_type": "markdown",
      "metadata": {
        "id": "LheIcW5LCnmN"
      },
      "source": [
        "OWN_CAR_AGEは、値のスケールから年単位の値をとっていることが推測できます。また、0〜40あたりまでは自然な分布ですが、60〜70付近に不自然な分布が存在していることが分かります。車の購入年数がこのように急に値が上昇するとは、考えにくいので外れ値であると考えられます。"
      ]
    },
    {
      "cell_type": "markdown",
      "metadata": {
        "id": "kl23q2zgCnmN"
      },
      "source": [
        "ここまで、各特徴量の可視化と分析を行いました。可視化をするのにも工夫が必要だったり、可視化を行うことでデータについての理解が深まることが実感できたと思います。今回扱っていない45種類の特徴量についても、今回の可視化などを参考に各自で可視化・分析を行ってみることで、必ず予測精度の向上につながると思います。"
      ]
    },
    {
      "cell_type": "markdown",
      "metadata": {
        "id": "rsPYkguwCnmO"
      },
      "source": [
        "## 2. 前処理と特徴量作成\n",
        "ここでは、上記の可視化と分析でわかったことを踏まえて、前処理と特徴量の作成を行います。"
      ]
    },
    {
      "cell_type": "markdown",
      "metadata": {
        "id": "z0cPsOyMCnmO"
      },
      "source": [
        "EXT_SOURCE_2の欠損値を補完します。欠損値の補完には様々な手法がありますが、今回は欠損値の数が少ないので単純に平均値で補完します。"
      ]
    },
    {
      "cell_type": "code",
      "metadata": {
        "id": "yO-iJnwLCnmO"
      },
      "source": [
        "# EXT_SOURCE_2の欠損値を平均値で補完\n",
        "train[\"EXT_SOURCE_2\"].fillna(train[\"EXT_SOURCE_2\"].mean(), inplace=True)\n",
        "test[\"EXT_SOURCE_2\"].fillna(train[\"EXT_SOURCE_2\"].mean(), inplace=True)\n",
        "\n",
        "train.isnull().sum()"
      ],
      "execution_count": null,
      "outputs": []
    },
    {
      "cell_type": "markdown",
      "metadata": {
        "id": "DL54Ws3zCnmO"
      },
      "source": [
        "NAME_CONTRACT_TYPEを数値型に変換します。今回は、「Cash loans」を0に「Revolving loans」を1に変換します。このように、単純に整数に置き換える手法をLabel Encodingと呼びます。"
      ]
    },
    {
      "cell_type": "code",
      "metadata": {
        "id": "2C_JEPadCnmO"
      },
      "source": [
        "# NAME_CONTRACT_TYPEの数値化（Label Encoding）\n",
        "train[\"NAME_CONTRACT_TYPE\"].replace({'Cash loans': 0, 'Revolving loans': 1}, inplace=True)\n",
        "test[\"NAME_CONTRACT_TYPE\"].replace({'Cash loans': 0, 'Revolving loans': 1}, inplace=True)\n",
        "\n",
        "train.head(5)"
      ],
      "execution_count": null,
      "outputs": []
    },
    {
      "cell_type": "markdown",
      "metadata": {
        "id": "j1OpbA-yCnmO"
      },
      "source": [
        "ORGANIZATION_TYPEを数値型に変換します。今回は、変数のデータ数で数値化します。例えば、「Police」のデータ数が1279、「Bank」のデータ数が1385である場合には、「Police」を1279に、「Bank」を1385に変換します。このようにデータ数に置き換える手法をCount Encodingと呼びます。"
      ]
    },
    {
      "cell_type": "code",
      "metadata": {
        "id": "kLJPuILuCnmO"
      },
      "source": [
        "# ORGANIZATION_TYPEの数値化（Count Encoding）\n",
        "organization_ce = train[\"ORGANIZATION_TYPE\"].value_counts()\n",
        "train[\"ORGANIZATION_TYPE\"] = train[\"ORGANIZATION_TYPE\"].map(organization_ce)\n",
        "test[\"ORGANIZATION_TYPE\"] = test[\"ORGANIZATION_TYPE\"].map(organization_ce)\n",
        "\n",
        "train.head(5)"
      ],
      "execution_count": null,
      "outputs": []
    },
    {
      "cell_type": "markdown",
      "metadata": {
        "id": "OtdYByRsCnmP"
      },
      "source": [
        "OWN_CAR_AGEの処理を行います。まず、不自然な60以上の外れ値を欠損値として置き換えます。"
      ]
    },
    {
      "cell_type": "code",
      "metadata": {
        "id": "7-ojzBAtCnmP"
      },
      "source": [
        "# OWN_CAR_AGEの60以上の値（外れ値）を欠損値扱いする\n",
        "train.loc[train[\"OWN_CAR_AGE\"] >= 60, \"OWN_CAR_AGE\"] = np.nan\n",
        "test.loc[test[\"OWN_CAR_AGE\"] >= 60, \"OWN_CAR_AGE\"] = np.nan"
      ],
      "execution_count": null,
      "outputs": []
    },
    {
      "cell_type": "markdown",
      "metadata": {
        "id": "aUbZ-qsiCnmP"
      },
      "source": [
        "次に、OWN_CAR_AGEの欠損値の処理について考えます。元々のOWN_CAR_AGEにはデータ数171202に対して欠損値が112992個ありました。このように欠損値が多い場合には、適切に欠損値を補完することは難しく現実的ではありません。そのため、今回はOWN_CAR_AGEを0～9年、10～19年のように10年単位でグループ分けした後に、One Hot Encodingを行うことで欠損値の対処を行います。"
      ]
    },
    {
      "cell_type": "code",
      "metadata": {
        "id": "8bHTyLv_CnmP"
      },
      "source": [
        "# OWN_CAR_AGEをグループ分け\n",
        "train[\"OWN_CAR_AGE\"] = train[\"OWN_CAR_AGE\"] // 10\n",
        "test[\"OWN_CAR_AGE\"] = test[\"OWN_CAR_AGE\"] // 10\n",
        "\n",
        "train[\"OWN_CAR_AGE\"].unique()"
      ],
      "execution_count": null,
      "outputs": []
    },
    {
      "cell_type": "code",
      "metadata": {
        "id": "GIcCvBHvCnmP"
      },
      "source": [
        "# OWN_CAR_AGEをOne Hot Encoding\n",
        "train_car_age_ohe = pd.get_dummies(train[\"OWN_CAR_AGE\"]).add_prefix(\"OWN_CAR_AGE_\")\n",
        "test_car_age_ohe = pd.get_dummies(test[\"OWN_CAR_AGE\"]).add_prefix(\"OWN_CAR_AGE_\")\n",
        "\n",
        "train = pd.concat([train, train_car_age_ohe], axis=1)\n",
        "test = pd.concat([test, test_car_age_ohe], axis=1)\n",
        "\n",
        "train.drop('OWN_CAR_AGE', axis=1, inplace=True)\n",
        "test.drop('OWN_CAR_AGE', axis=1, inplace=True)\n",
        "\n",
        "train.head(5)"
      ],
      "execution_count": null,
      "outputs": []
    },
    {
      "cell_type": "markdown",
      "metadata": {
        "id": "FoKdK60PCnmP"
      },
      "source": [
        "## 3. 機械学習モデルの作成\n",
        "ここでは、機械学習モデルの作成を行います。"
      ]
    },
    {
      "cell_type": "markdown",
      "metadata": {
        "id": "2LLoN-aQIsrk"
      },
      "source": [
        "まずは、必要なライブラリを読み込みます。\n",
        "\n",
        "- train_test_split：データを訓練用データと評価用データに分割する。\n",
        "- StandardScaler：データを標準化する。\n",
        "- roc_auc_score：今回の評価指標であるAUCを計算する。"
      ]
    },
    {
      "cell_type": "code",
      "metadata": {
        "id": "RVwkQ5b8CnmP"
      },
      "source": [
        "# ライブラリの読み込み\n",
        "from sklearn.model_selection import train_test_split\n",
        "from sklearn.preprocessing import StandardScaler\n",
        "from sklearn.metrics import roc_auc_score"
      ],
      "execution_count": null,
      "outputs": []
    },
    {
      "cell_type": "markdown",
      "metadata": {
        "id": "bcgHtFrRJpev"
      },
      "source": [
        "データを説明変数と目的変数に分割します。今回の目的変数は「TARGET」なので、それ以外が説明変数となります。"
      ]
    },
    {
      "cell_type": "code",
      "metadata": {
        "id": "joie-z89KBdg"
      },
      "source": [
        "# 目的変数と説明変数に分割\n",
        "X = train.drop(\"TARGET\", axis=1).values\n",
        "y = train[\"TARGET\"].values\n",
        "X_test = test.values"
      ],
      "execution_count": null,
      "outputs": []
    },
    {
      "cell_type": "markdown",
      "metadata": {
        "id": "M85-Y6M2KQBX"
      },
      "source": [
        "データを標準化します。標準化とは、平均が0で分散が1となるように値を変換する操作です。ロジスティック回帰やニューラルネットワークなどの一部のモデルでは、このように値のスケールを揃えないと学習が上手くいきません。"
      ]
    },
    {
      "cell_type": "code",
      "metadata": {
        "id": "x8lmkBJbCnmQ"
      },
      "source": [
        "# 標準化\n",
        "sc = StandardScaler()\n",
        "sc.fit(X)\n",
        "X_std = sc.transform(X)\n",
        "X_test_std = sc.transform(X_test)"
      ],
      "execution_count": null,
      "outputs": []
    },
    {
      "cell_type": "markdown",
      "metadata": {
        "id": "3faa7zQnKmSS"
      },
      "source": [
        "学習用データのうち、7割を訓練データ、3割を評価データとして分割します。このように、学習データの一部を学習に用いずに、評価用として取っておく手法をホールドアウト法と呼びます。これにより、未知のデータに対する予測精度（汎化性能）を算出することが出来ます。"
      ]
    },
    {
      "cell_type": "code",
      "metadata": {
        "id": "_PipkeXdKlvK"
      },
      "source": [
        "# 訓練データと評価データに分割\n",
        "X_train, X_valid, y_train, y_valid = train_test_split(X_std, y, test_size=0.3, stratify=y, random_state=0)"
      ],
      "execution_count": null,
      "outputs": []
    },
    {
      "cell_type": "markdown",
      "metadata": {
        "id": "I62WMgQiMU8J"
      },
      "source": [
        "ロジスティック回帰と多層パーセプトロンでモデルを作成してみます。"
      ]
    },
    {
      "cell_type": "code",
      "metadata": {
        "id": "bpzK_zyWCnmQ"
      },
      "source": [
        "# LogisticRegression\n",
        "from sklearn.linear_model import LogisticRegression\n",
        "\n",
        "lr = LogisticRegression(random_state=0)\n",
        "lr.fit(X_train, y_train)\n",
        "\n",
        "lr_train_pred = lr.predict_proba(X_train)[:, 1]\n",
        "lr_valid_pred = lr.predict_proba(X_valid)[:, 1]\n",
        "print(f\"Train Score: {roc_auc_score(y_train, lr_train_pred)}\")\n",
        "print(f\"Valid Score: {roc_auc_score(y_valid, lr_valid_pred)}\")"
      ],
      "execution_count": null,
      "outputs": []
    },
    {
      "cell_type": "code",
      "metadata": {
        "id": "qvRvrmC2CnmQ"
      },
      "source": [
        "# MLPClassifier\n",
        "from sklearn.neural_network import MLPClassifier\n",
        "\n",
        "mlp = MLPClassifier(random_state=0)\n",
        "mlp.fit(X_train, y_train)\n",
        "\n",
        "mlp_train_pred = mlp.predict_proba(X_train)[:, 1]\n",
        "mlp_valid_pred = mlp.predict_proba(X_valid)[:, 1]\n",
        "print(f\"Train Score: {roc_auc_score(y_train, mlp_train_pred)}\")\n",
        "print(f\"Valid Score: {roc_auc_score(y_valid, mlp_valid_pred)}\")"
      ],
      "execution_count": null,
      "outputs": []
    },
    {
      "cell_type": "markdown",
      "metadata": {
        "id": "5lXYNA6vMoZz"
      },
      "source": [
        "つぎに、勾配ブースティング木（GBDT）と呼ばれるモデルを作成してみたいと思います。GBDTは、使いやすさと精度の高さから、Kaggleなどの分析コンペでよく使用されているモデルです。GBDTの特徴として以下のような点が挙げられます。\n",
        "- 欠損値のあるデータを学習できる。\n",
        "- 標準化などの値のスケーリングが不要。\n",
        "- 精度が高い。\n",
        "- 特徴量間の相互作用が反映される。\n",
        "- 特徴量が多くても精度が落ちにくく、速度が速い。\n",
        "\n",
        "今回はGBDTの中でも代表的なxgboostとlightgbmを扱います。"
      ]
    },
    {
      "cell_type": "code",
      "metadata": {
        "id": "XJMskmeDPQiZ"
      },
      "source": [
        "# XGBClassifier\n",
        "from xgboost import XGBClassifier\n",
        "\n",
        "xgb = XGBClassifier(random_state=0)\n",
        "xgb.fit(X_train, y_train)\n",
        "\n",
        "xgb_train_pred = xgb.predict_proba(X_train)[:, 1]\n",
        "xgb_valid_pred = xgb.predict_proba(X_valid)[:, 1]\n",
        "print(f\"Train Score: {roc_auc_score(y_train, xgb_train_pred)}\")\n",
        "print(f\"Valid Score: {roc_auc_score(y_valid, xgb_valid_pred)}\")"
      ],
      "execution_count": null,
      "outputs": []
    },
    {
      "cell_type": "code",
      "metadata": {
        "id": "zPte_7J9D6fK"
      },
      "source": [
        "# LGBMClassifier\n",
        "from lightgbm import LGBMClassifier\n",
        "\n",
        "lgb = LGBMClassifier(random_state=0)\n",
        "lgb.fit(X_train, y_train)\n",
        "\n",
        "lgb_train_pred = lgb.predict_proba(X_train)[:, 1]\n",
        "lgb_valid_pred = lgb.predict_proba(X_valid)[:, 1]\n",
        "print(f\"Train Score: {roc_auc_score(y_train, lgb_train_pred)}\")\n",
        "print(f\"Valid Score: {roc_auc_score(y_valid, lgb_valid_pred)}\")"
      ],
      "execution_count": null,
      "outputs": []
    },
    {
      "cell_type": "markdown",
      "metadata": {
        "id": "CSthGRA-ZXaY"
      },
      "source": [
        "ここまでで、4つのモデルを作成しました。ここでは、アンサンブルと呼ばれる複数のモデルを組み合わせることを行います。アンサンブルには、様々な手法がありますが、今回はシンプルに4つのモデルの平均値をとることにします。"
      ]
    },
    {
      "cell_type": "code",
      "metadata": {
        "id": "QwEBg6HbGPGn"
      },
      "source": [
        "train_pred = (lr_train_pred + mlp_train_pred + lgb_train_pred + xgb_train_pred)/4\n",
        "valid_pred = (lr_valid_pred + mlp_valid_pred + lgb_valid_pred + xgb_valid_pred)/4\n",
        "\n",
        "print(f\"Train Score: {roc_auc_score(y_train, train_pred)}\")\n",
        "print(f\"Valid Score: {roc_auc_score(y_valid, valid_pred)}\")"
      ],
      "execution_count": null,
      "outputs": []
    },
    {
      "cell_type": "markdown",
      "metadata": {
        "id": "RFXE351Dah5p"
      },
      "source": [
        "今回は、アンサンブルをしても精度の向上には繋がらなかったため、最終的なモデルは一番スコアの高かったxgboostを用いることにします。"
      ]
    },
    {
      "cell_type": "markdown",
      "metadata": {
        "id": "tn_kdvWYCnmQ"
      },
      "source": [
        "## 4. 予測結果の作成\n",
        "最後にテストデータに対して予測を行い、提出用のcsvファイルを作成します。"
      ]
    },
    {
      "cell_type": "code",
      "metadata": {
        "id": "-IPNn-_ZCnmQ"
      },
      "source": [
        "# テストデータに対する予測値の作成\n",
        "pred = xgb.predict_proba(X_test)[:, 1]"
      ],
      "execution_count": null,
      "outputs": []
    },
    {
      "cell_type": "code",
      "metadata": {
        "id": "c13Ycte5W047"
      },
      "source": [
        "# 予測結果を提出用のフォーマットに格納\n",
        "sample_sub['TARGET'] = pred\n",
        "sample_sub"
      ],
      "execution_count": null,
      "outputs": []
    },
    {
      "cell_type": "code",
      "metadata": {
        "id": "cvvLh7-eW7ll"
      },
      "source": [
        "# 提出用のcsvファイルを作成\n",
        "sample_sub.to_csv('submission.csv',index=False)"
      ],
      "execution_count": null,
      "outputs": []
    },
    {
      "cell_type": "markdown",
      "metadata": {
        "id": "LEIQ6tJFYSs4"
      },
      "source": [
        "以上で、Home Credit Default Riskコンペのチュートリアルは終了です。今回は、50種類ある特徴量のうち5種類しか使用していないので、まだまだ改善の余地があります。この後は、このnotebookやこれまでの教材を参考にして、さらなるスコアの向上を目指してください！"
      ]
    }
  ]
}