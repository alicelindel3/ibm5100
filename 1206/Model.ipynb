{
  "cells": [
    {
      "cell_type": "markdown",
      "metadata": {
        "id": "view-in-github",
        "colab_type": "text"
      },
      "source": [
        "<a href=\"https://colab.research.google.com/github/alicelindel3/ibm5100/blob/main/1206/Model.ipynb\" target=\"_parent\"><img src=\"https://colab.research.google.com/assets/colab-badge.svg\" alt=\"Open In Colab\"/></a>"
      ]
    },
    {
      "cell_type": "markdown",
      "metadata": {
        "nbpresent": {
          "id": "0d4629d5-02e5-446b-8945-77a14085a9db"
        },
        "id": "6zBSzMvpD2CK"
      },
      "source": [
        "# 8 モデルの検証方法とチューニング方法"
      ]
    },
    {
      "cell_type": "markdown",
      "metadata": {
        "id": "djcoDjl5D2CP"
      },
      "source": [
        "＜章トビラ＞\n",
        "\n",
        "教師あり学習によって構築されるモデルは、未知のデータに適用したときに、モデル構築者の期待する性能を発揮することが重要です。8章では、この未知データに対するモデル性能（汎化性能）を評価するためのモデルの検証方法を学びます。さらに、そもそものモデルの汎化性能を向上させるためのアプローチについても学びます。\n",
        "\n",
        "ゴール：モデル構築時の注意点や評価方法を学び、評価指標を計算することができる。複数のモデルを組み合わせるアンサンブル学習を理解し、代表的手法を使えるようになる。"
      ]
    },
    {
      "cell_type": "markdown",
      "metadata": {
        "nbpresent": {
          "id": "b1148877-ff04-4635-a794-1de257853078"
        },
        "id": "dalRu35eD2CQ"
      },
      "source": [
        "- **[8.1 モデルの評価と精度を上げる方法とは](#8.1-モデルの評価と精度を上げる方法とは)** \n",
        "    - [8.1.1 機械学習の課題とアプローチ](#8.1.1-機械学習の課題とアプローチ)\n",
        "    - [8.1.2 この章で使うライブラリのインポート](#8.1.2-この章で使うライブラリのインポート)\n",
        "<br><br> \n",
        "- **[8.2 モデルの評価とパフォーマンスチューニング](#8.2-モデルの評価とパフォーマンスチューニング)**   \n",
        "    - [8.2.1 ホールドアウト法と交差検証法](#8.2.1-ホールドアウト法と交差検証法)\n",
        "    - [8.2.2 パフォーマンスチューニング：ハイパーパラメータチューニング](#8.2.2-パフォーマンスチューニング：ハイパーパラメータチューニング)\n",
        "    - [8.2.3 パフォーマンスチューニング：特徴量の扱い](#8.2.3-パフォーマンスチューニング：特徴量の扱い)\n",
        "    - [8.2.4 モデルの種類](#8.2.4-モデルの種類)\n",
        "<br><br> \n",
        "- **[8.3 モデルの評価指標](#8.3-モデルの評価指標)** \n",
        "    - [8.3.1 分類モデルの評価：混同行列と関連指標](#8.3.1-分類モデルの評価：混同行列と関連指標)\n",
        "    - [8.3.2 分類モデルの評価：ROC曲線とAUC](#8.3.2-分類モデルの評価：ROC曲線とAUC)\n",
        "    - [8.3.3 回帰モデルの評価指標](#8.3.3-回帰モデルの評価指標)\n",
        "<br><br>\n",
        "- **[8.4 アンサンブル学習](#8.4-アンサンブル学習)**\n",
        "    - [8.4.1 バギング](#8.4.1-バギング)\n",
        "    - [8.4.2 ブースティング](#8.4.2-ブースティング)\n",
        "    - [8.4.3 ランダムフォレスト、勾配ブースティング](#8.4.3-ランダムフォレスト、勾配ブースティング)\n",
        "<br><br>\n",
        "- **[8.5 総合問題](#8.5-総合問題)**\n",
        "    - [■総合問題8-1 教師あり学習の用語（2）](#■総合問題8-1-教師あり学習の用語（2）)\n",
        "    - [■総合問題8-2 交差検証](#■総合問題8-2-交差検証)"
      ]
    },
    {
      "cell_type": "markdown",
      "metadata": {
        "id": "rdhcIDKxD2CR"
      },
      "source": [
        "## 8.1 モデルの評価と精度を上げる方法とは"
      ]
    },
    {
      "cell_type": "markdown",
      "metadata": {
        "id": "4eE0aSwzD2CR"
      },
      "source": [
        "ゴール：モデルを構築するときの注意点や検証の方法の概要を知る\n",
        "\n",
        "機械学習というものは、学習のさせかたやモデルの選び方やパラメータ、学習させるデータ数などによって、その結果が大きく異なります。精度を高めるにはモデルのチューニングが不可欠です。たとえば、学習させるデータが足りないときは、水増しして学習させると良い結果が得られることもあります。\n",
        "この章ではモデルの良し悪しを判断したり、モデルをチューニングしたりする方法を説明します。\n",
        "\n",
        "### 8.1.1 機械学習の課題とアプローチ\n",
        "\n",
        "機械学習には、さまざまな課題があります。この章では、その課題とアプローチについて説明をします。\n",
        "\n",
        "#### ①新しいデータに適合できない場合\n",
        "\n",
        "モデルの作り方や学習のさせかたによっては、現在のデータにあてはまりすぎて、新しいデータでは良き結果が得られないことがあります。このような状態を**オーバーフィッティング（過学習、もしくは過剰学習）**といいます。それを防ぐために、あらかじめテスト用にデータを抜き出しておく**ホールドアウト法**や**交差検証法**があります。\n",
        "\n",
        "#### ②モデルの良さの判定する指標や方法とは\n",
        "\n",
        "モデルの良さを判定するには実は色々な指標があります。今まで、モデルの予測精度や良さという話をしてきましたが、そもそも予測精度とは一体なんでしょうか。単にモデルがうまく予測できたからといって、手放しで喜んでいいわけではありません。\n",
        "予測精度を測るための概念として、**混同行列**や**ROC曲線**があります。\n",
        "\n",
        "#### ③精度が高いモデルを作成するには\n",
        "\n",
        "既に、決定木やロジスティック回帰など、さまざまな教師あり学習の予測モデルを個別に学びました。これらのモデルを単独で使うのではなく、複数のモデルを組み合わせる**アンサンブル学習**と呼ばれる方法もあります。アンサンブル学習では、個々の学習結果を組み合わせて、複数の結果で評価します。具体的な手法として、**バギング、ブースティング**などがあります。これらの方法を使うことで、モデルの精度を高めることが可能になります。\n",
        "\n"
      ]
    },
    {
      "cell_type": "markdown",
      "metadata": {
        "id": "Dr4I6JKZD2CS"
      },
      "source": [
        "### 8.1.2 この章で使うライブラリのインポート\n",
        "\n",
        "この章では、既に勉強したNumpyやPandasなどの各種ライブラリのほかに、機械学習ライブラリのScikit-learnを使います。次のようにインポートしていることを前提として進めていきます。"
      ]
    },
    {
      "cell_type": "code",
      "execution_count": null,
      "metadata": {
        "id": "Vovq5RpJD2CT"
      },
      "outputs": [],
      "source": [
        "# データ加工・処理・分析ライブラリ\n",
        "import numpy as np\n",
        "import numpy.random as random\n",
        "import scipy as sp\n",
        "from pandas import Series,DataFrame\n",
        "import pandas as pd\n",
        "\n",
        "# 可視化ライブラリ\n",
        "import matplotlib.pyplot as plt\n",
        "import matplotlib as mpl\n",
        "import seaborn as sns\n",
        "%matplotlib inline\n",
        "sns.set()\n",
        "\n",
        "# 機械学習ライブラリ\n",
        "import sklearn\n",
        "\n",
        "# 小数第3位まで表示\n",
        "%precision 3"
      ]
    },
    {
      "cell_type": "markdown",
      "metadata": {
        "nbpresent": {
          "id": "8eb8fc4e-5670-44d5-9ba4-88b78495d88a"
        },
        "id": "DY_FVia5D2CV"
      },
      "source": [
        "## 8.2 モデルの評価とパフォーマンスチューニング\n",
        "ゴール：機械学習モデルの汎化性能の評価方法と、そもそもの性能を高めるためのアプローチを理解する。"
      ]
    },
    {
      "cell_type": "markdown",
      "metadata": {
        "id": "r3uLO00HD2CV"
      },
      "source": [
        "前回は、データを学習用とテスト用に分けてモデルを構築・検証しました。このようにモデルの学習に使用しないデータを準備し、モデル性能を確認するという手順はとても大切です。なぜなら、機械学習モデルは、現在保有しているデータに対して高い説明力を持つためだけではなく、将来発生するであろう未知のデータに対しても、同様に高い予測性能（汎化性能）を発揮することが期待されるからです。\n",
        "\n",
        "先に述べたように、学習に用いたデータには当てはまるが、未知のデータには当てはまらない状態をオーバーフィッティング（過学習、もしくは過剰学習）といいます。本節では、オーバーフィッティングが生じていないか、またモデルの汎化性能がどの程度かを評価するためのモデル評価について学びます。"
      ]
    },
    {
      "cell_type": "markdown",
      "metadata": {
        "id": "iBw38l9QD2CW"
      },
      "source": [
        "この節では、**ホールドアウト法（holdout method）**と**交差検証法（cross validation）**を扱います。交差検証法については、**k分割交差検証（k-fold法）**と**1個抜き交差検証（leave-one-out）**を紹介します。また汎化性能を高めるための特徴量の扱い方や、アルゴリズムが固有に持つパラメータのチューニング方法についても学びます。前者は**特徴量エンジニアリング（feature engineering）**や**次元削減（dimension reduction）**、後者は**ハイパーパラメータチューニング（hyperparameter tuning）**と呼ばれる技術領域です。"
      ]
    },
    {
      "cell_type": "markdown",
      "metadata": {
        "nbpresent": {
          "id": "6691bdfb-77c1-4f01-b394-85590cc685fe"
        },
        "id": "m7u9KlcpD2CX"
      },
      "source": [
        "### 8.2.1 ホールドアウト法と交差検証法\n",
        "キーワード：過学習（過剰学習）、ホールドアウト法、交差検証法、k分割交差検証法"
      ]
    },
    {
      "cell_type": "markdown",
      "metadata": {
        "nbpresent": {
          "id": "687db9f1-4877-48ca-821f-3a15ab3aa344"
        },
        "id": "XhXT4gJ4D2CX"
      },
      "source": [
        "**ホールドアウト法（holdout method）**とは、教師あり学習のモデル構築の回でですでにやってきたように、データを学習データとテストデータの2つにランダムに分割し、学習用データでモデルを構築し、その後、テスト用データでモデルを検証する方法です。\n",
        "\n",
        "教師あり学習モデルでは、高い汎化性能の獲得が期待されます。そこで学習データを既知のデータとみなし、テストデータを未知のデータとみなすことで、その未知のデータにおける性能を評価するというのがホールドアウト法です。ホールドアウト法は非常にシンプルですが、データ数が十分大きい時には、モデルの評価方法として実用的に使えます。しかしデータ数が限られるときは、2つの問題が生じます。ひとつは、ランダムに分割された特定のテストデータによっては、たまたま高く評価されてしまう問題です。もうひとつは、限られたデータを学習用とテスト用に分割するため、学習データ数が削られ、肝心の学習が十分に進まないという問題です。"
      ]
    },
    {
      "cell_type": "markdown",
      "metadata": {
        "id": "cAckN9h7D2CX"
      },
      "source": [
        "そこで、限られたデータを最大限に活用しようと考案されたのが**交差検証法（cross validation）**です。これはデータの役割を学習用と検証用に交差させる検証法です。交差検証法の代表的な手法に**k分割交差検証（k-fold cross validation）**があります。この手法では、データをk個のブロックにランダムに分割します。そして、k個のうち1つのブロックを検証用、残りの$k-1$個を学習用として活用します。\n",
        "\n",
        "k分割交差検証のイメージは下図の通りです。ここでは$k=5$の場合を例示しています。データはまず、ランダムに5個のデータグループに分割されます。そのうち4個のグループを学習用、残りの1個を検証用として使います。これを5パターン繰り返して、それぞれのパターンでモデル評価値を取得します。\n",
        "\n"
      ]
    },
    {
      "cell_type": "markdown",
      "metadata": {
        "id": "3k65dpt6D2CY"
      },
      "source": [
        "![comment](https://i.stack.imgur.com/1fXzJ.png)"
      ]
    },
    {
      "cell_type": "markdown",
      "metadata": {
        "id": "h-bvRCnsD2CY"
      },
      "source": [
        "参照URL:https://i.stack.imgur.com/1fXzJ.png"
      ]
    },
    {
      "cell_type": "markdown",
      "metadata": {
        "id": "QLRnEw1dD2CY"
      },
      "source": [
        "k分割交差検証では、検証用に使うブロックは$k$パターンあるので、たまたまある検証用データで評価が高まるという問題を低減できます。また$k$パターン繰り返しているので、検証用データを除外することなく手元データを一通り学習に反映させているのも、ホールドアウト法に比べて優れている点です。\n",
        "\n",
        "k分割交差検証の応用として、**1個抜き交差検証（leave-one-out）**があります。これはk分割交差検証のkをデータサンプル数と同数に設定する点が特徴です。k分割交差検証と同様、1つを検証データ、残りを学習データとして、kパターン繰り返すもので、かなりデータが少ない場合はこの手法を使うことがあります。"
      ]
    },
    {
      "cell_type": "markdown",
      "metadata": {
        "nbpresent": {
          "id": "8fdc47c7-42c1-4e9c-b311-e068ee0c56d0"
        },
        "id": "_iP_kRzMD2CZ"
      },
      "source": [
        "#### k分割交差検証の実例\n",
        "\n",
        "実際にk分割交差検証をやってみましょう。ここでは教師あり学習の回で学んだ決定木を使って、k分割交差検証してみます。扱うデータは乳がんデータ（cancerデータ）とします。k分割交差検証の結果は`sklearn.model_selection`モジュールの`cross_val_score`関数で求められます。この関数のパラメータは、先頭から順に、アルゴリズム（ここでは決定木を使用し、分岐条件の指標としてエントロピーを設定）、説明変数、目的変数、分割数（$k$）です。"
      ]
    },
    {
      "cell_type": "markdown",
      "metadata": {
        "id": "KUMIwLofD2CZ"
      },
      "source": [
        "分割数（$k$）を意味する最後のパラメータは「`cv=5`」と設定しています。これにより、戻り値のscores配列には、5つのスコア（正解率）が含まれます。これを表示したものが、出力の1行目の「Cross validation scores」です。\n",
        "\n",
        "出力の1行目では、モデルを総合評価するため、ここではその5つのスコアの平均値と標準偏差を計算しています。基本的に、平均スコアの高いモデルを採用しますが、標準偏差が大きいときは、平均スコアから標準偏差を引いたスコアでモデルを選択してもよいでしょう。"
      ]
    },
    {
      "cell_type": "code",
      "execution_count": null,
      "metadata": {
        "nbpresent": {
          "id": "f7e61986-6734-419e-8c8c-2b3a9028fc07"
        },
        "id": "b62goc5dD2CZ"
      },
      "outputs": [],
      "source": [
        "# 必要なライブラリ等のインポート\n",
        "from sklearn.datasets import load_breast_cancer\n",
        "from sklearn.tree import  DecisionTreeClassifier\n",
        "from sklearn.model_selection import cross_val_score\n",
        "\n",
        "# 乳がんのデータを読み込み\n",
        "cancer = load_breast_cancer()\n",
        "\n",
        "# 決定木クラスの初期化\n",
        "tree = DecisionTreeClassifier(criterion='entropy', max_depth=3, random_state=0)\n",
        "\n",
        "# k分割交差検証の実行\n",
        "scores = cross_val_score(tree, cancer.data, cancer.target, cv=5)\n",
        "\n",
        "# 結果の表示\n",
        "print('Cross validation scores: {}'.format(scores))\n",
        "print('Cross validation scores: {:.3f}+-{:.3f}'.format(scores.mean(), scores.std()))"
      ]
    },
    {
      "cell_type": "markdown",
      "metadata": {
        "id": "xFeh5l_GD2Ca"
      },
      "source": [
        "#### <練習問題 8-1>\n",
        "乳がんデータに対して、決定木以外のモデル（ロジスティック回帰分析など）を構築し、各モデルの評価スコアをk分割交差検証により取得しましょう。"
      ]
    },
    {
      "cell_type": "markdown",
      "metadata": {
        "nbpresent": {
          "id": "6f0eec39-4efb-4ee4-b8f3-c7145f918c2a"
        },
        "id": "bLXu0jSWD2Ca"
      },
      "source": [
        "### 8.2.2 パフォーマンスチューニング：ハイパーパラメータチューニング\n",
        "キーワード：ハイパーパラメータ、SVC、LinerSVC、グリッドサーチ、ランダムサーチ、Hyperopt"
      ]
    },
    {
      "cell_type": "markdown",
      "metadata": {
        "nbpresent": {
          "id": "04886829-c17b-4e93-96df-6bab75fdc4b0"
        },
        "id": "mh6DQmT_D2Ca"
      },
      "source": [
        "本節では、そもそものモデルの汎化性能を向上させるための手法、具合的には、アルゴリズムが固有に持つハイパーパラメータのチューニング手法である、**グリッドサーチ（grid search）**について学びます。\n",
        "\n",
        "既に学んだように、各アルゴリズムは固有のパラメータを持っています。これは、係数のような値を推定するパラメータではなく、あらかじめ人が決めることが多く、**ハイパーパラメータ**といって区別します。\n",
        "\n",
        "決定木であれば木の深さ、リッジ回帰であれば正則化の強さを決めるパラメータなどがハイパーパラメータです。グリッドサーチは、注目するいくつかのハイパーパラメータのすべての組み合わせについて交差検証を行い、最も性能の高いパラメータの組み合わせを探索してベストモデルの学習をするものです。"
      ]
    },
    {
      "cell_type": "markdown",
      "metadata": {
        "id": "uKQTEkrqD2Ca"
      },
      "source": [
        "#### グリッドサーチする\n",
        "\n",
        "すぐあとに説明するように、グリッドサーチはScikit-learnに含まれているグリッドサーチ用のクラスを使うことで簡単に使えますが、まずは、グリッドサーチの考え方を理解するため、こうしたクラスを用いないプログラムを示します。\n",
        "\n",
        "ここではグリッドサーチ法を用いて、サポートベクターマシンの最適なパラメータを求めてみます。サポートベクターマシンには、ハイパーパラメータとしてgammaとCがあります。今回はこの2つのパラメータを変化させて、それぞれ作成したモデルの評価をしてみます。なお、他のモデルについてもいえますが、パラメータはいくつかあり、詳細を知りたい方は、[公式のサイト参考URL](https://scikit-learn.org/stable/modules/generated/sklearn.svm.SVC.html)を調べてみてください。\n",
        "\n",
        "以下のプログラムは、`np.logspace(-3, 2, num=6)`の間、繰り返し試行してモデルを作り、もっとも高いスコアを持つときのgammaとCの組み合わせを求めるものです。`logspace`は、対数（底を省略したときは底は10）で指定した範囲の値を配列として生成します。この例では、10の-3乗から10の2乗の範囲を6等分した配列――具体的には、`[0.001, 0.01,  0.1,  1, 10, 100]`だけ繰り返します。すなわちgammaとCを、この配列の組み合わせで試行してモデルを評価します。モデルの評価にはホールドアウト法を用いました。\n",
        "\n",
        "実行すると、ベストスコアと、そのベストスコアのときのgammaとCが表示されます。またパラメータごとのスコアのヒートマップも表示されるようにしてあります。\n",
        "\n",
        "以前はサポートベクターマシンの1つである`LinearSVC`を使いましたが、ここでは`SVC`を使います。同じサポートベクターマシンですが、興味ある方は調べてみてください。"
      ]
    },
    {
      "cell_type": "code",
      "execution_count": null,
      "metadata": {
        "nbpresent": {
          "id": "b4a1a2b4-ed34-46a8-872f-39803c69b7df"
        },
        "scrolled": true,
        "id": "NBzNeZ5kD2Cb"
      },
      "outputs": [],
      "source": [
        "# インポート\n",
        "from sklearn.svm import SVC\n",
        "from sklearn.model_selection import train_test_split\n",
        "\n",
        "# 乳がんのデータを読み込み\n",
        "cancer = load_breast_cancer()\n",
        "\n",
        "# 訓練データとテストデータに分ける \n",
        "X_train, X_test, y_train, y_test = train_test_split(cancer.data,\n",
        "                                                    cancer.target,\n",
        "                                                    stratify = cancer.target,\n",
        "                                                    random_state=0)\n",
        "\n",
        "# ハイパーパラメータのすべての組み合わせでモデルを構築・検証\n",
        "scores = {}\n",
        "for gamma in np.logspace(-3, 2, num=6):\n",
        "    for C in np.logspace(-3, 2, num=6):\n",
        "        svm = SVC(gamma=gamma, C=C)\n",
        "        svm.fit(X_train,y_train)\n",
        "        scores[(gamma, C)] = svm.score(X_test, y_test)\n",
        "\n",
        "# 検証結果をscoresに格納 \n",
        "scores = pd.Series(scores)\n",
        "\n",
        "# 表示\n",
        "print('ベストスコア:{:.2f}'.format(scores.max()))\n",
        "print('その時のパラメータ(gamma, C):{}'.format(scores.idxmax()))\n",
        "\n",
        "# ヒートマップを表示。縦軸にgamma、横軸にCを表示\n",
        "sns.heatmap(scores.unstack())"
      ]
    },
    {
      "cell_type": "markdown",
      "metadata": {
        "id": "q7Wx_KdsD2Cb"
      },
      "source": [
        "この結果から、ベストスコアは0.91、その時のパラメータは、gammaが0.001、Cが1.0であることがわかります。"
      ]
    },
    {
      "cell_type": "markdown",
      "metadata": {
        "nbpresent": {
          "id": "77df5f92-ba69-4bcc-b0e1-0765fcb8c58a"
        },
        "id": "ASmbHiUrD2Cb"
      },
      "source": [
        "#### モジュールの関数を使ってグリッドサーチする\n",
        "\n",
        "グリッドサーチの仕組みが分かったところで、`sklearn.model_selection`モジュールの`GridSearchCV`クラスを用いて、同等の処理をする方法を説明します。プログラムは、次に示す通りです。\n",
        "\n",
        "モデル評価用にテストデータを分離するところまでは先程と同様です。違うのは、学習用データを`GridSearchCV`クラスの`fit`メソッドに与えるところです。こうすることで、ハイパーパラメータの組み合わせについてモデルの評価が行われるだけでなく、ベストモデルの構築まで終了します。ベストモデルを実現するパラメータの組み合わせや評価結果は、属性値から取得できます。\n",
        "\n",
        "ここで留意したいのは、`GridSearchCV`クラスの`fit`メソッドの実行時に行われるモデルの評価は、デフォルトではk分割交差検証（厳密にはその改良版）が使われるという点です。そのため`GridSearchCV`クラスには初期化パラメータ`cv`があり、ここでは`cv=5`と設定しました。"
      ]
    },
    {
      "cell_type": "code",
      "execution_count": null,
      "metadata": {
        "id": "vu4XK2w8D2Cc"
      },
      "outputs": [],
      "source": [
        "# インポート\n",
        "from sklearn.model_selection import GridSearchCV\n",
        "from sklearn.svm import SVC\n",
        "\n",
        "# 乳がんのデータを読み込み\n",
        "cancer = load_breast_cancer()\n",
        "\n",
        "# 訓練データとテストデータに分ける\n",
        "X_train, X_test, y_train, y_test = train_test_split(cancer.data,\n",
        "                                                    cancer.target,\n",
        "                                                    stratify = cancer.target,\n",
        "                                                    random_state=0)\n",
        "# GridSearchCVクラスに与えるパラメータを準備\n",
        "param_grid = { 'C': np.logspace(-3, 2, num=6)\n",
        "               ,'gamma':np.logspace(-3, 2, num=6)}\n",
        "\n",
        "# GridSearchCVクラスの初期化\n",
        "gs = GridSearchCV(estimator=SVC(),\n",
        "                  param_grid=param_grid,\n",
        "                  cv=5)\n",
        "\n",
        "# ハイパーパラメータの組み合わせの検証とベストモデルの構築\n",
        "gs.fit(X_train,y_train)\n",
        "\n",
        "# 表示\n",
        "print('Best cross validation score:{:.3f}'.format(gs.best_score_))\n",
        "print('Best parameters:{}'.format(gs.best_params_))\n",
        "print('Test score:{:.3f}'.format(gs.score(X_test,y_test)))"
      ]
    },
    {
      "cell_type": "markdown",
      "metadata": {
        "id": "evm-ba2PD2Cc"
      },
      "source": [
        "3行の出力結果を見ると、上から順に、グリッドサーチによって見つけられたモデルの評価スコア（0.93）、それを与えるハイパーパラメータの組み合わせ、テスト用データにおける評価スコア（0.909）がわかります。\n",
        "\n",
        "グリッドサーチによって見つけられたモデルの評価スコアとは、ここでは学習用データのk分割交差検証によって得られた評価スコアを意味しますが、これがテスト用データのスコアが近いことから、過学習は生じていないと考えられます。\n",
        "\n",
        "\n",
        "Scikit-learnではグリッドサーチの他にランダムサーチも用意されています。詳しくは`sklearn.model_selection`モジュールの`RandomizedSearchCV`クラスの使い方を参照してください。また、よりスマートなパラメータ探索としてベイズ最適化を活用したアプローチ（Hyperoptなど）もあります。"
      ]
    },
    {
      "cell_type": "markdown",
      "metadata": {
        "id": "Zh3mxhO9D2Cc"
      },
      "source": [
        ">**[やってみよう]**\n",
        ">\n",
        ">ランダムサーチやHyperoptについて調べてみましょう。"
      ]
    },
    {
      "cell_type": "markdown",
      "metadata": {
        "id": "Rcx_NMw1D2Cc"
      },
      "source": [
        "#### <練習問題 8-2>\n",
        "乳がんデータに対して、決定木を使ってグリッドサーチと交差検証を実施してください。なお、決定木のパラメータは、木の深さとリーフに含まれるべき最小サンプル数、具体的には、`param_grid = {'max_depth': [2, 3, 4, 5], 'min_samples_leaf': [2, 3, 4, 5]}`と設定してください。"
      ]
    },
    {
      "cell_type": "markdown",
      "metadata": {
        "id": "tegdUhlnD2Cc"
      },
      "source": [
        "### 8.2.3 パフォーマンスチューニング：特徴量の扱い\n",
        "キーワード：バイアスとバリアンスのトレードオフ、特徴量エンジニアリング、特徴選択、特徴抽出、RFE、RFECV"
      ]
    },
    {
      "cell_type": "markdown",
      "metadata": {
        "id": "6MucgNm7D2Cd"
      },
      "source": [
        "本節では、モデルのパフォーマンスチューニングを考える上で重要となる**特徴量（feature）**の扱いについて、以下２つの視点に立って説明します。\n",
        "\n",
        "- 学習不足の場合（underfitting） \n",
        "- 過学習の場合（overfitting）\n",
        "\n",
        "※補足：なお、ここで説明していることは、「バイアスとバリアンスのトレードオフ」といったような見出しとともに専門書でも紹介されていますので、さらに詳細について知りたい方は、これらのキーワードで調べてみるのもよいでしょう。\n",
        "\n",
        "#### 学習不足の場合\n",
        "\n",
        "モデルが過学習はしてないが精度も低い場合、つまり、そもそもの汎化性能が低いケース（underfitting）では、一般的に、特徴量を増やせないかを検討します。具体的には、新しくデータを収集し全く新しい特徴量を追加する、特徴量の計算期間にバリエーションを持たせる、特徴量同士の比率を追加するなどの工夫を凝らすということです。その他、データを水増しする方法などもありますので、興味ある方は調べてみてください。\n"
      ]
    },
    {
      "cell_type": "markdown",
      "metadata": {
        "id": "50Z_u0sLD2Cd"
      },
      "source": [
        "\n",
        "#### 過学習の場合\n",
        "\n",
        "過学習が疑われる場合は、上記の学習不足の場合とは逆に、特徴量の数を減らすことを検討するのが一般的です。データ数に対して特徴量の数が多いと汎化誤差の上限が高まるためです。これを次元の呪いと言います。\n",
        "\n",
        "特徴量の数を削ることを**次元削減（dimension reduction）**と呼びます。次元削減は2つに分類されます。1つは特徴量のサブセットを選択する**特徴選択（feature selection）**、もう1つは元の特徴空間軸を別の空間軸に変換する**特徴抽出（feature extraction）**です。以前学んだ主成分分析（PCA）はこの特徴抽出の基本的手法として広く知られています。前者の特徴選択については、本講座では詳細を割愛しますが、`sklearn.model_selection`モジュールの`RFE`クラスや`RFECV`クラスで実行することができます。\n",
        "\n",
        "どのような特徴量を生成するかを検討することを**特徴量エンジニアリング（feature engineering）**と言います。\n",
        "\n",
        "特徴量エンジニアリングは画像、音声、自然言語、購買履歴などの構造データ、株価などの時系列データといったデータ構造別や、金融、医療、小売、マーケティング、人事、広告、製造といった業種ごとに知見が蓄積されています。現場に蓄積された知見の反映も大切にしましょう。また、次元削減についてはモデルの解釈が優先される場合は特徴選択を基本とするのがよいでしょう。\n",
        "\n",
        "参考文献集の「特徴量エンジニアリングを学べる書籍」も参考にしてください。"
      ]
    },
    {
      "cell_type": "markdown",
      "metadata": {
        "id": "WhI_yXa4D2Cd"
      },
      "source": [
        "### 8.2.4 モデルの種類\n",
        "キーワード：プロファイリングモデル、予測モデル、優良顧客化予測、ブランド購買離反者予測、ブランドスイッチャー予測、新規商品購買者予測、退職者予測、ハイパフォーマー予測"
      ]
    },
    {
      "cell_type": "markdown",
      "metadata": {
        "id": "8yuo8u26D2Cd"
      },
      "source": [
        "本節ではモデルの種類について説明します。これまではモデル構築の対象となるデータの背景、特にデータ生成期間について、特段の注意を払ってきませんでした。教師あり学習のモデル構築のためには、当然、説明変数と目的変数を準備する必要がありますが、実はこれら変数の定義期間の違いで、モデルの種類を分けることができます。たとえば、『データマイニング手法予測・スコアリング編―営業、マーケティング、CRMのための顧客分析』では、モデルを**プロファイリングモデル**と**予測モデル**の2つに分けています。"
      ]
    },
    {
      "cell_type": "markdown",
      "metadata": {
        "id": "lf1N_u2dD2Cd"
      },
      "source": [
        "プロファイリングモデルは、説明変数と目的変数とで、それぞれ同じ期間のデータで生成するモデルです。たとえば、セールスマンを昨年度の営業成績上位10%とその他の2つに分け、同期間におけるセールスマンごとの各種アクティビティを説明変数とするといったようなケースです。\n",
        "\n",
        "一方、予測モデルは、説明変数と目的変数で期間が異なるもので、説明変数は目的変数よりも前の期間から生成されたデータを利用してモデル構築するのが普通です。たとえば、社員の入社から12ヶ月間の各種アクティビティを説明変数とし、入社後13～18ヶ月における退職有無を目的変数などとします。セールス＆マーケティングや人事領域におけるさまざまな予測モデル、優良顧客化予測、ブランド購買離反者予測、ブランドスイッチャー予測、新規商品購買者予測、退職者予測、ハイパフォーマー予測などは、基本的には予測モデル型として説明変数と目的変数が設計されます。\n",
        "\n",
        "その他、予測モデルとしては、株価の予測などのアプローチにも使います。目的変数は未来の情報ですので、モデル構築時の説明変数にその未来情報を入れて予測しても、意味がないので注意しましょう。\n",
        "\n",
        "同じ機械学習のアルゴリズムであっても、分析の目的が対象データの探索的理解なのか予測モデル構築なのかで、準備すべきデータの生成が変わることを理解しましょう。"
      ]
    },
    {
      "cell_type": "markdown",
      "metadata": {
        "nbpresent": {
          "id": "7d39acee-646e-4821-a34b-07455623ced4"
        },
        "id": "-F--lzPID2Ce"
      },
      "source": [
        "## 8.3 モデルの評価指標\n",
        "ゴール：混同行列とROC曲線を理解し、分類モデルの評価指標を説明できるようになる。"
      ]
    },
    {
      "cell_type": "markdown",
      "metadata": {
        "id": "TQo8SfrRD2Ce"
      },
      "source": [
        "次は、モデルを評価する指標について考えます。モデル性能の評価はさまざまな評価指標によって定義できます。本節では、主に分類モデルの評価指標について学びます。具体的には、**適合率（precision）**、**再現率（recall）**、**F1スコア（F1-measure）**、**AUC（Area Under Curve）**について学びます。また、これらの評価指標を理解するために不可欠な**混同行列（confusion matrix）**と**ROC曲線**についても学びます。最後に、回帰アルゴリズムの評価指標について簡単に紹介します。"
      ]
    },
    {
      "cell_type": "markdown",
      "metadata": {
        "nbpresent": {
          "id": "68f8e56f-776d-47fa-b5d7-d6a2f58e8c4a"
        },
        "id": "r6R8yw4uD2Ce"
      },
      "source": [
        "### 8.3.1 分類モデルの評価：混同行列と関連指標\n",
        "キーワード：混同行列、正解率、適合率、再現率、調和平均、F1スコア"
      ]
    },
    {
      "cell_type": "markdown",
      "metadata": {
        "nbpresent": {
          "id": "37437a40-9f41-459c-964a-0c12078bf50b"
        },
        "id": "HoRgEyoTD2Ce"
      },
      "source": [
        "モデルの評価については、これまで主に正解率に主眼をおいてきましたが、モデルの性能を測る指標は正解率の他にもさまざまなものが存在します。それらの指標を理解するため、まずは**混同行列（confusion matrix）**を紹介します。\n",
        "\n",
        "混同行列は分類モデルの評価を考える際の基本となる行列で、モデルの予測値と観測値の関係を表したものです。具体的には以下の図のように4つの区分を持ちます。予測値の正例（positive）、負例（negative）が列に、観測値の正例、負例が行に並んでいます。予測値の値が「positive」または「negative」の名称の元となり、観測値との整合性からtrueまたはfalseに分けられています。\n"
      ]
    },
    {
      "cell_type": "markdown",
      "source": [
        "![スクリーンショット 2022-04-07 22.27.50.png](data:image/png;base64,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)"
      ],
      "metadata": {
        "id": "llRzVyiUNhmj"
      }
    },
    {
      "cell_type": "markdown",
      "metadata": {
        "id": "6U1dyj3vD2Ce"
      },
      "source": [
        "\n",
        "たとえば、予測が正例で実績でも正例ならばTrue positiveになり、予測が負例で実績でも負例ならばTrue negativeになります。この2つのケースは私たちの予測がうまくいったケースとなります。他の場合（False positiveやFalse negative）はうまくいかなかったケースになります。\n",
        "\n",
        "これだけではわかりにくいので、次に実例をみていきます。"
      ]
    },
    {
      "cell_type": "markdown",
      "metadata": {
        "id": "r1X39Z3SD2Cf"
      },
      "source": [
        "#### 混同行列の実例\n",
        "\n",
        "以前扱った乳がんデータ（cancerデータ）を使って、混同行列の取得方法を説明します。まずは次のように、サポートベクターマシンとして分類モデルを構築します。この分類モデルは、乳がんであるグループか、そうでないグループかを「0」（malignant/悪性）か「1」（benign/良性）のどちらかの値で返します。なお、0と1は単なるラベルで、数字の大きさに意味はありません。"
      ]
    },
    {
      "cell_type": "code",
      "execution_count": null,
      "metadata": {
        "nbpresent": {
          "id": "9defd69f-a850-4317-9c5f-ff3d98c807ad"
        },
        "id": "awRYsLjQD2Cf"
      },
      "outputs": [],
      "source": [
        "# インポート\n",
        "from sklearn.svm import SVC\n",
        "\n",
        "# 乳がんのデータを読み込み\n",
        "cancer = load_breast_cancer()\n",
        "\n",
        "# 訓練データとテストデータに分ける\n",
        "X_train, X_test, y_train, y_test = train_test_split(cancer.data,\n",
        "                                                    cancer.target,\n",
        "                                                    stratify=cancer.target,\n",
        "                                                    random_state=66)\n",
        "# クラスの初期化と学習\n",
        "model = SVC(gamma=0.001,C=1)\n",
        "model.fit(X_train,y_train)\n",
        "\n",
        "# 表示\n",
        "print('{} train score: {:.3f}'.format(model.__class__.__name__, model.score(X_train,y_train)))\n",
        "print('{} test score: {:.3f}'.format(model.__class__.__name__ , model.score(X_test,y_test)))"
      ]
    },
    {
      "cell_type": "markdown",
      "metadata": {
        "id": "4gIkcjlCD2Cf"
      },
      "source": [
        "\n",
        "続いて混同行列を取得していきます。混同行列は、`sklearn.metrics`モジュールの`confusion_matrix`関数で取得できます。出力される数値の並びは先の図で記した通り、列に予測値（`y_pred`）、行に観測値（`y_test`）が、正例・負例の順に並びます。"
      ]
    },
    {
      "cell_type": "code",
      "execution_count": null,
      "metadata": {
        "id": "34R5t6HaD2Cf"
      },
      "outputs": [],
      "source": [
        "# インポート\n",
        "from sklearn.metrics import confusion_matrix\n",
        "\n",
        "# テストデータを使って予測値を算出\n",
        "y_pred = model.predict(X_test)\n",
        "\n",
        "m = confusion_matrix(y_test, y_pred)\n",
        "print('Confution matrix:\\n{}'.format(m))"
      ]
    },
    {
      "cell_type": "markdown",
      "metadata": {
        "id": "JnYotw_AD2Cg"
      },
      "source": [
        "これを表にすると以下のようになります。"
      ]
    },
    {
      "cell_type": "markdown",
      "source": [
        "![スクリーンショット 2022-04-07 22.22.19.png](data:image/png;base64,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)"
      ],
      "metadata": {
        "id": "TLLrbNySMncf"
      }
    },
    {
      "cell_type": "markdown",
      "metadata": {
        "id": "YE73DnozD2Cg"
      },
      "source": [
        "以下、この混同行列を使って、**正解率（accuracy）**、**適合率（precision）**、**再現率（recall）**、**F1スコア（f1 score）**ついて説明します。"
      ]
    },
    {
      "cell_type": "markdown",
      "metadata": {
        "nbpresent": {
          "id": "3d722816-e994-4d90-98dc-0e670652c3ce"
        },
        "id": "zLN2gTOID2Cg"
      },
      "source": [
        "#### 正解率\n",
        "\n",
        "正解率は、全体に対して予測が当たった割合です。これまで正解率はScikit-learnの各クラスの`score`メソッドを使って計算してきましたが、混同行列を使うと以下のように計算できます。`score`メソッドの結果と同じ値になっていることを確認しましょう。"
      ]
    },
    {
      "cell_type": "code",
      "execution_count": null,
      "metadata": {
        "nbpresent": {
          "id": "d4502852-8712-429c-940b-eef6bd0560e2"
        },
        "id": "OaKl5hDnD2Cg"
      },
      "outputs": [],
      "source": [
        "accuracy = (m[0, 0] + m[1, 1]) / m.sum()\n",
        "print('正解率:{:.3f}'.format(accuracy))"
      ]
    },
    {
      "cell_type": "markdown",
      "metadata": {
        "id": "QXrbIBvJD2Cg"
      },
      "source": [
        "計算式から分かる通り、目的変数を0と予測して観測値が0であった数（48）と、1と予測して観測値が1であった数（82）の合計（48+82=130）を、行列全体の数（143）で割った値になっています。全体として、どれだけ1と0を正確に予測できているかを見る指標が正解率です。"
      ]
    },
    {
      "cell_type": "markdown",
      "metadata": {
        "id": "WwjBZLeND2Cg"
      },
      "source": [
        "#### 適合率、再現率、F1スコア\n",
        "\n",
        "適合率、再現率は、異なる視点からモデルの評価を可能にします。\n",
        "\n",
        "**適合率**は、1と予測した中で実際にどれだけ1であったかの割合です。異常検知システムがアラートを出した回数のうち、実際に異常であった割合などを想像してください。上の例だと1と予測したのは5+82=87で、その中で観測値も1であった数は$82$なので、$82/87$で約$0.943$になります。\n",
        "\n",
        "**再現率**は、実際は1のデータのうち正しく1と予測できた割合です。たとえば、病気の診断システムで再現率100%といった場合は、実際の病気データについてすべて病気であると予測できている状態です。上の例だと1と観測したのは$8+82=90$で、その中での予測値は$82$なので、$82/90$で約$0.911$になります。\n",
        "\n",
        "**F1スコア**は適合率と再現率の調和平均です。適合率を優先すべきか、再現率を優先すべきかが決まっていない時点で、モデルを総合的に評価する場合などに使われます。なお、調和平均は$2/(1/0.943+1/0.911)$で、約$0.927$になります。なお、調和平均については、統計学の専門書のはじめの方に説明があると思いますので、詳細を知りたい方は調べてみてください。\n",
        "\n",
        "以上の3指標の算出を混同行列の要素を使って表現すると以下のようになります。"
      ]
    },
    {
      "cell_type": "code",
      "execution_count": null,
      "metadata": {
        "nbpresent": {
          "id": "5977723d-8b54-40b7-b94e-a4be91af7037"
        },
        "id": "laIAa4fQD2Ch"
      },
      "outputs": [],
      "source": [
        "# 適合率の計算\n",
        "precision = (m[1,1])/m[:, 1].sum()\n",
        "\n",
        "# 再現率の計算\n",
        "recall = (m[1,1])/m[1, :].sum()\n",
        "\n",
        "# F1スコアの計算\n",
        "f1 = 2 * (precision * recall)/(precision + recall)\n",
        "\n",
        "print('適合率:{:.3f}'.format(precision))\n",
        "print('再現率:{:.3f}'.format(recall))\n",
        "print('F1値:{:.3f}'.format(f1))"
      ]
    },
    {
      "cell_type": "markdown",
      "metadata": {
        "nbpresent": {
          "id": "5bd2cf70-59a7-4e83-859e-63199d3ca56f"
        },
        "id": "1YN7tp_jD2Cm"
      },
      "source": [
        "これらの値は、Scikit-learnの関数を使って求めることもでき、そのほうが簡単です。上記の計算は概念を理解してもらうために1つ1つ計算しましたが、慣れたら以下のようにコーディングしてください。上記と数値が一致していることを確認してください。"
      ]
    },
    {
      "cell_type": "code",
      "execution_count": null,
      "metadata": {
        "nbpresent": {
          "id": "7fb7a671-8650-4a3f-8d72-7b182a1911d4"
        },
        "scrolled": true,
        "id": "KP_ETHRvD2Cm"
      },
      "outputs": [],
      "source": [
        "from sklearn.metrics import precision_score, recall_score, f1_score\n",
        "\n",
        "print('適合率:{:.3f}'.format(precision_score(y_test, y_pred)))\n",
        "print('再現率:{:.3f}'.format(recall_score(y_test, y_pred)))\n",
        "print('F1値:{:.3f}'.format(f1_score(y_test, y_pred)))"
      ]
    },
    {
      "cell_type": "markdown",
      "metadata": {
        "id": "-MC01qG_D2Cm"
      },
      "source": [
        "#### <練習問題 8-3>\n",
        "<練習問題 8-2>で使用した乳がんデータに対して、サポートベクターマシン以外のモデル（ロジスティック回帰分析など）を構築し、混同行列を作ってください。また、テストデータにおける正解率、適合率、再現率、F1値の値をScikit-learnの関数を使って取得して下さい。"
      ]
    },
    {
      "cell_type": "markdown",
      "metadata": {
        "nbpresent": {
          "id": "8d1b3f15-702b-4766-ad41-ab596c266c23"
        },
        "id": "u3nRgJMfD2Cm"
      },
      "source": [
        "### 8.3.2 分類モデルの評価：ROC曲線とAUC\n",
        "キーワード：ROC曲線、AUC"
      ]
    },
    {
      "cell_type": "markdown",
      "metadata": {
        "id": "cvknrZXYD2Cn"
      },
      "source": [
        "前節で学んだ混同行列は、予測結果が正例と負例にラベル付けされていることを前提としますが、モデルの評価時点において、予測ラベルを分ける閾値が事前に決定できるとは限りません。つまり、分類モデルが出力する（予測ラベルではなく）予測確率の値そのものと観測値（1か0か）との関係から、モデルの性能を評価したい場合があり、そのような場合、本節で学ぶ**ROC曲線**と**AUC**が役に立ちます。"
      ]
    },
    {
      "cell_type": "markdown",
      "metadata": {
        "id": "TYVR9d30D2Cn"
      },
      "source": [
        "#### ROC曲線\n",
        "\n",
        "ROC曲線は、縦軸に**真陽性率（tpr: true positive rate）**、横軸に**偽陽性率（fpr: false positive rate）**の値をプロットした曲線です。\n",
        "\n",
        "\n",
        "真陽性率とは、実際の正例のうちどれだけを正例と予測できたかの割合（再現率と同じ）、偽陽性率とは、実際は負例のうち正例と予測されてしまった割合です。予測確率を予測ラベルに変換する際の閾値を0.0と1.0の間で徐々に変化させ、真陽性率と偽陽性率の関係をプロットすることでROC曲線を描きます。"
      ]
    },
    {
      "cell_type": "markdown",
      "metadata": {
        "id": "o5__G8l9D2Cn"
      },
      "source": [
        "![comment](https://www.med.osaka-u.ac.jp/pub/kid/image/roc2.gif)\n",
        "\n",
        "\n",
        "参照URL：(https://www.med.osaka-u.ac.jp/pub/kid/image/roc2.gifg）\n",
        "\n",
        "※縦軸を「真陽性率」として、縦軸を「偽陽性率」としてみてください。"
      ]
    },
    {
      "cell_type": "markdown",
      "metadata": {
        "id": "gHD9xLTQD2Cn"
      },
      "source": [
        "##### 予測確率を閾値で分けて予測ラベルを作る\n",
        "閾値を変化させてROC曲線を描くとはどういうことか理解するため、乳がんデータを使って確認してみましょう。次のプログラムは、ロジスティック回帰モデルを扱う`LogisticRegression`クラスの`predict_proba`メソッドを使って、がんが悪性（malignant：0）か良性（benign：1）かの予測確率を取得するものです。`predict_proba`メソッドの出力は0か1かのラベルではなく、各クラスに分類される予測確率の配列です。ここでは、悪性（malignant：0）を正例、良性（benign：1）を負例として考えます。"
      ]
    },
    {
      "cell_type": "code",
      "execution_count": null,
      "metadata": {
        "nbpresent": {
          "id": "9defd69f-a850-4317-9c5f-ff3d98c807ad"
        },
        "scrolled": true,
        "id": "WaW2jVvND2Cn"
      },
      "outputs": [],
      "source": [
        "# インポート\n",
        "from sklearn.linear_model import LogisticRegression\n",
        "\n",
        "# 乳がんのデータを読み込み\n",
        "cancer = load_breast_cancer()\n",
        "\n",
        "# 訓練データとテストデータに分ける\n",
        "X_train, X_test, y_train, y_test = train_test_split(cancer.data,\n",
        "                                                    cancer.target,\n",
        "                                                    stratify = cancer.target,\n",
        "                                                    random_state=66)\n",
        "# LogisticRegressionクラスの初期化と学習\n",
        "model = LogisticRegression(random_state=0)\n",
        "model.fit(X_train, y_train)\n",
        "\n",
        "# テスト用データの予測確率を計算\n",
        "results = pd.DataFrame(model.predict_proba(X_test), columns=cancer.target_names)\n",
        "\n",
        "# 先頭の5行を表示\n",
        "results.head()"
      ]
    },
    {
      "cell_type": "markdown",
      "metadata": {
        "id": "Dg7bbYDtD2Co"
      },
      "source": [
        "予測確率から予測ラベル分け（「malignant：0」か「benign：1」）するには、単純に50%（0.5）を閾値として、それを超えるかどうかで判断できそうですが、実際はモデルの使用目的、正例の自然発生率などを考慮して閾値を設定します。\n",
        "\n",
        "閾値を変えれば、当然、良性（正例）と予測されるサンプルの数も変わるので、正解率、適合率、再現率も変わります。たとえば、以下のように、閾値を0.4、0.3、0.15、0.05と4パターンの場合を考えてみます。現在、正例である良性（benign）クラスの予測確率に注目します。以下では、良性の予測確率が閾値を超えていたら1、そうでなければ0となるフラグ変数を作成しています。"
      ]
    },
    {
      "cell_type": "code",
      "execution_count": null,
      "metadata": {
        "id": "I7sQjiD1D2Co"
      },
      "outputs": [],
      "source": [
        "# 良性（benign）クラスの予測確率が0.4、0.3、0.15、0.05以上なら、それぞれの列に1を設定する\n",
        "for threshold in [0.4, 0.3, 0.15, 0.05]:\n",
        "    results[f'flag_{threshold}'] = results['benign'].map(lambda x: 1 if x > threshold else 0)\n",
        "\n",
        "# 先頭の10行を表示\n",
        "results.head(10)"
      ]
    },
    {
      "cell_type": "markdown",
      "metadata": {
        "id": "ApY_yuvtD2Co"
      },
      "source": [
        "上記の9行目や10行目（インデックス8と9の行）を見ると、予測確率とフラグの関係が理解しやすいと思います。このように、予測確率と閾値から予測フラグを立てることで、観測値との混同行列が作成可能となり、偽陽性率と真陽性率の値を（閾値ごとに）算出できます。"
      ]
    },
    {
      "cell_type": "markdown",
      "metadata": {
        "id": "FzBGpaMUD2Co"
      },
      "source": [
        "##### ROC曲線をプロットする\n",
        "\n",
        "上記閾値の4パターンだけではROC曲線のごく一部しか表現できないため、以下では、閾値を0.01から0.99の間で50通りとして、偽陽性率と真陽性率をプロットしてみます。labelsで取得している結果が、上記で確認した予測フラグです。"
      ]
    },
    {
      "cell_type": "code",
      "execution_count": null,
      "metadata": {
        "id": "UYpLuGMTD2Co"
      },
      "outputs": [],
      "source": [
        "# 閾値を0.01から0.99の間で50通りとして、偽陽性率と真陽性率を計算\n",
        "rates = {}\n",
        "for threshold in np.linspace(0.01, 0.99, num=50):\n",
        "    labels = results['benign'].map(lambda x: 1 if x > threshold else 0)\n",
        "    m = confusion_matrix(y_test, labels)\n",
        "    rates[threshold] = {'false positive rate': m[0,1] / m[0, :].sum(),\n",
        "                         'true positive rate': m[1,1] / m[1, :].sum()}\n",
        "    \n",
        "# 横軸をfalse positive rate、縦軸をtrue positive rateとしてプロット\n",
        "pd.DataFrame(rates).T.plot.scatter('false positive rate', 'true positive rate')"
      ]
    },
    {
      "cell_type": "markdown",
      "metadata": {
        "id": "qNGn6WLlD2Cp"
      },
      "source": [
        "#### ROC曲線とAUC\n",
        "\n",
        "上ではROC曲線を理解するために、直接プロットしましたが、Scikit-learnのクラスを使っても描画できます。具体的には、`sklearn.metrics`モジュールの`roc_curve`関数を使います。\n",
        "\n",
        "ここでは同じく乳がんデータを使ってサポートベクターマシンのモデルを構築し、予想確率（`y_pred`）を得ます。"
      ]
    },
    {
      "cell_type": "code",
      "execution_count": null,
      "metadata": {
        "nbpresent": {
          "id": "0bc4227a-07d3-464b-8be1-bfcceea9c872"
        },
        "id": "6I-2XI2kD2Cp"
      },
      "outputs": [],
      "source": [
        "# インポート\n",
        "from sklearn import svm\n",
        "from sklearn.metrics import roc_curve, auc\n",
        "\n",
        "# 乳がんのデータを読み込み\n",
        "cancer = load_breast_cancer()\n",
        "\n",
        "# 訓練データとテストデータに分ける\n",
        "X_train, X_test, y_train, y_test = train_test_split(\n",
        "    cancer.data, cancer.target, test_size=0.5, random_state=66)\n",
        "\n",
        "# SVCによる予測確率の取得\n",
        "model = svm.SVC(kernel='linear', probability=True, random_state=0)\n",
        "model.fit(X_train, y_train)\n",
        "\n",
        "# 予測確率を取得\n",
        "y_pred = model.predict_proba(X_test)[:,1]"
      ]
    },
    {
      "cell_type": "markdown",
      "metadata": {
        "id": "FwCcDeBeD2Cp"
      },
      "source": [
        "予測確率（`y_pred`）を得たら観測値（`y_test`）と共に`sklearn.metrics`モジュールの`roc_curve`関数に与えます。すると、偽陽性率（fprとする）と真陽性率（tprとする）の各配列を戻り値として取得できるので、それを描画します。実際の計算と描画は次の段落で行います。\n"
      ]
    },
    {
      "cell_type": "markdown",
      "metadata": {
        "id": "KSOzyGRuD2Cp"
      },
      "source": [
        "##### AUCの計算\n",
        "\n",
        "ではROC曲線を計算し、ここではさらにAUCも計算してみます。AUCの値は`sklearn.metaucs`モジュールの`auc`関数にfprとtprをこの順に与えると取得できます。\n",
        "\n",
        "ROC曲線は、AUC計算で使ったfprとtprの各配列を使って描画します。赤い実線の下の面積がAUCがそれに相当します。ここでは予測スコアがランダムな場合のROC曲線も合わせて描画しています。黒い点線がそれに相当します。\n"
      ]
    },
    {
      "cell_type": "code",
      "execution_count": null,
      "metadata": {
        "id": "Njgbwg5RD2Cp"
      },
      "outputs": [],
      "source": [
        "# 偽陽性率と真陽性率の算出\n",
        "fpr, tpr, thresholds = roc_curve(y_test, y_pred)\n",
        "\n",
        "# AUCの算出\n",
        "auc = auc(fpr, tpr)\n",
        "\n",
        "# ROC曲線の描画\n",
        "plt.plot(fpr, tpr, color='red', label='ROC curve (area = %.3f)' % auc)\n",
        "plt.plot([0, 1], [0, 1], color='black', linestyle='--')\n",
        "\n",
        "plt.xlim([0.0, 1.0])\n",
        "plt.ylim([0.0, 1.05])\n",
        "plt.xlabel('False positive rate')\n",
        "plt.ylabel('True positive rate')\n",
        "plt.title('Receiver operating characteristic')\n",
        "plt.legend(loc=\"best\")"
      ]
    },
    {
      "cell_type": "markdown",
      "metadata": {
        "id": "3piYdWILD2Cp"
      },
      "source": [
        "#### 理想的なROC曲線とAUC\n",
        "\n",
        "ROC曲線の形状は、閾値を（1.0を超える値から）徐々に小さくしたとき、原点から真陽性率だけが上昇するのが理想です。つまり、原点から座標(0,1)に向けて垂直移動し、その後、座標 (1,1)に水平移動するものが最適理想曲線となります。\n",
        "\n",
        "逆に、予測確率がランダムな場合、真陽性率も偽陽性率も等しく上昇することが期待されるので、ROC曲線は原点から傾き1の直線となります。機械学習によって構築されたモデルは、通常、ランダムな場合と最適理想曲線の間にプロットされ、より膨らみを持つことが期待されます。\n",
        "\n",
        "AUCはROC曲線の形状に基づくモデルの評価指標のことで、ROC曲線と横軸で囲まれる面積の値です。つまり、最適理想曲線では1.0、予測確率がランダムな場合は0.5となります。\n",
        "\n",
        "上記より、本ケースのAUCは0.992であることから、ランダムと比べると、かなり高い性能を有したモデルであると確認できます。ROC曲線やAUCについては『戦略的データサイエンス入門―ビジネスに活かすコンセプトとテクニック』や『Fundamentals of Machine Learning for Predictive Data Analytics: Algorithms, Worked Examples, and Case Studies (MIT Press) 』などが参考になりますので、余裕がある方は読んでみてください。"
      ]
    },
    {
      "cell_type": "markdown",
      "metadata": {
        "id": "QuVyz3OmD2Cq"
      },
      "source": [
        "混同行列の作成、ROC曲線の形状比較、そして適合率、再現率、F1スコア、AUCの大小比較は、モデル選択をする際の基礎的な根拠となります。ただし、あくまでもそれは選択候補のモデル間に、相対的な順番を与えるものに過ぎませんから、モデルを活用したときに得られであろうビジネス成果との関係を理解することなく、単なる数値追求だけとなることは避けるよう留意しましょう。"
      ]
    },
    {
      "cell_type": "markdown",
      "metadata": {
        "id": "0p8gs3hQD2Cq"
      },
      "source": [
        "#### 不均衡データ下におけるAUCの活用\n",
        "\n",
        "最後に、AUC活用の意義を補足します。8.3.2の冒頭では、閾値が不明瞭な段階では混同行列が一意に定まらない点を指摘しました。\n",
        "\n",
        "AUCを活用すると、不均衡データ（imbalanced data）に対応できます。たとえば、あるスーパーで商品Aを買う人が全体の5%だったとします。予測モデルを構築し、予測確率上位5人が商品Aを買うと予測フラグ立てされるとしましょう。このとき、買うと予測された5人（フラグ1が立っている人）のいずれも正解ではなかった（未購買であった）とします。混同行列に当てはめると以下のようなケースです。全体を100人としています。"
      ]
    },
    {
      "cell_type": "markdown",
      "source": [
        "![スクリーンショット 2022-04-07 22.08.16.png](data:image/png;base64,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)"
      ],
      "metadata": {
        "id": "XXEw9f7TJCdu"
      }
    },
    {
      "cell_type": "markdown",
      "metadata": {
        "id": "fGbTMHV7D2Cq"
      },
      "source": [
        "この場合、適合率は0%ですが、正解率は90％となります。もしモデルの精度を正解率だけでみると、90%の正解率は一見良さそうなモデルに見えてしまいます。しかし、予測したい人は買う人ですから、適合率0%のモデルは、意味のあるモデル構築の結果とは言えません。\n",
        "\n",
        "この例のように「買う人が100人中5人」といった、それぞれのクラスのサンプル数に偏りがある状況下では、正解率は好ましい指標とは言えません。その点、AUCであれば、各クラスのサンプル数の偏りは、fpr（偽陽性率）とtpr（真陽性率）の分母として使われるため吸収されます。つまり、AUCは不均衡データ下におけるモデルの評価時にも耐えられる指標と言えます。"
      ]
    },
    {
      "cell_type": "markdown",
      "metadata": {
        "id": "3hMrdgB3D2Cq"
      },
      "source": [
        "#### <練習問題 8-4>\n",
        "以前練習問題で使用したアヤメのデータ（iris）に対して、目的変数をiris.targetとしたSVCを用いた多クラス分類のモデルを作り、そのROC曲線とAUCを計算してください。多クラス分類のモデルを作るには、`sklearn.multiclass`モジュールの`OneVsRestClassifier`クラスを用いてください。"
      ]
    },
    {
      "cell_type": "markdown",
      "metadata": {
        "id": "q4NWw_zGD2Cq"
      },
      "source": [
        "### 8.3.3 回帰モデルの評価指標\n",
        "キーワード：MSE、MAE、MedAE、R2スコア"
      ]
    },
    {
      "cell_type": "markdown",
      "metadata": {
        "id": "SM1-7oueD2Cq"
      },
      "source": [
        "前節までは分類モデルの評価指標について学びましたが、本節では回帰モデルの評価指標について紹介します。\n",
        "\n",
        "回帰モデルは訓練データの目的変数が株価や物件価格などの数値であるため、比較的直感的な指標でモデルを評価することができます。主な評価指標は、以下の通りです。\n",
        "\n",
        "#### 平均二乗誤差（Mean Squared Error：MSE）\n",
        "予測値と正解の差（残差）の二乗をサンプルごとに足し上げたものを残差平方和（sum of squared errors：SSE）と言います。そしてそれを最後にサンプル数で割ることで得られるものが平均二乗誤差MSEです。MSEはシンプルでわかりやすい指標のため、さまざまなアルゴリズムの性能評価に使用されます。\n",
        "\n",
        "#### 平均絶対誤差（Mean Absolute Error：MAE)\n",
        "残差の絶対値をサンプルごとに足し上げ、最後にサンプル数で割ることで得られるのが平均絶対誤差MAEです。MSEと比べ残差が二乗されていない分、（予測の）外れ値の影響を受けにくいという特徴があります。\n",
        "\n",
        "#### Median Absolute Error（MedAE）\n",
        "残差の絶対値の中央値がMedAEです。MAEよりも更に外れ値に堅牢（ロバスト）な評価指標です。\n",
        "\n",
        "#### 決定係数（R2）\n",
        "決定係数（$R^{2}$）は、検証データの平均値で予測をした場合の残差平方和$SST$（sum of squared total）と、モデルの残差平方和$SSE$（sum of squared errors）の比率で、$R^{2}=1-SSE/SST$と定義されます。平均値予測という最もナイーブな予測に対して二乗誤差をどれだけ削れたかを示す指標で、誤差をすべてなくせば1.0、平均値予測と同等で0.0になります。$R^{2}$の範囲は、通常0〜１の値を取りますが、負になる可能性があることを留意しましょう。"
      ]
    },
    {
      "cell_type": "markdown",
      "metadata": {
        "id": "qZMSolIVD2Cr"
      },
      "source": [
        "#### 回帰モデル評価の実例\n",
        "\n",
        "それでは回帰用のサンプルデータセットであるHousingデータセットを使って、回帰モデルの評価指標の取得方法を見ていきましょう。\n",
        "\n",
        "Housingデータセットは、ボストン近郊地域に関するエリア属性（犯罪発生率や低所得者の割合など）と住宅価格の中央値（MEDV）を変数として持っています。データの先頭5行を表示した結果は、次の通りです。"
      ]
    },
    {
      "cell_type": "code",
      "source": [
        "# Housingデータセットを読み込み\n",
        "data_url = \"http://lib.stat.cmu.edu/datasets/boston\"\n",
        "raw_df = pd.read_csv(data_url, sep=\"\\s+\", skiprows=22, header=None)\n",
        "data = np.hstack([raw_df.values[::2, :], raw_df.values[1::2, :2]])\n",
        "target = raw_df.values[1::2, 2]\n",
        "\n",
        "# DataFrameにデータを格納\n",
        "X = pd.DataFrame(data, columns=['CRIM','ZN','INDUS','CHAS','NOX','RM','AGE','DIS','RAD','TAX','PTRATIO','B','LSTAT'])\n",
        "\n",
        "# 住宅価格の中央値（MEDV）のデータを用意\n",
        "y = pd.Series(target, name='MEDV')\n",
        "\n",
        "# Xとyを結合して先頭の5行を表示\n",
        "X.join(y).head()"
      ],
      "metadata": {
        "id": "ZR90FQb7oR-R"
      },
      "execution_count": null,
      "outputs": []
    },
    {
      "cell_type": "markdown",
      "metadata": {
        "id": "_y-NO1TXD2Cr"
      },
      "source": [
        "以下では、この`MEDVを目的変数`として「重回帰モデル（LinearRegression）」「リッジ回帰モデル（Ridge）」「決定木（回帰木）モデル（DecisionTreeRegressor）」「線形サポートベクター回帰（LinearSVR）」でモデルを構築し、それぞれのモデルに対してMAE、MSE、MedAE、R2の各評価値を算出するプログラムです。評価にはホールドアウト法を採用しました。"
      ]
    },
    {
      "cell_type": "code",
      "execution_count": null,
      "metadata": {
        "id": "kodAXIzKD2Cr"
      },
      "outputs": [],
      "source": [
        "# インポート\n",
        "from sklearn.preprocessing import StandardScaler\n",
        "from sklearn.model_selection import cross_val_score\n",
        "from sklearn.linear_model import LinearRegression, Ridge\n",
        "from sklearn.tree import DecisionTreeRegressor\n",
        "from sklearn.svm import LinearSVR\n",
        "from sklearn.metrics import mean_squared_error, mean_absolute_error, median_absolute_error, r2_score\n",
        "\n",
        "# 訓練データとテストデータに分ける\n",
        "X_train, X_test, y_train, y_test = train_test_split(X, y, test_size=0.5, random_state=0)\n",
        "\n",
        "# 標準化処理\n",
        "sc = StandardScaler()\n",
        "sc.fit(X_train)\n",
        "X_train = sc.transform(X_train)\n",
        "X_test = sc.transform(X_test)\n",
        "\n",
        "# モデルの設定\n",
        "models = {\n",
        "    'LinearRegression': LinearRegression(),\n",
        "    'Ridge': Ridge(random_state=0),\n",
        "    'DecisionTreeRegressor': DecisionTreeRegressor(random_state=0),\n",
        "    'LinearSVR': LinearSVR(random_state=0)\n",
        "}\n",
        "\n",
        "# 評価値の計算\n",
        "scores = {}\n",
        "for model_name, model in models.items():\n",
        "    model.fit(X_train, y_train)\n",
        "    scores[(model_name, 'MSE')] = mean_squared_error(y_test, model.predict(X_test))\n",
        "    scores[(model_name, 'MAE')] = mean_absolute_error(y_test, model.predict(X_test))\n",
        "    scores[(model_name, 'MedAE')] = median_absolute_error(y_test, model.predict(X_test))\n",
        "    scores[(model_name, 'R2')] = r2_score(y_test, model.predict(X_test))\n",
        "\n",
        "#表示\n",
        "pd.Series(scores).unstack()"
      ]
    },
    {
      "cell_type": "markdown",
      "metadata": {
        "id": "Lx4gXx9CD2Cr"
      },
      "source": [
        "上記の結果より、決定木モデルは、R2が一番高く、MAEやMSEは一番低くなっており、比較的良いモデルのようです。\n",
        "\n",
        "なお上記では、ホールドアウト法において評価指標を取得していますが、もちろん交差検証においても各評価指標を取得することができます。k分割交差検証の場合は、それを行うための`cross_val_score`関数にある引数`scoring`を設定することで戻り値を変更できます。詳しくはScikit-learnの公式ドキュメントを確認してください。"
      ]
    },
    {
      "cell_type": "markdown",
      "metadata": {
        "nbpresent": {
          "id": "8dde98a1-c217-435e-8e40-04726f81c810"
        },
        "id": "wcNX8ervD2Cs"
      },
      "source": [
        "## 8.4 アンサンブル学習\n",
        "ゴール：アンサンブル学習の概要を理解し、代表的手法（ランダムフォレスト、勾配ブースティング）を使えるようになる"
      ]
    },
    {
      "cell_type": "markdown",
      "metadata": {
        "id": "zrd9TrQ3D2Cs"
      },
      "source": [
        "これまでに教師あり学習のさまざまなアルゴリズム（決定木、ロジスティック回帰、サポートベクターマシンなど）を個別に学びましたが、ここでは複数のモデルを組み合わせて予測する**アンサンブル学習（ensemble learning）**について学びます。具体的には**バギング（bagging）**、**ブースティング（boosting）**について学びます。またバギングとブースティングの中でも代表的なアルゴリズムとして**ランダムフォレスト（Random Forest）**と**勾配ブースティング（Gradient Boosting）**について学びます。\n",
        "\n",
        "個別のアルゴリズムのチューニングでは突破できない性能を、アンサンブル学習では実現できる可能性があります。精度追求が重要な局面においてアンサンブル学習は重要な1つのオプションとなり得ます。アンサンブル学習の例えとして、「3人寄れば文殊の知恵」ということがよく言われ、そのイメージです。"
      ]
    },
    {
      "cell_type": "markdown",
      "metadata": {
        "nbpresent": {
          "id": "e6915802-e367-4954-a288-d6eb60679066"
        },
        "id": "vYaVIo_bD2Cs"
      },
      "source": [
        "### 8.4.1 バギング\n",
        "キーワード：バギング、復元抽出、ブートストラップ"
      ]
    },
    {
      "cell_type": "markdown",
      "metadata": {
        "nbpresent": {
          "id": "2fe0b239-51f7-43bb-8d66-663806a9bae8"
        },
        "id": "73g37mjwD2Cs"
      },
      "source": [
        "**バギング（bootstrap aggregating: bagging）**は、まず元の学習データ（$n$行）からランダムに$n$行のデータを復元抽出（重複を許して抽出）し、新しい学習データを作成するということを繰り返します（ブートストラップと言います）。\n",
        "\n",
        "そして、その取り出したデータそれぞれに対して、一つ一つモデルを作成し、モデルの結果を集約して予測をします。結果の集約は分類であれば多数決、回帰であれば平均値を取るなどします。元の学習データと少しずつ異なる学習データに対してモデルが構築されるので、モデルが過学習傾向にある時、バギングによって汎化性能を向上させられる可能性があります。以下の図がイメージしやすいです。なお、学習器とは、今まで扱ってきたk-NNなどになります。"
      ]
    },
    {
      "cell_type": "markdown",
      "metadata": {
        "id": "-hyBoVr2D2Cs"
      },
      "source": [
        "![comment](https://image.slidesharecdn.com/random-120310022555-phpapp02/95/-14-728.jpg?cb=1331347003)"
      ]
    },
    {
      "cell_type": "markdown",
      "metadata": {
        "id": "6kMr9kJkD2Cs"
      },
      "source": [
        "参照URL:https://image.slidesharecdn.com/random-120310022555-phpapp02/95/-14-728.jpg?cb=1331347003"
      ]
    },
    {
      "cell_type": "markdown",
      "metadata": {
        "id": "ZeXnaq9lD2Cs"
      },
      "source": [
        "#### バギングの実例\n",
        "\n",
        "以下がバギングの実行例になります。乳がんのデータを使ってk-NNモデルでバギングしてモデルを構築する例です。`sklearn.ensemble`モジュールの`BaggingClassifier`クラスを使っています。なお、回帰用のクラスもあるので、そちらについてはScikit-learnの公式ドキュメントを確認ください。"
      ]
    },
    {
      "cell_type": "code",
      "execution_count": null,
      "metadata": {
        "nbpresent": {
          "id": "4e01bf25-8206-4766-91b0-4e0630bae663"
        },
        "id": "F03QfC8oD2Ct"
      },
      "outputs": [],
      "source": [
        "# インポート\n",
        "from sklearn.ensemble import BaggingClassifier\n",
        "from sklearn.neighbors import KNeighborsClassifier\n",
        "from sklearn.model_selection import train_test_split\n",
        "\n",
        "# 乳がんのデータを読み込み\n",
        "cancer = load_breast_cancer()\n",
        "\n",
        "# 訓練データとテストデータに分ける\n",
        "X_train, X_test, y_train, y_test = train_test_split(\n",
        "    cancer.data, cancer.target, stratify = cancer.target, random_state=66)\n",
        "\n",
        "# k-NNモデルとそのバギングの設定\n",
        "models = {\n",
        "    'kNN': KNeighborsClassifier(),\n",
        "    'bagging': BaggingClassifier(KNeighborsClassifier(), n_estimators=100, random_state=0) \n",
        "}\n",
        "\n",
        "# モデル構築\n",
        "scores = {}\n",
        "for model_name, model in models.items():\n",
        "    model.fit(X_train, y_train)\n",
        "    scores[(model_name, 'train_score')] = model.score(X_train, y_train)\n",
        "    scores[(model_name, 'test_score')] = model.score(X_test, y_test)\n",
        "\n",
        "# 結果を表示\n",
        "pd.Series(scores).unstack()"
      ]
    },
    {
      "cell_type": "markdown",
      "metadata": {
        "id": "3bej-WBCD2Ct"
      },
      "source": [
        "上記では引数`n_estimators`を100として、k-NNのモデルを100個でバギングしています。訓練スコア（`train_score`）の値はほぼ同等ですが、テストスコア（`test_score`）の値が上昇していることを確認できます。\n",
        "\n",
        "`BaggingClassifier`クラスは他に`max_samples`（デフォルトは1.0）、`max_features`（デフォルトは1.0）というパラメータを持ちます。前者はブートストラップをする時に元のデータの何割抽出するかを指定します。0.5とすれば元の訓練データが100件あれば50件の標本が抽出されます。後者は説明変数をどの程度サンプリングするかの指定で、0.5とすれば全変数のうちの半分でモデルが学習されます。\n",
        "\n",
        "元のモデルが過学習しているときは、手元のデータをそのまますべて使わないようにし、説明変数に（標本ごとに）多様性を与えることで、有効な過学習対策になる可能性があることを覚えておきましょう。"
      ]
    },
    {
      "cell_type": "markdown",
      "metadata": {
        "id": "5_OYhGnXD2Ct"
      },
      "source": [
        ">**[やってみよう]**\n",
        ">\n",
        ">BaggingClassifierのパラメータについて調べてみましょう。"
      ]
    },
    {
      "cell_type": "markdown",
      "metadata": {
        "id": "oDHOBkeWD2Ct"
      },
      "source": [
        "#### <練習問題 8-5>\n",
        "アヤメのデータセットを対象にバギングを使って、目的変数（`iris.target`）を予測するモデルを構築し検証しましょう。また、パラメータとして何を調整しますか。調べて実行してみましょう。"
      ]
    },
    {
      "cell_type": "markdown",
      "metadata": {
        "nbpresent": {
          "id": "3ab7decc-5e67-427c-a056-efcad0844eec"
        },
        "id": "4CpLrEqmD2Ct"
      },
      "source": [
        "### 8.4.2 ブースティング\n",
        "キーワード：ブースティング、アダブースト"
      ]
    },
    {
      "cell_type": "markdown",
      "metadata": {
        "nbpresent": {
          "id": "5590361b-9271-466b-b251-28ed37166496"
        },
        "id": "dLXZqN9QD2Cu"
      },
      "source": [
        "前節のバギングでは、ブートストラップによって抽出された複数の標本に対して（個別に）複数のモデルが構築されます。一方、本節で学ぶ**ブースティング（boosting）**は、学習データもモデルも逐次的に生成・構築されていきます。\n",
        "\n",
        "もう少し詳細に述べると、まずオリジナルの学習データに対し最初のモデルが構築されます。この時点で予測と正解を比較して合致しているサンプル、外しているサンプルを把握します。そして外したサンプルが、次のモデル構築の段階で重視されるように新しい学習データが生成されます。このようなステップが繰り返される過程でモデルも逐次的に複数構築されるのです。最後に、それらの予測値を組み合わせることで汎化性能の向上が図られます。なお、ブースティングは学習不足（underfitting）傾向の時に効果的な手法と言われています。\n",
        "\n",
        "下記に、参照URLを載せます。順番に（逐次的に）モデルを構築しているイメージです。"
      ]
    },
    {
      "cell_type": "markdown",
      "metadata": {
        "id": "vZn7v5T3D2Cu"
      },
      "source": [
        "![comment](https://cdn-ak.f.st-hatena.com/images/fotolife/S/St_Hakky/20170728/20170728171209.jpg)"
      ]
    },
    {
      "cell_type": "markdown",
      "metadata": {
        "id": "2jRsyuaLD2Cu"
      },
      "source": [
        "参照URL：https://cdn-ak.f.st-hatena.com/images/fotolife/S/St_Hakky/20170728/20170728171209.jpg"
      ]
    },
    {
      "cell_type": "markdown",
      "metadata": {
        "nbpresent": {
          "id": "5590361b-9271-466b-b251-28ed37166496"
        },
        "id": "4BJ5apWxD2Cu"
      },
      "source": [
        "#### ブースティングの実例\n",
        "\n",
        "ブースティングの実例を示します。決定木モデル（DecisionTreeRegressor）をブースティングするものです。ブースティングには、`sklearn.ensemble`モジュールの`AdaBoostRegressor`クラスの使います。ブースティングのアルゴリズムには、他にLPBoost、BrownBoost、LogitBoostなどがありますので、興味のある方は「ブースティング」やこれらのキーワードで調べてみてください。"
      ]
    },
    {
      "cell_type": "code",
      "execution_count": null,
      "metadata": {
        "nbpresent": {
          "id": "bbc868c4-04cb-4bd4-98f5-5f5cbec214f7"
        },
        "id": "Xgvk4gZkD2Cv"
      },
      "outputs": [],
      "source": [
        "# インポート\n",
        "from sklearn.tree import DecisionTreeRegressor\n",
        "from sklearn.ensemble import AdaBoostRegressor\n",
        "\n",
        "# 訓練データとテストデータに分ける\n",
        "X_train, X_test, y_train, y_test = train_test_split(\n",
        "    data, target, random_state=66)\n",
        "\n",
        "# 決定木とAdaBoostRegressorのパラメータ設定\n",
        "models = {\n",
        "    'tree': DecisionTreeRegressor(random_state=0),\n",
        "    'AdaBoost': AdaBoostRegressor(DecisionTreeRegressor(), random_state=0) \n",
        "}\n",
        "\n",
        "# モデル構築\n",
        "scores = {}\n",
        "for model_name, model in models.items():\n",
        "    model.fit(X_train, y_train)\n",
        "    scores[(model_name, 'train_score')] = model.score(X_train, y_train)\n",
        "    scores[(model_name, 'test_score')] = model.score(X_test, y_test)\n",
        "\n",
        "# 結果を表示\n",
        "pd.Series(scores).unstack()"
      ]
    },
    {
      "cell_type": "markdown",
      "metadata": {
        "id": "HsvEZkgYD2Cv"
      },
      "source": [
        "決定木を単体で使う場合のテストスコアは約0.69止まりですが、AdaBoostRegressorクラスを使ったアンサンブル学習に切り替えるとテストスコアが約0.93と大きく向上していることがわかります。このようにアンサンブル学習は精度追求局面においては大変強力なオプションになり得ることを覚えておきましょう。\n",
        "\n",
        "ただし今回のアダブーストの結果は、やや過学習傾向にある点（学習データとテストデータとのスコアにやや乖離がある）は留意すべきでしょう。"
      ]
    },
    {
      "cell_type": "markdown",
      "metadata": {
        "id": "GdpEQdJZD2Cv"
      },
      "source": [
        ">**[やってみよう]**\n",
        ">\n",
        ">AdaBoostRegressorのパラメータについて調べてみましょう。上の過学習を防ぐために、どうやってパラメータを設定しますか。"
      ]
    },
    {
      "cell_type": "markdown",
      "metadata": {
        "id": "9ZjH48ElD2Cv"
      },
      "source": [
        "#### <練習問題 8-6>\n",
        "アヤメのデータセットを対象にブースティング（`AdaBoostRegressor`クラス）を使って、目的変数（`iris.target`）を予測するモデルを構築し検証しましょう。また、パラメータとして何を調整しますか。調べて実行してみましょう。"
      ]
    },
    {
      "cell_type": "markdown",
      "metadata": {
        "nbpresent": {
          "id": "3a9f1179-e831-4309-b484-956d56d31bff"
        },
        "id": "JJyrhpWCD2Cv"
      },
      "source": [
        "### 8.4.3 ランダムフォレスト、勾配ブースティング\n",
        "キーワード：ランダムフォレスト、勾配ブースティング、変数の重要度、Partial Dependence Plots"
      ]
    },
    {
      "cell_type": "markdown",
      "metadata": {
        "nbpresent": {
          "id": "e74ef6b4-04aa-4c74-8fbc-1a0a657ccaf7"
        },
        "id": "NWhDwOVnD2Cv"
      },
      "source": [
        "本節では、バギングとブースティングの中でも代表的なものである**ランダムフォレスト（Random Forest）**と**勾配ブースティング（Gradient Boosting）**の使い方を紹介します。いずれも、ベースとしているアルゴリズムは決定木です。\n",
        "\n",
        "アンサンブル学習を手軽に実行する場合、上記のいずれかのアルゴリズムが採用されるケースが多いです。機械学習の初学者であれば、考え方を8.3.1と8.3.2で理解し、実際のモデル構築はこれらアルゴリズムで行うというスタートが良いと思われます。\n",
        "\n",
        "またモデル結果の解釈性が優先される場合は、ロジスティック回帰や決定木など、よりシンプルなモデルを採用した方が良い局面もあることは留意しておきましょう。\n",
        "\n",
        "#### ランダムフォレストと勾配ブースティングの実例\n",
        "\n",
        "実際にランダムフォレストと勾配ブースティングを使ったプログラム例を見てみましょう。データはHousingデータを使いました。"
      ]
    },
    {
      "cell_type": "code",
      "execution_count": null,
      "metadata": {
        "nbpresent": {
          "id": "b3e4a413-9116-4c83-b514-85d691b3c5b4"
        },
        "id": "Gxju1WZsD2Cw"
      },
      "outputs": [],
      "source": [
        "# インポート\n",
        "from sklearn.ensemble import RandomForestRegressor, GradientBoostingRegressor\n",
        "\n",
        "# 訓練データとテストデータに分ける\n",
        "X_train, X_test, y_train, y_test = train_test_split(\n",
        "    data, target, random_state=66)\n",
        "\n",
        "# ランダムフォレストと勾配ブースティングのパラメータ設定\n",
        "models = {\n",
        "    'RandomForest': RandomForestRegressor(random_state=0),\n",
        "    'GradientBoost': GradientBoostingRegressor(random_state=0) \n",
        "}\n",
        "\n",
        "# モデル構築\n",
        "scores = {}\n",
        "for model_name, model in models.items():\n",
        "    model.fit(X_train, y_train)\n",
        "    scores[(model_name, 'train_score')] = model.score(X_train, y_train)\n",
        "    scores[(model_name, 'test_score')] = model.score(X_test, y_test)\n",
        "\n",
        "# 結果を表示\n",
        "pd.Series(scores).unstack()"
      ]
    },
    {
      "cell_type": "markdown",
      "metadata": {
        "id": "lkmYNf_RD2Cw"
      },
      "source": [
        "#### 変数の重要度\n",
        "\n",
        "上記の結果から、Housingデータに対しては、勾配ブースティングの性能が高そうであることがわかります。\n",
        "\n",
        "先に、アンサンブル学習のモデルの解釈性（の低さ）について言及しましたが、モデル構築の中でどの変数が重要な役割を担ったかを定量的に把握することができます。具体的には各オブジェクトが持つ`feature_importmnces`属性にアクセスすることで、**変数の重要度（feature importance）**を取得することができます。実際に取得すると、次のようになります。"
      ]
    },
    {
      "cell_type": "code",
      "execution_count": null,
      "metadata": {
        "nbpresent": {
          "id": "9b799e4e-a621-40ab-ab75-43a3d4f93787"
        },
        "id": "_bxdnw_WD2Cw"
      },
      "outputs": [],
      "source": [
        "# feature_importmnces属性を取得\n",
        "s = pd.Series(models['RandomForest'].feature_importances_,\n",
        "              index=['CRIM','ZN','INDUS','CHAS','NOX','RM','AGE','DIS','RAD','TAX','PTRATIO','B','LSTAT'])\n",
        "\n",
        "# 取得した値を降順に表示\n",
        "s.sort_values(ascending=False).plot.bar(color='C0')"
      ]
    },
    {
      "cell_type": "markdown",
      "metadata": {
        "nbpresent": {
          "id": "1ce0b765-9b83-4b45-96aa-c623b52c56a3"
        },
        "id": "BJTKheapD2Cw"
      },
      "source": [
        "変数の重要度は、以前登場した情報利得をベースに計算されています。そのため変数の重要度を見ても回帰係数のような解釈は困難です。ただし、相対的な大小関係から、どの変数がモデル構築において重要であったかは示してくれますし、この変数が効果的であろうという直感と整合的な結果になることも少なくありませんから、確認する癖を付けておくことは大切です。\n",
        "\n",
        "また、重要変数に絞り、説明変数と目的変数の関係を深堀りすれば、それがなぜモデル構築に役立ったか考察することもできます。\n",
        "\n",
        "本講座では割愛しますが、Partial Dependence Plots（PDP）という、説明変数の大小と予測値の大小関係性を図解してくれる関数も存在します。Scikit-learnでは`plot_partial_dependence`関数が用意されていますので、更に理解を深めたい方は[公式ドキュメント](https://scikit-learn.org/stable/modules/ensemble.html)を参照ください。"
      ]
    },
    {
      "cell_type": "markdown",
      "metadata": {
        "id": "sCae6MkvD2Cw"
      },
      "source": [
        "### 8.4.4　今後の学習に向けて\n",
        "最後に、今後の学習のための参考書を紹介します。具体的な書籍情報は参考文献集「さらに機械学習を理解したい方向けの書籍」にまとめています。後半は少し難易度がある機械学習の本で、より理論的な知識や実装を身につけたい方にオススメです。ある程度数学的なバックグランドも必要ですが、本講座を終えた後であれば大丈夫だと思います。"
      ]
    },
    {
      "cell_type": "markdown",
      "metadata": {
        "nbpresent": {
          "id": "ff81feaa-f2c9-47f7-a4d9-cdeef082c401"
        },
        "id": "UTIqDdylD2Cx"
      },
      "source": [
        "「さらに機械学習を理解したい方向けの書籍」はどちらかというと比較的数式が多く、あまりビジネス的な視点では多くは書かれていません。『戦略的データサイエンス入門―ビジネスに活かすコンセプトとテクニック』は、ビジネスでデータサイエンスを活かす視点で記載されていますので、ぜひ参考にしてください。"
      ]
    },
    {
      "cell_type": "markdown",
      "metadata": {
        "id": "Mnwf-3PvD2Cy"
      },
      "source": [
        "#### <練習問題 8-7>\n",
        "アヤメのデータを対象にランダムフォレストと勾配ブースティングを使って、目的変数（`iris.target`）を予測するモデルを構築し検証しましょう。また、パラメータとして何を調整しますか。調べて実行してみましょう。"
      ]
    },
    {
      "cell_type": "markdown",
      "metadata": {
        "nbpresent": {
          "id": "6b498642-823c-4eee-b6bb-fc237e248240"
        },
        "id": "QACdVFDRD2Cy"
      },
      "source": [
        "## 8.5 総合問題"
      ]
    },
    {
      "cell_type": "markdown",
      "metadata": {
        "nbpresent": {
          "id": "0950100e-332d-4f7d-a865-47c554e73ef8"
        },
        "id": "LmJET3v1D2Cy"
      },
      "source": [
        "### ■総合問題8-1 教師あり学習の用語（2）"
      ]
    },
    {
      "cell_type": "markdown",
      "metadata": {
        "nbpresent": {
          "id": "0950100e-332d-4f7d-a865-47c554e73ef8"
        },
        "id": "dVaaVmokD2Cy"
      },
      "source": [
        "以下の用語について、それぞれの役割やその意味について述べてください。\n",
        "- 過学習\n",
        "- ホールドアウト法\n",
        "- 交差検証法\n",
        "- グリッドサーチ\n",
        "- 特徴量\n",
        "- 特徴選択\n",
        "- 特徴抽出\n",
        "- 混同行列\n",
        "- ROC曲線\n",
        "- 適合率\n",
        "- 再現率\n",
        "- 正解率\n",
        "- F1スコア\n",
        "- 真陽性率（True Positive Rate）\n",
        "- 偽陽性率（False Positive Rate）\n",
        "- AUC\n",
        "- ブートストラップ法\n",
        "- アンサンブル学習\n",
        "- バギング\n",
        "- ブースティング\n",
        "- ランダムフォレスト"
      ]
    },
    {
      "cell_type": "markdown",
      "metadata": {
        "nbpresent": {
          "id": "0950100e-332d-4f7d-a865-47c554e73ef8"
        },
        "id": "xE7wLxOZD2Cy"
      },
      "source": [
        "### ■総合問題8-2 交差検証"
      ]
    },
    {
      "cell_type": "markdown",
      "metadata": {
        "id": "zyBuh3JAD2Cy"
      },
      "source": [
        "乳がんデータセットを使って、予測モデル（ロジスティック回帰、SVM、決定木、k-NN、ランダムフォレスト、勾配ブースティング）を構築し交差検証（5分割）により、どのモデルが一番良いか確認してください。"
      ]
    }
  ],
  "metadata": {
    "anaconda-cloud": {},
    "kernelspec": {
      "display_name": "Python 3",
      "language": "python",
      "name": "python3"
    },
    "language_info": {
      "codemirror_mode": {
        "name": "ipython",
        "version": 3
      },
      "file_extension": ".py",
      "mimetype": "text/x-python",
      "name": "python",
      "nbconvert_exporter": "python",
      "pygments_lexer": "ipython3",
      "version": "3.6.10"
    },
    "nbpresent": {
      "slides": {
        "4ac36045-0899-4948-a386-6e758a2ecfb5": {
          "id": "4ac36045-0899-4948-a386-6e758a2ecfb5",
          "prev": null,
          "regions": {
            "e61c6e12-b404-46aa-9d8d-e736102d1084": {
              "attrs": {
                "height": 1,
                "width": 1,
                "x": 0,
                "y": 0
              },
              "id": "e61c6e12-b404-46aa-9d8d-e736102d1084"
            }
          }
        }
      },
      "themes": {}
    },
    "colab": {
      "provenance": [],
      "collapsed_sections": [
        "xFeh5l_GD2Ca",
        "Rcx_NMw1D2Cc",
        "6MucgNm7D2Cd",
        "50Z_u0sLD2Cd",
        "-MC01qG_D2Cm",
        "3hMrdgB3D2Cq",
        "SM1-7oueD2Cq",
        "oDHOBkeWD2Ct",
        "9ZjH48ElD2Cv",
        "Mnwf-3PvD2Cy"
      ],
      "include_colab_link": true
    }
  },
  "nbformat": 4,
  "nbformat_minor": 0
}