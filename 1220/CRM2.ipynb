{
  "nbformat": 4,
  "nbformat_minor": 0,
  "metadata": {
    "anaconda-cloud": {},
    "colab": {
      "provenance": [],
      "include_colab_link": true
    },
    "kernelspec": {
      "display_name": "Python 3",
      "language": "python",
      "name": "python3"
    },
    "language_info": {
      "codemirror_mode": {
        "name": "ipython",
        "version": 3
      },
      "file_extension": ".py",
      "mimetype": "text/x-python",
      "name": "python",
      "nbconvert_exporter": "python",
      "pygments_lexer": "ipython3",
      "version": "3.7.6"
    },
    "nbpresent": {
      "slides": {
        "008a788b-b456-4a0c-8288-6f60967c483e": {
          "id": "008a788b-b456-4a0c-8288-6f60967c483e",
          "prev": "17036b1e-8781-4a7e-a909-a179f499bbc9",
          "regions": {
            "072dbee3-3b47-4389-a934-e0168ebd835e": {
              "attrs": {
                "height": 0.8,
                "width": 0.8,
                "x": 0.1,
                "y": 0.1
              },
              "content": {
                "cell": "378cb846-5485-41d5-9983-fec98a22072a",
                "part": "whole"
              },
              "id": "072dbee3-3b47-4389-a934-e0168ebd835e"
            }
          }
        },
        "01ab9067-898c-46a1-91d9-18ca4fe5a937": {
          "id": "01ab9067-898c-46a1-91d9-18ca4fe5a937",
          "prev": "008a788b-b456-4a0c-8288-6f60967c483e",
          "regions": {
            "42da7aa5-8de9-4631-8abe-4ab35c510140": {
              "attrs": {
                "height": 0.8,
                "width": 0.8,
                "x": 0.1,
                "y": 0.1
              },
              "content": {
                "cell": "7f0f7ef4-e90b-41de-8f73-6165e1b3c1cb",
                "part": "whole"
              },
              "id": "42da7aa5-8de9-4631-8abe-4ab35c510140"
            }
          }
        },
        "02225e5f-f35d-40ef-8f23-5431b19121ab": {
          "id": "02225e5f-f35d-40ef-8f23-5431b19121ab",
          "prev": "430a8f03-8947-469c-a376-2f271448284d",
          "regions": {
            "5bf42e3a-831e-4238-ae19-d2212b26edc0": {
              "attrs": {
                "height": 0.8,
                "width": 0.8,
                "x": 0.1,
                "y": 0.1
              },
              "content": {
                "cell": "c68c4e4e-072e-4620-a325-3ebb19ebe1ce",
                "part": "whole"
              },
              "id": "5bf42e3a-831e-4238-ae19-d2212b26edc0"
            }
          }
        },
        "094d2d0d-c7e5-40bc-bed7-bd80198e8e18": {
          "id": "094d2d0d-c7e5-40bc-bed7-bd80198e8e18",
          "prev": "de950ae7-a7c1-424c-afe2-42f481db181e",
          "regions": {
            "95429590-c6e8-4e00-a061-62d2a454c52f": {
              "attrs": {
                "height": 0.8,
                "width": 0.8,
                "x": 0.1,
                "y": 0.1
              },
              "content": {
                "cell": "aa08360f-e7dd-4647-bbfb-cadd5f19af31",
                "part": "whole"
              },
              "id": "95429590-c6e8-4e00-a061-62d2a454c52f"
            }
          }
        },
        "0aa8229e-9b5c-4f49-bd1e-34de4cd2e82f": {
          "id": "0aa8229e-9b5c-4f49-bd1e-34de4cd2e82f",
          "prev": "11f1d1c4-4848-4b7d-a62d-5427e055bbe3",
          "regions": {
            "9504ff07-d651-4294-ba2e-a89ec52ca708": {
              "attrs": {
                "height": 0.8,
                "width": 0.8,
                "x": 0.1,
                "y": 0.1
              },
              "content": {
                "cell": "e73995f2-c960-4881-b3d3-82c24b06c64c",
                "part": "whole"
              },
              "id": "9504ff07-d651-4294-ba2e-a89ec52ca708"
            }
          }
        },
        "0c50d9ca-fef0-4e5c-8a4e-f18d1c2dbb9e": {
          "id": "0c50d9ca-fef0-4e5c-8a4e-f18d1c2dbb9e",
          "prev": "b248eaf4-2e85-4c32-8f88-7b2ef510ee7c",
          "regions": {
            "8b734704-6740-44f7-8c87-17350c882ed3": {
              "attrs": {
                "height": 0.8,
                "width": 0.8,
                "x": 0.1,
                "y": 0.1
              },
              "content": {
                "cell": "cc42c471-e943-450e-a441-3dc962f1c40d",
                "part": "whole"
              },
              "id": "8b734704-6740-44f7-8c87-17350c882ed3"
            }
          }
        },
        "107cd2c7-0a77-4fd7-922b-56df6615dcca": {
          "id": "107cd2c7-0a77-4fd7-922b-56df6615dcca",
          "prev": "2e7deda1-5486-4b26-8e0a-c91e4c88dbe8",
          "regions": {
            "2ee1a19b-7a00-46b1-b393-485ddb7c2b9b": {
              "attrs": {
                "height": 0.8,
                "width": 0.8,
                "x": 0.1,
                "y": 0.1
              },
              "content": {
                "cell": "d27b23aa-809c-4965-8399-5e67901e2ae4",
                "part": "whole"
              },
              "id": "2ee1a19b-7a00-46b1-b393-485ddb7c2b9b"
            }
          }
        },
        "11f1d1c4-4848-4b7d-a62d-5427e055bbe3": {
          "id": "11f1d1c4-4848-4b7d-a62d-5427e055bbe3",
          "prev": "9461c0f4-d87e-441d-915d-95c69b105ecb",
          "regions": {
            "185d0c6f-1e15-43e1-81f5-1234d5ac3ade": {
              "attrs": {
                "height": 0.8,
                "width": 0.8,
                "x": 0.1,
                "y": 0.1
              },
              "content": {
                "cell": "18703937-12da-40b5-960d-e7a50467e7d0",
                "part": "whole"
              },
              "id": "185d0c6f-1e15-43e1-81f5-1234d5ac3ade"
            }
          }
        },
        "17036b1e-8781-4a7e-a909-a179f499bbc9": {
          "id": "17036b1e-8781-4a7e-a909-a179f499bbc9",
          "prev": "5494c0f6-12d4-4627-9481-26c7858f8f09",
          "regions": {
            "4757fb07-c8f0-49b5-bb28-9a5bb61995ff": {
              "attrs": {
                "height": 0.8,
                "width": 0.8,
                "x": 0.1,
                "y": 0.1
              },
              "content": {
                "cell": "6452b3ab-84b7-4f3c-b74f-ae118e4ed9f2",
                "part": "whole"
              },
              "id": "4757fb07-c8f0-49b5-bb28-9a5bb61995ff"
            }
          }
        },
        "1d02d174-1ae1-4900-bb8e-92083b3f723b": {
          "id": "1d02d174-1ae1-4900-bb8e-92083b3f723b",
          "prev": "466c6928-dc5e-4aeb-abad-2dbb2c797793",
          "regions": {
            "2e5e7aee-fec1-4322-82df-30c9bda076ce": {
              "attrs": {
                "height": 0.8,
                "width": 0.8,
                "x": 0.1,
                "y": 0.1
              },
              "content": {
                "cell": "e89daf11-82d5-4ae2-905b-b73662884e4e",
                "part": "whole"
              },
              "id": "2e5e7aee-fec1-4322-82df-30c9bda076ce"
            }
          }
        },
        "26984d6c-6cdd-4fb6-a80c-b16f643b3802": {
          "id": "26984d6c-6cdd-4fb6-a80c-b16f643b3802",
          "prev": "dfaeb098-c3a9-4980-ae35-70f9b6296a7d",
          "regions": {
            "e3a7924f-b4ad-4919-b97c-a9f0da0027ec": {
              "attrs": {
                "height": 0.8,
                "width": 0.8,
                "x": 0.1,
                "y": 0.1
              },
              "content": {
                "cell": "5683d4a6-3bdb-44ea-8a8e-6203da028f73",
                "part": "whole"
              },
              "id": "e3a7924f-b4ad-4919-b97c-a9f0da0027ec"
            }
          }
        },
        "2e7deda1-5486-4b26-8e0a-c91e4c88dbe8": {
          "id": "2e7deda1-5486-4b26-8e0a-c91e4c88dbe8",
          "prev": "67a167dd-f578-4c00-9a52-77864d640afa",
          "regions": {
            "eb91815b-1df2-4bfb-b2d9-b47359f388f3": {
              "attrs": {
                "height": 0.8,
                "width": 0.8,
                "x": 0.1,
                "y": 0.1
              },
              "content": {
                "cell": "2b936ae8-a540-4353-8b1d-42f7a3bdc763",
                "part": "whole"
              },
              "id": "eb91815b-1df2-4bfb-b2d9-b47359f388f3"
            }
          }
        },
        "35c31f44-06e2-4d75-a9b7-0c168d125d04": {
          "id": "35c31f44-06e2-4d75-a9b7-0c168d125d04",
          "prev": "8b46588c-ad23-4509-b67d-62702ed7afd1",
          "regions": {
            "82c3daba-b8de-42a1-b157-7274603802ae": {
              "attrs": {
                "height": 0.8,
                "width": 0.8,
                "x": 0.1,
                "y": 0.1
              },
              "content": {
                "cell": "35e93b3d-957c-4833-a2a5-b980ecffa5b1",
                "part": "whole"
              },
              "id": "82c3daba-b8de-42a1-b157-7274603802ae"
            }
          }
        },
        "3671ddb9-95b3-4245-b062-03cc90ea386d": {
          "id": "3671ddb9-95b3-4245-b062-03cc90ea386d",
          "prev": "3c3ef584-2982-4a35-afcf-4772c65dc2ac",
          "regions": {
            "faddc9ae-ef33-4d8e-a04e-e9f73ea0310e": {
              "attrs": {
                "height": 0.8,
                "width": 0.8,
                "x": 0.1,
                "y": 0.1
              },
              "content": {
                "cell": "bea98316-c64e-4810-b176-ed4947524f8c",
                "part": "whole"
              },
              "id": "faddc9ae-ef33-4d8e-a04e-e9f73ea0310e"
            }
          }
        },
        "37edb96d-7d51-438f-bd46-fc06e161e205": {
          "id": "37edb96d-7d51-438f-bd46-fc06e161e205",
          "prev": "58980228-1ba8-4ba6-89d3-dd7694662786",
          "regions": {
            "d1ee61d0-5e72-4925-b975-1cc103761137": {
              "attrs": {
                "height": 0.8,
                "width": 0.8,
                "x": 0.1,
                "y": 0.1
              },
              "content": {
                "cell": "b0fc1861-b979-45c5-abd0-3b05200de3b6",
                "part": "whole"
              },
              "id": "d1ee61d0-5e72-4925-b975-1cc103761137"
            }
          }
        },
        "3a9ce2a4-6dd4-463e-8d2d-4aa731447f39": {
          "id": "3a9ce2a4-6dd4-463e-8d2d-4aa731447f39",
          "prev": "0aa8229e-9b5c-4f49-bd1e-34de4cd2e82f",
          "regions": {
            "80f94dd5-569c-4105-9db9-746bc3a0d979": {
              "attrs": {
                "height": 0.8,
                "width": 0.8,
                "x": 0.1,
                "y": 0.1
              },
              "content": {
                "cell": "d3d6e29a-a939-4ab4-95e0-5645d4eb97a4",
                "part": "whole"
              },
              "id": "80f94dd5-569c-4105-9db9-746bc3a0d979"
            }
          }
        },
        "3c3ef584-2982-4a35-afcf-4772c65dc2ac": {
          "id": "3c3ef584-2982-4a35-afcf-4772c65dc2ac",
          "prev": "523566b9-8158-4001-91b2-f7d1d61ec04b",
          "regions": {
            "8182730f-8099-4a3f-815d-c92171a084a7": {
              "attrs": {
                "height": 0.8,
                "width": 0.8,
                "x": 0.1,
                "y": 0.1
              },
              "content": {
                "cell": "2ff35469-eeef-46b0-8b36-f2b6d4580bd4",
                "part": "whole"
              },
              "id": "8182730f-8099-4a3f-815d-c92171a084a7"
            }
          }
        },
        "3e8e0818-4535-4e50-b8da-423cfa6bda87": {
          "id": "3e8e0818-4535-4e50-b8da-423cfa6bda87",
          "prev": "bff971e4-b2b6-497d-8f6b-6401514ee2ca",
          "regions": {
            "859f95ab-5314-4f50-9fc8-7f8a76741c82": {
              "attrs": {
                "height": 0.8,
                "width": 0.8,
                "x": 0.1,
                "y": 0.1
              },
              "content": {
                "cell": "0893c4bd-30b9-4137-bc19-c40d5def546a",
                "part": "whole"
              },
              "id": "859f95ab-5314-4f50-9fc8-7f8a76741c82"
            }
          }
        },
        "430a8f03-8947-469c-a376-2f271448284d": {
          "id": "430a8f03-8947-469c-a376-2f271448284d",
          "prev": "ae384cc7-844b-4a3a-816d-4275e60a5020",
          "regions": {
            "cc346300-13a7-4c57-9eea-13d379d8f845": {
              "attrs": {
                "height": 0.8,
                "width": 0.8,
                "x": 0.1,
                "y": 0.1
              },
              "content": {
                "cell": "3b3885c1-a497-4d41-bb48-76a6d8b43a62",
                "part": "whole"
              },
              "id": "cc346300-13a7-4c57-9eea-13d379d8f845"
            }
          }
        },
        "43517c80-f987-4261-bad2-6844f9f11a43": {
          "id": "43517c80-f987-4261-bad2-6844f9f11a43",
          "prev": "02225e5f-f35d-40ef-8f23-5431b19121ab",
          "regions": {
            "386e1c27-adc8-4888-b278-a730e1a06a1b": {
              "attrs": {
                "height": 0.8,
                "width": 0.8,
                "x": 0.1,
                "y": 0.1
              },
              "content": {
                "cell": "c34d5c93-c65c-4e47-8c92-b38faead2dc2",
                "part": "whole"
              },
              "id": "386e1c27-adc8-4888-b278-a730e1a06a1b"
            }
          }
        },
        "466c6928-dc5e-4aeb-abad-2dbb2c797793": {
          "id": "466c6928-dc5e-4aeb-abad-2dbb2c797793",
          "prev": "01ab9067-898c-46a1-91d9-18ca4fe5a937",
          "regions": {
            "dadc7530-a88a-474c-93b1-a6b13fdeb671": {
              "attrs": {
                "height": 0.8,
                "width": 0.8,
                "x": 0.1,
                "y": 0.1
              },
              "content": {
                "cell": "07dd10e2-514b-4435-afa4-cab572e54611",
                "part": "whole"
              },
              "id": "dadc7530-a88a-474c-93b1-a6b13fdeb671"
            }
          }
        },
        "523566b9-8158-4001-91b2-f7d1d61ec04b": {
          "id": "523566b9-8158-4001-91b2-f7d1d61ec04b",
          "prev": "db6c2c84-14f3-4a3f-972c-ea1e9b45b091",
          "regions": {
            "fa40db73-7f38-419f-b6d1-2d0c9854ad3d": {
              "attrs": {
                "height": 0.8,
                "width": 0.8,
                "x": 0.1,
                "y": 0.1
              },
              "content": {
                "cell": "9c7b5502-7d21-45ef-9801-c8ab89c0cb1b",
                "part": "whole"
              },
              "id": "fa40db73-7f38-419f-b6d1-2d0c9854ad3d"
            }
          }
        },
        "5342b691-167b-4e0f-a28f-aee2f74648b3": {
          "id": "5342b691-167b-4e0f-a28f-aee2f74648b3",
          "prev": "9750cf96-7612-4159-bac1-bf26fe2f60c8",
          "regions": {
            "8bf6c96e-7113-4293-9db9-3999fd5dc82b": {
              "attrs": {
                "height": 0.8,
                "width": 0.8,
                "x": 0.1,
                "y": 0.1
              },
              "content": {
                "cell": "21eb3ee8-f72c-4842-a2b2-98bc6b4b06b2",
                "part": "whole"
              },
              "id": "8bf6c96e-7113-4293-9db9-3999fd5dc82b"
            }
          }
        },
        "5494c0f6-12d4-4627-9481-26c7858f8f09": {
          "id": "5494c0f6-12d4-4627-9481-26c7858f8f09",
          "prev": "3671ddb9-95b3-4245-b062-03cc90ea386d",
          "regions": {
            "8f4923d7-89d2-4193-a542-786412d24121": {
              "attrs": {
                "height": 0.8,
                "width": 0.8,
                "x": 0.1,
                "y": 0.1
              },
              "content": {
                "cell": "47413f67-a333-4cd6-8a6e-6b268aa4f4ff",
                "part": "whole"
              },
              "id": "8f4923d7-89d2-4193-a542-786412d24121"
            }
          }
        },
        "57d8f821-fdaf-412d-bc5c-fbaf939e7850": {
          "id": "57d8f821-fdaf-412d-bc5c-fbaf939e7850",
          "prev": "5342b691-167b-4e0f-a28f-aee2f74648b3",
          "regions": {
            "595c1191-37e3-41c2-8807-172c5221490d": {
              "attrs": {
                "height": 0.8,
                "width": 0.8,
                "x": 0.1,
                "y": 0.1
              },
              "content": {
                "cell": "885a45ac-f069-4988-b245-fcd79646e17f",
                "part": "whole"
              },
              "id": "595c1191-37e3-41c2-8807-172c5221490d"
            }
          }
        },
        "58980228-1ba8-4ba6-89d3-dd7694662786": {
          "id": "58980228-1ba8-4ba6-89d3-dd7694662786",
          "prev": "ee0491f8-b146-4b0e-99d3-ceb5eb2f3a1d",
          "regions": {
            "c5224b5d-aad4-4862-a3d1-7e6996d3d33d": {
              "attrs": {
                "height": 0.8,
                "width": 0.8,
                "x": 0.1,
                "y": 0.1
              },
              "content": {
                "cell": "8972370e-3b2e-4fe5-b7d5-e6f410f4df68",
                "part": "whole"
              },
              "id": "c5224b5d-aad4-4862-a3d1-7e6996d3d33d"
            }
          }
        },
        "58fe1e15-bd81-4c14-8c10-08606b7f56ae": {
          "id": "58fe1e15-bd81-4c14-8c10-08606b7f56ae",
          "prev": "8511eb84-692c-4a63-b3c3-7e1f86c137bd",
          "regions": {
            "c29ef705-df31-4240-987b-1697100d6ae4": {
              "attrs": {
                "height": 0.8,
                "width": 0.8,
                "x": 0.1,
                "y": 0.1
              },
              "content": {
                "cell": "b5e81c61-d695-4fc4-b784-45ed41026d4a",
                "part": "whole"
              },
              "id": "c29ef705-df31-4240-987b-1697100d6ae4"
            }
          }
        },
        "6156681f-3fe2-4d80-aab1-f7c28e200404": {
          "id": "6156681f-3fe2-4d80-aab1-f7c28e200404",
          "prev": "c17f7347-3cbe-420c-a499-3131e4eaac59",
          "regions": {
            "28d9588e-1085-432e-9b58-6e28c4d7c74f": {
              "attrs": {
                "height": 0.8,
                "width": 0.8,
                "x": 0.1,
                "y": 0.1
              },
              "content": {
                "cell": "3dbf6370-0a3a-44be-ade7-2a32586e4508",
                "part": "whole"
              },
              "id": "28d9588e-1085-432e-9b58-6e28c4d7c74f"
            }
          }
        },
        "67a167dd-f578-4c00-9a52-77864d640afa": {
          "id": "67a167dd-f578-4c00-9a52-77864d640afa",
          "prev": "b7ce05ff-6ab9-49ba-9235-05d97e6d8b19",
          "regions": {
            "b3a441dc-47d2-402e-b9fe-68a0472d5670": {
              "attrs": {
                "height": 0.8,
                "width": 0.8,
                "x": 0.1,
                "y": 0.1
              },
              "content": {
                "cell": "a67a0f57-b7bb-4ad2-89a8-f53f514d52d5",
                "part": "whole"
              },
              "id": "b3a441dc-47d2-402e-b9fe-68a0472d5670"
            }
          }
        },
        "76cecc6a-4ff3-4f36-9fcd-dc72da22db7a": {
          "id": "76cecc6a-4ff3-4f36-9fcd-dc72da22db7a",
          "prev": "107cd2c7-0a77-4fd7-922b-56df6615dcca",
          "regions": {
            "3d9e9ca1-88f1-4d57-b1ce-1cd3377e1f1e": {
              "attrs": {
                "height": 0.8,
                "width": 0.8,
                "x": 0.1,
                "y": 0.1
              },
              "content": {
                "cell": "c3f25ce7-4ac2-4e7e-ae0d-0d354b7aa34a",
                "part": "whole"
              },
              "id": "3d9e9ca1-88f1-4d57-b1ce-1cd3377e1f1e"
            }
          }
        },
        "7a3d7039-5de1-4759-9129-49437077ec67": {
          "id": "7a3d7039-5de1-4759-9129-49437077ec67",
          "prev": "76cecc6a-4ff3-4f36-9fcd-dc72da22db7a",
          "regions": {
            "f8ee8b52-b882-4e27-b1e2-4db18e65b256": {
              "attrs": {
                "height": 0.8,
                "width": 0.8,
                "x": 0.1,
                "y": 0.1
              },
              "content": {
                "cell": "4a0d9ca6-f3a4-453d-b52e-ad5d17ca5883",
                "part": "whole"
              },
              "id": "f8ee8b52-b882-4e27-b1e2-4db18e65b256"
            }
          }
        },
        "7c9758fa-71de-4938-8eed-be5dabd2d61c": {
          "id": "7c9758fa-71de-4938-8eed-be5dabd2d61c",
          "prev": "3e8e0818-4535-4e50-b8da-423cfa6bda87",
          "regions": {
            "94b0287c-da12-4bf9-ab24-b6041cab0a0f": {
              "attrs": {
                "height": 0.8,
                "width": 0.8,
                "x": 0.1,
                "y": 0.1
              },
              "content": {
                "cell": "5e5e8200-af66-4ffa-85d8-0ca019d398d8",
                "part": "whole"
              },
              "id": "94b0287c-da12-4bf9-ab24-b6041cab0a0f"
            }
          }
        },
        "8511eb84-692c-4a63-b3c3-7e1f86c137bd": {
          "id": "8511eb84-692c-4a63-b3c3-7e1f86c137bd",
          "prev": "3a9ce2a4-6dd4-463e-8d2d-4aa731447f39",
          "regions": {
            "d512994f-a930-4cb5-9feb-0c9e9b3eca21": {
              "attrs": {
                "height": 0.8,
                "width": 0.8,
                "x": 0.1,
                "y": 0.1
              },
              "content": {
                "cell": "93a5d1f3-e3b5-4840-95c2-503725844dc3",
                "part": "whole"
              },
              "id": "d512994f-a930-4cb5-9feb-0c9e9b3eca21"
            }
          }
        },
        "863c2f5d-5ed6-4abd-9212-ac3aa08b7c2d": {
          "id": "863c2f5d-5ed6-4abd-9212-ac3aa08b7c2d",
          "prev": "fa1e9266-57b6-41c8-9ad2-05119a8154fa",
          "regions": {
            "2efc3ace-624d-49f2-8602-18d3ce4fd9d1": {
              "attrs": {
                "height": 0.8,
                "width": 0.8,
                "x": 0.1,
                "y": 0.1
              },
              "content": {
                "cell": "1c22acff-5c31-4b42-a557-2be121021d1e",
                "part": "whole"
              },
              "id": "2efc3ace-624d-49f2-8602-18d3ce4fd9d1"
            }
          }
        },
        "8a00b47c-c1da-479f-b5e8-16224b1bc1ad": {
          "id": "8a00b47c-c1da-479f-b5e8-16224b1bc1ad",
          "prev": "c372f9ff-ce00-4768-8a0a-cb894e0fa65d",
          "regions": {
            "88f7e3bd-c1f1-4783-aa29-4b3871ed83c9": {
              "attrs": {
                "height": 0.8,
                "width": 0.8,
                "x": 0.1,
                "y": 0.1
              },
              "content": {
                "cell": "4bcabd6c-13d5-4a8e-a4cf-46d12550458b",
                "part": "whole"
              },
              "id": "88f7e3bd-c1f1-4783-aa29-4b3871ed83c9"
            }
          }
        },
        "8b46588c-ad23-4509-b67d-62702ed7afd1": {
          "id": "8b46588c-ad23-4509-b67d-62702ed7afd1",
          "prev": "37edb96d-7d51-438f-bd46-fc06e161e205",
          "regions": {
            "6e4458c9-28eb-4025-8ac9-d7fc0ffb8fee": {
              "attrs": {
                "height": 0.8,
                "width": 0.8,
                "x": 0.1,
                "y": 0.1
              },
              "content": {
                "cell": "575abe68-ac1a-489a-8b14-aef861c188e3",
                "part": "whole"
              },
              "id": "6e4458c9-28eb-4025-8ac9-d7fc0ffb8fee"
            }
          }
        },
        "92033db1-1754-4f97-a65f-d7fcd5e5ef5f": {
          "id": "92033db1-1754-4f97-a65f-d7fcd5e5ef5f",
          "prev": "7c9758fa-71de-4938-8eed-be5dabd2d61c",
          "regions": {
            "73b1869c-52b3-4f19-8918-f9d27d1ce96a": {
              "attrs": {
                "height": 0.8,
                "width": 0.8,
                "x": 0.1,
                "y": 0.1
              },
              "content": {
                "cell": "31f1dd1c-7279-4590-a581-4789248b9d95",
                "part": "whole"
              },
              "id": "73b1869c-52b3-4f19-8918-f9d27d1ce96a"
            }
          }
        },
        "9461c0f4-d87e-441d-915d-95c69b105ecb": {
          "id": "9461c0f4-d87e-441d-915d-95c69b105ecb",
          "prev": "92033db1-1754-4f97-a65f-d7fcd5e5ef5f",
          "regions": {
            "4dd7f598-05d6-4e49-883d-978967a66cc5": {
              "attrs": {
                "height": 0.8,
                "width": 0.8,
                "x": 0.1,
                "y": 0.1
              },
              "content": {
                "cell": "674e452c-7ba7-4c07-be5e-1e73553f8849",
                "part": "whole"
              },
              "id": "4dd7f598-05d6-4e49-883d-978967a66cc5"
            }
          }
        },
        "94c7954c-21de-44d2-81f0-746748834167": {
          "id": "94c7954c-21de-44d2-81f0-746748834167",
          "prev": "d806c3fb-ea3d-4b90-be5b-e78113b3e887",
          "regions": {
            "a853df0e-2a78-45f8-8841-72a437ba5d68": {
              "attrs": {
                "height": 0.8,
                "width": 0.8,
                "x": 0.1,
                "y": 0.1
              },
              "content": {
                "cell": "f581b3c5-979f-4ad2-95b7-e89dc86afee3",
                "part": "whole"
              },
              "id": "a853df0e-2a78-45f8-8841-72a437ba5d68"
            }
          }
        },
        "94c969b1-892d-4f1a-a832-8154573c893c": {
          "id": "94c969b1-892d-4f1a-a832-8154573c893c",
          "prev": "94c7954c-21de-44d2-81f0-746748834167",
          "regions": {
            "c1ade563-9e9b-490c-970b-37faba235b7e": {
              "attrs": {
                "height": 0.8,
                "width": 0.8,
                "x": 0.1,
                "y": 0.1
              },
              "content": {
                "cell": "e965b847-7d60-48e2-b72f-972816a1e6fc",
                "part": "whole"
              },
              "id": "c1ade563-9e9b-490c-970b-37faba235b7e"
            }
          }
        },
        "9750cf96-7612-4159-bac1-bf26fe2f60c8": {
          "id": "9750cf96-7612-4159-bac1-bf26fe2f60c8",
          "prev": "94c969b1-892d-4f1a-a832-8154573c893c",
          "regions": {
            "116d14ce-3f3d-44a1-aa86-61b1ac19354f": {
              "attrs": {
                "height": 0.8,
                "width": 0.8,
                "x": 0.1,
                "y": 0.1
              },
              "content": {
                "cell": "ddd82eaf-9b54-48bf-ac57-aa797a3a970a",
                "part": "whole"
              },
              "id": "116d14ce-3f3d-44a1-aa86-61b1ac19354f"
            }
          }
        },
        "a40bc8a7-660a-4478-8071-b97c5127c4b5": {
          "id": "a40bc8a7-660a-4478-8071-b97c5127c4b5",
          "prev": "863c2f5d-5ed6-4abd-9212-ac3aa08b7c2d",
          "regions": {
            "929e10a6-a0b0-4d31-99b1-311fcfc150a1": {
              "attrs": {
                "height": 0.8,
                "width": 0.8,
                "x": 0.1,
                "y": 0.1
              },
              "content": {
                "cell": "d7d32de7-bcdd-486d-b6c9-d5caad1164e3",
                "part": "whole"
              },
              "id": "929e10a6-a0b0-4d31-99b1-311fcfc150a1"
            }
          }
        },
        "ae384cc7-844b-4a3a-816d-4275e60a5020": {
          "id": "ae384cc7-844b-4a3a-816d-4275e60a5020",
          "prev": "26984d6c-6cdd-4fb6-a80c-b16f643b3802",
          "regions": {
            "b7a26fcd-98a6-4c24-893f-14ab3d6257bb": {
              "attrs": {
                "height": 0.8,
                "width": 0.8,
                "x": 0.1,
                "y": 0.1
              },
              "content": {
                "cell": "ddc73611-ffe2-434e-b3bd-cd417ef42b68",
                "part": "whole"
              },
              "id": "b7a26fcd-98a6-4c24-893f-14ab3d6257bb"
            }
          }
        },
        "b248eaf4-2e85-4c32-8f88-7b2ef510ee7c": {
          "id": "b248eaf4-2e85-4c32-8f88-7b2ef510ee7c",
          "prev": null,
          "regions": {
            "729796eb-5023-4fc8-b32f-83045cda3258": {
              "attrs": {
                "height": 0.8,
                "width": 0.8,
                "x": 0.1,
                "y": 0.1
              },
              "content": {
                "cell": "dad3a857-8628-4c15-a8ad-312792cb88ac",
                "part": "whole"
              },
              "id": "729796eb-5023-4fc8-b32f-83045cda3258"
            }
          }
        },
        "b7ce05ff-6ab9-49ba-9235-05d97e6d8b19": {
          "id": "b7ce05ff-6ab9-49ba-9235-05d97e6d8b19",
          "prev": "fd5b9f11-7cb4-4280-8955-7da1f2a0eafd",
          "regions": {
            "44f843a2-f9a7-4c01-be36-f2b39de5a725": {
              "attrs": {
                "height": 0.8,
                "width": 0.8,
                "x": 0.1,
                "y": 0.1
              },
              "content": {
                "cell": "852d31b9-64ee-4906-8865-dc217141338a",
                "part": "whole"
              },
              "id": "44f843a2-f9a7-4c01-be36-f2b39de5a725"
            }
          }
        },
        "bff971e4-b2b6-497d-8f6b-6401514ee2ca": {
          "id": "bff971e4-b2b6-497d-8f6b-6401514ee2ca",
          "prev": "7a3d7039-5de1-4759-9129-49437077ec67",
          "regions": {
            "07dd02d3-5ac3-4d96-9291-c3870d15f11e": {
              "attrs": {
                "height": 0.8,
                "width": 0.8,
                "x": 0.1,
                "y": 0.1
              },
              "content": {
                "cell": "31a44e48-3de3-4fa2-9c03-2063209cce11",
                "part": "whole"
              },
              "id": "07dd02d3-5ac3-4d96-9291-c3870d15f11e"
            }
          }
        },
        "c17f7347-3cbe-420c-a499-3131e4eaac59": {
          "id": "c17f7347-3cbe-420c-a499-3131e4eaac59",
          "prev": "57d8f821-fdaf-412d-bc5c-fbaf939e7850",
          "regions": {
            "7d4b25fd-aa9a-4d62-8181-05324639ff0d": {
              "attrs": {
                "height": 0.8,
                "width": 0.8,
                "x": 0.1,
                "y": 0.1
              },
              "content": {
                "cell": "35043c9c-279e-47cd-b82f-9dae8c5f9fec",
                "part": "whole"
              },
              "id": "7d4b25fd-aa9a-4d62-8181-05324639ff0d"
            }
          }
        },
        "c372f9ff-ce00-4768-8a0a-cb894e0fa65d": {
          "id": "c372f9ff-ce00-4768-8a0a-cb894e0fa65d",
          "prev": "35c31f44-06e2-4d75-a9b7-0c168d125d04",
          "regions": {
            "c3931b7b-0a33-46e0-a5b6-6b33b0075fd5": {
              "attrs": {
                "height": 0.8,
                "width": 0.8,
                "x": 0.1,
                "y": 0.1
              },
              "content": {
                "cell": "6dccff7c-9bb1-447a-9692-656ca1687626",
                "part": "whole"
              },
              "id": "c3931b7b-0a33-46e0-a5b6-6b33b0075fd5"
            }
          }
        },
        "d806c3fb-ea3d-4b90-be5b-e78113b3e887": {
          "id": "d806c3fb-ea3d-4b90-be5b-e78113b3e887",
          "prev": "094d2d0d-c7e5-40bc-bed7-bd80198e8e18",
          "regions": {
            "8ec4249f-2827-4eb0-bb27-152d4dea703f": {
              "attrs": {
                "height": 0.8,
                "width": 0.8,
                "x": 0.1,
                "y": 0.1
              },
              "content": {
                "cell": "25b7da30-19eb-4326-ba15-d969f9c1ad12",
                "part": "whole"
              },
              "id": "8ec4249f-2827-4eb0-bb27-152d4dea703f"
            }
          }
        },
        "db6c2c84-14f3-4a3f-972c-ea1e9b45b091": {
          "id": "db6c2c84-14f3-4a3f-972c-ea1e9b45b091",
          "prev": "ff25a0ae-0958-4983-b72b-6d655554983e",
          "regions": {
            "33e20b90-5ef8-482a-af30-6ebe50fa5247": {
              "attrs": {
                "height": 0.8,
                "width": 0.8,
                "x": 0.1,
                "y": 0.1
              },
              "content": {
                "cell": "b2282939-76b5-4358-8caf-bda59cd4dfc8",
                "part": "whole"
              },
              "id": "33e20b90-5ef8-482a-af30-6ebe50fa5247"
            }
          }
        },
        "de950ae7-a7c1-424c-afe2-42f481db181e": {
          "id": "de950ae7-a7c1-424c-afe2-42f481db181e",
          "prev": "58fe1e15-bd81-4c14-8c10-08606b7f56ae",
          "regions": {
            "157e2366-91bc-4374-b005-296b72401f19": {
              "attrs": {
                "height": 0.8,
                "width": 0.8,
                "x": 0.1,
                "y": 0.1
              },
              "content": {
                "cell": "6eff5466-e51a-40e9-b5d6-0e511d329721",
                "part": "whole"
              },
              "id": "157e2366-91bc-4374-b005-296b72401f19"
            }
          }
        },
        "dfaeb098-c3a9-4980-ae35-70f9b6296a7d": {
          "id": "dfaeb098-c3a9-4980-ae35-70f9b6296a7d",
          "prev": "a40bc8a7-660a-4478-8071-b97c5127c4b5",
          "regions": {
            "ff8a9509-83fc-43b8-b85d-05642f796426": {
              "attrs": {
                "height": 0.8,
                "width": 0.8,
                "x": 0.1,
                "y": 0.1
              },
              "content": {
                "cell": "139cbba6-15fb-4eb9-b2d8-a25bdbf3a874",
                "part": "whole"
              },
              "id": "ff8a9509-83fc-43b8-b85d-05642f796426"
            }
          }
        },
        "ee0491f8-b146-4b0e-99d3-ceb5eb2f3a1d": {
          "id": "ee0491f8-b146-4b0e-99d3-ceb5eb2f3a1d",
          "prev": "0c50d9ca-fef0-4e5c-8a4e-f18d1c2dbb9e",
          "regions": {
            "7e1317fc-37fb-47f2-9822-1b464ab3a0f1": {
              "attrs": {
                "height": 0.8,
                "width": 0.8,
                "x": 0.1,
                "y": 0.1
              },
              "content": {
                "cell": "93b648ee-643e-46b2-a289-f6b562875bc4",
                "part": "whole"
              },
              "id": "7e1317fc-37fb-47f2-9822-1b464ab3a0f1"
            }
          }
        },
        "fa1e9266-57b6-41c8-9ad2-05119a8154fa": {
          "id": "fa1e9266-57b6-41c8-9ad2-05119a8154fa",
          "prev": "1d02d174-1ae1-4900-bb8e-92083b3f723b",
          "regions": {
            "642cb521-a4bf-4bdf-94e4-c4e1db951bed": {
              "attrs": {
                "height": 0.8,
                "width": 0.8,
                "x": 0.1,
                "y": 0.1
              },
              "content": {
                "cell": "7bcdf43b-5617-4e59-b3d7-0c3706c527f1",
                "part": "whole"
              },
              "id": "642cb521-a4bf-4bdf-94e4-c4e1db951bed"
            }
          }
        },
        "fd5b9f11-7cb4-4280-8955-7da1f2a0eafd": {
          "id": "fd5b9f11-7cb4-4280-8955-7da1f2a0eafd",
          "prev": "8a00b47c-c1da-479f-b5e8-16224b1bc1ad",
          "regions": {
            "bafa4b52-8d5e-4af8-9b56-5cfb28caec46": {
              "attrs": {
                "height": 0.8,
                "width": 0.8,
                "x": 0.1,
                "y": 0.1
              },
              "content": {
                "cell": "d110e3f4-e865-4198-8668-17bd4f1e9540",
                "part": "whole"
              },
              "id": "bafa4b52-8d5e-4af8-9b56-5cfb28caec46"
            }
          }
        },
        "ff25a0ae-0958-4983-b72b-6d655554983e": {
          "id": "ff25a0ae-0958-4983-b72b-6d655554983e",
          "prev": "6156681f-3fe2-4d80-aab1-f7c28e200404",
          "regions": {
            "4536da0e-7194-48f1-a4eb-13fb6d74ecf5": {
              "attrs": {
                "height": 0.8,
                "width": 0.8,
                "x": 0.1,
                "y": 0.1
              },
              "content": {
                "cell": "72beaf23-bcc8-4311-b327-b67a3b07436a",
                "part": "whole"
              },
              "id": "4536da0e-7194-48f1-a4eb-13fb6d74ecf5"
            }
          }
        }
      },
      "themes": {}
    },
    "toc": {
      "base_numbering": 1,
      "nav_menu": {},
      "number_sections": true,
      "sideBar": true,
      "skip_h1_title": false,
      "title_cell": "Table of Contents",
      "title_sidebar": "Contents",
      "toc_cell": false,
      "toc_position": {},
      "toc_section_display": true,
      "toc_window_display": false
    }
  },
  "cells": [
    {
      "cell_type": "markdown",
      "metadata": {
        "id": "view-in-github",
        "colab_type": "text"
      },
      "source": [
        "<a href=\"https://colab.research.google.com/github/alicelindel3/ibm5100/blob/main/1220/CRM2.ipynb\" target=\"_parent\"><img src=\"https://colab.research.google.com/assets/colab-badge.svg\" alt=\"Open In Colab\"/></a>"
      ]
    },
    {
      "cell_type": "markdown",
      "metadata": {
        "id": "vkkZXsjafzhg"
      },
      "source": [
        "# 10 マーケティングにおける消費者分析とCRMの中級編"
      ]
    },
    {
      "cell_type": "markdown",
      "metadata": {
        "id": "jPiUqqRXfzhl"
      },
      "source": [
        "＜章トビラ＞\n",
        "\n",
        "本章では、マーケティングに関する分析について、初級編よりも少し高度なアプローチを学びます。この講義では、顧客により良いサービス・商品を提案したり、そのための企業施策を効率的に実行・検証し、さらにその施策検証結果やKPIなどのレポーティングを自動化していくことを目標にしています。将来的に、マーケティングを自動化するシステムを構築するのに役立つツール群を紹介していきます。\n",
        "\n",
        "初級編では顧客をセグメントし、それぞれの顧客層に応じた施策実施の必要性を記述しました。本中級編では、施策として顧客に買ってもらえそうなサービスを提案するための「リコメンデーション（推薦システム）」、企業の実施した施策がよかったのか悪かったのか判断するための「因果推論・分析」、そして施策や企画に関する結果やKPIのトラッキングとそれらの定期的な分析レポーティング作成と共有、メール自動配信、Slack等への自動通知を実現するための「自動化処理」について学んでいきます。\n",
        "\n",
        "それぞれ深い分野であり、本章だけで全てカバーすることは難しいですが、本講義の初級編で学んだ顧客へのマーケティング戦略からはじまり、その消費者の基本分析、セグメンテーションとターゲティング、その顧客への施策と検証、それらを自動化してレポーティングするまでの基本的な流れを、一気通貫してイメージできるようになるでしょう。実務でそれぞれ本格的に必要になったら、後ほど紹介する参考文献等を見るなどして、取り組んでみてください。\n",
        "\n",
        "<ゴール>  \n",
        "\n",
        "マーケティングの高度なアプローチ（リコメンド、因果推論、分析レポート自動化処理）について理解し、それぞれ基本的な実装ができ、マーケティングのPDCAサイクルをまわすための仕組み、基本的なシステム設計ができる\n",
        "\n",
        "<前提知識とスキル>  \n",
        "・東京大学松尾研究室が提供している以下のコンテンツを理解して、実装できること\n",
        "\n",
        "https://weblab.t.u-tokyo.ac.jp/gci_contents/\n",
        "\n",
        "＝＞具体的には、Pythonの基礎的な処理、Numpy、Pandas、Matplotlibを使いこなせるようになっていることと機械学習のSklearnの基本的な使い方がわかっていること\n",
        "\n",
        "・マーケティングにおける消費者分析とCRMの初級編を一通り理解して実装できること"
      ]
    },
    {
      "cell_type": "markdown",
      "metadata": {
        "id": "8jvJFDWtfzhl"
      },
      "source": [
        "***"
      ]
    },
    {
      "cell_type": "markdown",
      "metadata": {
        "id": "uto0kpKVfzhm"
      },
      "source": [
        "## 10.1 本章を学ぶ背景と全体像\n",
        "\n",
        "キーワード：リコメンデーション、因果推論、マーケティングシステム自動化"
      ]
    },
    {
      "cell_type": "markdown",
      "metadata": {
        "id": "7yynCIWKdWIi"
      },
      "source": [
        "### 10.1.1 顧客への提案、施策検証、自動化に向けて\n",
        "消費者分析の初級編では、基本的な顧客行動の分析とCRMの一部であるPOSデータの基本的な扱い方について解説しました。これまでは、データ分析の基本的な型を身に付けるという意味で、基礎集計したり、必要があればローデータを見たり、マーケティングにおけるデータ分析の顧客を識別（セグメント）する様々な方法と、その活用方法を述べてきました。そして次に考えていくべきことは、\n",
        "\n",
        "「その顧客セグメントにどんな商品やサービスを提供、提案したらよいのだろうか」\n",
        "\n",
        "「施策の効果があったのかなかったのかROIを含めてしっかりと把握していきたい」\n",
        "\n",
        "「そういった施策のKPIトラッキングレポートを手作業でやるのではなく、なるべく自動化していきたい」\n",
        "\n",
        "など、顧客に対してより具体的な施策、アクションやその施策の測定、レポートを作成していくことになります。"
      ]
    },
    {
      "cell_type": "markdown",
      "metadata": {
        "id": "yTK0gMtss47B"
      },
      "source": [
        "それぞれ以下に該当し、この講義ではそれぞれのポイントを解説していきます。\n",
        "\n",
        "1.   リコメンデーション（推薦システム）\n",
        "2.   施策の効果検証(Test&Learnなどといわれたりもします。)\n",
        "3.   そのBIツール作成やレポーティング自動化"
      ]
    },
    {
      "cell_type": "markdown",
      "metadata": {
        "id": "JC3X9XPrZU_u"
      },
      "source": [
        "初級編で実践した通り、データ分析ではかなり愚直にデータを見ることもあり地道な作業も多いですが、もちろんそういう作業を永遠にやりたいわけではありません。顧客への最適な「アルゴリズム自動マーケティングエコシステム」を構築して、システムが処理できることはシステムに任せて、創造的な仕事や人間にしかできない仕事をする時間を増やしていきましょう。その自動化のためのアプローチやツールを、この章では学んでいきます。\n",
        "\n",
        "補足：なおマーケティングの自動化ツールとしては、MA（マーケティングオートメーション）としてMarketoなど様々なソリューションがあり、様々な企業で使われるようになっています。一方、それらのツールを使いこなせず、ただ導入しただけというケースもよく耳にします。こういったツールはあくまでツールのため万能ではなく、どういったシナリオで顧客へのサービス向上に繋がるのか、どうすれば運用コストを下げるかなど、目的をはっきりさせてから、導入するのが良いでしょう。"
      ]
    },
    {
      "cell_type": "markdown",
      "metadata": {
        "id": "cuFz_6apNBSo"
      },
      "source": [
        "### 10.1.2 本章で主に使うライブラリ等"
      ]
    },
    {
      "cell_type": "markdown",
      "metadata": {
        "id": "kvVPXfHcGEQ_"
      },
      "source": [
        "以下、本章で必要なライブラリ等をインポートしておきます。また、別途使うライブラリについては、必要があれば都度インポートしていきます。"
      ]
    },
    {
      "cell_type": "code",
      "metadata": {
        "id": "NuIxxsFC7XK_"
      },
      "source": [
        "# 以下のライブラリを使うので、あらかじめ読み込んでおいてください\n",
        "import numpy as np\n",
        "import pandas as pd\n",
        "\n",
        "import datetime\n",
        "\n",
        "# 可視化ライブラリ\n",
        "import matplotlib.pyplot as plt\n",
        "import seaborn as sns\n",
        "sns.set()\n",
        "%matplotlib inline\n",
        "\n",
        "# 小数第3位まで表示\n",
        "%precision 3"
      ],
      "execution_count": null,
      "outputs": []
    },
    {
      "cell_type": "markdown",
      "metadata": {
        "id": "Th8Kad4SqLu9"
      },
      "source": [
        "## 10.2 リコメンデーション\n",
        "\n",
        "キーワード：協調フィルタリング、コンテンツベースフィルタリング、SVD、ボルツマンマシン、強化学習"
      ]
    },
    {
      "cell_type": "markdown",
      "metadata": {
        "id": "3gChnOF3UPvC"
      },
      "source": [
        "### 10.2.1 この節で学ぶこと\n",
        "\n"
      ]
    },
    {
      "cell_type": "markdown",
      "metadata": {
        "id": "qNm6n1S78Loj"
      },
      "source": [
        "現代は情報多過の時代だと言われ、顧客は選択肢がたくさんある一方で、どの商品やサービスを選んだらよいのかわからないこともあります。一方、企業として顧客に何か商品を提案するときに、単にランキング上位に入った商品だけを薦めるだけでは、その顧客にあった商品を提案できないですし、ニッチな商品を売る機会も減ってしまいます。オススメ商品の表示については、AmazonやNetflex、YouTubeなどの有名なサービスで使われているので、このリコメンドのイメージを持っている方は多いと思います。この節では、顧客に何をリコメンドしたら良いのかアプローチするためのアルゴリズムについて学んでいきましょう。\n",
        "\n",
        "補足：ちなみに、顧客が自分の探したい商品がはっきりわかっている場合は「検索」をすれば良い一方、リコメンデーションは、顧客が言語化できていないが潜在的なニーズがある場合に使われます。（この検索のようにユーザーが意図を持っている時に推薦する場合を「プルモデル」、意図を持っていない場合に推薦する場合を「プッシュモデル」といいます。）"
      ]
    },
    {
      "cell_type": "markdown",
      "metadata": {
        "id": "DUtSqc55rzsg"
      },
      "source": [
        "リコメンデーションのシステムは、主に顧客の商品に対する評価や顧客の購買履歴（POSデータ）などによって計算されます。リコメンデーションの種類については、色々と分け方はありますが、主に3つのアプローチがあります。似ている顧客を探すアプローチ（協調フィルタリング）、商品が似ているものでのアプローチ（コンテンツベース）、その文脈（コンテキスト）でのアプローチです。前者2つはある程度イメージできますが、3つ目は例えば、同じ顧客でも季節によって買う商品が異なる傾向にあるため、その文脈は季節になります。"
      ]
    },
    {
      "cell_type": "markdown",
      "metadata": {
        "id": "BaVor7ONMCJ7"
      },
      "source": [
        "\n",
        "\n",
        "*   協調フィルタリング：似ている人たちによるリコメンド\n",
        "*   内容ベースフィルタリング：商品の内容によるリコメンド\n",
        "*   コンテキストベースフィルタリング：顧客の置かれている環境（場所、時間、時期、チャネル、条件など）によるリコメンド"
      ]
    },
    {
      "cell_type": "markdown",
      "metadata": {
        "id": "Z3jxb0wUr9W5"
      },
      "source": [
        "この説では、リコメンドエンジンとしてよく使われる1つ目の「協調フィルタリング」について、主にPython実装を紹介していきます。なお、このリコメンドの種類やそれらのロジックについて、もっと詳細に知りたい方は、以下の参考文献をみてください"
      ]
    },
    {
      "cell_type": "markdown",
      "metadata": {
        "id": "15c1MjPTvqyl"
      },
      "source": [
        "参考文献\n",
        "\n",
        "\n",
        "*   『AIアルゴリズムマーケティング　自動化のための機械学習/経済モデル、ベストプラクティス、アーキテクチャ』（インプレス）\n",
        "*   『推薦システム』（共立出版）\n",
        "*   『情報推薦システム入門』（共立出版）\n",
        "\n",
        "\n",
        "なお、推薦システムについては、以下の一般公開されている資料がとても参考になります。\n",
        "\n",
        "参考URL\n",
        "\n",
        "推薦システムのアルゴリズム（Toshihiro Kamishima先生）\n",
        "\n",
        "\n",
        "\n",
        "* https://www.kamishima.net/archive/recsysdoc.pdf\n",
        "\n",
        "* https://www.kamishima.net/archive/recsys.pdf\n"
      ]
    },
    {
      "cell_type": "markdown",
      "metadata": {
        "id": "C3mqVBNwUXKe"
      },
      "source": [
        "### 10.2.2 協調フィルタリング\n",
        "\n"
      ]
    },
    {
      "cell_type": "markdown",
      "metadata": {
        "id": "LOnF9nvm1WAg"
      },
      "source": [
        "ここからは、協調フィルタリングのPython実装を紹介していきます。上記で協調フィルタリングとは、似ている人たちによるリコメンドだと解説しました。いいかえると、ターゲットとなる顧客の趣味嗜好に類似している別の顧客を探し出して、そのターゲット顧客の嗜好に基づいて、オススメを行う方法になります。この方法は色々な企業のリコメンデーションシステムでよく採用されています。"
      ]
    },
    {
      "cell_type": "markdown",
      "metadata": {
        "id": "3uT9BeRH9nfp"
      },
      "source": [
        "そのアルゴリズム構築を実現するため、ここではscikit-surpiseというパッケージを使ってみます。以下でインストールを実行します。"
      ]
    },
    {
      "cell_type": "markdown",
      "metadata": {
        "id": "Lq0v2Xzd7O08"
      },
      "source": [
        "参考：scikit-surpiseパッケージの公式サイト\n",
        "\n",
        "http://surpriselib.com/\n",
        "\n",
        "https://surprise.readthedocs.io/en/stable/index.html#"
      ]
    },
    {
      "cell_type": "code",
      "metadata": {
        "id": "54dDxCwEtU86"
      },
      "source": [
        "!pip install scikit-surprise"
      ],
      "execution_count": null,
      "outputs": []
    },
    {
      "cell_type": "markdown",
      "metadata": {
        "id": "_-5GFFQs9rax"
      },
      "source": [
        "次に、この協調フィルタリングのアルゴリズムを実装、検証するためのライブラリ等をインポートします。SVDは、特異値分解という推薦のシステムでよく紹介されるアルゴリズムを使います。cross_validateは機械学習のモデル評価でよく使われるライブラリで、クロスバリデーションをするためにインポートします。"
      ]
    },
    {
      "cell_type": "code",
      "metadata": {
        "id": "oRTgV3kYtTqm"
      },
      "source": [
        "from surprise import SVD\n",
        "from surprise.model_selection import cross_validate\n",
        "from surprise import Dataset"
      ],
      "execution_count": null,
      "outputs": []
    },
    {
      "cell_type": "markdown",
      "metadata": {
        "id": "ZM_WLpzxGMVR"
      },
      "source": [
        "最後のDatasetは、ここで使うデータをインポートするためで、ユーザーのそれぞれの映画に対する評価データです。Do you want to download it? [Y/n] と聞かれるので、Yを入力してEnterし、movielens-100kのデータセットをロードします。"
      ]
    },
    {
      "cell_type": "code",
      "metadata": {
        "id": "VArwD3QFtq_E"
      },
      "source": [
        "movie_dataset = Dataset.load_builtin('ml-100k')"
      ],
      "execution_count": null,
      "outputs": []
    },
    {
      "cell_type": "markdown",
      "metadata": {
        "id": "Vx6dLhLWPCBt"
      },
      "source": [
        "このデータセットについては以下に記載があります。100kは10万レコードになります。\n",
        "\n",
        "参考URL：\n",
        "\n",
        "https://grouplens.org/datasets/movielens/\n",
        "\n",
        "https://surprise.readthedocs.io/en/stable/dataset.html"
      ]
    },
    {
      "cell_type": "markdown",
      "metadata": {
        "id": "XOJ4umCuD64A"
      },
      "source": [
        "raw_ratingsでデータにアクセスでき、以下からraw_ratingsはリスト型のデータで、要素はタプル型でデータが1つ1つ入っているのがわかります。"
      ]
    },
    {
      "cell_type": "code",
      "metadata": {
        "id": "JD4Ldjx7qLfG"
      },
      "source": [
        "type(movie_dataset.raw_ratings)"
      ],
      "execution_count": null,
      "outputs": []
    },
    {
      "cell_type": "markdown",
      "metadata": {
        "id": "GYeHWQXJRPhb"
      },
      "source": [
        "左から順に、ユーザーID、評価した映画ID、その映画の評価(Rating)、その時のタイムスタンプというデータになります。タプル1つ分が1ユーザーの1商品評価になります。"
      ]
    },
    {
      "cell_type": "code",
      "metadata": {
        "id": "OjVHo8WAC5hO"
      },
      "source": [
        "movie_dataset.raw_ratings[0:10]"
      ],
      "execution_count": null,
      "outputs": []
    },
    {
      "cell_type": "markdown",
      "metadata": {
        "id": "JG8Ks4YRE31X"
      },
      "source": [
        "pandasのDataFrameで扱いたい人は以下のように変換できます。"
      ]
    },
    {
      "cell_type": "code",
      "metadata": {
        "id": "2V5x3HZLA5NK"
      },
      "source": [
        "movie_df = pd.DataFrame(movie_dataset.raw_ratings,columns=['user_id', 'product_id','rating','timestamp'])\n",
        "movie_df.head()"
      ],
      "execution_count": null,
      "outputs": []
    },
    {
      "cell_type": "markdown",
      "metadata": {
        "id": "NSidJz3qOcWs"
      },
      "source": [
        "ただ、一番右のタイムスタンプがこのままでは日時がわからないので、わかりやすい日時型に変更しましょう。pandasの日時の型に変換するto_datetimeの引数のunitのsはsecondの略で秒単位になります。"
      ]
    },
    {
      "cell_type": "code",
      "metadata": {
        "id": "G3YgA_2A7aXY"
      },
      "source": [
        "movie_df['timestamp'] = pd.to_datetime(movie_df.timestamp.astype(int), unit='s')"
      ],
      "execution_count": null,
      "outputs": []
    },
    {
      "cell_type": "code",
      "metadata": {
        "id": "x2GXv7FCOrAv"
      },
      "source": [
        "movie_df.head()"
      ],
      "execution_count": null,
      "outputs": []
    },
    {
      "cell_type": "code",
      "metadata": {
        "id": "zyW9tmbsq9vy"
      },
      "source": [
        "movie_df.info()"
      ],
      "execution_count": null,
      "outputs": []
    },
    {
      "cell_type": "markdown",
      "metadata": {
        "id": "cnrj7FP1FYt4"
      },
      "source": [
        "上よりtimestampは適切にdate型に変換されているのがわかります。また、infoによってデータが10万行あることも確認できます。さて、ここでの目的は、このデータを使って、推薦アルゴリズムを構築することですが、その前にこのデータについて簡単に集計をしてみます。以下から評価したユーザーは943人、プロダクトの数は1682作品あるのがわかりますし、作品によってその平均評価が異なることがわかります。"
      ]
    },
    {
      "cell_type": "code",
      "metadata": {
        "id": "a8_jgkXeFSn-"
      },
      "source": [
        "movie_df.user_id.nunique()"
      ],
      "execution_count": null,
      "outputs": []
    },
    {
      "cell_type": "code",
      "metadata": {
        "id": "6xgcuSrdFe7s"
      },
      "source": [
        "movie_df.product_id.nunique()"
      ],
      "execution_count": null,
      "outputs": []
    },
    {
      "cell_type": "code",
      "metadata": {
        "id": "wIrWDmzOA5QM"
      },
      "source": [
        "movie_df.groupby([\"product_id\"])[\"rating\"].mean().sort_values()"
      ],
      "execution_count": null,
      "outputs": []
    },
    {
      "cell_type": "markdown",
      "metadata": {
        "id": "oOoj4U3yYGbn"
      },
      "source": [
        "1人でどれくらいの作品を評価しているでしょうか。以下から、このデータは1人あたり20作品から737作品評価する人がいたようです。"
      ]
    },
    {
      "cell_type": "code",
      "metadata": {
        "id": "8rE7sCDDXv4c"
      },
      "source": [
        "movie_df.groupby([\"user_id\"])[\"product_id\"].nunique().sort_values(ascending=False)"
      ],
      "execution_count": null,
      "outputs": []
    },
    {
      "cell_type": "markdown",
      "metadata": {
        "id": "HniP-UxWHU-m"
      },
      "source": [
        "次に、この推薦アルゴリズムを構築する時は、ユーザーIDごとにそれぞれの映画の評価がどうなのか2次元の表（行列の形）にすることが多く、表の作成は以下のような実装になります。（pandasのpivot_tableを使います。）"
      ]
    },
    {
      "cell_type": "code",
      "metadata": {
        "id": "OEYbRO_fHIwx"
      },
      "source": [
        "movie_df.pivot_table(index='user_id',columns='product_id',values='rating')"
      ],
      "execution_count": null,
      "outputs": []
    },
    {
      "cell_type": "markdown",
      "metadata": {
        "id": "j6ViJtRsABKb"
      },
      "source": [
        "上記の表を見るとわかる通り、こういうデータは商品の種類数は多く、ユーザーは一部の商品しか評価していないため、かなり欠損のあるデータ（スパースデータ）になります。ユーザーが943人、商品が1682個あるため、厳密には943 * 1682 = 1,586,126個評価が必要ですが、ほとんど評価されていないデータになります。"
      ]
    },
    {
      "cell_type": "markdown",
      "metadata": {
        "id": "3perpxibmpX6"
      },
      "source": [
        "さて、このデータをどのように使って推薦システムを構築するかですが、まずこのデータの目的変数は評価（rating）になり、それを検証するモデルを構築したいと思います。アプローチの仕方は機械学習で学んだ検証方法と同じイメージになります。つまり、データを訓練データ（と検証データ）とテストデータに分けて、訓練データでアルゴリズムを構築し、テストデータでその評価していきます。"
      ]
    },
    {
      "cell_type": "markdown",
      "metadata": {
        "id": "2Q4VfbwOHyBc"
      },
      "source": [
        "ここでは、SVD（特異値分解）という推薦のシステムでよく紹介されるアルゴリズムを使います。これは協調フィルタリングのアプローチになります（まずこの講義では、使い方を理解することを重視しているため、計算式の細かいロジックや正確な定義についてはここでは述べませんが、興味ある方は参考文献をみてください。）\n",
        "\n",
        "モデルの評価は、クロスバリデーションでcv=5で実行しています。計測は、RMSEとMAEなど使えますが、わかりやすさを重視するため、RMSEだけセットします。\n",
        "（こちらの用語になじみのない方は、松尾研究室提供のデータサイエンス講義の機械学習のチューニング章のコンテンツをみてください。）"
      ]
    },
    {
      "cell_type": "markdown",
      "metadata": {
        "id": "_LG25dEqMQC_"
      },
      "source": [
        "・MSE (Mean Squared Error)：平均二乗誤差\n",
        "＝＞予測値と実測値の差を二乗した値の平均値\n",
        "\n",
        "・RMSE（Root Mean Squared Error）\n",
        "＝＞MSEの平方根\n",
        "\n",
        "・MAE（Mean Abusolute Error）：平均絶対誤差\n",
        "＝＞予測値と実測値の差の絶対値を算出し、平均したものになります"
      ]
    },
    {
      "cell_type": "markdown",
      "metadata": {
        "id": "tr0SBh5DG6to"
      },
      "source": [
        "以下でSVDのモデルを使うことを実装しています。"
      ]
    },
    {
      "cell_type": "code",
      "metadata": {
        "id": "Qa0GNYtxtrBX"
      },
      "source": [
        "algo = SVD()"
      ],
      "execution_count": null,
      "outputs": []
    },
    {
      "cell_type": "markdown",
      "metadata": {
        "id": "YkWShDPXIpsG"
      },
      "source": [
        "そして、次にcross_validateを使います。この引数として、使うアルゴリズム、対象データセット、評価指標、CVの数、計算ステップごとに出力するかどうかFlgを設定します。以下の実行は、少し時間がかかりますので注意してください。（そして、先ほど変換したDataFrameを使わず、そのままDatasetで読み込んだ、movie_datasetを入れるので注意してください。）"
      ]
    },
    {
      "cell_type": "code",
      "metadata": {
        "id": "38MvC9nZHxSv"
      },
      "source": [
        "cross_validate(algo, movie_dataset, measures=['RMSE'], cv=5, verbose=True)"
      ],
      "execution_count": null,
      "outputs": []
    },
    {
      "cell_type": "markdown",
      "metadata": {
        "id": "FCpgUajka2aV"
      },
      "source": [
        "上記の結果より、SVDのRMSEの平均は約0.93という数値が出ています。さて、この結果だけみても、このSVDモデルがいいのかどうか判断がつきません。それはもともとの比較対象がないためで、初級編でも述べた通り、分析の基本は「比較」にあります。そこで一旦ランダムなモデルを構築しそれをベースに結果比較してみることにしましょう（もし誰かオリジナルなアルゴリズムを構築してリコメンドしている場合は、それが比較対象になります）。\n",
        "\n",
        "以下のNormalPredictorは、ランダムなモデルの結果になります。先ほどのSVDのRMSEは約0.93でしたが、NormalPredictorのRMSEは約1.5になっており、SVDの方が良いという結果になっているのがわかります（これらの指標は予測値と実績値の誤差を計算しているため、なるべく0に近い結果が良いモデルになります）。なお、NormalPredictorが直接エンジンに使われることはないですが、このようにモデルの「比較対象」としては使われることがありますので、推薦システムとして何も比べるモデルがない場合などに使ってください。"
      ]
    },
    {
      "cell_type": "code",
      "metadata": {
        "id": "GVmjj4u_aqLh"
      },
      "source": [
        "from surprise import NormalPredictor\n",
        "algo = NormalPredictor()\n",
        "cross_validate(algo, movie_dataset, measures=['RMSE'], cv=5, verbose=True)"
      ],
      "execution_count": null,
      "outputs": []
    },
    {
      "cell_type": "markdown",
      "metadata": {
        "id": "Gg8LPuTRZx_W"
      },
      "source": [
        "他のアルゴリズムとしては、以下の参考サイトがありますので、次の練習問題でやってみましょう。\n",
        "\n",
        "https://surprise.readthedocs.io/en/stable/prediction_algorithms_package.html"
      ]
    },
    {
      "cell_type": "markdown",
      "metadata": {
        "id": "IcR4JfQRI33_"
      },
      "source": [
        "#### 練習問題\n",
        "1.   上記のデータに対して、異なるモデルで推薦アルゴリズムを構築して、評価してみましょう。また、RSMEだけではなく、他の評価指標も使ってみましょう。"
      ]
    },
    {
      "cell_type": "markdown",
      "metadata": {
        "id": "Kk1pUjverZRC"
      },
      "source": [
        "#### 解答"
      ]
    },
    {
      "cell_type": "markdown",
      "metadata": {
        "id": "ohNS-WCGbIWE"
      },
      "source": [
        "以下のNMF（非負値行列因子分解）も行列分解ベースで、ここではそのアルゴリズムを使っています。SVDより若干悪くなっています。"
      ]
    },
    {
      "cell_type": "code",
      "metadata": {
        "id": "sViGX-zfZTIL"
      },
      "source": [
        "from surprise import NMF\n",
        "algo = NMF()\n",
        "cross_validate(algo, movie_dataset, measures=['RMSE', 'MAE'], cv=5, verbose=True)"
      ],
      "execution_count": null,
      "outputs": []
    },
    {
      "cell_type": "markdown",
      "metadata": {
        "id": "H74Z1AOhUkeW"
      },
      "source": [
        "### 10.2.3 コンテンツベースフィルタリング\n",
        "\n",
        "次は、商品（コンテンツ）をベースにした推薦システムです。この方法は具体的には、Aというブランドの国産ビールを購入したお客さんには、同じ国産カテゴリービール商品で異なるブランドBをリコメンドするというアプローチです。商品の内容がベースになるため、ある程度人でも簡単にリコメンドできるようなアルゴリズムになることも多く、実務では協調フィルタリングほど使われていません。上のsurprizeパッケージも今のところコンテンツベースフィリタリングのリコメンドはサポートしていないようです。\n",
        "\n",
        "参考：http://surpriselib.com/\n",
        "\n",
        "なお、このコンテンツをベースにした方法は、ユーザーに依存しないので、ユーザーが少ない場合や商品の評価が少ない場合に使えます。"
      ]
    },
    {
      "cell_type": "markdown",
      "metadata": {
        "id": "Ob5jRQVzYUvG"
      },
      "source": [
        "### 10.2.4 ハイブリッド手法や深層学習、強化学習を用いたリコメンデーション\n",
        "\n"
      ]
    },
    {
      "cell_type": "markdown",
      "metadata": {
        "id": "Ewy4Nkgc1NYq"
      },
      "source": [
        "\n",
        "これまでリコメンドの種類として、協調フィルタリングをメインに、コンテンツベースのリコメンド、コンテキストを使ったリコメンドがあると簡単に解説をしましたが、それぞれの欠点を補うために、それらを組み合わせたしたハイブリッドな手法があります。他、アソシエーションルールに基づくリコメンド（松尾研究室提供のデータサイエンス講義の教師なしで扱いました）などもあります。"
      ]
    },
    {
      "cell_type": "markdown",
      "metadata": {
        "id": "NFG4GQT_WA8K"
      },
      "source": [
        "さらにリコメンドのハイレベルな手法として、深層学習の分野であるボルツマンマシンを使った推薦システム（協調フィルタリング）がありますし、強化学習を使ったアプローチもあります。リコメンドは「活用と探索」をしながら、改善をする必要があります。ここでいう「活用」とは今まで学習したモデルで最適と判断した商品があり、それをリコメンドするということを実行する一方、「探索」とはそのモデルで最適と判断した商品をリコメンドせず、別の商品をリコメンドすることを意味して、これは強化学習のアプローチになります。これらはハイレベルな方法なため、この講義では扱いませんが、興味ある方は以下の参考文献などをみてください。"
      ]
    },
    {
      "cell_type": "markdown",
      "metadata": {
        "id": "i_f1m0ye4smZ"
      },
      "source": [
        "参考：\n",
        "\n",
        "『Pythonではじめる教師なし学習』（オライリー）\n",
        "\n",
        "・推薦システムへの強化学習の適用（WSDM 2019）\n",
        "\n",
        "https://research.google/pubs/pub47647/"
      ]
    },
    {
      "cell_type": "markdown",
      "metadata": {
        "id": "W0MHeffDvyH-"
      },
      "source": [
        "\n",
        "リコメンドの種類について基本的な解説はこれで終わりになります。なお、それぞれのリコメンドの方法にはメリットやデメリットがあり、例えば、協調フィルタリングは、様々な企業でよく使われるほどある程度高い効果が期待できるメリットがある一方、新しい商品がリコメンドされないこと（誰も買っていないので、データないため）や、新しい顧客（こちらも何も買ってないので、データがないため）へのリコメンドの精度が悪くなりがちなどのデメリットがあります。そこで、より良い商品やサービスを顧客へ提案するために、上記のハイブリットなアプローチや、深層学習、強化学習を使った方法の研究や開発も盛んにされています。\n",
        "\n",
        "各ビジネス状況や、ビジネスモデル、マーケティングの戦略、データ状況に応じて使い分ける必要があると思いますので、上記の参考文献などを使いながら学習を進めて、実務で使う場面がでてきたら、適材適所で使い分けて活用していってください。"
      ]
    },
    {
      "cell_type": "markdown",
      "metadata": {
        "id": "1ttbPvJ7Avjt"
      },
      "source": [
        "### 10.2.5 リコメンドの検証方法とは\n",
        "\n",
        "この節の最後として、リコメンド検証方法について少し述べます。リコメンデーションのモデルを構築した後は、そのリコメンドのロジックを実際にサービスシステムに組み込み（もしくは直接の推薦）、それが効果があったのか検証作業をする必要があります。\n",
        "\n",
        "何かの商品やサービスについてキャンペーンWEBページを構築したなら、その広告がユーザーに表示されたかどうか、それをユーザーがクリックしたかどうか、無料体験など申し込みをしたかどうか、最終的に購買したかどうかそれぞれデータを取る必要があります。（Amazonのサイトなら、そのユーザーに表示された商品、クリックした商品、購入した商品、コメントした商品などデータとして蓄積されているはずです。）\n",
        "\n",
        "ただ、このリコメンデーションの検証について、その追うべき数値は1つだけではありません。例えばその指標が、ウェブクリック率なのか、SNSなどでシェアをされる割合なのか、ちゃんとコンバージョンされることなのかなど、目的は様々にあります。また別の例として、AかBの商品どちらかをリコメンドする場合、Aが購買予測確率90%でBが85%ならば、Aをリコメンドした方がいいという判断もあれば、実はBの利益率はAよりも高い場合は、Bをリコメンドした方がいいという判断もあります。つまり、リコメンデーションとしては、多目的最適化をしていく必要も出てきます。"
      ]
    },
    {
      "cell_type": "markdown",
      "metadata": {
        "id": "sexRIxByRJUW"
      },
      "source": [
        "このようにリコメンデーションの検証アプローチは、そのリコメンドの目的やロジックなどにもよりますが、よく使われている手法がA/Bテストになります。このA/Bテストもリコメンデーションの検証アプローチであり、良い方を採用していく方法で、広い意味で言うと施策検証の1つになります。次の節では、そのA/Bテストも含め、その施策の検証方法について紹介していきます。さらにウェブ施策だけではない、より汎用的なアプローチとしての施策効果検証方法を学んでいきましょう。"
      ]
    },
    {
      "cell_type": "markdown",
      "metadata": {
        "id": "BhJ-tm_Afzhn"
      },
      "source": [
        "## 10.3 施策の効果検証\n",
        "\n",
        "キーワード：因果推論と分析、EBPM、テスト群とコントロール群、RCT、A/Bテスト、Wilcoxon(ウィルコクソン)の順位和検定、セレクションバイアス、共変量、介入変数、回帰分析"
      ]
    },
    {
      "cell_type": "markdown",
      "metadata": {
        "id": "Fmb131tGdDqr"
      },
      "source": [
        "### 10.3.1 施策効果検証の正しいアプローチとは\n",
        "\n",
        "この節では施策の効果検証について、いくつかのアプローチを紹介します。施策には、政策に関する施策、教育に関する施策など様々なものがあります。昨今は\n",
        "「EBPM：Evidence-Based Policy Making (エビデンスに基づく政策形成)」というキーワードが注目されており、これもデータに基づく意思決定アプローチになります。本節では、主にマーケティングに関する施策の効果検証について見ていきます。企業のマーケティング戦略に沿ったビジネス目標（利益など）を最大化するために、そのためのビジネスアクション（変数）の戦略をどうするか、効果が高い施策を選び、効果のない施策はすぐにやめる、それらを素早く判断してくことは、非常に重要なことです。無駄な施策を減らし、その成功確度を上げていくためには、施策検証方法が頑健であることが必要になります。"
      ]
    },
    {
      "cell_type": "markdown",
      "metadata": {
        "id": "ryNL1OOPyPTw"
      },
      "source": [
        "本講義の初級編では顧客を識別し、優良顧客をセグメントする方法を学び、各顧客セグメントに施策を実施する重要性について解説をしました。そして、前節ではリコメンデーションも紹介し、これも施策の一種になります。次に問題になってくるのが、「その施策が本当に効果があったのか、なかったのか」ということです。この検証方法はどうすれば実行できるのでしょうか。それは、初級編の冒頭で、分析で重要なことで述べた「比較する」ことになります。ただ、比較するといっても、その比較対象が重要になってきます。比較の仕方にも様々あり、例えば、施策実施前の売上と施策実施後の売上を比較したり、施策を実施した顧客と施策を実施しない顧客の売上比較をすることも考えられるでしょう。これらの2つのアプローチは簡単であるがゆえに、よく実施される傾向にありますが、実はその施策効果を見誤る可能性もあります。"
      ]
    },
    {
      "cell_type": "markdown",
      "metadata": {
        "id": "EXP4HI1bCFQC"
      },
      "source": [
        "#### 練習問題\n",
        "\n",
        "\n",
        "1.   なぜ単純に施策実施前と施策実施後の売り上げ比較が問題なのか考えてみましょう。\n",
        "2.   なぜ単純に施策実施した顧客と実施しなかった顧客の売上比較に問題があるのか考えてみましょう。\n",
        "3.   どうやれば正確な比較ができるか考えてみましょう。\n",
        "\n",
        "（なお、以下に解説があるので、まずは一旦ここで考えてみてください。）\n"
      ]
    },
    {
      "cell_type": "markdown",
      "metadata": {
        "id": "L5Nzl_rZCBrB"
      },
      "source": [
        "まず、1つ目のアプローチの施策前後比較のどこに問題があるのか考えてみましょう。施策の前後に様々な要因が入り込むため、その施策自体に効果があったのか、正確にはわかりにくくなることがあります。極端な例でいうと、ECサイトか何かで2019年10-12月にマスクを売るためのキャンペーン施策を実施したとしましょう。その前後比較をすると、施策後に圧倒的に売上が上がっているのが想像できると思いますが、これをキャンペーンの効果と言ってよいのかということです。ご想像の通り、キャンペーンの要因以外にも、冬になるので季節性でマスクの売上がもともと上がる傾向であったということと、さらに2020年1-2月頃からコロナウイルスが広がったため、マスクの売上が増えたという点があげられます。この例はとても極端なので、その比較はおかしいとすぐ気付くことができますが、このように他の要因がいろいろとあるため、施策自体の効果がわかりにくくなります。"
      ]
    },
    {
      "cell_type": "markdown",
      "metadata": {
        "id": "TgaivEP--yQM"
      },
      "source": [
        "そして次に、2つ目のアプローチの施策を実施した顧客としなかった顧客の比較の問題点について考えてみましょう。初級編でデシル分析を行ったので、セグメントにクーポンを配布する施策を実施したとしましょう。ここでは、クーポンをセグメント10に配布することを考えます。さて、このクーポン施策の効果をどう検証すればよいでしょうか。セグメント10の施策前後の売上比較は、上の問題がありましたが、他のセグメント（1-9）の人たちと比較するのも問題があります。それは、セグメント10の人たちはもともと購買意欲が高い人たちで、その他のセグメントの人たちとAppletoAppleになってないからです。セグメント10の人たちはクーポンを配布しなくてももともと購買する傾向にあったので、それを他の購買しないセグメントと比較しても正しい比較ではないからです。つまり、その施策で効果があったのではなく、こちらも別の因子が働いていたからになります。これも先ほどと同じような問題点になります。"
      ]
    },
    {
      "cell_type": "markdown",
      "metadata": {
        "id": "4uH_9Pa-3Vrd"
      },
      "source": [
        "では、どのように比較をすればよいのでしょうか。いくつかアプローチがありますが、まずApple to Appleにするために、理想的な比較対象を決めることです。初級編でも少し触れた、同じ購買力を持つセグメントに対して施策をするテストグループ（処置群ともいいます）と、テストしないコントロールグループ（対照群ともいいます）に分けて検証するというアプローチです。これは、RCT（Randomized Controlled Trial）というランダム化比較試験という方法です。具体的には、上の例に続けて話すと、セグメント10の人たちが10万いて、ランダムに9万人抽出してその人たちにクーポンを配布し、その他の1万人には何もしないこととします。これならば、同じセグメント10の人たちだったので、クーポンをもらった9万人ともらわなかった1万人は同じ購買傾向にあり、Apple to Appleに近づけることができ、より正しい比較ができます。"
      ]
    },
    {
      "cell_type": "markdown",
      "metadata": {
        "id": "7AcPo70KG29L"
      },
      "source": [
        "なお、RCTの考え方については、はじめは統計学で学ぶ母集団と標本のイメージを持っていれば十分ですが、はじめて聞いた方は上の説明では少しイメージしにくいと思いますので、以下のクーポン施策の例を使って説明します。\n",
        "\n",
        "以下は、あるスーパーやコンビニなどで同じような購買行動を持つ購買者を、テストグループとコントロールグループに分けて、購買者一人あたりの平均売上時系列折れ線グラフになります。テストグループにはクーポンを提供し、コントロールグループには何もしていないとしましょう。施策実施の前は両グループ同じように売上が推移していますが、施策期間になるとテストグループの平均売上がコントロールグループよりも上がっており、施策が終わると売上が下がって、同じような推移になっているのがわかります。"
      ]
    },
    {
      "cell_type": "markdown",
      "metadata": {
        "id": "3eoQchGwIE_O"
      },
      "source": [
        "補足：なお、グラフに日本語を表示させるために、以下のjapanize-matplotlibをインポートします。"
      ]
    },
    {
      "cell_type": "code",
      "metadata": {
        "id": "B7vhOGpIH6Wu"
      },
      "source": [
        "!pip install japanize-matplotlib"
      ],
      "execution_count": null,
      "outputs": []
    },
    {
      "cell_type": "markdown",
      "metadata": {
        "id": "Eds7RhY48Js9"
      },
      "source": [
        "以下のjapanize_matplotlibをインポートするだけで、グラフのラベルに日本語が表示できます。"
      ]
    },
    {
      "cell_type": "code",
      "metadata": {
        "id": "lq7QdQdxH1yF"
      },
      "source": [
        "import japanize_matplotlib "
      ],
      "execution_count": null,
      "outputs": []
    },
    {
      "cell_type": "code",
      "metadata": {
        "id": "K0kRV0BpDr9g"
      },
      "source": [
        "test_gp =[21,15,10,20,21,15,30,40,41,42,20,41,26,10,15,20,18,17,21,22]\n",
        "control_gp =[21,15,10,20,21,15,30,30,10,15,5,30,20,10,15,20,18,17,21,22]\n",
        "\n",
        "plt.figure(figsize=(20,7))\n",
        "plt.plot(test_gp,label='test group')\n",
        "plt.plot(control_gp, linewidth=6,linestyle=\"--\",label='control group')\n",
        "plt.title('Test Group VS Control Group Avg Reveue')\n",
        "plt.legend(prop={\"size\": 20}, loc=\"best\")\n",
        "\n",
        "plt.vlines(6, ymin=-1, ymax=50, colors='red', linestyle='dashed', linewidth=2)\n",
        "plt.vlines(13, ymin=-1, ymax=50, colors='red', linestyle='dashed', linewidth=2)\n",
        "plt.annotate(\"クーポン 施 策 実 施 期 間\", xy = (7, 1), size = 20, color = \"red\")\n",
        "plt.annotate(\"施 策 実 施 前\", xy = (2, 1), size = 20, color = \"red\")\n",
        "plt.annotate(\"施 策 実 施 後\", xy = (16, 1), size = 20, color = \"red\")\n",
        "plt.xlabel('time')\n",
        "plt.ylabel('avg revenue')"
      ],
      "execution_count": null,
      "outputs": []
    },
    {
      "cell_type": "markdown",
      "metadata": {
        "id": "6nh3BS8N0nye"
      },
      "source": [
        "上の結果から、施策によって売上が上がったことがわかるので、その売上増分と実際の施策にかかったコストを考慮すれば、その施策のROI（費用対効果）も試算することも可能です。具体的には、以下のようなテストグループとコントロールグループの売り上げの差は100円になります（上の設定から、施策期間中でのみ売り上げの増分が生じています）。"
      ]
    },
    {
      "cell_type": "code",
      "metadata": {
        "id": "mA26uJxo0FM5"
      },
      "source": [
        "sum(np.array(test_gp) - np.array(control_gp))"
      ],
      "execution_count": null,
      "outputs": []
    },
    {
      "cell_type": "markdown",
      "metadata": {
        "id": "PnysvPidDnRk"
      },
      "source": [
        "\n",
        "\n",
        "ここで単純に計算しますと施策に対する効果が1人あたり100円の増分なので、仮にこの1人あたりのコストが80円だとすると、単純計算で、ROI= 100 / 80 =125%の効果があったと推定されます。（ただし、ここではRCTが厳密に実行されているため、単純に算出できています。）\n",
        "\n",
        "\n",
        "さらに一部の範囲での実施ならば、全体としてどれだけ効果がありそうかと推定することも可能で、実際に小売店や消費財のメーカーなどではよく一部の地域だけをテストして効果をみて、全国展開するかどうかの判断をしています。（他、別のアプローチとして、人単位ではなく、店舗単位でテスト店舗、コントロール店舗で分けることもあります。）\n",
        "\n",
        "一方、現実的には、RCTの実施が困難なケースもありますし、筆者もそういったケースを色々と見てきたの、状況は理解できます。コントロールを抜くためにコストがかかったり、サンプル数が足りなかったり、顧客を差別するのはよくないという倫理に関係する意見もあったりします。なお筆者が関わったマーケティング施策でも、コントロールを取っていないケースはありますし、現実的にはなかなか難しいのでしょう。\n",
        "\n",
        "そういったRCTができない場合でも、厳密性はかけてしまいますが、いくつかのアプローチがあるため、それをこの講座ではいくつか紹介していきます。また、以下の文献では、どのような場合にどういったアプローチが取れるかケース分けが詳しく記述されていますので、参考になります。そのケース分けの体系的で整理された表については、本節の最後の方で紹介します。\n",
        "\n",
        "参考：\n",
        "* 『政策評価のための因果関係の見つけ方』のA.3　の表A4実験的方法・準実験的方法の整理"
      ]
    },
    {
      "cell_type": "markdown",
      "metadata": {
        "id": "7vYPYeXAEmrX"
      },
      "source": [
        "なお、上の例ではROIを単純に計算しましたが、RCTをしていない状況で、この指標を算出するのはあまり厳密でないことが多く、以下の本では、「内部収益率（＝キャンペーンや施策を実施する場合の投資利回り）」や「投資回収期間（＝投じた累計支出と同額の累計利益を稼ぐまでにかかる期間）」などを追うべき指標として、推奨されています。財務的な指標になり、この講座の趣旨からはずれますが、興味のある方は以下の書籍を参考にしてください。（また、データ戦略からの視点ですが、こういった施策の結果はパワーポイントやエクセルでまとめられることが多く、これらが悪いというわけではないですが、指標に一貫性がなかったり、後で統合するのにまた人の手を使って作業することもよく聞きます。ちゃんと施策結果もデータとして貯められる仕組みを構築しておくことで、自社のノウハウとして強みになりますので、インフラ面からも施策結果を蓄積することを検討しておきましょう。）"
      ]
    },
    {
      "cell_type": "markdown",
      "metadata": {
        "id": "8xQDuHmZGjUs"
      },
      "source": [
        "参考：\n",
        "* 『最低限知っておくべき15の指標 データ・ドリブン・マーケティング』"
      ]
    },
    {
      "cell_type": "markdown",
      "metadata": {
        "id": "QKAmPmAdtEII"
      },
      "source": [
        "#### 補足事項1：全体と部分における統計的関係の逆転\n",
        "施策の因果推定や分析をしっかりしないと判断を間違う恐れがある例として、シンプソンのパラドクスがよく紹介されます。これは、全体での効果と部分集合での効果は異なることがあるという例になります。具体的な例を使って考えてみましょう。例えば、以下のような購買率の表を考えてみます。これは、ある購買者グループに対して、ある商品のキャンペーン施策を実施して、男女別に購買したかどうかの結果になります。この表から男女別に施策実施と未実施の購買率をみると、男女ともに購買率が高くなっています。施策を実施した場合の男性の購買率は95%であるのに対し未実施の男性は90%で、女性は実施グループと未実施グループそれぞれ81%と71%です。しかし、全体としての合計でみると、施策実施した人たちの購買率が84%で、施策未実施の人たちの購買率が85%となっており、施策を実施しない人たちの購買率が逆に高くなっています。これはいったいどういうことでしょうか。\n"
      ]
    },
    {
      "cell_type": "markdown",
      "metadata": {
        "id": "RZ2LDs04zkXu"
      },
      "source": [
        "|  | 施策実施 |  |  | 施策未実施 |  |  |\n",
        "| --- | --- | --- | --- | --- | --- | --- |\n",
        "| 性別 | 購買 | 未購買 | 購買率 | 購買 | 未購買 | 購買率 |\n",
        "| 男性 | 100人 | 5人 | 0.952 | 300人 | 30人 | 0.909 |\n",
        "| 女性 | 300人 | 70人 | 0.810 | 100人 | 40人 | 0.714 |\n",
        "| 合計 | 400人 | 75人 | 0.842 | 400人 | 70人 | 0.851 |\n"
      ]
    },
    {
      "cell_type": "markdown",
      "metadata": {
        "id": "PLGcWGZ0E7-o"
      },
      "source": [
        "男女別の部分集合で見ると、この施策は効果があったようにみえますが、全体としてみると効果がなかったと判断されてしまいます。これがパラドックスといわれる理由です。この問題に対処するためには、古典的な統計学ではアプローチすることができず、「データにある背景」や「その結果を生み出した因果」を考える必要があります。本講座の初級編で「データだけ見ていてもわからないこともある」と述べましたが、それにつながる話になります。\n",
        "\n",
        "ここでは、例えば、この商品が薬局などの売り場にある男性用のシャンプーだとします。すると、この商品を買う女性もいるかもしれませんが、もともと男性用なので女性の方が購買率は低くなります。そして、施策実施した人との男女の割合を見ると、女性の方が割合として高いです（男性105人、女性370人）。そのため、全体として購買率が低くなっているのは、施策実施された人たちの中からランダムに選べば女性である割合は高くなり、施策未実施の人たちの中からランダムに選んだ購買者より、購買する人が減るという現象になっています。\n",
        "\n",
        "これは、「施策」＝＞「購買」という関係だけではなく、「性別」＝＞「購買」という別の因子があるということが背景にあると想像できます。このケースだと男女別に分けたデータを用いるべきというのがいえます。\n",
        "\n",
        "上記の例は、以下の書籍をベースにしており、さらに詳しく学びたい方はぜひ参考にしてください。"
      ]
    },
    {
      "cell_type": "markdown",
      "metadata": {
        "id": "HAgpU2arLFOU"
      },
      "source": [
        "参考文献\n",
        "* 『入門統計的因果推論』"
      ]
    },
    {
      "cell_type": "markdown",
      "metadata": {
        "id": "iOCTY-QMuIuv"
      },
      "source": [
        "### 10.3.2 RCTによる因果推論\n",
        "\n",
        "さて概念的なお話が続いたので、ここでは実際にRCTが実施されているデータについて、Pythonを使って手を動かしながら確かめていきましょう。以下は、とあるECサイトでメールマーケティングの施策を実施したデータになります。\n",
        "\n",
        "・対象データ：\n",
        "\n",
        "http://www.minethatdata.com/Kevin_Hillstrom_MineThatData_E-MailAnalytics_DataMiningChallenge_2008.03.20.csv"
      ]
    },
    {
      "cell_type": "markdown",
      "metadata": {
        "id": "vA44PAhh-qAj"
      },
      "source": [
        "まずこのデータを読み込んでみます。"
      ]
    },
    {
      "cell_type": "code",
      "metadata": {
        "id": "SanM-z8SzH9D"
      },
      "source": [
        "email_analytics_df = pd.read_csv('http://www.minethatdata.com/Kevin_Hillstrom_MineThatData_E-MailAnalytics_DataMiningChallenge_2008.03.20.csv')"
      ],
      "execution_count": null,
      "outputs": []
    },
    {
      "cell_type": "code",
      "metadata": {
        "id": "w-LsU3IyzIAo"
      },
      "source": [
        "email_analytics_df.head()"
      ],
      "execution_count": null,
      "outputs": []
    },
    {
      "cell_type": "markdown",
      "metadata": {
        "id": "JF-xDbTrD_Uw"
      },
      "source": [
        "上のデータカラムについて、左から順に、\n",
        "* recency:直近購買からの経過月数\n",
        "* history_segment:昨年の購入セグメント\n",
        "* history:昨年の購入金額\n",
        "* mens昨年に男性商品の購入履歴があるかフラグ\n",
        "* womens昨年に女性商品の購入履歴があるかフラグ\n",
        "* zip_code:地区（zipcodeがベース）、都会や郊外など\n",
        "* newbie:過去12ヶ月以内に新しいユーザーになったかどうかフラグ\n",
        "* channel:購買チャネル\n",
        "* segment:どんなメールが送信されたか（男性、女性、なし）\n",
        "* visitメール:配信後2週以内にウェブに訪問したかどうかフラグ\n",
        "* conversion:メール配信後2週以内に購買したかどうかフラグ\n",
        "* spend:購入した時の金額\n",
        "\n",
        "になります。"
      ]
    },
    {
      "cell_type": "markdown",
      "metadata": {
        "id": "7vRqzNMWHOcy"
      },
      "source": [
        "以下でデータをチェックして6万4000レコードあるのがわかります。"
      ]
    },
    {
      "cell_type": "code",
      "metadata": {
        "id": "ShFFuRRpG_cY"
      },
      "source": [
        "email_analytics_df.info()"
      ],
      "execution_count": null,
      "outputs": []
    },
    {
      "cell_type": "markdown",
      "metadata": {
        "id": "UM6S4yESLhAO"
      },
      "source": [
        "さて、まずメール施策を実施したかどうかをわかりやすくするために、データ加工処理します。メール施策に関するカラムはsegmentになるため、segmentごとに集計すると以下のようになります。"
      ]
    },
    {
      "cell_type": "code",
      "metadata": {
        "id": "0XaIdutHLvvm"
      },
      "source": [
        "email_analytics_df.segment.value_counts()"
      ],
      "execution_count": null,
      "outputs": []
    },
    {
      "cell_type": "markdown",
      "metadata": {
        "id": "t4wfXspNMXHl"
      },
      "source": [
        "Womens E-MailとMens E-Mail でメール送信フラグを1、No E-Mail を0としてカラムを追加します。"
      ]
    },
    {
      "cell_type": "code",
      "metadata": {
        "id": "To6J-dmWNDUY"
      },
      "source": [
        "email_analytics_df['flg'] = email_analytics_df[\"segment\"].map(lambda x: 0 if x == \"No E-Mail\" else 1)\n",
        "email_analytics_df.flg.value_counts()"
      ],
      "execution_count": null,
      "outputs": []
    },
    {
      "cell_type": "markdown",
      "metadata": {
        "id": "Uh7Is_taPXr2"
      },
      "source": [
        "ここで単純に考えると、メールを送信したグループ(flg=1)と送信していないグループ(flg=0)でコンバージョンや購買金額に差があるのかというのを算出してみます。"
      ]
    },
    {
      "cell_type": "code",
      "metadata": {
        "id": "E0u2QKg0PlrX"
      },
      "source": [
        "email_analytics_df.groupby([\"flg\"])[\"conversion\",\"spend\"].mean()"
      ],
      "execution_count": null,
      "outputs": []
    },
    {
      "cell_type": "markdown",
      "metadata": {
        "id": "Ci1EA0OsQQvL"
      },
      "source": [
        "上の結果から、メール送信したグループのコンバージョンは約1%で、メール送信していないグループは約0.5%で2倍近くの違いがあります。そして、購買金額についてみると、メール送信グループは1.24でメールを送信していないグループは0.65でこちらも2倍近くの差があり、その効果の差分は1.24-0.65=0.59の効果があるといえます。"
      ]
    },
    {
      "cell_type": "markdown",
      "metadata": {
        "id": "_Z0FUn_1VxVv"
      },
      "source": [
        "さてここで、この差が統計的に優位かどうか検証してみます。ここでは、ウィルコクソンの順位和検定という手法を使いますが、以下のような前提があるという条件で実施していきます。なお、統計学の推定の単元で学ぶ用語（帰無仮説や対立仮説、p-valueなど）がいくつかあるため、全く馴染みのない方は、簡単な統計の本を使って復習をしてください。"
      ]
    },
    {
      "cell_type": "markdown",
      "metadata": {
        "id": "hHBzSNK9WJJi"
      },
      "source": [
        "補足：ウィルコクソンの順位和検定の前提\n",
        "\n",
        "*   2グループの平均値が独立であり(データに対応がない)\n",
        "*   正規分布が仮定できない(ノンパラメトリック)場合に用いる\n",
        "*   順序尺度に対応\n",
        "*   独立2群間の代表値の差の検定\n",
        "*   各群のサンプル数は不一致でもOK\n",
        "\n"
      ]
    },
    {
      "cell_type": "code",
      "metadata": {
        "id": "rkl8Q8nuUCMa"
      },
      "source": [
        "from scipy import stats\n",
        "s, pvalue = stats.mannwhitneyu(email_analytics_df[email_analytics_df[\"flg\"]==1][\"spend\"]\n",
        "                , email_analytics_df[email_analytics_df[\"flg\"]==0][\"spend\"]\n",
        "                ,alternative='two-sided')"
      ],
      "execution_count": null,
      "outputs": []
    },
    {
      "cell_type": "markdown",
      "metadata": {
        "id": "jClSMSUcWAin"
      },
      "source": [
        "有意水準を0.05とすると、以下の判定から、帰無仮説「この2つのグループの差はないこと」は棄却されて、2つのグループの差はあると結論づけられました。よって、この施策は意味があったと考えることができます。"
      ]
    },
    {
      "cell_type": "code",
      "metadata": {
        "id": "p5RiS_k3VjLV"
      },
      "source": [
        "pvalue < 0.05"
      ],
      "execution_count": null,
      "outputs": []
    },
    {
      "cell_type": "markdown",
      "metadata": {
        "id": "PSrDHz9OZ1Vx"
      },
      "source": [
        "#### 練習問題\n",
        "1.   上記のデータに対して、Mens E-MailとNo E-Mail の2グループで差があるかどうか調べてみましょう。\n",
        "2.   2つの比較グループに対して、過去の購買力に差がないか調べてみましょう。"
      ]
    },
    {
      "cell_type": "markdown",
      "metadata": {
        "id": "ae_G7mf6Mmkn"
      },
      "source": [
        "#### 解答\n"
      ]
    },
    {
      "cell_type": "markdown",
      "metadata": {
        "id": "46TNp3g8T_b1"
      },
      "source": [
        "以下はフィルターした状態で、先ほどと同じように実装しています。"
      ]
    },
    {
      "cell_type": "code",
      "metadata": {
        "id": "qiyxHuHEaReP"
      },
      "source": [
        "from scipy import stats\n",
        "s,pvalue = stats.mannwhitneyu(email_analytics_df[email_analytics_df[\"segment\"]==\"No E-Mail\"][\"spend\"]\n",
        "                , email_analytics_df[email_analytics_df[\"segment\"]==\"Mens E-Mail\"][\"spend\"]\n",
        "                ,alternative='two-sided')\n",
        "pvalue < 0.05"
      ],
      "execution_count": null,
      "outputs": []
    },
    {
      "cell_type": "markdown",
      "metadata": {
        "id": "99V2N2KRUGpr"
      },
      "source": [
        "上と同じ結果が得られました。"
      ]
    },
    {
      "cell_type": "markdown",
      "metadata": {
        "id": "-P2bae8eY22i"
      },
      "source": [
        "さて、今はこのデータはRCTが実施されている前提のため、頑健な方法で施策設計や検証がされていますが、もしRCTがされていない場合には、この検証のやり方は正しいのでしょうか？　冒頭で述べた通り、もともと購買力の高い人たちにメールが送られている可能性があり、それを「セレクションバイアス」と言います。その場合、ターゲットがもともと購買力が高い人たちのため、施策の有無にかかわらず、購買が高かった可能性もあります。\n",
        "\n",
        "そこで、ここでは、メール送信されているグループとされていないグループのそれぞれについて、過去の購買金額を調べてみます。"
      ]
    },
    {
      "cell_type": "code",
      "metadata": {
        "id": "vVB5AViVa3RZ"
      },
      "source": [
        "email_analytics_df.groupby([\"flg\"])[\"history\"].mean()"
      ],
      "execution_count": null,
      "outputs": []
    },
    {
      "cell_type": "markdown",
      "metadata": {
        "id": "nrfUf2B6bqur"
      },
      "source": [
        "RCTが実行されているため、あまり過去の購買金額に差はなさそうですが、念のため検定してみましょう。"
      ]
    },
    {
      "cell_type": "code",
      "metadata": {
        "id": "JfoSl5a3bi74"
      },
      "source": [
        "from scipy import stats\n",
        "s, pvalue = stats.mannwhitneyu(email_analytics_df[email_analytics_df[\"flg\"]==1][\"history\"]\n",
        "                , email_analytics_df[email_analytics_df[\"flg\"]==0][\"history\"]\n",
        "                ,alternative='two-sided')\n",
        "pvalue < 0.05"
      ],
      "execution_count": null,
      "outputs": []
    },
    {
      "cell_type": "markdown",
      "metadata": {
        "id": "54dra_2Ub0yr"
      },
      "source": [
        "上から、帰無仮説は棄却されず、「過去の購買において、この2つのグループの差はない」ことがいえます。RCTがちゃんと実施されているため、セレクションバイアスはないようです。"
      ]
    },
    {
      "cell_type": "markdown",
      "metadata": {
        "id": "M3DfzoFIwsa8"
      },
      "source": [
        "参考：解答解説はこれで以上ですが、このデータについて、セグメントごとにいろいろと集計できますので、データ理解のために、少し探索的にデータを把握してみましょう。例えば、それぞれの過去のセグメントごとに、それぞれどんなメールを、どれだけの人数に送ったか、それぞれの過去購買金額、コンバージョン人数、コンバージョン率、購買金額合計と購買平均額を算出しています。（以下の実装がわからない方は、pandasの復習をしてください。）\n",
        "\n",
        "以下の集計結果を見ると、過去のセグメント（購買金額による7つのセグメント）ごとに、それぞれメールを送ったグループとそうでないグループとの差があるのがわかります。"
      ]
    },
    {
      "cell_type": "code",
      "metadata": {
        "id": "_FpneZ2sw7b7"
      },
      "source": [
        "aggregations = {\"history\":[\"mean\"]\n",
        "                ,\"conversion\":[\"count\",\"sum\",\"mean\"]\n",
        "                ,\"spend\":[\"sum\",\"mean\"]}\n",
        "email_analytics_df.groupby([\"history_segment\",\"segment\"])[\"history\",\"conversion\",\"spend\"].agg(aggregations).unstack()"
      ],
      "execution_count": null,
      "outputs": []
    },
    {
      "cell_type": "markdown",
      "metadata": {
        "id": "nRx4_gMWWuQW"
      },
      "source": [
        "#### 補足事項1：A/Bテスト\n",
        "このRCTは、いわゆるA/Bテストといわれるアプローチです。インターネット業界ではA/Bテストは常識になっており（ネット上にある広告やデザインなど）、検索エンジンサービスを提供しているGoogleは1日に1000回ものA/Bテストを行っているといわれていますし、またMicrosoftも200回もしているといわれています。A/Bテストに関しては、以下のサイトや最近出た書籍(2021年3月時点、『A/Bテスト実践ガイド』（ASCII）の日本語訳)がとても参考になります。\n",
        "\n",
        "参考URL\n",
        "* https://exp-platform.com/2019webconfabtutorial/\n",
        "\n",
        "参考書籍\n",
        "* 『A/Bテスト実践ガイド』（ASCII）\n",
        "\n",
        "\n",
        "一方、インターネット業界以外でも、初級編で紹介したアパレル企業のワークマンもA/Bテストを大量に実施して、どんどん売り上げを伸ばしているようです。\n",
        "\n",
        "参考URL：ワークマン大量出店の裏にABテスト　実はデータ経営（NIKKEI STYLEより）\n",
        "* https://style.nikkei.com/article/DGXZZO42636670Z10C19A3000000/\n",
        "\n",
        "これらの企業成長の背景には、A/Bテストを繰り返して実験をたくさん実行し、素早くPDCAをまわしていく組織文化があり、組織として全社的に取り組むことが重要だとあらためてわかります。"
      ]
    },
    {
      "cell_type": "markdown",
      "metadata": {
        "id": "eRFJCMNTdMI9"
      },
      "source": [
        "### 10.3.3 回帰分析による因果推論\n",
        "\n",
        "次は、RCTができない場合はどうするかを考えます。ここでは、回帰分析を使った因果推論を紹介します。（なお、回帰分析は、松尾研究室提供の統計学の章にあり、重回帰分析は、機械学習の教師あり学習の章で復習してください。）"
      ]
    },
    {
      "cell_type": "markdown",
      "metadata": {
        "id": "xVpx1WUhdkxi"
      },
      "source": [
        "上記で、セレクションバイアスの話をしましたが、回帰分析によって、それを取り除くことを試みます。\n",
        "\n",
        "さて、回帰分析（重回帰分析）は、2つ以上の説明変数（X）を使って、目的変数（Y）を予測するモデルでした。このメールマーケティングのケースでは、目的変数は購買金額(spend)、説明変数をメールの送信有無(flg)と過去の購買金額(history)とします。ここでは、セレクションバイアスは「過去の購買金額(history)」になり、共変量ともいいます。そして、メール送信の有無が施策のため、これを介入変数ともいいます。\n",
        "\n",
        "\n",
        "購買金額（Y:アウトカム)　　＜＝　　メール送信有無（X:介入変数）　、　過去の購買金額（Z:共変量)\n",
        "\n",
        "\n",
        "ここでは、購買金額Yがメールの送信有無の介入変数によって影響を受けているかどうかを知りたいため、なるべく過去の購買金額の共変量（セレクションバイアス）を減らしたいというモチベーションがあります。"
      ]
    },
    {
      "cell_type": "markdown",
      "metadata": {
        "id": "QGV-OBY4htBo"
      },
      "source": [
        "上の分析設計にしたがって、重回帰分析を実施します。ここでは、機械学習のsklearnではなく、分析結果を詳細に出力してくれるstatsmodelsを使います。"
      ]
    },
    {
      "cell_type": "code",
      "metadata": {
        "id": "SIjXceg7hj1Y"
      },
      "source": [
        "import statsmodels.api as sm\n",
        "\n",
        "X = sm.add_constant(email_analytics_df[[\"history\",\"flg\"]])\n",
        "y = email_analytics_df[\"spend\"]\n",
        "\n",
        "model = sm.OLS(y, X)\n",
        "result = model.fit()"
      ],
      "execution_count": null,
      "outputs": []
    },
    {
      "cell_type": "markdown",
      "metadata": {
        "id": "bkqLc-k_jINe"
      },
      "source": [
        "重回帰分析モデルの結果を見てみましょう。"
      ]
    },
    {
      "cell_type": "code",
      "metadata": {
        "id": "4P4rI0frjGSg"
      },
      "source": [
        "result.summary()"
      ],
      "execution_count": null,
      "outputs": []
    },
    {
      "cell_type": "markdown",
      "metadata": {
        "id": "279MMlzkjcKd"
      },
      "source": [
        "上の結果から、切片が0.3464、過去の購買金額の係数が0.0013、メール送信有無の係数が0.5945\tになっています。そしてt検定は全てpvaluが0.05より小さくなっているため、係数は有意な結果になりました。\n",
        "\n",
        "よって、メール送信の効果有無は0.59ほど売り上げをあげる効果があるということがわかり、上のRCTの場合と同じになっているのがわかります。\n",
        "\n",
        "今回は共変量を1つ選んで追加して重回帰分析を実施し、それはそのセレクションバイアスの影響を減らすためであり、さらに他の共変量を加えて、よりRCTの結果に近づけることができます。\n",
        "\n",
        "ただ、ここで問題があり、この共変量をデータとして得ることができないケースもあり、完全にセレクションバイアスを取り除くことができないこともあります。その場合、いくつかのアプローチ（操作変数法など）がありますので、本節の最後の方に少し紹介しますが、興味ある方は参考文献などで調べてみてください。\n",
        "\n",
        "他、この効果検証をするための重回帰分析について、もちろん、なんでもかんでも目的変数や共変量を入れかて実行するアプローチではなく、そのビジネス背景やドメイン知識を使って、しっかりと分析設計を実施した方がより頑健に検証ができます。"
      ]
    },
    {
      "cell_type": "markdown",
      "metadata": {
        "id": "hVv1W6B-urYW"
      },
      "source": [
        "#### 練習問題\n",
        "1.   Mens E-MailとNo E-Mail の２グループデータで上と同じように、重回帰分析を実施して、メールの効果を算出してください。"
      ]
    },
    {
      "cell_type": "markdown",
      "metadata": {
        "id": "070ZESGdNUoE"
      },
      "source": [
        "#### 解答"
      ]
    },
    {
      "cell_type": "code",
      "metadata": {
        "id": "le1gU4MrvoeZ"
      },
      "source": [
        "import statsmodels.api as sm\n",
        "\n",
        "X = sm.add_constant(email_analytics_df[email_analytics_df[\"segment\"]!=\"WoMens E-Mail\"][[\"history\",\"flg\"]])\n",
        "y = email_analytics_df[email_analytics_df[\"segment\"]!=\"WoMens E-Mail\"][\"spend\"]\n",
        "\n",
        "model = sm.OLS(y, X)\n",
        "result = model.fit()\n",
        "result.summary()"
      ],
      "execution_count": null,
      "outputs": []
    },
    {
      "cell_type": "markdown",
      "metadata": {
        "id": "G--aVkk4wY3C"
      },
      "source": [
        "同じ結果になっているのがわかります。"
      ]
    },
    {
      "cell_type": "markdown",
      "metadata": {
        "id": "MXu2-v2WXV2a"
      },
      "source": [
        "\n",
        "### 10.3.4 施策効果検証方法を整理した表と今後の学習\n",
        "これまで施策の検証について、単純な前後比較とその問題点、RCTが理想的な方法であるということ、そしてそれが困難な場合の回帰分析を用いたアプローチを紹介してきました。\n",
        "\n",
        "さらにこれら以外にも、施策検証には様々な手法があります。ただ、ここで気になるのが、「結局どのアプローチをとればいいのか」だと思います。それぞれの手法に対する理解度や、その時のケースによったりもするので、いくつか紹介していない手法もありますが、その判断をするための体系的な表が以下になります。"
      ]
    },
    {
      "cell_type": "markdown",
      "metadata": {
        "id": "EiCoaaaaX7SC"
      },
      "source": [
        "|  | 手法 | 分析方法 | メリット | デメリット |\n",
        "| --- | --- | --- | --- | --- |\n",
        "| 厳密な方法 | 1.RCT | 対象者と非対象者をランダムに振り分ける | 正確に測定可能 | 振り分けが難しいケースが多い |\n",
        "|  | 2.回帰不連続デザイン | 閾値の前後の個人等を比較する | 閾値の前後でかなり正確に測定可能 | 閾値から離れた個人等ではわからない |\n",
        "|  | 3.マッチング | 対象者と非対象者から似たような人をマッチング | かなり正確に測定可能 | 利用できる変数によっては、正確でない |\n",
        "|  | 4.操作変数法 | 施策に影響を与える変数を用いる | かなり正確に測定可能 | 適切な操作変数を見つけるのが容易ではない |\n",
        "|  | 5.差の差推定・固定効果推定 | どちらも施策実施前後のトレンド要因を除去 | 前後比較よりも、正確に測定可能 | これを使う仮定が満たされる必要あり |\n",
        "|  | 6.合成コントロール法 | 非対象者のデータを合成し仮想的な状況を推定 | 一人、一社でも分析可能 | 施策実施前後の長期的なデータが必要 |\n",
        "|  | 7.回帰分析・単純比較 | 施策後のデータを使う | データさえあれば簡単に分析でき、「第3要因」にも対応できる | 因果関係が逆だとうまく対処できない |\n",
        "| 簡易だが厳密でない方法 | 8.前後比較 | 対象者の前後の結果を比較 | 簡単に実施できる | 比較が不正確 |"
      ]
    },
    {
      "cell_type": "markdown",
      "metadata": {
        "id": "m2LGDUqA-tZy"
      },
      "source": [
        "上記の表では、各手法についての説明やメリットとデメリットが記載されています。上にあるほど厳密なアプローチで、RCTが一番頑健な方法となります。この講義では扱えきれなかった方法もありますので、実務で本格的に使おうと検討されている方は、以下の参考文献を見て、取り組んでください。特に『政策評価のための因果関係の見つけ方』は、数式がでてくる章もありますが、最後の章だけでも読むことをお勧めします。"
      ]
    },
    {
      "cell_type": "markdown",
      "metadata": {
        "id": "oK7WmBGdC5_r"
      },
      "source": [
        "参考文献：\n",
        "* 『政策評価のための因果関係の見つけ方』（日本評論社）\n",
        "* 『入門統計的因果推論』（朝倉書店）\n"
      ]
    },
    {
      "cell_type": "markdown",
      "metadata": {
        "id": "HOUiIHPIEL8o"
      },
      "source": [
        "他にも施策検証として、さまざまなアプローチがあります。構造方程式やベイズ構造時系列モデルを使ったり、ベイズネットワークを使った因果推論、ランダムフォレストなどの機械学習アプローチもあります。さらに深層学習GANを使った因果探索（SAM）、強化学習などもあります。実務で使いそうな方や興味を持った方は以下の参考文献で紹介されていますので、参考にしてください。因果推論に関するライブラリも載せておきます。上の本と合わせて読めば、中級レベルとしては十分だと思います。"
      ]
    },
    {
      "cell_type": "markdown",
      "metadata": {
        "id": "XxjhsCAhEZCd"
      },
      "source": [
        "参考文献：\n",
        "* 『効果検証入門』（技術評論社）\n",
        "* 『Pythonによる因果分析』（マイナビ出版）\n",
        "* 『統計的因果推論』（朝倉書店）\n",
        "* 『統計的因果探索』（講談社）"
      ]
    },
    {
      "cell_type": "markdown",
      "metadata": {
        "id": "N74BsqZqw_G4"
      },
      "source": [
        "参考ライブラリ：因果推論に関するPythonのライブラリ\n",
        "\n",
        "*   DoWhy：観測データと変数間因果に関する知識から、介入効果を測定することができるライブラリ\n",
        "\n",
        "*   EconML：ターゲット変数に影響を与えるような変数に関して条件付けがなされた設定で、介入効果を測定することに特化したライブラリ\n",
        "\n",
        "*   CausalML：特定の属性に絞って、介入効果を測定することに特化したライブラリ\n",
        "\n",
        "*   CausalImpact：時系列のデータに対して、介入前後の両方のデータ得られるときに、介入しなかった場合の時系列を予測し、介入による効果を測定できるライブラリ\n"
      ]
    },
    {
      "cell_type": "markdown",
      "metadata": {
        "id": "lJlQ93Yp1blK"
      },
      "source": [
        "\n",
        "あとは施策をする前に、事業戦略やマーケティング戦略に合わせて、施策実験のデザインをしっかり決めて施策を実行し、素早くPDCAをまわしていく体制を組織として作っていくことが、とても重要になります。以下先ほども紹介した参考書籍は、オンラインにおけるA/Bテストについてがメインですが、素早く実験を繰り返していくこと、その中でも改善できることは少しずつであるということが述べられており（GoogleやMicrosoftという大きな会社でさえもです）、継続的に続けていくことの大切さもわかります。こちらの文献も興味ある方はぜひ参考にしてください。"
      ]
    },
    {
      "cell_type": "markdown",
      "metadata": {
        "id": "GpZp3sFQ1dc0"
      },
      "source": [
        "参考文献：\n",
        "* 『A/Bテスト実践ガイド』（ASCII）"
      ]
    },
    {
      "cell_type": "markdown",
      "metadata": {
        "id": "gmEOIrXVskxX"
      },
      "source": [
        "## 10.4 Pythonを使ったBIツール作成とレポーティング、その自動処理\n",
        "\n",
        "キーワード：分析レポーティングの自動化、自動処理、様々なツールとの連携、Plotly、Dash、メール送信、Slack連携、PDFファイル作成"
      ]
    },
    {
      "cell_type": "markdown",
      "metadata": {
        "id": "9LhDCcY-syOb"
      },
      "source": [
        "### 10.4.1 分析結果やレポート作成の自動化（レポーティングやBIツール作成）\n",
        "\n",
        "ここからは、分析結果に関するレポーティングやそのBIツールの作成方法、それらを自動化する方法を紹介していきます。分析を実施し、その施策やサービス展開などをした後は、それらの効果測定になります。それらをどうレポーティングするか、定期的なKPIのチェックをするためのBIツールの作成方法、その他の通知するためのツール連携も紹介していきます。\n",
        "\n",
        "マーケティング戦略で設定したKPIの数値集計や可視化、分析結果のチェックなどをする際、それらを毎回手作業でやったり、都度コーディングしたり、都度レポートを作成していたら、とても時間が取られます。KPIとして追う数値や仕様などが決まったら、数ヶ月〜半年間はそれらの推移をみていくことになりますし、その集計やレポートは定型作業になります。そのための手作業、データの加工やレポーティング、可視化や通知などは、可能な限り自動的に処理させましょう。そうすれば、私たちは数値やグラフを最終チェックするだけでよいですし、その数値を見て、改善点の検討などに時間を割いていくことができます。自動処理できるところはPythonに任せてしまいましょう。\n",
        "\n",
        "ここでは、簡単なBI的なツールの作成とレポート作成（PDFなど含む）、エクセルの他にGoogleSpreadSheetの処理やメールの送信、Slackなどの連携について紹介します。\n"
      ]
    },
    {
      "cell_type": "markdown",
      "metadata": {
        "id": "3n2z4EBp8MCy"
      },
      "source": [
        "### 10.4.2 自動レポートやBIツール・ダッシュボードを作成する前に\n",
        "\n",
        "\n",
        "さて、レポーティングの自動化やBIツール作成をする前に大事なことがあります。初級編のデータ分析で重要なことで述べたことと同じようなメッセージになりますが、ダッシュボードやレポートを作成する目的や何を知りたいかを明らかにすることです。\n",
        "\n",
        "BIツールの流行もあり、色々な企業で導入されているようですが、BIツールを構築したけれども、いろいろなグラフがたくさんあるだけで、結局何がやりたいのかわからないというケースも耳にします。そのグラフを使って、何をチェックしたいのか、それを見て次どのようなアクションを起こしたいかなど、ビジネス的な意思決定や業務フローなどに組み込む必要があります。そうでないと、最終的にそのBIツールが使われなくなる可能性もあります。本講義のような実装のための練習ならば良いのですが、現場ではビジネスアクションに繋がるレポートやBIツールを作成していきましょう。"
      ]
    },
    {
      "cell_type": "markdown",
      "metadata": {
        "id": "rpcb7COhuc8-"
      },
      "source": [
        "### 10.4.3 Pythonで作るBIツール・ダッシュボード\n"
      ]
    },
    {
      "cell_type": "markdown",
      "metadata": {
        "id": "1juoWlH5Kln0"
      },
      "source": [
        "まず、データの可視化をインタラクティブに操作できるためのライブラリPlotlyとDashを紹介します。データをグラフ化するだけならば、Matplotlibなどで十分に思われるかもしれません。しかし、データ上、あるケースだけを見たい場合（年度ごとかつカテゴリーごとにグラフを変化させるなど）には、Matplotlibではいちいちコードを書き換えるなどする必要があります。もちろん、設計によってはそのように実装することも可能ですが、素早くデータを変更しながらそのグラフも変更させたいとなると、少し時間がかかります。\n",
        "\n",
        "ここで紹介するPlotlyやDashを使えば、そういった年度ごとカテゴリーごとのデータを変更して、それに合わせてグラフも変化するBIツールをさくっと作成することができます。そして、データに対する探索も、いろいろとグラフを変更しながら、素早く実行して可視化することができます。データをコツコツ見る大切さも述べましたが、視覚的にはグラフなどになっている方が理解が早いこともあります。この節では、インタラクティブにグラフを操作できるPlotlyとそれをWebアプリとして構築できるDashについて解説をしていきます。これらが使えるようになれば、ウェブ上でのデータ可視化結果の公開も簡単にできますし、他のプログラミング言語より簡単に実装可能です。それでは実装を見ていきましょう。"
      ]
    },
    {
      "cell_type": "markdown",
      "metadata": {
        "id": "YNZfvUno_Rz1"
      },
      "source": [
        "この環境にはすでにplotlyが入っていますが、念のためアップデートをしましょう。"
      ]
    },
    {
      "cell_type": "code",
      "metadata": {
        "id": "3LgisQTRQStO"
      },
      "source": [
        "!pip install --upgrade plotly"
      ],
      "execution_count": null,
      "outputs": []
    },
    {
      "cell_type": "markdown",
      "metadata": {
        "id": "e7dGb6FtBhy6"
      },
      "source": [
        "以下で必要なライブラリをインポートします。"
      ]
    },
    {
      "cell_type": "code",
      "metadata": {
        "id": "1NR7Hy5-tk43"
      },
      "source": [
        "import plotly\n",
        "import plotly.graph_objects as go\n",
        "import pandas as pd\n",
        "from datetime import datetime\n",
        "import datetime"
      ],
      "execution_count": null,
      "outputs": []
    },
    {
      "cell_type": "markdown",
      "metadata": {
        "id": "UTA0iJ6zrrtH"
      },
      "source": [
        "以下は、データ可視化に使うためのデータを準備するためにインポートします。株価のデータになります。"
      ]
    },
    {
      "cell_type": "code",
      "metadata": {
        "id": "AJMZIAZ0EZ5n"
      },
      "source": [
        "import pandas_datareader.data as web"
      ],
      "execution_count": null,
      "outputs": []
    },
    {
      "cell_type": "markdown",
      "metadata": {
        "id": "d7vBRIVOG9DB"
      },
      "source": [
        "上のpandas_datareaderから、2010年1月１日から2020年12月31日までのGoogleの株価データを取得します。以下で、取得開始日、終わり日、対象株価データを指定して、株価データを約11年分取得しています。"
      ]
    },
    {
      "cell_type": "code",
      "metadata": {
        "id": "Dmp8IYFqEhGh"
      },
      "source": [
        "st_dt = datetime.datetime(2010, 1, 1)\n",
        "end_dt = datetime.datetime(2020, 12, 31)\n",
        "google_df = web.DataReader('GOOG', 'stooq', st_dt, end_dt)"
      ],
      "execution_count": null,
      "outputs": []
    },
    {
      "cell_type": "code",
      "metadata": {
        "id": "1sx6VvWosCf3"
      },
      "source": [
        "google_df.info()"
      ],
      "execution_count": null,
      "outputs": []
    },
    {
      "cell_type": "code",
      "metadata": {
        "id": "DLoVsx0porZA"
      },
      "source": [
        "google_df.head()"
      ],
      "execution_count": null,
      "outputs": []
    },
    {
      "cell_type": "markdown",
      "metadata": {
        "id": "TukK4YfcHIf7"
      },
      "source": [
        "さて、データを可視化するためには、matplolibを使えば、このような時系列データを可視化してその時系列な傾向を見ることができました。ここでは、この株価について、その日ごとの始値、終値、高値、安値についてもグラフで同時に見ることができるようにします。いわゆるローソク足といわれるものになります。ここでは、Plotlyを使用します。Plotlyを使うとローソク足チャートを簡単に描くことができます。高値や安値などそれぞれの値は日によって異なります。値動きが激しい日は、高値と安値は大きくひらきます。日によってそれらの傾向は異なるため、それを把握するためにローソク足チャートを見ます。\n",
        "\n",
        "以下ではローソク足のチャートを作成するための実装になります。"
      ]
    },
    {
      "cell_type": "code",
      "metadata": {
        "id": "-0yv6wfRny8P"
      },
      "source": [
        "fig = go.Figure(data=[go.Candlestick(x=google_df.index,\n",
        "                open=google_df['Open'],\n",
        "                high=google_df['High'],\n",
        "                low=google_df['Low'],\n",
        "                close=google_df['Close'])])\n",
        "\n",
        "fig.update_layout(\n",
        "    title_text=\"Candle　Google Stock\"\n",
        ")\n"
      ],
      "execution_count": null,
      "outputs": []
    },
    {
      "cell_type": "markdown",
      "metadata": {
        "id": "HIg4p7ItoCNK"
      },
      "source": [
        "さらに、以下のようにrangeselectorに設定することで、1ヶ月前、6ヶ月前、1年前にグラフを変更することができます。グラフの左上のボタンを押すことで変えることができます。"
      ]
    },
    {
      "cell_type": "code",
      "metadata": {
        "id": "oqIXhxaSn8AQ"
      },
      "source": [
        "fig.update_layout(\n",
        "    xaxis=dict(\n",
        "        rangeselector=dict(\n",
        "            buttons=list([\n",
        "                dict(count=1,\n",
        "                     label=\"1m\",\n",
        "                     step=\"month\",\n",
        "                     stepmode=\"backward\"),\n",
        "                dict(count=6,\n",
        "                     label=\"6m\",\n",
        "                     step=\"month\",\n",
        "                     stepmode=\"backward\"),\n",
        "                dict(count=1,\n",
        "                     label=\"1y\",\n",
        "                     step=\"year\",\n",
        "                     stepmode=\"backward\"),\n",
        "                dict(step=\"all\")\n",
        "            ])\n",
        "        ),\n",
        "        rangeslider=dict(\n",
        "            visible=True\n",
        "        ),\n",
        "        type=\"date\"\n",
        "    )\n",
        ")"
      ],
      "execution_count": null,
      "outputs": []
    },
    {
      "cell_type": "markdown",
      "metadata": {
        "id": "PXvpn_IkHbNc"
      },
      "source": [
        "上のグラフにカーソルをあてると、いろいろとグラフの見る範囲などが変更できるます。他にも大きさを変更したり、画像で保存することもできますので、操作してみてください。"
      ]
    },
    {
      "cell_type": "markdown",
      "metadata": {
        "id": "Jcy-m-WhtyRk"
      },
      "source": [
        "なお、上のグラフになっているファイルをHTML形式で保存することも可能です。"
      ]
    },
    {
      "cell_type": "code",
      "metadata": {
        "id": "AKfWMC0stNSQ"
      },
      "source": [
        "# html file\n",
        "plotly.offline.plot(fig, filename='output.html')"
      ],
      "execution_count": null,
      "outputs": []
    },
    {
      "cell_type": "markdown",
      "metadata": {
        "id": "XrSndG4YH6bP"
      },
      "source": [
        "そして、左のフォルダからダウンロードできますし、以下のコードを利用して、ファイル名を指定し実行することで、ウェブ上にあるgoogle colaboratoryからローカルへファイルダウンロードができます。"
      ]
    },
    {
      "cell_type": "code",
      "metadata": {
        "id": "Izkb8M2Ktnc6"
      },
      "source": [
        "from google.colab import files\n",
        "files.download('output.html')"
      ],
      "execution_count": null,
      "outputs": []
    },
    {
      "cell_type": "markdown",
      "metadata": {
        "id": "m81qI-gXUT49"
      },
      "source": [
        "上で見ていただいたように、Plotlyを使えば、インタラクティブにグラフを操作できることがわかったと思います。次に、ウェブのアプリ開発にも使えるDashを使っていきます。必要なパッケージをインストールします。Dashとこの環境でDashを使うため、jupyter_dashをインストールします。"
      ]
    },
    {
      "cell_type": "code",
      "metadata": {
        "id": "I2nP-9Q3OHV_"
      },
      "source": [
        "!pip install dash"
      ],
      "execution_count": null,
      "outputs": []
    },
    {
      "cell_type": "code",
      "metadata": {
        "id": "ti0_h6MWO5iQ"
      },
      "source": [
        "!pip install jupyter_dash"
      ],
      "execution_count": null,
      "outputs": []
    },
    {
      "cell_type": "markdown",
      "metadata": {
        "id": "ekwvh5oZVLNN"
      },
      "source": [
        "次に、グラフ化する対象のデータを処理していきます。この講座の初級編でも取り扱ったECサイトの法人POSデータです。前処理等について同じのため、説明は割愛します。"
      ]
    },
    {
      "cell_type": "code",
      "metadata": {
        "id": "HLkCYt_OMQZI"
      },
      "source": [
        "# UCIのウェブサイトにあるエクセルデータを読み込む\n",
        "file_url = 'http://archive.ics.uci.edu/ml/machine-learning-databases/00352/Online%20Retail.xlsx'\n",
        "all_online_retail_data = pd.ExcelFile(file_url)\n",
        "online_retail_data_table = all_online_retail_data.parse('Online Retail')\n",
        "online_retail_data_table = online_retail_data_table[(online_retail_data_table.CustomerID.notnull())]\n",
        "online_retail_data_table.CustomerID = online_retail_data_table.CustomerID.astype(int)\n",
        "online_retail_data_table['TotalPrice'] = online_retail_data_table.Quantity * online_retail_data_table.UnitPrice\n",
        "online_retail_data_table.set_index(['InvoiceDate'],inplace=True)"
      ],
      "execution_count": null,
      "outputs": []
    },
    {
      "cell_type": "markdown",
      "metadata": {
        "id": "dYL3PrlcVdms"
      },
      "source": [
        "次に、ここでチェックしたい項目を定めます。ここでは、月ごとの売上を国別にみたいとします。以下は、pandasのresample機能を使って、国ごと、月ごとに売上を算出しています。"
      ]
    },
    {
      "cell_type": "code",
      "metadata": {
        "id": "6FJi_7pgqW4S"
      },
      "source": [
        "country_totalp_m_df = online_retail_data_table.groupby([\"Country\"])['TotalPrice'].resample('M').sum().reset_index()\n",
        "country_totalp_m_df.head()"
      ],
      "execution_count": null,
      "outputs": []
    },
    {
      "cell_type": "markdown",
      "metadata": {
        "id": "36Fo6fxQvBIa"
      },
      "source": [
        "もちろん、Matplotlibを使えば、これらの一気にグラフ化することはできますが、ごちゃ混ぜで見にくくなります。そこで、先程のPlotlyとこのDashを使って、プルダウンで国を選択できるようにしましょう。必要なライブラリ等をインポートします。"
      ]
    },
    {
      "cell_type": "code",
      "metadata": {
        "id": "bY9X7C1CvPLn"
      },
      "source": [
        "import dash \n",
        "from jupyter_dash import JupyterDash \n",
        "import dash_core_components as dcc \n",
        "import dash_html_components as html \n",
        "import plotly.express as px\n",
        "from dash.dependencies import Input, Output"
      ],
      "execution_count": null,
      "outputs": []
    },
    {
      "cell_type": "markdown",
      "metadata": {
        "id": "bEHGE97VlCVd"
      },
      "source": [
        "以下を実行すると、月ごとの売上推移が表示され、その国を変更することで、時系列の売上グラフが変更されます。オーストラリアがデフォルトになっています。HTMLやCSSなどウェブ系の言語を知らなくても、ウェブブラウザ上でインタラクティブに動くグラフを作成することが可能になります。"
      ]
    },
    {
      "cell_type": "code",
      "metadata": {
        "id": "2WOC6z-Tq8sp"
      },
      "source": [
        "app = JupyterDash(__name__)\n",
        "app.layout = html.Div([\n",
        "                       dcc.Dropdown(id=\"my_dropdown\",\n",
        "                                    options=[{\"value\": cnt, \"label\": cnt} for cnt in country_totalp_m_df.Country.unique()],\n",
        "                                    value=\"Australia\"\n",
        "                                    ),\n",
        "                       dcc.Graph(id=\"my_graph\")\n",
        "])\n",
        "\n",
        "@app.callback(Output(\"my_graph\", \"figure\"), Input(\"my_dropdown\", \"value\"))\n",
        "def update_graph(selected_country):\n",
        "  selected_country_totalp_m_df = country_totalp_m_df[country_totalp_m_df[\"Country\"] == selected_country]\n",
        "  return px.line(selected_country_totalp_m_df, x=\"InvoiceDate\", y=\"TotalPrice\")\n",
        "\n",
        "app.run_server(mode=\"inline\")"
      ],
      "execution_count": null,
      "outputs": []
    },
    {
      "cell_type": "markdown",
      "metadata": {
        "id": "CMbDSYtWWdIH"
      },
      "source": [
        "@のコールバックについてはみなれない方向けに簡単に解説をします。コールバックとは、ある特定のイベントが起きた時に、別の関数を呼び出すための処理です。何かの要素がクリックされたりしたときに、グラフが変更されたりします。上の例でいうと、update_graphで定めた関数で引数がselected_countryとなっています。関数の中身を見ると、あるCountryでフィルタリングされているのがわかると思います。"
      ]
    },
    {
      "cell_type": "markdown",
      "metadata": {
        "id": "B2xJUSfqWqHX"
      },
      "source": [
        "次に、この月ごとの売上について、各国ごとにデータがあるため、世界地図を使って売上データの可視化をしていきましょう。実は、今回のケースでいうと地域が限られているため無理をして世界地図を作成する必要ないですが、世界地図を見ることで、地域ごとの偏りやその売上傾向を把握することができますので、その練習だと思って取り組みましょう。\n",
        "\n",
        "以下は、plotlyのexpressに入っているデータです。\n",
        "\n",
        "国名、 大陸名、 データ取得年度、 寿命、 人口、 一人当たりのGDP、 iso_lpha(国の略称)、iso_num（国のひも付け番号）になります。国の略称を使って国を認識したいため、以下のデータを先ほどの月ごと売上データと結合して使うことにします。"
      ]
    },
    {
      "cell_type": "code",
      "metadata": {
        "id": "NeOFSHl1ILU2"
      },
      "source": [
        "gapminder = px.data.gapminder()\n",
        "gapminder.head()"
      ],
      "execution_count": null,
      "outputs": []
    },
    {
      "cell_type": "markdown",
      "metadata": {
        "id": "IzmnWJgB42NB"
      },
      "source": [
        "また、先ほどの売上データと結合するため、データカラム名を変更します。"
      ]
    },
    {
      "cell_type": "code",
      "metadata": {
        "id": "2UItQoJ3ft2B"
      },
      "source": [
        "country_totalp_m_df.columns = [\"country\",\"invicedate\",\"totalprice\"]"
      ],
      "execution_count": null,
      "outputs": []
    },
    {
      "cell_type": "markdown",
      "metadata": {
        "id": "dy_sDhIC49HP"
      },
      "source": [
        "以下では、それぞれの国ごとにレコードを絞るためにデータを処理しています。\n"
      ]
    },
    {
      "cell_type": "code",
      "metadata": {
        "id": "LZJuT83XftEP"
      },
      "source": [
        "new_information_tb = gapminder.groupby([\"country\",\"continent\",\"iso_num\",\"iso_alpha\"])[\"year\"].count().reset_index()\n",
        "new_information_tb"
      ],
      "execution_count": null,
      "outputs": []
    },
    {
      "cell_type": "markdown",
      "metadata": {
        "id": "YoLrYEMP5V3s"
      },
      "source": [
        "以下で、データのマージをします。さらに、naのレコードもあるため、ここでは一旦対象外とするため、削除します。"
      ]
    },
    {
      "cell_type": "code",
      "metadata": {
        "id": "sbZZFXd4gmhU"
      },
      "source": [
        "merge_df = country_totalp_m_df.merge(new_information_tb, how='left',on=\"country\")"
      ],
      "execution_count": null,
      "outputs": []
    },
    {
      "cell_type": "code",
      "metadata": {
        "id": "RpRNle7jcv89"
      },
      "source": [
        "merge_df.dropna(inplace=True)\n",
        "merge_df"
      ],
      "execution_count": null,
      "outputs": []
    },
    {
      "cell_type": "markdown",
      "metadata": {
        "id": "qAWFIF6XInm4"
      },
      "source": [
        "そして、ここでは、以前見たようにイギリスの売上が大きすぎるので、一旦イギリスは省きます。また、一部売上がマイナスになっているため、それも排除します。"
      ]
    },
    {
      "cell_type": "code",
      "metadata": {
        "id": "89hDACvPkS0G"
      },
      "source": [
        "new_merge_df = merge_df[(merge_df.totalprice>0) &(merge_df.country!=\"United Kingdom\")]"
      ],
      "execution_count": null,
      "outputs": []
    },
    {
      "cell_type": "markdown",
      "metadata": {
        "id": "JH1athiS52Vc"
      },
      "source": [
        "次に、年月の表示形式するために型を変更します。"
      ]
    },
    {
      "cell_type": "code",
      "metadata": {
        "id": "VYgfSU3m6B4L"
      },
      "source": [
        "new_merge_df[\"YYYYMM\"] = pd.to_datetime(new_merge_df[\"invicedate\"]).dt.strftime(\"%Y%m\")"
      ],
      "execution_count": null,
      "outputs": []
    },
    {
      "cell_type": "markdown",
      "metadata": {
        "id": "hhvE7482vCTX"
      },
      "source": [
        "これでデータの前処理が終わりました。世界地図は、scatter_geoを使いまして、それぞれ対象となるデータ、区分するカラムやバブルの対象など設定します。\n",
        "\n",
        "\n",
        "以下でそれぞれの国ごとに、売上の大きさをバブルチャートの大きさにした世界地図になります。さらに、住んでいる地域も色分けされています。"
      ]
    },
    {
      "cell_type": "code",
      "metadata": {
        "id": "XK-hTir5kH6Q"
      },
      "source": [
        "fig = px.scatter_geo(new_merge_df, locations=\"iso_alpha\", color=\"continent\",\n",
        "                     hover_name=\"country\", size=\"totalprice\",\n",
        "                     animation_frame=\"YYYYMM\",\n",
        "                     projection=\"natural earth\")\n",
        "fig.show()"
      ],
      "execution_count": null,
      "outputs": []
    },
    {
      "cell_type": "markdown",
      "metadata": {
        "id": "LtL155Ij7pcw"
      },
      "source": [
        "上のグラフにおける再生ボタンを押すと月ごとの結果をアニメーションとして見ることもできますし、plotlyでやった時と同じように拡大縮小したり、画像を保存等することもできます。\n",
        "\n",
        "以上でBIツール的なダッシュボードを作成する簡単な紹介は終わりになります。もちろん、市販されているソフトやクラウドサービスを使うことでデータの可視化はやりやすくなっていますが、Pythonによる実装はそんなに難しくなく、高価なソフトを買う必要もなく、細かな修正など既存のBIツールでは対応できないデータ処理や可視化もpythonを使えば可能です。こういった可視化ツールも自社で開発していれば、修正も容易にでき、よりPDCAサイクルを早くまわすこともできます。"
      ]
    },
    {
      "cell_type": "markdown",
      "metadata": {
        "id": "ii38yyRxwx7J"
      },
      "source": [
        "#### 練習問題\n",
        "1.   上記で読み込んだ、gapminderのデータに対して、上のような世界地図を作成し(バブルの大きさはlifeExp\tとしてください)、グラフ化して動かせるようにしましょう。また、バブルの大きさを一人当たりのGDPや人口に変更したグラフも作成してみましょう。\n",
        "\n"
      ]
    },
    {
      "cell_type": "markdown",
      "metadata": {
        "id": "zbCgUrOUX1To"
      },
      "source": [
        "#### 解答"
      ]
    },
    {
      "cell_type": "code",
      "metadata": {
        "id": "nz6BhogcX8SZ"
      },
      "source": [
        "gapminder.head()"
      ],
      "execution_count": null,
      "outputs": []
    },
    {
      "cell_type": "markdown",
      "metadata": {
        "id": "SSjppQ9bd6H9"
      },
      "source": [
        "平均寿命"
      ]
    },
    {
      "cell_type": "code",
      "metadata": {
        "id": "k3r6Qx1WX8Xa"
      },
      "source": [
        "fig2 = px.scatter_geo(gapminder, locations=\"iso_alpha\", color=\"continent\",\n",
        "                     hover_name=\"country\", size=\"lifeExp\",\n",
        "                     animation_frame=\"year\",\n",
        "                     projection=\"natural earth\")\n",
        "fig2.show()"
      ],
      "execution_count": null,
      "outputs": []
    },
    {
      "cell_type": "markdown",
      "metadata": {
        "id": "uKJC0rtJd_AQ"
      },
      "source": [
        "一人当たりのGDP"
      ]
    },
    {
      "cell_type": "code",
      "metadata": {
        "id": "PT1gt9g1di_B"
      },
      "source": [
        "fig2 = px.scatter_geo(gapminder, locations=\"iso_alpha\", color=\"continent\",\n",
        "                     hover_name=\"country\", size=\"gdpPercap\",\n",
        "                     animation_frame=\"year\",\n",
        "                     projection=\"natural earth\")\n",
        "fig2.show()"
      ],
      "execution_count": null,
      "outputs": []
    },
    {
      "cell_type": "markdown",
      "metadata": {
        "id": "sPUUOnYld3Rk"
      },
      "source": [
        "人口"
      ]
    },
    {
      "cell_type": "code",
      "metadata": {
        "id": "9g-Rn8Dwd1RC"
      },
      "source": [
        "fig2 = px.scatter_geo(gapminder, locations=\"iso_alpha\", color=\"continent\",\n",
        "                     hover_name=\"country\", size=\"pop\",\n",
        "                     animation_frame=\"year\",\n",
        "                     projection=\"natural earth\")\n",
        "fig2.show()"
      ],
      "execution_count": null,
      "outputs": []
    },
    {
      "cell_type": "markdown",
      "metadata": {
        "id": "fZfiESIYdgOB"
      },
      "source": [
        "#### 補足事項1　日本地図を使う\n"
      ]
    },
    {
      "cell_type": "markdown",
      "metadata": {
        "id": "TG_rLh3xdjwv"
      },
      "source": [
        "地図に関するpythonのライブラリとして、日本地図の都道府県を表示してくれるjapanpanmapがあります。都道府県ごとに色を変更するなど可能です。"
      ]
    },
    {
      "cell_type": "code",
      "metadata": {
        "id": "XxwfjynJYb5G"
      },
      "source": [
        "!pip install japanmap"
      ],
      "execution_count": null,
      "outputs": []
    },
    {
      "cell_type": "markdown",
      "metadata": {
        "id": "I-ttlFB-ePrr"
      },
      "source": [
        "以下はpictureをインポートして、日本地図を表示して、東京都を青で（色名）指定し、大阪府を黄色で（RGB値）指定して表示しています。"
      ]
    },
    {
      "cell_type": "code",
      "metadata": {
        "id": "TtlkbJ3KYvFQ"
      },
      "source": [
        "from japanmap import picture\n",
        "\n",
        "plt.imshow(picture({'東京都':'blue','大阪府':(255,255,0)}));"
      ],
      "execution_count": null,
      "outputs": []
    },
    {
      "cell_type": "markdown",
      "metadata": {
        "id": "NJeoHfqpe5vw"
      },
      "source": [
        "他のライブラリとして、より詳細な地図を使いたい場合や、より拡大や縮小を柔軟に実行したい場合にはfoliumを使うと便利です。"
      ]
    },
    {
      "cell_type": "markdown",
      "metadata": {
        "id": "ZUz3uwuGhf6Z"
      },
      "source": [
        "公式サイト：https://python-visualization.github.io/folium/"
      ]
    },
    {
      "cell_type": "code",
      "metadata": {
        "id": "5M9kp89FbuGg"
      },
      "source": [
        "!pip install folium"
      ],
      "execution_count": null,
      "outputs": []
    },
    {
      "cell_type": "markdown",
      "metadata": {
        "id": "saaCrh5efpqM"
      },
      "source": [
        "東京駅周辺の地図を表示してみます。東京駅の緯度経度を調べてみると、(35.6809591,139.7673068)になりますので、それをlocationのパラメータとしてセットします。また、東京駅にマークを付ける場合は、Markerを使います。"
      ]
    },
    {
      "cell_type": "code",
      "metadata": {
        "id": "T8pdswPHb0Q9"
      },
      "source": [
        "import folium\n",
        "\n",
        "# 地図作成とマークの付与\n",
        "folium_map = folium.Map(location=[35.6809591,139.7673068], zoom_start=16)\n",
        "folium.Marker(location=[35.6809591,139.7673068]).add_to(folium_map)\n",
        "\n",
        "# 地図の表示\n",
        "folium_map"
      ],
      "execution_count": null,
      "outputs": []
    },
    {
      "cell_type": "markdown",
      "metadata": {
        "id": "_8I6bk4YiAqJ"
      },
      "source": [
        "この詳細な地図は粒度がかなり細かいので、分析でざっくり可視化する場面としてはそれほど多くはないかもしれませんが、以下のようにPolyLineを使って経路のマークもできますので、例えば、流通の最短経路の計算などに使えるかもしれません。"
      ]
    },
    {
      "cell_type": "code",
      "metadata": {
        "id": "fi-O_sPzilU0"
      },
      "source": [
        "loc = [(35.6809591,139.7673068),\n",
        "       (35.6809117,139.7576692)]\n",
        "\n",
        "folium.PolyLine(loc,\n",
        "                color='red',\n",
        "                weight=15,\n",
        "                opacity=0.8).add_to(folium_map)\n",
        "folium_map"
      ],
      "execution_count": null,
      "outputs": []
    },
    {
      "cell_type": "markdown",
      "metadata": {
        "id": "x0ZKVLTKurid"
      },
      "source": [
        "\n",
        "### 10.4.4 Pythonで操るGoogle Spread Sheet（セキュリティ注意）\n",
        "\n",
        "次に、Pythonを使ってGoogle Spread Sheetを操る方法を紹介します。エクセルの操作については、消費者分析の初級編や上のデータ処理から、Pandasの操作と合わせて、比較的容易にデータ処理できると思います。近年はエクセルの他に、クラウドにあるGoogle Spread Sheetを使っている企業も増えてきています。ここでは、そのGoogle Spread Sheetを直接Pythonで処理していく方法を紹介していきます。この手法を知ることによって、Googleのクラウドで管理していたファイル操作（シートにある数字処理など）も自動化できます。\n",
        "\n",
        "まず、そのための使うパッケージをインストールします。"
      ]
    },
    {
      "cell_type": "markdown",
      "metadata": {
        "id": "YCAw9Xnfkkir"
      },
      "source": [
        "\n",
        "\n",
        "https://qiita.com/safa/items/bfa52430f920ac562bec"
      ]
    },
    {
      "cell_type": "code",
      "metadata": {
        "id": "_tN1LE8Nkwv3"
      },
      "source": [
        "!pip install gspread"
      ],
      "execution_count": null,
      "outputs": []
    },
    {
      "cell_type": "markdown",
      "metadata": {
        "id": "mGeVQJ5mlGbJ"
      },
      "source": [
        "以下が必要なライブラリ等になります。\n",
        "\n",
        "**注意：ここから一部、Googleのアカウントを持っていなかったり、企業のセキュリティのため実行できない場合がありますのでご了承ください。またセキュリティ情報を扱うため、実行の際には各情報セキュリティポリシーに従って、パスワード情報などは十分に注意して扱ってください。**\n",
        "\n",
        "\n",
        "全て実行すると、認証のためのURLが表示されるため、そのURLクリックして、「Google Cloud SDK が Google アカウントへのアクセスをリクエストしています」と出るため許可をします。そのあとに「このコードをコピーし、アプリケーションに切り替えて貼り付けてください。」と出てくるための、コードをコピーして、以下の入力欄にペーストしてEnterすれば認証が完了します。"
      ]
    },
    {
      "cell_type": "code",
      "metadata": {
        "id": "Bomf4Q2hk4-A"
      },
      "source": [
        "from google.colab import auth\n",
        "auth.authenticate_user()\n",
        "\n",
        "import gspread\n",
        "from google.auth import default\n",
        "creds, _ = default()\n",
        "\n",
        "gc = gspread.authorize(creds)"
      ],
      "execution_count": null,
      "outputs": []
    },
    {
      "cell_type": "markdown",
      "metadata": {
        "id": "zAlUlLnAhS5p"
      },
      "source": [
        "以下でアカウトにあるGoogleDriveにあるファイル一覧を表示しています。なお、筆者の環境にて、あらかじめ、passという今後使うパスワードの情報ファイルと、サンプルとしてのデータ(sample_data_2021)を用意しています。"
      ]
    },
    {
      "cell_type": "code",
      "metadata": {
        "id": "uIdoK5Qmluu9"
      },
      "source": [
        "workbook_list = gc.openall()\n",
        "for workbook in workbook_list:\n",
        "  print(workbook.title) # 取得したファイルのタイトルを表示"
      ],
      "execution_count": null,
      "outputs": []
    },
    {
      "cell_type": "markdown",
      "metadata": {
        "id": "xZX8wCexj84e"
      },
      "source": [
        "以下でGoogleスプレッドシートを指定して、処理していきます。"
      ]
    },
    {
      "cell_type": "code",
      "metadata": {
        "id": "ZPx1jR3Ysv8M"
      },
      "source": [
        "ss_name = \"sample_data_2021\"\n",
        "workbook = gc.open(ss_name)"
      ],
      "execution_count": null,
      "outputs": []
    },
    {
      "cell_type": "code",
      "metadata": {
        "id": "X6FGuSU8ljGd"
      },
      "source": [
        "worksheet = workbook.get_worksheet(0)"
      ],
      "execution_count": null,
      "outputs": []
    },
    {
      "cell_type": "code",
      "metadata": {
        "id": "mFDOypeSl1qQ"
      },
      "source": [
        "print(worksheet.acell(\"C2\").value)"
      ],
      "execution_count": null,
      "outputs": []
    },
    {
      "cell_type": "markdown",
      "metadata": {
        "id": "51kDZBz8wAVK"
      },
      "source": [
        "他にも、スプレッドシートのIDやURLを指定して処理したり、もちろん、シートへの書き込みや削除などもできます。何か数値などGoogleSpreadSheetで管理され、定期的に数値を集計したり、加工する必要がある場合には、pythonとgspreadを活用できますので検討してみてください。"
      ]
    },
    {
      "cell_type": "markdown",
      "metadata": {
        "id": "QJpn9RMRv6E2"
      },
      "source": [
        "\n",
        "### 10.4.5 Pythonで作るPDFレポート"
      ]
    },
    {
      "cell_type": "markdown",
      "metadata": {
        "id": "B8gJziHO1_nM"
      },
      "source": [
        "数値を整えたり、グラフを作成した後は、それらをまとめるためのレポート作成について紹介します。ここではPDF出力を紹介します。ここではreportlabというパッケージをインストールします。以下に公式サイトがあります。"
      ]
    },
    {
      "cell_type": "markdown",
      "metadata": {
        "id": "QpNHUV7oaWA-"
      },
      "source": [
        "公式サイト：https://www.reportlab.com/"
      ]
    },
    {
      "cell_type": "markdown",
      "metadata": {
        "id": "6_7uPb3YTwQ4"
      },
      "source": [
        "そして、サンプルとして以下のようなPDFレポートを作成ができます。\n",
        "\n",
        "https://www.reportlab.com/media/pix/RLIMG_04e546a82cc44dbc9ac6699aa7572865.PDF"
      ]
    },
    {
      "cell_type": "markdown",
      "metadata": {
        "id": "e6d8Ch8rRF3M"
      },
      "source": [
        "reportlabをインストールしています。"
      ]
    },
    {
      "cell_type": "code",
      "metadata": {
        "id": "fweQfTm7iM5U"
      },
      "source": [
        "!pip install reportlab"
      ],
      "execution_count": null,
      "outputs": []
    },
    {
      "cell_type": "markdown",
      "metadata": {
        "id": "549f7UVORJTv"
      },
      "source": [
        "次に必要なライブラリ等をインポートします。"
      ]
    },
    {
      "cell_type": "code",
      "metadata": {
        "id": "FWWFTMjqkXgr"
      },
      "source": [
        "from reportlab.pdfgen import canvas\n",
        "from reportlab.pdfbase import pdfmetrics\n",
        "from reportlab.pdfbase.cidfonts import UnicodeCIDFont\n",
        "from reportlab.lib.units import cm\n",
        "from reportlab.lib.pagesizes import A4, portrait\n",
        "from PIL import Image\n",
        "from matplotlib.backends.backend_pdf import PdfPages\n",
        "import datetime"
      ],
      "execution_count": null,
      "outputs": []
    },
    {
      "cell_type": "markdown",
      "metadata": {
        "id": "Uxevle4fRL_d"
      },
      "source": [
        "以下は、現在の日時を取得し、それを最終的にPDFレポートとして出力する実装です。"
      ]
    },
    {
      "cell_type": "code",
      "metadata": {
        "id": "cWBdnP4niM7k"
      },
      "source": [
        "# 現在の日時取得\n",
        "d_today = datetime.date.today()\n",
        "\n",
        "### PDFファイルを生成 ###\n",
        "file_name = 'Report'+str(d_today)+'.pdf'    # ファイル名\n",
        "pdf = canvas.Canvas(file_name, pagesize=portrait(A4))    # サイズA4\n",
        "pdf.saveState()    # 保存\n",
        "\n",
        "pdf.setAuthor('OFFICE54')\n",
        "pdf.setTitle(str(d_today))\n",
        "pdf.setSubject('TEST TEST TEST')\n",
        "\n",
        "### 線の描画 ###\n",
        "pdf.setLineWidth(1)\n",
        "pdf.line(10*cm, 25*cm, 10*cm, 1*cm)\n",
        "\n",
        "### フォント、サイズを設定 ###\n",
        "pdfmetrics.registerFont(UnicodeCIDFont('HeiseiKakuGo-W5'))\n",
        "pdf.setFont('HeiseiKakuGo-W5', 12)\n",
        "\n",
        "### 文字を描画 ###\n",
        "pdf.drawString(1*cm, 26*cm, str(d_today))\n",
        "\n",
        "pdf.setFont('HeiseiKakuGo-W5', 20)    # フォントサイズ変更\n",
        "width, height = A4  # A4サイズ\n",
        "pdf.drawCentredString(width / 2, height - 2*cm, '本日'+str(d_today)+'のKPI状況と過去の推移')\n",
        "\n",
        "pdf.save()"
      ],
      "execution_count": null,
      "outputs": []
    },
    {
      "cell_type": "markdown",
      "metadata": {
        "id": "LbyHgoiuRTvT"
      },
      "source": [
        "以下で上記で作成したPDFファイルがあることを確認しています。"
      ]
    },
    {
      "cell_type": "code",
      "metadata": {
        "id": "XFhPFS-4iM-M"
      },
      "source": [
        "ls"
      ],
      "execution_count": null,
      "outputs": []
    },
    {
      "cell_type": "markdown",
      "metadata": {
        "id": "YAT-w9w7j9ZK"
      },
      "source": [
        "ファイル名は「ReportYYYY-MM-DD.pdf 」になり、作成したPDFファイルをローカルにダウンロードすることも可能です。"
      ]
    },
    {
      "cell_type": "code",
      "metadata": {
        "id": "CtL_jb9diNAW"
      },
      "source": [
        "from google.colab import files\n",
        "files.download(file_name) # ファイル変数名指定"
      ],
      "execution_count": null,
      "outputs": []
    },
    {
      "cell_type": "markdown",
      "metadata": {
        "id": "RLGaRvBtmEuR"
      },
      "source": [
        "以上で、PDFファイルの作成については終わりになります。"
      ]
    },
    {
      "cell_type": "markdown",
      "metadata": {
        "id": "8gtwzldPwIlw"
      },
      "source": [
        "### 10.4.6 Pythonで自動化する通知機能（セキュリティ注意）\n",
        "\n",
        "分析のためのレポートを作成する処理について、データ量や前処理、その報告するボリュームによっては、時間がかかることもあります。自動化をする方法としては、WINDOWSのタイムスケジューラを使ったり、LINUXのcronなどを使って、日次や週次のバッチ処理を作成することも可能です。一定程度のレポート作成であればある程度計算処理時間の見通しはつきますが、処理がちゃんと終わっているのかどうか、いちいちチェックするのも面倒です。そこで、その処理が完了したことを自動的に通知する方法をここで紹介します。Pythonを使ってメールに添付して送信したり、Slackやライン、Teamsなどを使って通知する方法があります。ここではメールとSlackを使って実演してみます。"
      ]
    },
    {
      "cell_type": "markdown",
      "metadata": {
        "id": "ae7Z6ftVpaBZ"
      },
      "source": [
        "ただし、ここではセキュリティ絡みの設定をする必要があるため、方法論だけを紹介します。もし業務などで使う場面が出てきたら、セキュリティなどに注意して、実行してください。"
      ]
    },
    {
      "cell_type": "markdown",
      "metadata": {
        "id": "E_nkiiDRpN1F"
      },
      "source": [
        "#### 10.4.6.1 メールでの通知とファイルの添付"
      ]
    },
    {
      "cell_type": "markdown",
      "metadata": {
        "id": "IYyplbGfuv-w"
      },
      "source": [
        "ここでは、Gmailを使った方法を紹介します。なお、グーグルのアカウント設定にて、「安全性の低いアプリからのアカウントへのアクセスを許可する」をONにする必要があり、セキュリティ上に問題があるため、まず学習する際は別のアカウントなどを作成すると良いでしょう。\n",
        "\n",
        "「安全性の低いアプリからのアカウントへのアクセスを許可する」をONにする方法は、グーグルアカウントの管理画面にて、セキュリティで下の方に「安全性の低いアプリへのアクセス」があるので、「アクセスを有効にする」にて「安全性の低いアプリの許可: 有効」にします。"
      ]
    },
    {
      "cell_type": "markdown",
      "metadata": {
        "id": "xWrCEnASxmuo"
      },
      "source": [
        "メールの送信に使うライブラリをインポートします。なお、MIMEとは、「Multipurpose Internet Mail Extensions」の略でTCP/IPネットワーク上でやり取りする電子メールの規格・仕様です。ASCII英数字以外のデータを取り扱うことができます。"
      ]
    },
    {
      "cell_type": "code",
      "metadata": {
        "id": "H0z0dVLsvKN2"
      },
      "source": [
        "from email.mime.text import MIMEText\n",
        "from email.mime.application import MIMEApplication\n",
        "from email.mime.multipart import MIMEMultipart\n",
        "import smtplib\n",
        "from os.path import basename"
      ],
      "execution_count": null,
      "outputs": []
    },
    {
      "cell_type": "markdown",
      "metadata": {
        "id": "vISGmnXfzj__"
      },
      "source": [
        "ここで自分が使うメールのアカウント情報、メールの送信先情報を設定します。ここでパスワード情報がある直で書くようなことはせず、google driveにあるファイルからパスワードを読み込むようにします。"
      ]
    },
    {
      "cell_type": "code",
      "metadata": {
        "id": "0EwJhkFy53OE"
      },
      "source": [
        "from google.colab import auth\n",
        "auth.authenticate_user()\n",
        "\n",
        "import gspread\n",
        "from google.auth import default\n",
        "creds, _ = default()\n",
        "\n",
        "gc = gspread.authorize(creds)"
      ],
      "execution_count": null,
      "outputs": []
    },
    {
      "cell_type": "code",
      "metadata": {
        "id": "vMm8QKLXludU"
      },
      "source": [
        "# password取得\n",
        "ss_name = \"pass\"\n",
        "workbook = gc.open(ss_name)\n",
        "worksheet = workbook.get_worksheet(0)\n",
        "password = worksheet.acell(\"A1\").value"
      ],
      "execution_count": null,
      "outputs": []
    },
    {
      "cell_type": "code",
      "metadata": {
        "id": "qoxHLs_B0AXv"
      },
      "source": [
        "# SMTP認証情報\n",
        "account = \"test.kunitaka@gmail.com\""
      ],
      "execution_count": null,
      "outputs": []
    },
    {
      "cell_type": "markdown",
      "metadata": {
        "id": "-2AMVbJB1ZfY"
      },
      "source": [
        "以下に送信先と送信元を設定します。"
      ]
    },
    {
      "cell_type": "code",
      "metadata": {
        "id": "22recInuxMUG"
      },
      "source": [
        "# 送受信先\n",
        "to_email = \"test.kunitaka@gmail.com\"\n",
        "from_email = \"test.kunitaka@gmail.com\""
      ],
      "execution_count": null,
      "outputs": []
    },
    {
      "cell_type": "markdown",
      "metadata": {
        "id": "X98hP_bT1fuV"
      },
      "source": [
        "次に、メールのタイトル(subject)とメール本文（message）、送信先や送信元などを設定します。"
      ]
    },
    {
      "cell_type": "code",
      "metadata": {
        "id": "oUkkc57axWDH"
      },
      "source": [
        "# MIMEの作成\n",
        "import datetime\n",
        "\n",
        "subject = \"テストメール20210331\"\n",
        "text = \" 初めまして。よろしくお願いいたします\"\n",
        "message = \"こちらはテストメールになります:\" + str(datetime.datetime.today()) + text\n",
        "msg = MIMEText(message, \"html\")\n",
        "msg[\"Subject\"] = subject\n",
        "msg[\"To\"] = to_email\n",
        "msg[\"From\"] = from_email"
      ],
      "execution_count": null,
      "outputs": []
    },
    {
      "cell_type": "markdown",
      "metadata": {
        "id": "jDL19C0KmPiZ"
      },
      "source": [
        "以下で送信します。"
      ]
    },
    {
      "cell_type": "code",
      "metadata": {
        "id": "toKDUPmoxX0L"
      },
      "source": [
        "# メール送信処理\n",
        "server = smtplib.SMTP(\"smtp.gmail.com\", 587)\n",
        "server.starttls()\n",
        "server.login(account, password)\n",
        "server.send_message(msg)\n",
        "server.quit()"
      ],
      "execution_count": null,
      "outputs": []
    },
    {
      "cell_type": "markdown",
      "metadata": {
        "id": "BI57Hix0xuaI"
      },
      "source": [
        "注意：ONしていないと「安全性の低いアプリをブロックしました」とでます。"
      ]
    },
    {
      "cell_type": "markdown",
      "metadata": {
        "id": "m0JAyK4uzKXw"
      },
      "source": [
        "これでメールの送信が完了します。\n",
        "\n",
        "次に、メールで添付ファイルをつけたい時は、以下のように実装をします。先ほど上で作成したPDFファイルを添付してみましょう。"
      ]
    },
    {
      "cell_type": "code",
      "metadata": {
        "id": "5PioIli92yDR"
      },
      "source": [
        "# MIMEの作成\n",
        "subject = \"レポート作成メール\"+ str(datetime.datetime.today())\n",
        "message = \"本日のレポートになります。\"+ str(datetime.datetime.today())\n",
        "msg = MIMEMultipart()\n",
        "msg[\"Subject\"] = subject\n",
        "msg[\"To\"] = to_email\n",
        "msg[\"From\"] = from_email\n",
        "msg.attach(MIMEText(message))\n",
        "\n",
        "# PDFファイルを添付/HTMLファイルなども可\n",
        "path = \"./\"+file_name\n",
        "with open(path, \"rb\") as f:\n",
        "    part = MIMEApplication(\n",
        "        f.read(),\n",
        "        Name=basename(path)\n",
        "    )\n",
        " \n",
        "part['Content-Disposition'] = 'attachment; filename=\"%s\"' % basename(path)\n",
        "msg.attach(part)\n",
        " \n",
        "# メール送信処理\n",
        "server = smtplib.SMTP(\"smtp.gmail.com\", 587)\n",
        "server.starttls()\n",
        "server.login(account, password)\n",
        "server.send_message(msg)\n",
        "server.quit()\n"
      ],
      "execution_count": null,
      "outputs": []
    },
    {
      "cell_type": "markdown",
      "metadata": {
        "id": "x15Nj-ez6jIj"
      },
      "source": [
        "メールを確かめてみると、先程のPDFファイルが添付されて送付されているがわかります。もちろん、5.3で作成したGoogle株価の時系列推移のHTMLファイルも、メールに添付して送付することも可能です。"
      ]
    },
    {
      "cell_type": "markdown",
      "metadata": {
        "id": "x_d3SPPlpTUV"
      },
      "source": [
        "#### 10.4.6.2 Slackでの通知"
      ]
    },
    {
      "cell_type": "markdown",
      "metadata": {
        "id": "LQlDQ0JT4qKh"
      },
      "source": [
        "次はPythonを使ってSlackへ投稿してみます。ステップとしては以下になります。\n",
        "\n",
        "\n",
        "\n",
        "1.   Slackの設定にて、Incoming Webhookで投稿先のチャネルを選択し(Post to Channel)、「Add Incoming Webhook integration」をクリックする。\n",
        "2.   Webhook URLが表示されるので、それをコピーする\n",
        "3.   「Save Settings」をクリックする\n"
      ]
    },
    {
      "cell_type": "markdown",
      "metadata": {
        "id": "2XktFtrn7EHt"
      },
      "source": [
        "pythonからslackに投稿するために、slackwebが必要なため、インストールします。"
      ]
    },
    {
      "cell_type": "code",
      "metadata": {
        "id": "cPvhAv397BlA"
      },
      "source": [
        "!pip install slackweb"
      ],
      "execution_count": null,
      "outputs": []
    },
    {
      "cell_type": "markdown",
      "metadata": {
        "id": "sym3j4PLo2hK"
      },
      "source": [
        "取得したURLを同じく、Google Driveのファイル内に保存をしておき、そこのファイルを読み込むようにします。"
      ]
    },
    {
      "cell_type": "code",
      "metadata": {
        "id": "O9WXW7QenrYo"
      },
      "source": [
        "import slackweb\n",
        "\n",
        "# password取得\n",
        "slack_url = worksheet.acell(\"A2\").value"
      ],
      "execution_count": null,
      "outputs": []
    },
    {
      "cell_type": "code",
      "metadata": {
        "id": "ckXy12Wd6qav"
      },
      "source": [
        "slack = slackweb.Slack(url=\"https://hooks.slack.com/services/\"+slack_url)\n",
        "slack.notify(text=\"pythonからSlackに投稿します。今日の日時は\"+str(datetime.datetime.today())+\"です。\")"
      ],
      "execution_count": null,
      "outputs": []
    },
    {
      "cell_type": "markdown",
      "metadata": {
        "id": "weaBE7Ov7mpZ"
      },
      "source": [
        "上記でOKが出ており、またSlackを確かめるとメッセージが投稿されているのがわかります。"
      ]
    },
    {
      "cell_type": "markdown",
      "metadata": {
        "id": "wPpR1ivapXLv"
      },
      "source": [
        "これでPythonを使ったSlackへの投稿についての説明は終わりになります。Slackにも添付ファイルをつけて投稿することもできますし、他にも同じようにPythonを使って（使うライブラリ等は異なります。）、LineやMicrosoftのteamsなどへも投稿できますので、興味のある方は調べてみてください。"
      ]
    },
    {
      "cell_type": "markdown",
      "metadata": {
        "id": "aqHWs3Z196c5"
      },
      "source": [
        "以上で、分析実行後のBIツール作成やレポート作成、通知するためのメールやSlackへの投稿についての解説は終わります。これら単体の技術だけではあまり意味がないですが、冒頭で述べたように、これらの技術を組み合わせてマーケティングシステムを設計し、実装することで、オペレーション負荷を下げることもできます。大事なのは、その数値やレポート自体を作ることではなく、経営や企画の改善につながる数値を見て、次のアクションにつながるようなPDCAサイクルをいかに早くまわせるかです。本章の実装を見ていただいた通り、それほど難易度が高いものではないため、自社での開発も検討することができますし、外部に委託するとしても、どのような実装が必要かをある程度理解した上でプロジェクトを進めると、より良いビジネス結果が出せるでしょう。"
      ]
    },
    {
      "cell_type": "markdown",
      "metadata": {
        "id": "VteYj0D_qlq5"
      },
      "source": [
        "参考文献：\n",
        "\n",
        "『Python インタラクティブ・データビジュアライゼーション入門』（朝倉書店）"
      ]
    },
    {
      "cell_type": "markdown",
      "metadata": {
        "id": "7-N30FmK_eVK"
      },
      "source": [
        "#### 練習問題\n",
        "1.   上記のライブラリ等を使って、分析用レポート作成のための自動化の流れを設計し、実装してみましょう。\n"
      ]
    },
    {
      "cell_type": "markdown",
      "metadata": {
        "id": "8yn5QERxBQjk"
      },
      "source": [
        "#### 補足事項1\n",
        "上の説明したように定期実行は、Linuxではcronを使って実現できますが、pythonのcrontabライブラリやscheduleを使うことによっても実行可能になります。ここではschduleを紹介します。"
      ]
    },
    {
      "cell_type": "code",
      "metadata": {
        "id": "dlSDZ6DDCMaC"
      },
      "source": [
        "!pip install schedule"
      ],
      "execution_count": null,
      "outputs": []
    },
    {
      "cell_type": "markdown",
      "metadata": {
        "id": "HiqYToyzCs5x"
      },
      "source": [
        "以下では処理させるjob関数として、現在日時を表示します。"
      ]
    },
    {
      "cell_type": "code",
      "metadata": {
        "id": "0TtLxEg8CQw9"
      },
      "source": [
        "import schedule\n",
        "import datetime\n",
        "import time\n",
        "\n",
        "def job():\n",
        "    print(datetime.datetime.now())"
      ],
      "execution_count": null,
      "outputs": []
    },
    {
      "cell_type": "markdown",
      "metadata": {
        "id": "veF1LlaJC-1T"
      },
      "source": [
        "次に、スケジュールに10秒ごとにこれを実行することにして、以下で設定して、実行します。everyのあとのsecondsは秒を表し、分や時間などにも変更可能です。"
      ]
    },
    {
      "cell_type": "code",
      "metadata": {
        "id": "UeOsE0cVlKEL"
      },
      "source": [
        "schedule.every(10).seconds.do(job)\n",
        "\n",
        "while True:\n",
        "    schedule.run_pending()\n",
        "    time.sleep(1)"
      ],
      "execution_count": null,
      "outputs": []
    },
    {
      "cell_type": "markdown",
      "metadata": {
        "id": "3q-OYXnODSti"
      },
      "source": [
        "上記は無限ループになっているため、計算をとめる時は、停止ボタンを押してください。"
      ]
    },
    {
      "cell_type": "markdown",
      "metadata": {
        "id": "Pa5NpwniL6pI"
      },
      "source": [
        "## 10.5 消費者分析の今後のステップについて\n",
        "\n",
        "キーワード：ビジネスにおけるデータ分析プロジェクト、マーケティング分析の高度なアプローチ"
      ]
    },
    {
      "cell_type": "markdown",
      "metadata": {
        "id": "i0pOBOHXB4Nb"
      },
      "source": [
        "\n",
        "### 10.5.1 現場でデータ分析プロジェクトを進める前に\n",
        "\n",
        "いよいよこの消費者分析の中級編も、最後の節になりました。本講座では消費者分析の初級編からこの中級編にかけて、実際に皆さんの手を動かせることを目的に、消費者分析のためのPython実装を中心に解説してきました。もちろん、初級編でも述べたように、実際のビジネスではプログラミングやテクニカルな話だけではなく、企業戦略や様々な視点から考える必要があります。そもそもビジネス背景や課題となっていることは何か、分析したいことは何か、予測モデルを構築したら何が嬉しいのか、対象データは何か、運用をどうしていくか等、実際のプロジェクトでは考えることがたくさんあります。Python実装ができるだけでは、データ分析の価値を高めることはできませんし、顧客へのサービス向上も難しいでしょう。ビジネスゴールやプロジェクト目標に向かって、適切に分析設計をして、実装し、そのビジネス効果試算、実行、検証、運用まで検討し、改善をしていくいわゆるPDCAサイクルの流れを作っていくことが重要になっていきます。そして、それらをCRMの新しい結果データとして蓄積していくことも大事になってきます。この講義を通じて、それぞれのフェーズごとに（データ読み込みから探索、モデル構築や検証方法、自動化など）Pythonでいろいろと実装できるということ、それらを一貫して構築できることを、ある程度理解していただけたと思います。\n"
      ]
    },
    {
      "cell_type": "markdown",
      "metadata": {
        "id": "IFqwJmrVLv9q"
      },
      "source": [
        "データ分析の力を身に付ける一番の方法は、実務でデータ分析を経験していくことですが、いきなり現場で本番データを使って、目的もあいまいの状態で分析プロジェクトを実施すると、頓挫する可能性が大ですし、それを推進していくことも難しいと思います。そこでまずは、その練習として、仮想的なプロジェクトを想定し、以下のようなサンプルデータを用いて、どんな分析ができて、どんなビジネスインパクトが出せそうか、分析設計してみることをお勧めします。仮想とはいえ、色々と考える材料はありますし、データの分析実装、その先の運用やデータとして必要なITインフラの構築、今後のビジネス拡大を想像することは、ケーススタディとして良い練習になります。Pythonの実装や単なるデータ集計、モデル作成だけにとどまらず、実際のデータ分析プロジェクトはどうやって進めていくのかを考えながら取り組むと、より実践力が高まるでしょう。与えられた問題を解くのではなく、自ら問いを立てる力も重要です。\n",
        "\n",
        "以下のサンプルデータを対象に、どのようにビジネスを拡大したり、どんな課題を解決していけばよいか、どんな提案が経営層や意思決定者に向けてできるか、ぜひ考えてみてください。報告発表資料の構成についても、以下のフレームワークを参考にしてください。"
      ]
    },
    {
      "cell_type": "markdown",
      "metadata": {
        "id": "i23KhiyluS0B"
      },
      "source": [
        "補足：なお参考ですが、以下のGoogleのペーパーからもわかる通り、機械学習のシステム構築だけでも、機械学習系のモデル構築はほんの一部に過ぎません。そして、ビジネスレベルの話になると、さらに考える範囲が広がるため、上記で述べたような視野で、会社全体としてデータを重視し、戦略的に取り組んでいく必要があります。\n",
        "\n",
        "参考ペーパー：Hidden Technical Debt in Machine Learning Systems\n",
        "* https://papers.nips.cc/paper/2015/file/86df7dcfd896fcaf2674f757a2463eba-Paper.pdf"
      ]
    },
    {
      "cell_type": "markdown",
      "metadata": {
        "id": "53cb6TplMM6o"
      },
      "source": [
        "機械学習をビジネスで実装するという点においては、以下が参考になります。\n",
        "\n",
        "*   『Building Machine Learning Powered Applications:Going from Idea to Product』（オライリー）\n",
        "*   『仕事ではじめる機械学習 第2版』（オライリー）\n",
        "\n"
      ]
    },
    {
      "cell_type": "markdown",
      "metadata": {
        "id": "1eOcWbFOaMxd"
      },
      "source": [
        "##### 仮想分析プロジェクト用のサンプルデータ"
      ]
    },
    {
      "cell_type": "markdown",
      "metadata": {
        "id": "J9eHzIRQTZXh"
      },
      "source": [
        "1. ローン（お金貸し）ビジネスのデータ\n",
        "\n",
        "https://www.openintro.org/data/csv/loans_full_schema.csv\n",
        "\n",
        "https://www.kaggle.com/c/home-credit-default-risk\n",
        "\n",
        "2. バイクシェアリングビジネスのデータ\n",
        "\n",
        "https://archive.ics.uci.edu/ml/datasets/Bike+Sharing+Dataset\n",
        "\n",
        "https://www.capitalbikeshare.com/system-data\n",
        "\n",
        "3. UCIのウェブ上にある公開データ\n",
        "\n",
        "https://archive.ics.uci.edu/ml/index.php\n"
      ]
    },
    {
      "cell_type": "markdown",
      "metadata": {
        "id": "_NXrnvFGUdmu"
      },
      "source": [
        "##### 仮想分析プロジェクト用の発表報告フレームワーク例"
      ]
    },
    {
      "cell_type": "markdown",
      "metadata": {
        "id": "ubcgZCZgl4vn"
      },
      "source": [
        "1. ビジネス背景と分析目的\n",
        "2. 分析方針と設計\n",
        "3. 対象データの説明\n",
        "4. 対象データの基礎分析、探索分析の報告\n",
        "5. モデル構築の用途、評価と報告\n",
        "6. モデル改善点、工夫した点など\n",
        "7. 施策やビジネスアクションの提案や期待される効果、試算\n",
        "8. 現状の課題\n",
        "9. 今後の方針\n",
        "10. Appendix(補足情報など)\n"
      ]
    },
    {
      "cell_type": "markdown",
      "metadata": {
        "id": "ep8uSvQeL6pV"
      },
      "source": [
        "### 10.5.2 さらに高度な分析アプローチ\n",
        "\n",
        "最後はさらにAdvancedな話になります。消費者に関する分析には色々な方法があり、この講義では扱いきれませんでしたが、以下のような高度な手法とモチベーションがあります。\n",
        "\n",
        "*   階層ベイズ：消費者はそれぞれ違うため、その異質性を考慮してモデリングしたい\n",
        "*   ベイズ構造時系列モデル：RCTはできていないが、時系列データとして施策実施したデータと施策未実施のデータがあるので、それらを利用して因果を推定したい（補足：Pythonのパッケージとして、上記で紹介したCausalImpactというのがあります。）\n",
        "\n",
        "*   構造方程式：回帰分析などでは捉えきれない、潜在的な変数を扱いたい\n",
        "*   因子分析：ブランドの評価やアンケート分析などをしたい\n",
        "*   価格の設定（ダイナミックプライシング）：値段をどうやって決めれば良いか、最適なプライスをどうやって決めれば良いかを知りたい\n",
        "*   需要予測：在庫を抱えず、そして欠品にならように、マーケティング施策とも整合性をとって、適切に商品生産管理していきたい"
      ]
    },
    {
      "cell_type": "markdown",
      "metadata": {
        "id": "BJj1vo_9ms1b"
      },
      "source": [
        "これらの手法に興味のある方は、以下の参考文献をみるか、ぜひ関係する書籍や講座で勉強してください。消費者へのアプローチとして、機械学習の手法ではなかなかうまく適応できない、使うのが難しい場面もあります。そういったケースのときに、これらの手法が使えることもあるので、選択肢として検討してみてください。（ただ、他に解決すべきビジネス課題がある場合には、優先順位は下がるため、あまり高度なアプローチにこだわる必要はないでしょう。実際筆者が分析系の案件で関わったことがある中で、こういった手法を使っていたのは1-2割にも満たず、高度な手法以前の色々な課題に時間を割かれることが多かったです。）\n",
        "\n"
      ]
    },
    {
      "cell_type": "markdown",
      "metadata": {
        "id": "wJonOWPQQbuc"
      },
      "source": [
        "参考文献\n",
        "\n",
        "『Pythonによるベイズ統計モデリング: PyMCでのデータ分析実践ガイド』（共立出版）\n",
        "\n",
        "『Pythonで体験するベイズ推論:PyMCによるMCMC入門』（森北出版）\n",
        "\n",
        "『データ解析のための統計モデリング入門――一般化線形モデル・階層ベイズモデル・MCMC (確率と情報の科学)』（岩波書店）\n",
        "\n",
        "『Rによる実践的マーケティングリサーチと分析』（共立出版）\n",
        "\n",
        "『AIアルゴリズムマーケティング 自動化のための機械学習/経済モデル、ベス トプラクティス、アーキテクチャ』（インプレス）\n",
        "\n",
        "『価格の掟』（中央経済社）\n",
        "\n",
        "『需要予測の基本 SCMとマーケティングを劇的に変える』（日本実業出版社）"
      ]
    }
  ]
}