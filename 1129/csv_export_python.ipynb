{
  "nbformat": 4,
  "nbformat_minor": 0,
  "metadata": {
    "colab": {
      "provenance": [],
      "include_colab_link": true
    },
    "kernelspec": {
      "name": "python3",
      "display_name": "Python 3"
    },
    "language_info": {
      "name": "python"
    }
  },
  "cells": [
    {
      "cell_type": "markdown",
      "metadata": {
        "id": "view-in-github",
        "colab_type": "text"
      },
      "source": [
        "<a href=\"https://colab.research.google.com/github/alicelindel3/ibm5100/blob/main/1129/csv_export_python.ipynb\" target=\"_parent\"><img src=\"https://colab.research.google.com/assets/colab-badge.svg\" alt=\"Open In Colab\"/></a>"
      ]
    },
    {
      "cell_type": "markdown",
      "metadata": {
        "id": "8K7bS4iD-qzh"
      },
      "source": [
        "# CSVファイル出力マニュアル ( python )"
      ]
    },
    {
      "cell_type": "markdown",
      "metadata": {
        "id": "oaZt9EuifkSb"
      },
      "source": [
        "## 1. データベースへの接続"
      ]
    },
    {
      "cell_type": "markdown",
      "source": [
        "はじめに，sqlite3の実行とcsv出力に必要なモジュールをインポートします．  \n",
        "Pythonには標準でSQLiteがインストールされています．"
      ],
      "metadata": {
        "id": "7CGl6uw4NR7G"
      }
    },
    {
      "cell_type": "code",
      "source": [
        "import sqlite3\n",
        "import csv"
      ],
      "metadata": {
        "id": "yptFgCGpkZ5b"
      },
      "execution_count": null,
      "outputs": []
    },
    {
      "cell_type": "markdown",
      "metadata": {
        "id": "1LRzlL14Dby-"
      },
      "source": [
        "今回，データベースの情報は「trial.sqlite3」というファイルに全て格納されているとします．  \n",
        "( 実際は，配布されたデータベースファイルのファイル名に改めて実行してください．)"
      ]
    },
    {
      "cell_type": "markdown",
      "source": [
        "まず，以下のようにしてデータベースに接続します．"
      ],
      "metadata": {
        "id": "RtgrTEea0rAx"
      }
    },
    {
      "cell_type": "code",
      "source": [
        "# Google Colaboratoryで作業する場合に実行してください．  \n",
        "# データの読み込み方が不明な場合は，別途配布している「GoogleColabにおけるドライブのマウントの仕方」と「Google Drive上でのフォルダ構造の説明」のpdfファイルをご覧ください．\n",
        "from google.colab import drive\n",
        "drive.mount('/content/drive')"
      ],
      "metadata": {
        "cellView": "code",
        "id": "NPTyHR139t3L"
      },
      "execution_count": null,
      "outputs": []
    },
    {
      "cell_type": "code",
      "metadata": {
        "id": "DDUffaKffOEg"
      },
      "source": [
        "# データベースファイルのパスを渡してください\n",
        "dbpath = '/content/drive/My Drive/Colab Notebooks/data.sqlite3'"
      ],
      "execution_count": null,
      "outputs": []
    },
    {
      "cell_type": "code",
      "source": [
        "conn = sqlite3.connect(dbpath)"
      ],
      "metadata": {
        "id": "LsLATIcwkpx4"
      },
      "execution_count": null,
      "outputs": []
    },
    {
      "cell_type": "markdown",
      "source": [
        "これで，データベースへの接続は完了です．  \n",
        "※データベースが存在しない場合は，新規作成された上で接続されます．"
      ],
      "metadata": {
        "id": "Xw3Dby7XcBSN"
      }
    },
    {
      "cell_type": "markdown",
      "metadata": {
        "id": "NXEoBRWOgaMG"
      },
      "source": [
        "## 2. データベースの観察"
      ]
    },
    {
      "cell_type": "markdown",
      "source": [
        "続いて，カーソルの取得をします．このモジュールでは，カーソルをイテレータとして扱います．  \n",
        "カーソルを取得後にexecuteメソッドを用いると，SELECT文を実行することができます．"
      ],
      "metadata": {
        "id": "e0DN5ryKNouw"
      }
    },
    {
      "cell_type": "code",
      "source": [
        "cur = conn.cursor()"
      ],
      "metadata": {
        "id": "MHqsS2RfP9ng"
      },
      "execution_count": null,
      "outputs": []
    },
    {
      "cell_type": "markdown",
      "metadata": {
        "id": "n-eXZArZEKqG"
      },
      "source": [
        "ここでは、データの出力に必要となるデータベースの情報，特にテーブル構造について確認します．  \n",
        "データの抽出や加工については，SQL回の講義資料等を参照ください．"
      ]
    },
    {
      "cell_type": "code",
      "source": [
        "# テーブル名の確認\n",
        "cur.execute('select name from sqlite_master where type = \"table\"')\n",
        "for row in cur.fetchall():\n",
        "  print(row)"
      ],
      "metadata": {
        "id": "4vvcCTjICr6Q"
      },
      "execution_count": null,
      "outputs": []
    },
    {
      "cell_type": "code",
      "source": [
        "# カラム名(CREATE TABLE文)の確認\n",
        "cur.execute('select sql from sqlite_master where type = \"table\"')\n",
        "for row in cur.fetchall():\n",
        "  print(row)"
      ],
      "metadata": {
        "id": "Mw766Eo0Bndn"
      },
      "execution_count": null,
      "outputs": []
    },
    {
      "cell_type": "code",
      "source": [
        "# 全情報の確認 (type, name, tbl_name, rootpage, sql)\n",
        "cur.execute('select * from sqlite_master where type = \"table\"')\n",
        "for row in cur.fetchall():\n",
        "  print(row)"
      ],
      "metadata": {
        "id": "iPPoX9lRBmlB"
      },
      "execution_count": null,
      "outputs": []
    },
    {
      "cell_type": "markdown",
      "source": [
        "## 3. データの出力 (csv形式)"
      ],
      "metadata": {
        "id": "xNuTXbCxdMmL"
      }
    },
    {
      "cell_type": "markdown",
      "source": [
        "fetchoneメソッドで1件ずつ取得する場合"
      ],
      "metadata": {
        "id": "FY1WpVSTSv-f"
      }
    },
    {
      "cell_type": "code",
      "source": [
        "cur.execute('select * from <テーブル名>')\n",
        "print(cur.fetchone()) #1レコード目の取得\n",
        "print(cur.fetchone()) #2レコード目の取得"
      ],
      "metadata": {
        "id": "BJVK0M6eSity"
      },
      "execution_count": null,
      "outputs": []
    },
    {
      "cell_type": "markdown",
      "source": [
        "fetchallメソッドで全件を取得する場合 ※実行時間が長いことがあります"
      ],
      "metadata": {
        "id": "bpHGul6ZSjUW"
      }
    },
    {
      "cell_type": "code",
      "source": [
        "cur.execute('select * from <テーブル名>')\n",
        "for row in cur.fetchall():\n",
        "  print(row)"
      ],
      "metadata": {
        "id": "Jy8FRft6Si4x"
      },
      "execution_count": null,
      "outputs": []
    },
    {
      "cell_type": "markdown",
      "source": [
        "csv出力 ( [out] は任意のファイル名)"
      ],
      "metadata": {
        "id": "niQvvxlVGsqI"
      }
    },
    {
      "cell_type": "code",
      "source": [
        "#テーブルから特定の列を取得\n",
        "cur.execute('select <カラム名> from <テーブル名>')\n",
        "with open('out.csv', 'w', newline='') as csvfile:\n",
        "  csv_writer = csv.writer(csvfile)\n",
        "  csv_writer.writerow([i[0] for i in cur.description])\n",
        "  csv_writer.writerows(cur)"
      ],
      "metadata": {
        "id": "QXVpREP721_E"
      },
      "execution_count": null,
      "outputs": []
    },
    {
      "cell_type": "code",
      "source": [
        "#テーブルから全ての列を取得\n",
        "cur.execute('select * from <テーブル名>')\n",
        "with open('out.csv', 'w', newline='') as csvfile:\n",
        "  csv_writer = csv.writer(csvfile)\n",
        "  csv_writer.writerow([i[0] for i in cur.description])\n",
        "  csv_writer.writerows(cur)"
      ],
      "metadata": {
        "id": "gpa55D0CGsEK"
      },
      "execution_count": null,
      "outputs": []
    },
    {
      "cell_type": "code",
      "source": [
        "# 処理を確定\n",
        "conn.commit()"
      ],
      "metadata": {
        "id": "KPOBViTdGr0X"
      },
      "execution_count": null,
      "outputs": []
    },
    {
      "cell_type": "markdown",
      "metadata": {
        "id": "cC7hVTeoipp5"
      },
      "source": [
        "左サイドバーのFilesに「out.csv」が出力されていることを確認してください．  \n",
        "出力されたcsvファイルが確認出来たら，カーソルを閉じ，接続を閉じます．"
      ]
    },
    {
      "cell_type": "code",
      "source": [
        "cur.close()"
      ],
      "metadata": {
        "id": "mY7dCHJpQ7gZ"
      },
      "execution_count": null,
      "outputs": []
    },
    {
      "cell_type": "code",
      "metadata": {
        "id": "iPcsFL11gpKd"
      },
      "source": [
        "conn.close()"
      ],
      "execution_count": null,
      "outputs": []
    },
    {
      "cell_type": "markdown",
      "metadata": {
        "id": "HYYgm25cEh49"
      },
      "source": [
        "## 【補足】出力の確認"
      ]
    },
    {
      "cell_type": "code",
      "source": [
        "import pandas as pd"
      ],
      "metadata": {
        "id": "IozCOG8rZXlX"
      },
      "execution_count": null,
      "outputs": []
    },
    {
      "cell_type": "code",
      "source": [
        "pd.read_csv('out.csv', sep=',')"
      ],
      "metadata": {
        "id": "JaiKQkLcZceb"
      },
      "execution_count": null,
      "outputs": []
    },
    {
      "cell_type": "markdown",
      "source": [
        "以上で，ライブラリを用いたcsv出力は完了です．"
      ],
      "metadata": {
        "id": "mjeqIKFhaBbs"
      }
    }
  ]
}