{
  "nbformat": 4,
  "nbformat_minor": 0,
  "metadata": {
    "colab": {
      "provenance": [],
      "collapsed_sections": [],
      "include_colab_link": true
    },
    "kernelspec": {
      "name": "python3",
      "display_name": "Python 3"
    },
    "language_info": {
      "name": "python"
    }
  },
  "cells": [
    {
      "cell_type": "markdown",
      "metadata": {
        "id": "view-in-github",
        "colab_type": "text"
      },
      "source": [
        "<a href=\"https://colab.research.google.com/github/alicelindel3/ibm5100/blob/main/cp1/cross_validation.ipynb\" target=\"_parent\"><img src=\"https://colab.research.google.com/assets/colab-badge.svg\" alt=\"Open In Colab\"/></a>"
      ]
    },
    {
      "cell_type": "markdown",
      "source": [
        "# 交差検証\n",
        "「交差検証」により、過学習の問題に対処します。 "
      ],
      "metadata": {
        "id": "E-QmT8-Qhgt9"
      }
    },
    {
      "cell_type": "markdown",
      "source": [
        "## データの準備\n",
        "必要なライブラリの導入、データの読み込みと加工を行います。"
      ],
      "metadata": {
        "id": "sW2dwjT2kYqQ"
      }
    },
    {
      "cell_type": "code",
      "source": [
        "from google.colab import drive\n",
        "drive.mount('/content/drive')"
      ],
      "metadata": {
        "colab": {
          "base_uri": "https://localhost:8080/"
        },
        "id": "eLGAd5Lo6js3",
        "outputId": "bba63c9f-ac30-4140-84db-2ea71cae250d"
      },
      "execution_count": 1,
      "outputs": [
        {
          "output_type": "stream",
          "name": "stdout",
          "text": [
            "Drive already mounted at /content/drive; to attempt to forcibly remount, call drive.mount(\"/content/drive\", force_remount=True).\n"
          ]
        }
      ]
    },
    {
      "cell_type": "code",
      "source": [
        "import numpy as np\n",
        "import pandas as pd\n",
        "import matplotlib.pyplot as plt\n",
        "import seaborn as sns\n",
        "\n",
        "from sklearn.model_selection import StratifiedKFold\n",
        "from sklearn.metrics import accuracy_score\n",
        "\n",
        "import lightgbm as lgb\n",
        "\n",
        "path = \"/content/drive/My Drive/Colab Notebooks/\"\n",
        "\n",
        "train_data = pd.read_csv(path+'train_Perished.csv')  # 訓練データ\n",
        "test_data = pd.read_csv(path+'test_Perished.csv')  # テストデータ\n",
        "\n",
        "test_id = test_data[\"PassengerId\"]  # 結果の提出時に使用\n",
        "\n",
        "data = pd.concat([train_data, test_data], sort=False)  # テストデータ、訓練データを結合\n",
        "\n",
        "# カテゴリデータの変換\n",
        "data[\"Sex\"].replace([\"male\", \"female\"], [0, 1], inplace=True)\n",
        "data[\"Embarked\"].fillna((\"S\"), inplace=True)\n",
        "data[\"Embarked\"] = data[\"Embarked\"].map({\"S\": 0, \"C\": 1, \"Q\": 2})\n",
        "\n",
        "# 欠損値を埋める\n",
        "data[\"Fare\"].fillna(data[\"Fare\"].mean(), inplace=True)\n",
        "data[\"Age\"].fillna(data[\"Age\"].mean(), inplace=True)\n",
        "\n",
        "# 新しい特徴量の作成\n",
        "data[\"Family\"] = data[\"Parch\"] + data[\"SibSp\"]\n",
        "\n",
        "# 不要な特徴量の削除\n",
        "data.drop([\"Name\", \"PassengerId\", \"SibSp\", \"Parch\", \"Ticket\", \"Cabin\"],\n",
        "          axis=1, inplace=True)\n",
        "\n",
        "# 入力と正解の作成\n",
        "train_data = data[:len(train_data)]\n",
        "test_data = data[len(train_data):]\n",
        "t = train_data[\"Perished\"]  # 正解\n",
        "x_train = train_data.drop(\"Perished\", axis=1)  # 訓練時の入力\n",
        "x_test = test_data.drop(\"Perished\", axis=1)  # テスト時の入力\n",
        "\n",
        "x_train.head()"
      ],
      "metadata": {
        "id": "Jwulz4eYsxZG",
        "colab": {
          "base_uri": "https://localhost:8080/",
          "height": 206
        },
        "outputId": "1ad230f6-0fb2-4435-e144-58a914094710"
      },
      "execution_count": 2,
      "outputs": [
        {
          "output_type": "execute_result",
          "data": {
            "text/plain": [
              "   Pclass  Sex   Age     Fare  Embarked  Family\n",
              "0       3    0  22.0   7.2500         0       1\n",
              "1       1    1  38.0  71.2833         1       1\n",
              "2       3    1  26.0   7.9250         0       0\n",
              "3       1    1  35.0  53.1000         0       1\n",
              "4       3    0  35.0   8.0500         0       0"
            ],
            "text/html": [
              "\n",
              "  <div id=\"df-902ba22c-c578-4a3b-a2f3-041e460c1e21\">\n",
              "    <div class=\"colab-df-container\">\n",
              "      <div>\n",
              "<style scoped>\n",
              "    .dataframe tbody tr th:only-of-type {\n",
              "        vertical-align: middle;\n",
              "    }\n",
              "\n",
              "    .dataframe tbody tr th {\n",
              "        vertical-align: top;\n",
              "    }\n",
              "\n",
              "    .dataframe thead th {\n",
              "        text-align: right;\n",
              "    }\n",
              "</style>\n",
              "<table border=\"1\" class=\"dataframe\">\n",
              "  <thead>\n",
              "    <tr style=\"text-align: right;\">\n",
              "      <th></th>\n",
              "      <th>Pclass</th>\n",
              "      <th>Sex</th>\n",
              "      <th>Age</th>\n",
              "      <th>Fare</th>\n",
              "      <th>Embarked</th>\n",
              "      <th>Family</th>\n",
              "    </tr>\n",
              "  </thead>\n",
              "  <tbody>\n",
              "    <tr>\n",
              "      <th>0</th>\n",
              "      <td>3</td>\n",
              "      <td>0</td>\n",
              "      <td>22.0</td>\n",
              "      <td>7.2500</td>\n",
              "      <td>0</td>\n",
              "      <td>1</td>\n",
              "    </tr>\n",
              "    <tr>\n",
              "      <th>1</th>\n",
              "      <td>1</td>\n",
              "      <td>1</td>\n",
              "      <td>38.0</td>\n",
              "      <td>71.2833</td>\n",
              "      <td>1</td>\n",
              "      <td>1</td>\n",
              "    </tr>\n",
              "    <tr>\n",
              "      <th>2</th>\n",
              "      <td>3</td>\n",
              "      <td>1</td>\n",
              "      <td>26.0</td>\n",
              "      <td>7.9250</td>\n",
              "      <td>0</td>\n",
              "      <td>0</td>\n",
              "    </tr>\n",
              "    <tr>\n",
              "      <th>3</th>\n",
              "      <td>1</td>\n",
              "      <td>1</td>\n",
              "      <td>35.0</td>\n",
              "      <td>53.1000</td>\n",
              "      <td>0</td>\n",
              "      <td>1</td>\n",
              "    </tr>\n",
              "    <tr>\n",
              "      <th>4</th>\n",
              "      <td>3</td>\n",
              "      <td>0</td>\n",
              "      <td>35.0</td>\n",
              "      <td>8.0500</td>\n",
              "      <td>0</td>\n",
              "      <td>0</td>\n",
              "    </tr>\n",
              "  </tbody>\n",
              "</table>\n",
              "</div>\n",
              "      <button class=\"colab-df-convert\" onclick=\"convertToInteractive('df-902ba22c-c578-4a3b-a2f3-041e460c1e21')\"\n",
              "              title=\"Convert this dataframe to an interactive table.\"\n",
              "              style=\"display:none;\">\n",
              "        \n",
              "  <svg xmlns=\"http://www.w3.org/2000/svg\" height=\"24px\"viewBox=\"0 0 24 24\"\n",
              "       width=\"24px\">\n",
              "    <path d=\"M0 0h24v24H0V0z\" fill=\"none\"/>\n",
              "    <path d=\"M18.56 5.44l.94 2.06.94-2.06 2.06-.94-2.06-.94-.94-2.06-.94 2.06-2.06.94zm-11 1L8.5 8.5l.94-2.06 2.06-.94-2.06-.94L8.5 2.5l-.94 2.06-2.06.94zm10 10l.94 2.06.94-2.06 2.06-.94-2.06-.94-.94-2.06-.94 2.06-2.06.94z\"/><path d=\"M17.41 7.96l-1.37-1.37c-.4-.4-.92-.59-1.43-.59-.52 0-1.04.2-1.43.59L10.3 9.45l-7.72 7.72c-.78.78-.78 2.05 0 2.83L4 21.41c.39.39.9.59 1.41.59.51 0 1.02-.2 1.41-.59l7.78-7.78 2.81-2.81c.8-.78.8-2.07 0-2.86zM5.41 20L4 18.59l7.72-7.72 1.47 1.35L5.41 20z\"/>\n",
              "  </svg>\n",
              "      </button>\n",
              "      \n",
              "  <style>\n",
              "    .colab-df-container {\n",
              "      display:flex;\n",
              "      flex-wrap:wrap;\n",
              "      gap: 12px;\n",
              "    }\n",
              "\n",
              "    .colab-df-convert {\n",
              "      background-color: #E8F0FE;\n",
              "      border: none;\n",
              "      border-radius: 50%;\n",
              "      cursor: pointer;\n",
              "      display: none;\n",
              "      fill: #1967D2;\n",
              "      height: 32px;\n",
              "      padding: 0 0 0 0;\n",
              "      width: 32px;\n",
              "    }\n",
              "\n",
              "    .colab-df-convert:hover {\n",
              "      background-color: #E2EBFA;\n",
              "      box-shadow: 0px 1px 2px rgba(60, 64, 67, 0.3), 0px 1px 3px 1px rgba(60, 64, 67, 0.15);\n",
              "      fill: #174EA6;\n",
              "    }\n",
              "\n",
              "    [theme=dark] .colab-df-convert {\n",
              "      background-color: #3B4455;\n",
              "      fill: #D2E3FC;\n",
              "    }\n",
              "\n",
              "    [theme=dark] .colab-df-convert:hover {\n",
              "      background-color: #434B5C;\n",
              "      box-shadow: 0px 1px 3px 1px rgba(0, 0, 0, 0.15);\n",
              "      filter: drop-shadow(0px 1px 2px rgba(0, 0, 0, 0.3));\n",
              "      fill: #FFFFFF;\n",
              "    }\n",
              "  </style>\n",
              "\n",
              "      <script>\n",
              "        const buttonEl =\n",
              "          document.querySelector('#df-902ba22c-c578-4a3b-a2f3-041e460c1e21 button.colab-df-convert');\n",
              "        buttonEl.style.display =\n",
              "          google.colab.kernel.accessAllowed ? 'block' : 'none';\n",
              "\n",
              "        async function convertToInteractive(key) {\n",
              "          const element = document.querySelector('#df-902ba22c-c578-4a3b-a2f3-041e460c1e21');\n",
              "          const dataTable =\n",
              "            await google.colab.kernel.invokeFunction('convertToInteractive',\n",
              "                                                     [key], {});\n",
              "          if (!dataTable) return;\n",
              "\n",
              "          const docLinkHtml = 'Like what you see? Visit the ' +\n",
              "            '<a target=\"_blank\" href=https://colab.research.google.com/notebooks/data_table.ipynb>data table notebook</a>'\n",
              "            + ' to learn more about interactive tables.';\n",
              "          element.innerHTML = '';\n",
              "          dataTable['output_type'] = 'display_data';\n",
              "          await google.colab.output.renderOutput(dataTable, element);\n",
              "          const docLink = document.createElement('div');\n",
              "          docLink.innerHTML = docLinkHtml;\n",
              "          element.appendChild(docLink);\n",
              "        }\n",
              "      </script>\n",
              "    </div>\n",
              "  </div>\n",
              "  "
            ]
          },
          "metadata": {},
          "execution_count": 2
        }
      ]
    },
    {
      "cell_type": "markdown",
      "source": [
        "## 交差検証\n",
        "scikit-learnの`StratifiedKFold`により交差検証を行います。  \n",
        "https://scikit-learn.org/stable/modules/generated/sklearn.model_selection.StratifiedKFold.html  \n",
        "`StratifiedKFold`を使えば検証用データ中の0と1の割合を一定に保つことができます。"
      ],
      "metadata": {
        "id": "mJypDLDg1lld"
      }
    },
    {
      "cell_type": "code",
      "source": [
        "y_valids = np.zeros((len(x_train),)) # 予測結果: 検証用データ\n",
        "y_tests = []  # 予測結果: テスト用データ\n",
        "\n",
        "skf = StratifiedKFold(n_splits=5, shuffle=True)\n",
        "\n",
        "# ハイパーパラメータの設定\n",
        "params = {\n",
        "    \"objective\": \"binary\",  # 二値分類\n",
        "    \"max_bin\": 300,  # 特徴量の最大分割数\n",
        "    \"learning_rate\": 0.05,  # 学習率\n",
        "    \"num_leaves\": 32  # 分岐の末端の最大数\n",
        "}\n",
        "\n",
        "categorical_features = [\"Embarked\", \"Pclass\", \"Sex\"]\n",
        "\n",
        "for _, (ids_train, ids_valid) in enumerate(skf.split(x_train, t)):\n",
        "    x_tr = x_train.loc[ids_train, :]\n",
        "    x_val = x_train.loc[ids_valid, :]\n",
        "    t_tr = t[ids_train]\n",
        "    t_val = t[ids_valid]\n",
        "\n",
        "    # データセットの作成\n",
        "    lgb_train = lgb.Dataset(x_tr, t_tr, categorical_feature=categorical_features)\n",
        "    lgb_val = lgb.Dataset(x_val, t_val, reference=lgb_train, categorical_feature=categorical_features)\n",
        "    \n",
        "    # モデルの訓練\n",
        "    model = lgb.train(params, lgb_train, valid_sets=[lgb_train, lgb_val],\n",
        "                      verbose_eval=20,  # 学習過程の表示間隔\n",
        "                      num_boost_round=500,  # 学習回数の最大値\n",
        "                      early_stopping_rounds=10)  # 連続して10回性能が向上しなければ終了\n",
        "\n",
        "    # 結果を保持\n",
        "    y_valids[ids_valid] = model.predict(x_val, num_iteration=model.best_iteration)\n",
        "    y_test = model.predict(x_test, num_iteration=model.best_iteration)\n",
        "    y_tests.append(y_test)"
      ],
      "metadata": {
        "id": "oeA3OUzc0Qld",
        "colab": {
          "base_uri": "https://localhost:8080/"
        },
        "outputId": "900abb96-513d-4c8b-c8d5-48903c7ba1b3"
      },
      "execution_count": 3,
      "outputs": [
        {
          "output_type": "stream",
          "name": "stderr",
          "text": [
            "/usr/local/lib/python3.7/dist-packages/lightgbm/basic.py:1205: UserWarning: Using categorical_feature in Dataset.\n",
            "  warnings.warn('Using categorical_feature in Dataset.')\n",
            "/usr/local/lib/python3.7/dist-packages/lightgbm/basic.py:762: UserWarning: categorical_feature in param dict is overridden.\n",
            "  warnings.warn('categorical_feature in param dict is overridden.')\n"
          ]
        },
        {
          "output_type": "stream",
          "name": "stdout",
          "text": [
            "Training until validation scores don't improve for 10 rounds.\n",
            "[20]\ttraining's binary_logloss: 0.431602\tvalid_1's binary_logloss: 0.435809\n",
            "[40]\ttraining's binary_logloss: 0.35522\tvalid_1's binary_logloss: 0.389465\n",
            "[60]\ttraining's binary_logloss: 0.312695\tvalid_1's binary_logloss: 0.38188\n",
            "[80]\ttraining's binary_logloss: 0.280017\tvalid_1's binary_logloss: 0.38258\n",
            "Early stopping, best iteration is:\n",
            "[70]\ttraining's binary_logloss: 0.294628\tvalid_1's binary_logloss: 0.379567\n",
            "Training until validation scores don't improve for 10 rounds.\n",
            "[20]\ttraining's binary_logloss: 0.429995\tvalid_1's binary_logloss: 0.431091\n",
            "[40]\ttraining's binary_logloss: 0.352603\tvalid_1's binary_logloss: 0.374046\n",
            "Early stopping, best iteration is:\n",
            "[47]\ttraining's binary_logloss: 0.3356\tvalid_1's binary_logloss: 0.368723\n",
            "Training until validation scores don't improve for 10 rounds.\n",
            "[20]\ttraining's binary_logloss: 0.417613\tvalid_1's binary_logloss: 0.4924\n",
            "[40]\ttraining's binary_logloss: 0.340479\tvalid_1's binary_logloss: 0.458007\n",
            "[60]\ttraining's binary_logloss: 0.29769\tvalid_1's binary_logloss: 0.455011\n",
            "Early stopping, best iteration is:\n",
            "[50]\ttraining's binary_logloss: 0.318387\tvalid_1's binary_logloss: 0.454975\n",
            "Training until validation scores don't improve for 10 rounds.\n",
            "[20]\ttraining's binary_logloss: 0.406295\tvalid_1's binary_logloss: 0.506903\n",
            "[40]\ttraining's binary_logloss: 0.333597\tvalid_1's binary_logloss: 0.490768\n",
            "[60]\ttraining's binary_logloss: 0.293486\tvalid_1's binary_logloss: 0.486215\n",
            "Early stopping, best iteration is:\n",
            "[53]\ttraining's binary_logloss: 0.305943\tvalid_1's binary_logloss: 0.485047\n",
            "Training until validation scores don't improve for 10 rounds.\n",
            "[20]\ttraining's binary_logloss: 0.43152\tvalid_1's binary_logloss: 0.468566\n",
            "[40]\ttraining's binary_logloss: 0.356796\tvalid_1's binary_logloss: 0.413322\n",
            "[60]\ttraining's binary_logloss: 0.317085\tvalid_1's binary_logloss: 0.391675\n",
            "[80]\ttraining's binary_logloss: 0.283784\tvalid_1's binary_logloss: 0.384251\n",
            "[100]\ttraining's binary_logloss: 0.258707\tvalid_1's binary_logloss: 0.381931\n",
            "Early stopping, best iteration is:\n",
            "[96]\ttraining's binary_logloss: 0.263862\tvalid_1's binary_logloss: 0.380359\n"
          ]
        }
      ]
    },
    {
      "cell_type": "markdown",
      "source": [
        "## 正解率\n",
        "検証用データによる予測結果と正解を使い、正解率を計算します。"
      ],
      "metadata": {
        "id": "wS5We0rU_vnG"
      }
    },
    {
      "cell_type": "code",
      "source": [
        "y_valids_bin = (y_valids>0.5).astype(int)  # 結果を0か1に\n",
        "accuracy_score(t, y_valids_bin)  # 正解率の計算"
      ],
      "metadata": {
        "id": "XYpY6tgX0uqm",
        "colab": {
          "base_uri": "https://localhost:8080/"
        },
        "outputId": "87e233e3-a099-44fd-a07c-0f041b3fc7e0"
      },
      "execution_count": 4,
      "outputs": [
        {
          "output_type": "execute_result",
          "data": {
            "text/plain": [
              "0.813692480359147"
            ]
          },
          "metadata": {},
          "execution_count": 4
        }
      ]
    },
    {
      "cell_type": "markdown",
      "source": [
        "## 提出用のデータ\n",
        "提出量データの形式を整え、CSVファイルに保存します。"
      ],
      "metadata": {
        "id": "tHN33EZaAgwM"
      }
    },
    {
      "cell_type": "code",
      "source": [
        "y_test_subm = sum(y_tests) / len(y_tests)  # 平均をとる\n",
        "y_test_subm = (y_test > 0.5).astype(int)  # 結果を0か1に\n",
        "\n",
        "# 形式を整える\n",
        "survived_test = pd.Series(y_test_subm, name=\"Perished\")\n",
        "subm_data = pd.concat([test_id, survived_test], axis=1)\n",
        "\n",
        "# 提出用のcsvファイルを保存\n",
        "subm_data.to_csv(\"submission_cv.csv\", index=False)\n",
        "\n",
        "subm_data"
      ],
      "metadata": {
        "id": "TI9FZwRnAgwN",
        "colab": {
          "base_uri": "https://localhost:8080/",
          "height": 424
        },
        "outputId": "85300673-c3e9-4b46-ca4b-fcebde7c9c09"
      },
      "execution_count": 5,
      "outputs": [
        {
          "output_type": "execute_result",
          "data": {
            "text/plain": [
              "     PassengerId  Perished\n",
              "0            892         1\n",
              "1            893         1\n",
              "2            894         1\n",
              "3            895         1\n",
              "4            896         1\n",
              "..           ...       ...\n",
              "413         1305         1\n",
              "414         1306         0\n",
              "415         1307         1\n",
              "416         1308         1\n",
              "417         1309         1\n",
              "\n",
              "[418 rows x 2 columns]"
            ],
            "text/html": [
              "\n",
              "  <div id=\"df-b17450e6-2300-468d-af69-863ec331f746\">\n",
              "    <div class=\"colab-df-container\">\n",
              "      <div>\n",
              "<style scoped>\n",
              "    .dataframe tbody tr th:only-of-type {\n",
              "        vertical-align: middle;\n",
              "    }\n",
              "\n",
              "    .dataframe tbody tr th {\n",
              "        vertical-align: top;\n",
              "    }\n",
              "\n",
              "    .dataframe thead th {\n",
              "        text-align: right;\n",
              "    }\n",
              "</style>\n",
              "<table border=\"1\" class=\"dataframe\">\n",
              "  <thead>\n",
              "    <tr style=\"text-align: right;\">\n",
              "      <th></th>\n",
              "      <th>PassengerId</th>\n",
              "      <th>Perished</th>\n",
              "    </tr>\n",
              "  </thead>\n",
              "  <tbody>\n",
              "    <tr>\n",
              "      <th>0</th>\n",
              "      <td>892</td>\n",
              "      <td>1</td>\n",
              "    </tr>\n",
              "    <tr>\n",
              "      <th>1</th>\n",
              "      <td>893</td>\n",
              "      <td>1</td>\n",
              "    </tr>\n",
              "    <tr>\n",
              "      <th>2</th>\n",
              "      <td>894</td>\n",
              "      <td>1</td>\n",
              "    </tr>\n",
              "    <tr>\n",
              "      <th>3</th>\n",
              "      <td>895</td>\n",
              "      <td>1</td>\n",
              "    </tr>\n",
              "    <tr>\n",
              "      <th>4</th>\n",
              "      <td>896</td>\n",
              "      <td>1</td>\n",
              "    </tr>\n",
              "    <tr>\n",
              "      <th>...</th>\n",
              "      <td>...</td>\n",
              "      <td>...</td>\n",
              "    </tr>\n",
              "    <tr>\n",
              "      <th>413</th>\n",
              "      <td>1305</td>\n",
              "      <td>1</td>\n",
              "    </tr>\n",
              "    <tr>\n",
              "      <th>414</th>\n",
              "      <td>1306</td>\n",
              "      <td>0</td>\n",
              "    </tr>\n",
              "    <tr>\n",
              "      <th>415</th>\n",
              "      <td>1307</td>\n",
              "      <td>1</td>\n",
              "    </tr>\n",
              "    <tr>\n",
              "      <th>416</th>\n",
              "      <td>1308</td>\n",
              "      <td>1</td>\n",
              "    </tr>\n",
              "    <tr>\n",
              "      <th>417</th>\n",
              "      <td>1309</td>\n",
              "      <td>1</td>\n",
              "    </tr>\n",
              "  </tbody>\n",
              "</table>\n",
              "<p>418 rows × 2 columns</p>\n",
              "</div>\n",
              "      <button class=\"colab-df-convert\" onclick=\"convertToInteractive('df-b17450e6-2300-468d-af69-863ec331f746')\"\n",
              "              title=\"Convert this dataframe to an interactive table.\"\n",
              "              style=\"display:none;\">\n",
              "        \n",
              "  <svg xmlns=\"http://www.w3.org/2000/svg\" height=\"24px\"viewBox=\"0 0 24 24\"\n",
              "       width=\"24px\">\n",
              "    <path d=\"M0 0h24v24H0V0z\" fill=\"none\"/>\n",
              "    <path d=\"M18.56 5.44l.94 2.06.94-2.06 2.06-.94-2.06-.94-.94-2.06-.94 2.06-2.06.94zm-11 1L8.5 8.5l.94-2.06 2.06-.94-2.06-.94L8.5 2.5l-.94 2.06-2.06.94zm10 10l.94 2.06.94-2.06 2.06-.94-2.06-.94-.94-2.06-.94 2.06-2.06.94z\"/><path d=\"M17.41 7.96l-1.37-1.37c-.4-.4-.92-.59-1.43-.59-.52 0-1.04.2-1.43.59L10.3 9.45l-7.72 7.72c-.78.78-.78 2.05 0 2.83L4 21.41c.39.39.9.59 1.41.59.51 0 1.02-.2 1.41-.59l7.78-7.78 2.81-2.81c.8-.78.8-2.07 0-2.86zM5.41 20L4 18.59l7.72-7.72 1.47 1.35L5.41 20z\"/>\n",
              "  </svg>\n",
              "      </button>\n",
              "      \n",
              "  <style>\n",
              "    .colab-df-container {\n",
              "      display:flex;\n",
              "      flex-wrap:wrap;\n",
              "      gap: 12px;\n",
              "    }\n",
              "\n",
              "    .colab-df-convert {\n",
              "      background-color: #E8F0FE;\n",
              "      border: none;\n",
              "      border-radius: 50%;\n",
              "      cursor: pointer;\n",
              "      display: none;\n",
              "      fill: #1967D2;\n",
              "      height: 32px;\n",
              "      padding: 0 0 0 0;\n",
              "      width: 32px;\n",
              "    }\n",
              "\n",
              "    .colab-df-convert:hover {\n",
              "      background-color: #E2EBFA;\n",
              "      box-shadow: 0px 1px 2px rgba(60, 64, 67, 0.3), 0px 1px 3px 1px rgba(60, 64, 67, 0.15);\n",
              "      fill: #174EA6;\n",
              "    }\n",
              "\n",
              "    [theme=dark] .colab-df-convert {\n",
              "      background-color: #3B4455;\n",
              "      fill: #D2E3FC;\n",
              "    }\n",
              "\n",
              "    [theme=dark] .colab-df-convert:hover {\n",
              "      background-color: #434B5C;\n",
              "      box-shadow: 0px 1px 3px 1px rgba(0, 0, 0, 0.15);\n",
              "      filter: drop-shadow(0px 1px 2px rgba(0, 0, 0, 0.3));\n",
              "      fill: #FFFFFF;\n",
              "    }\n",
              "  </style>\n",
              "\n",
              "      <script>\n",
              "        const buttonEl =\n",
              "          document.querySelector('#df-b17450e6-2300-468d-af69-863ec331f746 button.colab-df-convert');\n",
              "        buttonEl.style.display =\n",
              "          google.colab.kernel.accessAllowed ? 'block' : 'none';\n",
              "\n",
              "        async function convertToInteractive(key) {\n",
              "          const element = document.querySelector('#df-b17450e6-2300-468d-af69-863ec331f746');\n",
              "          const dataTable =\n",
              "            await google.colab.kernel.invokeFunction('convertToInteractive',\n",
              "                                                     [key], {});\n",
              "          if (!dataTable) return;\n",
              "\n",
              "          const docLinkHtml = 'Like what you see? Visit the ' +\n",
              "            '<a target=\"_blank\" href=https://colab.research.google.com/notebooks/data_table.ipynb>data table notebook</a>'\n",
              "            + ' to learn more about interactive tables.';\n",
              "          element.innerHTML = '';\n",
              "          dataTable['output_type'] = 'display_data';\n",
              "          await google.colab.output.renderOutput(dataTable, element);\n",
              "          const docLink = document.createElement('div');\n",
              "          docLink.innerHTML = docLinkHtml;\n",
              "          element.appendChild(docLink);\n",
              "        }\n",
              "      </script>\n",
              "    </div>\n",
              "  </div>\n",
              "  "
            ]
          },
          "metadata": {},
          "execution_count": 5
        }
      ]
    },
    {
      "cell_type": "code",
      "source": [
        "from google.colab import files\n",
        "files.download('submission_cv.csv')"
      ],
      "metadata": {
        "colab": {
          "base_uri": "https://localhost:8080/",
          "height": 17
        },
        "id": "X9M5f0yO7pZa",
        "outputId": "72d436f0-1f55-4c62-e8aa-6179ea75beb8"
      },
      "execution_count": 6,
      "outputs": [
        {
          "output_type": "display_data",
          "data": {
            "text/plain": [
              "<IPython.core.display.Javascript object>"
            ],
            "application/javascript": [
              "\n",
              "    async function download(id, filename, size) {\n",
              "      if (!google.colab.kernel.accessAllowed) {\n",
              "        return;\n",
              "      }\n",
              "      const div = document.createElement('div');\n",
              "      const label = document.createElement('label');\n",
              "      label.textContent = `Downloading \"${filename}\": `;\n",
              "      div.appendChild(label);\n",
              "      const progress = document.createElement('progress');\n",
              "      progress.max = size;\n",
              "      div.appendChild(progress);\n",
              "      document.body.appendChild(div);\n",
              "\n",
              "      const buffers = [];\n",
              "      let downloaded = 0;\n",
              "\n",
              "      const channel = await google.colab.kernel.comms.open(id);\n",
              "      // Send a message to notify the kernel that we're ready.\n",
              "      channel.send({})\n",
              "\n",
              "      for await (const message of channel.messages) {\n",
              "        // Send a message to notify the kernel that we're ready.\n",
              "        channel.send({})\n",
              "        if (message.buffers) {\n",
              "          for (const buffer of message.buffers) {\n",
              "            buffers.push(buffer);\n",
              "            downloaded += buffer.byteLength;\n",
              "            progress.value = downloaded;\n",
              "          }\n",
              "        }\n",
              "      }\n",
              "      const blob = new Blob(buffers, {type: 'application/binary'});\n",
              "      const a = document.createElement('a');\n",
              "      a.href = window.URL.createObjectURL(blob);\n",
              "      a.download = filename;\n",
              "      div.appendChild(a);\n",
              "      a.click();\n",
              "      div.remove();\n",
              "    }\n",
              "  "
            ]
          },
          "metadata": {}
        },
        {
          "output_type": "display_data",
          "data": {
            "text/plain": [
              "<IPython.core.display.Javascript object>"
            ],
            "application/javascript": [
              "download(\"download_47f461ef-c851-4bb4-829d-bc50fde0bae0\", \"submission_cv.csv\", 2839)"
            ]
          },
          "metadata": {}
        }
      ]
    }
  ]
}