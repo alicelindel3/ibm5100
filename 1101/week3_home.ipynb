{
  "nbformat": 4,
  "nbformat_minor": 0,
  "metadata": {
    "colab": {
      "provenance": [],
      "collapsed_sections": [],
      "include_colab_link": true
    },
    "kernelspec": {
      "display_name": "Python 3",
      "name": "python3"
    }
  },
  "cells": [
    {
      "cell_type": "markdown",
      "metadata": {
        "id": "view-in-github",
        "colab_type": "text"
      },
      "source": [
        "<a href=\"https://colab.research.google.com/github/alicelindel3/ibm5100/blob/main/1101/week3_home.ipynb\" target=\"_parent\"><img src=\"https://colab.research.google.com/assets/colab-badge.svg\" alt=\"Open In Colab\"/></a>"
      ]
    },
    {
      "cell_type": "markdown",
      "metadata": {
        "id": "93cl9JWr_5nm"
      },
      "source": [
        "## 問題文\n",
        "以下のサイトにあるデータ（ワインの品質）が分析対象になります。\n",
        "\n",
        "http://archive.ics.uci.edu/ml/machine-learning-databases/wine-quality/winequality-red.csv\n",
        "\n",
        "このデータを読み込み、カラムの`total sulfur dioxide`について分位点でn個（nはデータ数を越えず、同一の値が分割位置に当たらない自然数）に分割し、それぞれのグループについてpHの平均値を算出してください。さらに、このn個のグループのそれぞれのpHの平均値の中で、1番小さい平均値と1番大きな平均値を足して、その合計値を返り値とするような関数を作成してください。\n",
        "\n",
        "提出するときは、以下の点に注意してください。  \n",
        ">- 以下の関数`homework`の`!!WRITE ME!!`に処理を書いてください。(**「`!!WRITE ME!!`」は消して、記入してください。**)\n",
        ">- 実際の提出は記述された`homework`関数全てになり、**提出はOmnicampus内の宿題の欄から今週の課題を選択後、提出内容に関数を貼り付けてから[Pythonコード提出]を押してください。**\n",
        ">- 返り値が数値型になるようにしてください。\n",
        ">- 関数は1つにまとめてください。"
      ]
    },
    {
      "cell_type": "code",
      "metadata": {
        "id": "thHL7HyXBXvS"
      },
      "source": [
        "# common\n",
        "import numpy as np\n",
        "import pandas as pd\n",
        "from pandas import DataFrame\n",
        "# URL\n",
        "url_winequality_data = \"http://archive.ics.uci.edu/ml/machine-learning-databases/wine-quality/winequality-red.csv\""
      ],
      "execution_count": 1,
      "outputs": []
    },
    {
      "cell_type": "code",
      "metadata": {
        "id": "2LO2_UoXl3Ed"
      },
      "source": [
        "# working place. everything \n",
        "def homework(url_winequality_data, n):\n",
        "    d_wq = pd.read_csv(url_winequality_data, sep=';')\n",
        "    df_tsd = d_wq['total sulfur dioxide']\n",
        "    sprt = pd.qcut(df_tsd, n, labels = False)\n",
        "    avr_pH =  d_wq.groupby(sprt)['pH'].mean()\n",
        "    sbm_pH = avr_pH.max() + avr_pH.min()\n",
        "    my_result = float(sbm_pH)\n",
        "    return my_result"
      ],
      "execution_count": 2,
      "outputs": []
    },
    {
      "cell_type": "code",
      "source": [
        "homework(url_winequality_data, 10)"
      ],
      "metadata": {
        "id": "-mGsgAu1uGEW",
        "outputId": "529bc097-4b7a-4af7-b349-ad49846253a2",
        "colab": {
          "base_uri": "https://localhost:8080/"
        }
      },
      "execution_count": 3,
      "outputs": [
        {
          "output_type": "execute_result",
          "data": {
            "text/plain": [
              "6.604986413043479"
            ]
          },
          "metadata": {},
          "execution_count": 3
        }
      ]
    },
    {
      "cell_type": "markdown",
      "metadata": {
        "id": "j80pDrFlIJkF"
      },
      "source": [
        "**謝辞**：以下のデータセットの利用に関して  \n",
        "http://archive.ics.uci.edu/ml/machine-learning-databases/wine-quality/winequality-red.csv\n",
        "\n",
        "引用元：Dua, D. and Graff, C. (2019). UCI Machine Learning Repository [[http://archive.ics.uci.edu/ml](http://archive.ics.uci.edu/ml)]. Irvine, CA: University of California, School of Information and Computer Science.\n",
        "\n",
        "P. Cortez, A. Cerdeira, F. Almeida, T. Matos and J. Reis.\n",
        "Modeling wine preferences by data mining from physicochemical properties. In Decision Support Systems, Elsevier, 47(4):547-553, 2009."
      ]
    }
  ]
}